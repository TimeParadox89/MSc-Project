{
 "cells": [
  {
   "cell_type": "markdown",
   "metadata": {},
   "source": [
    "# Dataset cleansing"
   ]
  },
  {
   "cell_type": "code",
   "execution_count": 1,
   "metadata": {},
   "outputs": [],
   "source": [
    "import pandas as pd\n",
    "import numpy as np\n",
    "from sklearn.model_selection import train_test_split"
   ]
  },
  {
   "cell_type": "markdown",
   "metadata": {},
   "source": [
    "## 1. Load the (standardized) Data"
   ]
  },
  {
   "cell_type": "code",
   "execution_count": 2,
   "metadata": {
    "scrolled": false
   },
   "outputs": [
    {
     "data": {
      "text/html": [
       "<div>\n",
       "<style scoped>\n",
       "    .dataframe tbody tr th:only-of-type {\n",
       "        vertical-align: middle;\n",
       "    }\n",
       "\n",
       "    .dataframe tbody tr th {\n",
       "        vertical-align: top;\n",
       "    }\n",
       "\n",
       "    .dataframe thead th {\n",
       "        text-align: right;\n",
       "    }\n",
       "</style>\n",
       "<table border=\"1\" class=\"dataframe\">\n",
       "  <thead>\n",
       "    <tr style=\"text-align: right;\">\n",
       "      <th></th>\n",
       "      <th>sex</th>\n",
       "      <th>age</th>\n",
       "      <th>weight</th>\n",
       "      <th>height</th>\n",
       "      <th>HIPX</th>\n",
       "      <th>menopause</th>\n",
       "      <th>HRT</th>\n",
       "      <th>smoking</th>\n",
       "      <th>ReumatoidArthritis</th>\n",
       "      <th>SecondaryOsteoporsis</th>\n",
       "      <th>Alcohol</th>\n",
       "      <th>VitaminD</th>\n",
       "      <th>calcium</th>\n",
       "      <th>dose_walk</th>\n",
       "      <th>dose_moderate</th>\n",
       "      <th>dose_vigorous</th>\n",
       "      <th>Class</th>\n",
       "    </tr>\n",
       "  </thead>\n",
       "  <tbody>\n",
       "    <tr>\n",
       "      <th>0</th>\n",
       "      <td>-1.029482</td>\n",
       "      <td>-0.840602</td>\n",
       "      <td>-0.656408</td>\n",
       "      <td>-0.024365</td>\n",
       "      <td>-0.037838</td>\n",
       "      <td>-0.695973</td>\n",
       "      <td>-0.423252</td>\n",
       "      <td>-0.808640</td>\n",
       "      <td>-0.08895</td>\n",
       "      <td>-0.134216</td>\n",
       "      <td>-0.275878</td>\n",
       "      <td>-0.428469</td>\n",
       "      <td>1.339588</td>\n",
       "      <td>0.675763</td>\n",
       "      <td>0.284575</td>\n",
       "      <td>0.942110</td>\n",
       "      <td>0</td>\n",
       "    </tr>\n",
       "    <tr>\n",
       "      <th>1</th>\n",
       "      <td>0.971362</td>\n",
       "      <td>-0.592293</td>\n",
       "      <td>0.408319</td>\n",
       "      <td>1.063574</td>\n",
       "      <td>-0.037838</td>\n",
       "      <td>-0.695973</td>\n",
       "      <td>-0.423252</td>\n",
       "      <td>0.760768</td>\n",
       "      <td>-0.08895</td>\n",
       "      <td>-0.134216</td>\n",
       "      <td>4.052715</td>\n",
       "      <td>2.958895</td>\n",
       "      <td>0.483531</td>\n",
       "      <td>0.675763</td>\n",
       "      <td>-0.088975</td>\n",
       "      <td>0.016451</td>\n",
       "      <td>0</td>\n",
       "    </tr>\n",
       "    <tr>\n",
       "      <th>2</th>\n",
       "      <td>-1.029482</td>\n",
       "      <td>1.021712</td>\n",
       "      <td>-0.229242</td>\n",
       "      <td>-1.438686</td>\n",
       "      <td>-0.037838</td>\n",
       "      <td>1.436838</td>\n",
       "      <td>-0.423252</td>\n",
       "      <td>-0.808640</td>\n",
       "      <td>-0.08895</td>\n",
       "      <td>-0.134216</td>\n",
       "      <td>-0.430144</td>\n",
       "      <td>-0.979732</td>\n",
       "      <td>1.280054</td>\n",
       "      <td>-0.448536</td>\n",
       "      <td>-0.462525</td>\n",
       "      <td>0.571847</td>\n",
       "      <td>0</td>\n",
       "    </tr>\n",
       "    <tr>\n",
       "      <th>3</th>\n",
       "      <td>-1.029482</td>\n",
       "      <td>0.649249</td>\n",
       "      <td>0.472076</td>\n",
       "      <td>-1.819464</td>\n",
       "      <td>-0.037838</td>\n",
       "      <td>1.436838</td>\n",
       "      <td>2.362657</td>\n",
       "      <td>0.760768</td>\n",
       "      <td>-0.08895</td>\n",
       "      <td>-0.134216</td>\n",
       "      <td>-0.788571</td>\n",
       "      <td>-1.001492</td>\n",
       "      <td>-0.190283</td>\n",
       "      <td>-0.726827</td>\n",
       "      <td>-0.437622</td>\n",
       "      <td>-0.168681</td>\n",
       "      <td>0</td>\n",
       "    </tr>\n",
       "    <tr>\n",
       "      <th>4</th>\n",
       "      <td>0.971362</td>\n",
       "      <td>-0.716448</td>\n",
       "      <td>1.122388</td>\n",
       "      <td>0.519604</td>\n",
       "      <td>-0.037838</td>\n",
       "      <td>-0.695973</td>\n",
       "      <td>-0.423252</td>\n",
       "      <td>0.760768</td>\n",
       "      <td>-0.08895</td>\n",
       "      <td>-0.134216</td>\n",
       "      <td>0.801693</td>\n",
       "      <td>-0.109317</td>\n",
       "      <td>-0.351898</td>\n",
       "      <td>-0.548721</td>\n",
       "      <td>-0.512332</td>\n",
       "      <td>0.078161</td>\n",
       "      <td>0</td>\n",
       "    </tr>\n",
       "  </tbody>\n",
       "</table>\n",
       "</div>"
      ],
      "text/plain": [
       "        sex       age    weight    height      HIPX  menopause       HRT  \\\n",
       "0 -1.029482 -0.840602 -0.656408 -0.024365 -0.037838  -0.695973 -0.423252   \n",
       "1  0.971362 -0.592293  0.408319  1.063574 -0.037838  -0.695973 -0.423252   \n",
       "2 -1.029482  1.021712 -0.229242 -1.438686 -0.037838   1.436838 -0.423252   \n",
       "3 -1.029482  0.649249  0.472076 -1.819464 -0.037838   1.436838  2.362657   \n",
       "4  0.971362 -0.716448  1.122388  0.519604 -0.037838  -0.695973 -0.423252   \n",
       "\n",
       "    smoking  ReumatoidArthritis  SecondaryOsteoporsis   Alcohol  VitaminD  \\\n",
       "0 -0.808640            -0.08895             -0.134216 -0.275878 -0.428469   \n",
       "1  0.760768            -0.08895             -0.134216  4.052715  2.958895   \n",
       "2 -0.808640            -0.08895             -0.134216 -0.430144 -0.979732   \n",
       "3  0.760768            -0.08895             -0.134216 -0.788571 -1.001492   \n",
       "4  0.760768            -0.08895             -0.134216  0.801693 -0.109317   \n",
       "\n",
       "    calcium  dose_walk  dose_moderate  dose_vigorous  Class  \n",
       "0  1.339588   0.675763       0.284575       0.942110      0  \n",
       "1  0.483531   0.675763      -0.088975       0.016451      0  \n",
       "2  1.280054  -0.448536      -0.462525       0.571847      0  \n",
       "3 -0.190283  -0.726827      -0.437622      -0.168681      0  \n",
       "4 -0.351898  -0.548721      -0.512332       0.078161      0  "
      ]
     },
     "execution_count": 2,
     "metadata": {},
     "output_type": "execute_result"
    }
   ],
   "source": [
    "patients = pd.read_csv(\"../../Data/standardized_patients.csv\",index_col=0, header=0)\n",
    "patients.dropna(inplace=True)\n",
    "patients.head()"
   ]
  },
  {
   "cell_type": "code",
   "execution_count": 3,
   "metadata": {},
   "outputs": [],
   "source": [
    "patients = patients.sample(frac=1).reset_index(drop=True)"
   ]
  },
  {
   "cell_type": "markdown",
   "metadata": {},
   "source": [
    "## 2. Create the Three dataset possible: Men, Women not in Menopause condition, Women in Menopause condition"
   ]
  },
  {
   "cell_type": "markdown",
   "metadata": {},
   "source": [
    "### 2.1 Men"
   ]
  },
  {
   "cell_type": "code",
   "execution_count": 4,
   "metadata": {},
   "outputs": [],
   "source": [
    "male_patients = patients[patients['sex']>0]"
   ]
  },
  {
   "cell_type": "code",
   "execution_count": 5,
   "metadata": {},
   "outputs": [
    {
     "name": "stderr",
     "output_type": "stream",
     "text": [
      "/Users/erennio/.local/lib/python3.6/site-packages/pandas/core/frame.py:3694: SettingWithCopyWarning: \n",
      "A value is trying to be set on a copy of a slice from a DataFrame\n",
      "\n",
      "See the caveats in the documentation: http://pandas.pydata.org/pandas-docs/stable/indexing.html#indexing-view-versus-copy\n",
      "  errors=errors)\n"
     ]
    }
   ],
   "source": [
    "male_patients.drop(columns=['menopause','HRT','sex'], axis=1, inplace=True)"
   ]
  },
  {
   "cell_type": "code",
   "execution_count": 6,
   "metadata": {},
   "outputs": [
    {
     "data": {
      "text/html": [
       "<div>\n",
       "<style scoped>\n",
       "    .dataframe tbody tr th:only-of-type {\n",
       "        vertical-align: middle;\n",
       "    }\n",
       "\n",
       "    .dataframe tbody tr th {\n",
       "        vertical-align: top;\n",
       "    }\n",
       "\n",
       "    .dataframe thead th {\n",
       "        text-align: right;\n",
       "    }\n",
       "</style>\n",
       "<table border=\"1\" class=\"dataframe\">\n",
       "  <thead>\n",
       "    <tr style=\"text-align: right;\">\n",
       "      <th></th>\n",
       "      <th>age</th>\n",
       "      <th>weight</th>\n",
       "      <th>height</th>\n",
       "      <th>HIPX</th>\n",
       "      <th>smoking</th>\n",
       "      <th>ReumatoidArthritis</th>\n",
       "      <th>SecondaryOsteoporsis</th>\n",
       "      <th>Alcohol</th>\n",
       "      <th>VitaminD</th>\n",
       "      <th>calcium</th>\n",
       "      <th>dose_walk</th>\n",
       "      <th>dose_moderate</th>\n",
       "      <th>dose_vigorous</th>\n",
       "      <th>Class</th>\n",
       "    </tr>\n",
       "  </thead>\n",
       "  <tbody>\n",
       "    <tr>\n",
       "      <th>1</th>\n",
       "      <td>0.897557</td>\n",
       "      <td>-0.076227</td>\n",
       "      <td>0.269378</td>\n",
       "      <td>-0.037838</td>\n",
       "      <td>-0.808640</td>\n",
       "      <td>-0.08895</td>\n",
       "      <td>-0.134216</td>\n",
       "      <td>1.444848</td>\n",
       "      <td>1.160038</td>\n",
       "      <td>0.452512</td>\n",
       "      <td>1.143293</td>\n",
       "      <td>0.508706</td>\n",
       "      <td>1.312374</td>\n",
       "      <td>0</td>\n",
       "    </tr>\n",
       "    <tr>\n",
       "      <th>2</th>\n",
       "      <td>0.897557</td>\n",
       "      <td>1.128764</td>\n",
       "      <td>1.281161</td>\n",
       "      <td>-0.037838</td>\n",
       "      <td>-0.808640</td>\n",
       "      <td>-0.08895</td>\n",
       "      <td>-0.134216</td>\n",
       "      <td>1.256708</td>\n",
       "      <td>-0.769382</td>\n",
       "      <td>-0.837679</td>\n",
       "      <td>-0.259297</td>\n",
       "      <td>-0.014265</td>\n",
       "      <td>-0.538945</td>\n",
       "      <td>0</td>\n",
       "    </tr>\n",
       "    <tr>\n",
       "      <th>5</th>\n",
       "      <td>0.028478</td>\n",
       "      <td>1.033130</td>\n",
       "      <td>1.607543</td>\n",
       "      <td>-0.037838</td>\n",
       "      <td>0.760768</td>\n",
       "      <td>-0.08895</td>\n",
       "      <td>-0.134216</td>\n",
       "      <td>-0.019532</td>\n",
       "      <td>-0.729488</td>\n",
       "      <td>-0.380591</td>\n",
       "      <td>-0.726827</td>\n",
       "      <td>-0.462525</td>\n",
       "      <td>-0.168681</td>\n",
       "      <td>0</td>\n",
       "    </tr>\n",
       "    <tr>\n",
       "      <th>10</th>\n",
       "      <td>1.394174</td>\n",
       "      <td>0.746227</td>\n",
       "      <td>1.172367</td>\n",
       "      <td>-0.037838</td>\n",
       "      <td>0.760768</td>\n",
       "      <td>-0.08895</td>\n",
       "      <td>-0.134216</td>\n",
       "      <td>-0.108795</td>\n",
       "      <td>-0.189105</td>\n",
       "      <td>0.215285</td>\n",
       "      <td>-0.593247</td>\n",
       "      <td>-0.611945</td>\n",
       "      <td>-0.538945</td>\n",
       "      <td>0</td>\n",
       "    </tr>\n",
       "    <tr>\n",
       "      <th>11</th>\n",
       "      <td>1.394174</td>\n",
       "      <td>2.971316</td>\n",
       "      <td>1.498749</td>\n",
       "      <td>-0.037838</td>\n",
       "      <td>0.760768</td>\n",
       "      <td>-0.08895</td>\n",
       "      <td>-0.134216</td>\n",
       "      <td>-0.788571</td>\n",
       "      <td>0.431065</td>\n",
       "      <td>1.194076</td>\n",
       "      <td>-0.493062</td>\n",
       "      <td>-0.611945</td>\n",
       "      <td>-0.538945</td>\n",
       "      <td>0</td>\n",
       "    </tr>\n",
       "  </tbody>\n",
       "</table>\n",
       "</div>"
      ],
      "text/plain": [
       "         age    weight    height      HIPX   smoking  ReumatoidArthritis  \\\n",
       "1   0.897557 -0.076227  0.269378 -0.037838 -0.808640            -0.08895   \n",
       "2   0.897557  1.128764  1.281161 -0.037838 -0.808640            -0.08895   \n",
       "5   0.028478  1.033130  1.607543 -0.037838  0.760768            -0.08895   \n",
       "10  1.394174  0.746227  1.172367 -0.037838  0.760768            -0.08895   \n",
       "11  1.394174  2.971316  1.498749 -0.037838  0.760768            -0.08895   \n",
       "\n",
       "    SecondaryOsteoporsis   Alcohol  VitaminD   calcium  dose_walk  \\\n",
       "1              -0.134216  1.444848  1.160038  0.452512   1.143293   \n",
       "2              -0.134216  1.256708 -0.769382 -0.837679  -0.259297   \n",
       "5              -0.134216 -0.019532 -0.729488 -0.380591  -0.726827   \n",
       "10             -0.134216 -0.108795 -0.189105  0.215285  -0.593247   \n",
       "11             -0.134216 -0.788571  0.431065  1.194076  -0.493062   \n",
       "\n",
       "    dose_moderate  dose_vigorous  Class  \n",
       "1        0.508706       1.312374      0  \n",
       "2       -0.014265      -0.538945      0  \n",
       "5       -0.462525      -0.168681      0  \n",
       "10      -0.611945      -0.538945      0  \n",
       "11      -0.611945      -0.538945      0  "
      ]
     },
     "execution_count": 6,
     "metadata": {},
     "output_type": "execute_result"
    }
   ],
   "source": [
    "male_patients.head()"
   ]
  },
  {
   "cell_type": "markdown",
   "metadata": {},
   "source": [
    "#### Create the X and y"
   ]
  },
  {
   "cell_type": "code",
   "execution_count": 7,
   "metadata": {},
   "outputs": [
    {
     "name": "stdout",
     "output_type": "stream",
     "text": [
      "(79177, 14)\n",
      "(79177, 1)\n"
     ]
    }
   ],
   "source": [
    "male_patients_X = male_patients.copy()\n",
    "male_patients_X.drop(\"Class\", axis=1, inplace=True)\n",
    "print(male_patients.shape)\n",
    "\n",
    "male_patients_y = male_patients[['Class']].copy()\n",
    "print(male_patients_y.shape)"
   ]
  },
  {
   "cell_type": "markdown",
   "metadata": {},
   "source": [
    "#### Split the data into Train, Test and Validation"
   ]
  },
  {
   "cell_type": "markdown",
   "metadata": {},
   "source": [
    "The ratio in the splitting, in percentage, is 60/20/20"
   ]
  },
  {
   "cell_type": "code",
   "execution_count": 8,
   "metadata": {},
   "outputs": [],
   "source": [
    "male_patients_X_train_and_val, male_patients_X_test, male_patients_y_train_and_val, male_patients_y_test = train_test_split(male_patients_X, male_patients_y, test_size=0.2, random_state=42)\n",
    "male_patients_X_train, male_patients_X_val, male_patients_y_train, male_patients_y_val = train_test_split(male_patients_X_train_and_val, male_patients_y_train_and_val, test_size=0.25, random_state=42)"
   ]
  },
  {
   "cell_type": "code",
   "execution_count": 9,
   "metadata": {
    "scrolled": false
   },
   "outputs": [
    {
     "data": {
      "text/plain": [
       "(27, 1)"
      ]
     },
     "execution_count": 9,
     "metadata": {},
     "output_type": "execute_result"
    }
   ],
   "source": [
    "male_patients_y_val[male_patients_y_val['Class']==1].shape"
   ]
  },
  {
   "cell_type": "code",
   "execution_count": 10,
   "metadata": {},
   "outputs": [
    {
     "data": {
      "text/plain": [
       "(79, 1)"
      ]
     },
     "execution_count": 10,
     "metadata": {},
     "output_type": "execute_result"
    }
   ],
   "source": [
    "male_patients_y_train[male_patients_y_train['Class']==1].shape"
   ]
  },
  {
   "cell_type": "code",
   "execution_count": 11,
   "metadata": {
    "scrolled": false
   },
   "outputs": [
    {
     "data": {
      "text/plain": [
       "(18, 1)"
      ]
     },
     "execution_count": 11,
     "metadata": {},
     "output_type": "execute_result"
    }
   ],
   "source": [
    "male_patients_y_test[male_patients_y_test['Class']==1].shape"
   ]
  },
  {
   "cell_type": "markdown",
   "metadata": {},
   "source": [
    "#### Save to Files"
   ]
  },
  {
   "cell_type": "code",
   "execution_count": 12,
   "metadata": {},
   "outputs": [],
   "source": [
    "patients.to_csv(\"../../Data/male_patients/standardized_patients.csv\")\n",
    "\n",
    "male_patients_X_train.to_csv(\"../../Data/male_patients/X_train_total.csv\")\n",
    "male_patients_y_train.to_csv(\"../../Data/male_patients/y_train_total.csv\")\n",
    "\n",
    "male_patients_X_test.to_csv(\"../../Data/male_patients/X_test.csv\")\n",
    "male_patients_y_test.to_csv(\"../../Data/male_patients/y_test.csv\")\n",
    "\n",
    "male_patients_X_val.to_csv(\"../../Data/male_patients/X_val.csv\")\n",
    "male_patients_y_val.to_csv(\"../../Data/male_patients/y_val.csv\")"
   ]
  },
  {
   "cell_type": "markdown",
   "metadata": {},
   "source": [
    "### 2.2 Female patients not in Menopause condition"
   ]
  },
  {
   "cell_type": "code",
   "execution_count": 13,
   "metadata": {},
   "outputs": [],
   "source": [
    "female_patients_no_menopause = patients[patients['menopause']<1]\n",
    "female_patients_no_menopause = female_patients_no_menopause[female_patients_no_menopause['sex']<0]"
   ]
  },
  {
   "cell_type": "code",
   "execution_count": 14,
   "metadata": {},
   "outputs": [],
   "source": [
    "female_patients_no_menopause.drop(columns=['menopause','HRT','sex'], axis=1, inplace=True)"
   ]
  },
  {
   "cell_type": "code",
   "execution_count": 15,
   "metadata": {},
   "outputs": [
    {
     "data": {
      "text/html": [
       "<div>\n",
       "<style scoped>\n",
       "    .dataframe tbody tr th:only-of-type {\n",
       "        vertical-align: middle;\n",
       "    }\n",
       "\n",
       "    .dataframe tbody tr th {\n",
       "        vertical-align: top;\n",
       "    }\n",
       "\n",
       "    .dataframe thead th {\n",
       "        text-align: right;\n",
       "    }\n",
       "</style>\n",
       "<table border=\"1\" class=\"dataframe\">\n",
       "  <thead>\n",
       "    <tr style=\"text-align: right;\">\n",
       "      <th></th>\n",
       "      <th>age</th>\n",
       "      <th>weight</th>\n",
       "      <th>height</th>\n",
       "      <th>HIPX</th>\n",
       "      <th>smoking</th>\n",
       "      <th>ReumatoidArthritis</th>\n",
       "      <th>SecondaryOsteoporsis</th>\n",
       "      <th>Alcohol</th>\n",
       "      <th>VitaminD</th>\n",
       "      <th>calcium</th>\n",
       "      <th>dose_walk</th>\n",
       "      <th>dose_moderate</th>\n",
       "      <th>dose_vigorous</th>\n",
       "      <th>Class</th>\n",
       "    </tr>\n",
       "  </thead>\n",
       "  <tbody>\n",
       "    <tr>\n",
       "      <th>3</th>\n",
       "      <td>-1.585527</td>\n",
       "      <td>-0.828550</td>\n",
       "      <td>0.628398</td>\n",
       "      <td>-0.037838</td>\n",
       "      <td>0.760768</td>\n",
       "      <td>-0.08895</td>\n",
       "      <td>-0.134216</td>\n",
       "      <td>0.645138</td>\n",
       "      <td>-0.631566</td>\n",
       "      <td>1.492406</td>\n",
       "      <td>-0.671169</td>\n",
       "      <td>-0.611945</td>\n",
       "      <td>-0.538945</td>\n",
       "      <td>0</td>\n",
       "    </tr>\n",
       "    <tr>\n",
       "      <th>7</th>\n",
       "      <td>-0.592293</td>\n",
       "      <td>-0.943311</td>\n",
       "      <td>-0.785922</td>\n",
       "      <td>-0.037838</td>\n",
       "      <td>-0.808640</td>\n",
       "      <td>-0.08895</td>\n",
       "      <td>-0.134216</td>\n",
       "      <td>-0.788571</td>\n",
       "      <td>-0.210866</td>\n",
       "      <td>-0.465506</td>\n",
       "      <td>-0.526457</td>\n",
       "      <td>-0.425170</td>\n",
       "      <td>-0.538945</td>\n",
       "      <td>0</td>\n",
       "    </tr>\n",
       "    <tr>\n",
       "      <th>8</th>\n",
       "      <td>-1.213064</td>\n",
       "      <td>-0.924184</td>\n",
       "      <td>-0.133159</td>\n",
       "      <td>-0.037838</td>\n",
       "      <td>0.760768</td>\n",
       "      <td>-0.08895</td>\n",
       "      <td>-0.134216</td>\n",
       "      <td>-0.651243</td>\n",
       "      <td>-0.015022</td>\n",
       "      <td>-0.119296</td>\n",
       "      <td>-0.326087</td>\n",
       "      <td>-0.350460</td>\n",
       "      <td>-0.538945</td>\n",
       "      <td>0</td>\n",
       "    </tr>\n",
       "    <tr>\n",
       "      <th>28</th>\n",
       "      <td>-1.461373</td>\n",
       "      <td>0.982125</td>\n",
       "      <td>-0.785922</td>\n",
       "      <td>-0.037838</td>\n",
       "      <td>-0.808640</td>\n",
       "      <td>-0.08895</td>\n",
       "      <td>-0.134216</td>\n",
       "      <td>-0.788571</td>\n",
       "      <td>0.140927</td>\n",
       "      <td>-0.556868</td>\n",
       "      <td>0.876133</td>\n",
       "      <td>-0.611945</td>\n",
       "      <td>-0.168681</td>\n",
       "      <td>0</td>\n",
       "    </tr>\n",
       "    <tr>\n",
       "      <th>31</th>\n",
       "      <td>-1.585527</td>\n",
       "      <td>-0.924184</td>\n",
       "      <td>-2.309037</td>\n",
       "      <td>-0.037838</td>\n",
       "      <td>-0.808640</td>\n",
       "      <td>-0.08895</td>\n",
       "      <td>-0.134216</td>\n",
       "      <td>-0.788571</td>\n",
       "      <td>-0.646073</td>\n",
       "      <td>-0.947090</td>\n",
       "      <td>-0.504194</td>\n",
       "      <td>-0.412718</td>\n",
       "      <td>0.571847</td>\n",
       "      <td>0</td>\n",
       "    </tr>\n",
       "  </tbody>\n",
       "</table>\n",
       "</div>"
      ],
      "text/plain": [
       "         age    weight    height      HIPX   smoking  ReumatoidArthritis  \\\n",
       "3  -1.585527 -0.828550  0.628398 -0.037838  0.760768            -0.08895   \n",
       "7  -0.592293 -0.943311 -0.785922 -0.037838 -0.808640            -0.08895   \n",
       "8  -1.213064 -0.924184 -0.133159 -0.037838  0.760768            -0.08895   \n",
       "28 -1.461373  0.982125 -0.785922 -0.037838 -0.808640            -0.08895   \n",
       "31 -1.585527 -0.924184 -2.309037 -0.037838 -0.808640            -0.08895   \n",
       "\n",
       "    SecondaryOsteoporsis   Alcohol  VitaminD   calcium  dose_walk  \\\n",
       "3              -0.134216  0.645138 -0.631566  1.492406  -0.671169   \n",
       "7              -0.134216 -0.788571 -0.210866 -0.465506  -0.526457   \n",
       "8              -0.134216 -0.651243 -0.015022 -0.119296  -0.326087   \n",
       "28             -0.134216 -0.788571  0.140927 -0.556868   0.876133   \n",
       "31             -0.134216 -0.788571 -0.646073 -0.947090  -0.504194   \n",
       "\n",
       "    dose_moderate  dose_vigorous  Class  \n",
       "3       -0.611945      -0.538945      0  \n",
       "7       -0.425170      -0.538945      0  \n",
       "8       -0.350460      -0.538945      0  \n",
       "28      -0.611945      -0.168681      0  \n",
       "31      -0.412718       0.571847      0  "
      ]
     },
     "execution_count": 15,
     "metadata": {},
     "output_type": "execute_result"
    }
   ],
   "source": [
    "female_patients_no_menopause.head()"
   ]
  },
  {
   "cell_type": "markdown",
   "metadata": {},
   "source": [
    "#### Create the X and y"
   ]
  },
  {
   "cell_type": "code",
   "execution_count": 16,
   "metadata": {},
   "outputs": [
    {
     "name": "stdout",
     "output_type": "stream",
     "text": [
      "(24492, 14)\n",
      "(24492, 1)\n"
     ]
    }
   ],
   "source": [
    "female_patients_no_menopause_X = female_patients_no_menopause.copy()\n",
    "female_patients_no_menopause_X.drop(\"Class\", axis=1, inplace=True)\n",
    "print(female_patients_no_menopause.shape)\n",
    "\n",
    "female_patients_no_menopause_y = female_patients_no_menopause[['Class']].copy()\n",
    "print(female_patients_no_menopause_y.shape)"
   ]
  },
  {
   "cell_type": "markdown",
   "metadata": {},
   "source": [
    "#### Split the data into Train, Test and Validation"
   ]
  },
  {
   "cell_type": "markdown",
   "metadata": {},
   "source": [
    "The ratio in the splitting, in percentage, is 60/20/20"
   ]
  },
  {
   "cell_type": "code",
   "execution_count": 46,
   "metadata": {},
   "outputs": [],
   "source": [
    "female_patients_no_menopause_X_train_and_val, female_patients_no_menopause_X_test, female_patients_no_menopause_y_train_and_val, female_patients_no_menopause_y_test = train_test_split(female_patients_no_menopause_X, female_patients_no_menopause_y, test_size=0.2, random_state=16)\n",
    "female_patients_no_menopause_X_train, female_patients_no_menopause_X_val, female_patients_no_menopause_y_train, female_patients_no_menopause_y_val = train_test_split(female_patients_no_menopause_X_train_and_val, female_patients_no_menopause_y_train_and_val, test_size=0.25, random_state=16)"
   ]
  },
  {
   "cell_type": "code",
   "execution_count": 47,
   "metadata": {
    "scrolled": false
   },
   "outputs": [
    {
     "data": {
      "text/plain": [
       "(4, 1)"
      ]
     },
     "execution_count": 47,
     "metadata": {},
     "output_type": "execute_result"
    }
   ],
   "source": [
    "female_patients_no_menopause_y_val[female_patients_no_menopause_y_val['Class']==1].shape"
   ]
  },
  {
   "cell_type": "code",
   "execution_count": 48,
   "metadata": {},
   "outputs": [
    {
     "data": {
      "text/plain": [
       "(16, 1)"
      ]
     },
     "execution_count": 48,
     "metadata": {},
     "output_type": "execute_result"
    }
   ],
   "source": [
    "female_patients_no_menopause_y_train[female_patients_no_menopause_y_train['Class']==1].shape"
   ]
  },
  {
   "cell_type": "code",
   "execution_count": 49,
   "metadata": {
    "scrolled": true
   },
   "outputs": [
    {
     "data": {
      "text/plain": [
       "(6, 1)"
      ]
     },
     "execution_count": 49,
     "metadata": {},
     "output_type": "execute_result"
    }
   ],
   "source": [
    "female_patients_no_menopause_y_test[female_patients_no_menopause_y_test['Class']==1].shape"
   ]
  },
  {
   "cell_type": "markdown",
   "metadata": {},
   "source": [
    "#### Save to Files"
   ]
  },
  {
   "cell_type": "code",
   "execution_count": 50,
   "metadata": {},
   "outputs": [],
   "source": [
    "patients.to_csv(\"../../Data/female_patients_no_menopause/standardized_patients.csv\")\n",
    "\n",
    "female_patients_no_menopause_X_train.to_csv(\"../../Data/female_patients_no_menopause/X_train_total.csv\")\n",
    "female_patients_no_menopause_y_train.to_csv(\"../../Data/female_patients_no_menopause/y_train_total.csv\")\n",
    "\n",
    "female_patients_no_menopause_X_test.to_csv(\"../../Data/female_patients_no_menopause/X_test.csv\")\n",
    "female_patients_no_menopause_y_test.to_csv(\"../../Data/female_patients_no_menopause/y_test.csv\")\n",
    "\n",
    "female_patients_no_menopause_X_val.to_csv(\"../../Data/female_patients_no_menopause/X_val.csv\")\n",
    "female_patients_no_menopause_y_val.to_csv(\"../../Data/female_patients_no_menopause/y_val.csv\")"
   ]
  },
  {
   "cell_type": "markdown",
   "metadata": {},
   "source": [
    "### 2.3 Women in menopause condition"
   ]
  },
  {
   "cell_type": "markdown",
   "metadata": {},
   "source": [
    "I'll use the same from the splitting through t-SNE"
   ]
  }
 ],
 "metadata": {
  "kernelspec": {
   "display_name": "Python 3",
   "language": "python",
   "name": "python3"
  },
  "language_info": {
   "codemirror_mode": {
    "name": "ipython",
    "version": 3
   },
   "file_extension": ".py",
   "mimetype": "text/x-python",
   "name": "python",
   "nbconvert_exporter": "python",
   "pygments_lexer": "ipython3",
   "version": "3.6.5"
  }
 },
 "nbformat": 4,
 "nbformat_minor": 2
}
