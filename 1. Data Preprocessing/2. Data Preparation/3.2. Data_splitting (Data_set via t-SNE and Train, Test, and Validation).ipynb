{
 "cells": [
  {
   "cell_type": "markdown",
   "metadata": {},
   "source": [
    "# Dataset cleansing"
   ]
  },
  {
   "cell_type": "code",
   "execution_count": 1,
   "metadata": {},
   "outputs": [],
   "source": [
    "import pandas as pd\n",
    "import numpy as np\n",
    "from sklearn.model_selection import train_test_split"
   ]
  },
  {
   "cell_type": "markdown",
   "metadata": {},
   "source": [
    "## 1. Load the (standardized) Data"
   ]
  },
  {
   "cell_type": "code",
   "execution_count": 2,
   "metadata": {
    "scrolled": false
   },
   "outputs": [
    {
     "data": {
      "text/html": [
       "<div>\n",
       "<style scoped>\n",
       "    .dataframe tbody tr th:only-of-type {\n",
       "        vertical-align: middle;\n",
       "    }\n",
       "\n",
       "    .dataframe tbody tr th {\n",
       "        vertical-align: top;\n",
       "    }\n",
       "\n",
       "    .dataframe thead th {\n",
       "        text-align: right;\n",
       "    }\n",
       "</style>\n",
       "<table border=\"1\" class=\"dataframe\">\n",
       "  <thead>\n",
       "    <tr style=\"text-align: right;\">\n",
       "      <th></th>\n",
       "      <th>sex</th>\n",
       "      <th>age</th>\n",
       "      <th>weight</th>\n",
       "      <th>height</th>\n",
       "      <th>HIPX</th>\n",
       "      <th>menopause</th>\n",
       "      <th>HRT</th>\n",
       "      <th>smoking</th>\n",
       "      <th>ReumatoidArthritis</th>\n",
       "      <th>SecondaryOsteoporsis</th>\n",
       "      <th>Alcohol</th>\n",
       "      <th>VitaminD</th>\n",
       "      <th>calcium</th>\n",
       "      <th>dose_walk</th>\n",
       "      <th>dose_moderate</th>\n",
       "      <th>dose_vigorous</th>\n",
       "      <th>Class</th>\n",
       "    </tr>\n",
       "  </thead>\n",
       "  <tbody>\n",
       "    <tr>\n",
       "      <th>0</th>\n",
       "      <td>-1.029482</td>\n",
       "      <td>-0.840602</td>\n",
       "      <td>-0.656408</td>\n",
       "      <td>-0.024365</td>\n",
       "      <td>-0.037838</td>\n",
       "      <td>-0.695973</td>\n",
       "      <td>-0.423252</td>\n",
       "      <td>-0.808640</td>\n",
       "      <td>-0.08895</td>\n",
       "      <td>-0.134216</td>\n",
       "      <td>-0.275878</td>\n",
       "      <td>-0.428469</td>\n",
       "      <td>1.339588</td>\n",
       "      <td>0.675763</td>\n",
       "      <td>0.284575</td>\n",
       "      <td>0.942110</td>\n",
       "      <td>0</td>\n",
       "    </tr>\n",
       "    <tr>\n",
       "      <th>1</th>\n",
       "      <td>0.971362</td>\n",
       "      <td>-0.592293</td>\n",
       "      <td>0.408319</td>\n",
       "      <td>1.063574</td>\n",
       "      <td>-0.037838</td>\n",
       "      <td>-0.695973</td>\n",
       "      <td>-0.423252</td>\n",
       "      <td>0.760768</td>\n",
       "      <td>-0.08895</td>\n",
       "      <td>-0.134216</td>\n",
       "      <td>4.052715</td>\n",
       "      <td>2.958895</td>\n",
       "      <td>0.483531</td>\n",
       "      <td>0.675763</td>\n",
       "      <td>-0.088975</td>\n",
       "      <td>0.016451</td>\n",
       "      <td>0</td>\n",
       "    </tr>\n",
       "    <tr>\n",
       "      <th>2</th>\n",
       "      <td>-1.029482</td>\n",
       "      <td>1.021712</td>\n",
       "      <td>-0.229242</td>\n",
       "      <td>-1.438686</td>\n",
       "      <td>-0.037838</td>\n",
       "      <td>1.436838</td>\n",
       "      <td>-0.423252</td>\n",
       "      <td>-0.808640</td>\n",
       "      <td>-0.08895</td>\n",
       "      <td>-0.134216</td>\n",
       "      <td>-0.430144</td>\n",
       "      <td>-0.979732</td>\n",
       "      <td>1.280054</td>\n",
       "      <td>-0.448536</td>\n",
       "      <td>-0.462525</td>\n",
       "      <td>0.571847</td>\n",
       "      <td>0</td>\n",
       "    </tr>\n",
       "    <tr>\n",
       "      <th>3</th>\n",
       "      <td>-1.029482</td>\n",
       "      <td>0.649249</td>\n",
       "      <td>0.472076</td>\n",
       "      <td>-1.819464</td>\n",
       "      <td>-0.037838</td>\n",
       "      <td>1.436838</td>\n",
       "      <td>2.362657</td>\n",
       "      <td>0.760768</td>\n",
       "      <td>-0.08895</td>\n",
       "      <td>-0.134216</td>\n",
       "      <td>-0.788571</td>\n",
       "      <td>-1.001492</td>\n",
       "      <td>-0.190283</td>\n",
       "      <td>-0.726827</td>\n",
       "      <td>-0.437622</td>\n",
       "      <td>-0.168681</td>\n",
       "      <td>0</td>\n",
       "    </tr>\n",
       "    <tr>\n",
       "      <th>4</th>\n",
       "      <td>0.971362</td>\n",
       "      <td>-0.716448</td>\n",
       "      <td>1.122388</td>\n",
       "      <td>0.519604</td>\n",
       "      <td>-0.037838</td>\n",
       "      <td>-0.695973</td>\n",
       "      <td>-0.423252</td>\n",
       "      <td>0.760768</td>\n",
       "      <td>-0.08895</td>\n",
       "      <td>-0.134216</td>\n",
       "      <td>0.801693</td>\n",
       "      <td>-0.109317</td>\n",
       "      <td>-0.351898</td>\n",
       "      <td>-0.548721</td>\n",
       "      <td>-0.512332</td>\n",
       "      <td>0.078161</td>\n",
       "      <td>0</td>\n",
       "    </tr>\n",
       "  </tbody>\n",
       "</table>\n",
       "</div>"
      ],
      "text/plain": [
       "        sex       age    weight    height      HIPX  menopause       HRT  \\\n",
       "0 -1.029482 -0.840602 -0.656408 -0.024365 -0.037838  -0.695973 -0.423252   \n",
       "1  0.971362 -0.592293  0.408319  1.063574 -0.037838  -0.695973 -0.423252   \n",
       "2 -1.029482  1.021712 -0.229242 -1.438686 -0.037838   1.436838 -0.423252   \n",
       "3 -1.029482  0.649249  0.472076 -1.819464 -0.037838   1.436838  2.362657   \n",
       "4  0.971362 -0.716448  1.122388  0.519604 -0.037838  -0.695973 -0.423252   \n",
       "\n",
       "    smoking  ReumatoidArthritis  SecondaryOsteoporsis   Alcohol  VitaminD  \\\n",
       "0 -0.808640            -0.08895             -0.134216 -0.275878 -0.428469   \n",
       "1  0.760768            -0.08895             -0.134216  4.052715  2.958895   \n",
       "2 -0.808640            -0.08895             -0.134216 -0.430144 -0.979732   \n",
       "3  0.760768            -0.08895             -0.134216 -0.788571 -1.001492   \n",
       "4  0.760768            -0.08895             -0.134216  0.801693 -0.109317   \n",
       "\n",
       "    calcium  dose_walk  dose_moderate  dose_vigorous  Class  \n",
       "0  1.339588   0.675763       0.284575       0.942110      0  \n",
       "1  0.483531   0.675763      -0.088975       0.016451      0  \n",
       "2  1.280054  -0.448536      -0.462525       0.571847      0  \n",
       "3 -0.190283  -0.726827      -0.437622      -0.168681      0  \n",
       "4 -0.351898  -0.548721      -0.512332       0.078161      0  "
      ]
     },
     "execution_count": 2,
     "metadata": {},
     "output_type": "execute_result"
    }
   ],
   "source": [
    "patients = pd.read_csv(\"../../Data/standardized_patients.csv\",index_col=0, header=0)\n",
    "patients.dropna(inplace=True)\n",
    "patients.head()"
   ]
  },
  {
   "cell_type": "code",
   "execution_count": 3,
   "metadata": {},
   "outputs": [],
   "source": [
    "patients = patients.sample(frac=1).reset_index(drop=True)"
   ]
  },
  {
   "cell_type": "markdown",
   "metadata": {},
   "source": [
    "## 2. Create the two dataset from the t-SNE analysis"
   ]
  },
  {
   "cell_type": "markdown",
   "metadata": {},
   "source": [
    "### 2.1 Women in menopause condition"
   ]
  },
  {
   "cell_type": "code",
   "execution_count": 4,
   "metadata": {},
   "outputs": [],
   "source": [
    "women_menopause = patients[patients['menopause']>1]"
   ]
  },
  {
   "cell_type": "code",
   "execution_count": 5,
   "metadata": {},
   "outputs": [
    {
     "name": "stderr",
     "output_type": "stream",
     "text": [
      "/Users/erennio/.local/lib/python3.6/site-packages/pandas/core/frame.py:3694: SettingWithCopyWarning: \n",
      "A value is trying to be set on a copy of a slice from a DataFrame\n",
      "\n",
      "See the caveats in the documentation: http://pandas.pydata.org/pandas-docs/stable/indexing.html#indexing-view-versus-copy\n",
      "  errors=errors)\n"
     ]
    }
   ],
   "source": [
    "women_menopause.drop(columns=['sex','menopause'], axis=1, inplace=True)"
   ]
  },
  {
   "cell_type": "code",
   "execution_count": 6,
   "metadata": {},
   "outputs": [
    {
     "data": {
      "text/html": [
       "<div>\n",
       "<style scoped>\n",
       "    .dataframe tbody tr th:only-of-type {\n",
       "        vertical-align: middle;\n",
       "    }\n",
       "\n",
       "    .dataframe tbody tr th {\n",
       "        vertical-align: top;\n",
       "    }\n",
       "\n",
       "    .dataframe thead th {\n",
       "        text-align: right;\n",
       "    }\n",
       "</style>\n",
       "<table border=\"1\" class=\"dataframe\">\n",
       "  <thead>\n",
       "    <tr style=\"text-align: right;\">\n",
       "      <th></th>\n",
       "      <th>age</th>\n",
       "      <th>weight</th>\n",
       "      <th>height</th>\n",
       "      <th>HIPX</th>\n",
       "      <th>HRT</th>\n",
       "      <th>smoking</th>\n",
       "      <th>ReumatoidArthritis</th>\n",
       "      <th>SecondaryOsteoporsis</th>\n",
       "      <th>Alcohol</th>\n",
       "      <th>VitaminD</th>\n",
       "      <th>calcium</th>\n",
       "      <th>dose_walk</th>\n",
       "      <th>dose_moderate</th>\n",
       "      <th>dose_vigorous</th>\n",
       "      <th>Class</th>\n",
       "    </tr>\n",
       "  </thead>\n",
       "  <tbody>\n",
       "    <tr>\n",
       "      <th>5</th>\n",
       "      <td>0.400940</td>\n",
       "      <td>1.562305</td>\n",
       "      <td>-0.459541</td>\n",
       "      <td>-0.037838</td>\n",
       "      <td>-0.423252</td>\n",
       "      <td>-0.808640</td>\n",
       "      <td>-0.08895</td>\n",
       "      <td>-0.134216</td>\n",
       "      <td>-0.401763</td>\n",
       "      <td>0.558001</td>\n",
       "      <td>-0.743991</td>\n",
       "      <td>-0.459667</td>\n",
       "      <td>-0.537235</td>\n",
       "      <td>-0.538945</td>\n",
       "      <td>0</td>\n",
       "    </tr>\n",
       "    <tr>\n",
       "      <th>8</th>\n",
       "      <td>1.518328</td>\n",
       "      <td>-1.957033</td>\n",
       "      <td>-1.547479</td>\n",
       "      <td>-0.037838</td>\n",
       "      <td>2.362657</td>\n",
       "      <td>-0.808640</td>\n",
       "      <td>-0.08895</td>\n",
       "      <td>-0.134216</td>\n",
       "      <td>0.963740</td>\n",
       "      <td>0.619655</td>\n",
       "      <td>1.558791</td>\n",
       "      <td>3.948473</td>\n",
       "      <td>0.135155</td>\n",
       "      <td>-0.168681</td>\n",
       "      <td>0</td>\n",
       "    </tr>\n",
       "    <tr>\n",
       "      <th>11</th>\n",
       "      <td>-0.343985</td>\n",
       "      <td>-1.109077</td>\n",
       "      <td>-1.003510</td>\n",
       "      <td>-0.037838</td>\n",
       "      <td>2.362657</td>\n",
       "      <td>2.330176</td>\n",
       "      <td>-0.08895</td>\n",
       "      <td>-0.134216</td>\n",
       "      <td>-0.788571</td>\n",
       "      <td>0.043005</td>\n",
       "      <td>-0.274591</td>\n",
       "      <td>-0.570984</td>\n",
       "      <td>-0.313105</td>\n",
       "      <td>0.695268</td>\n",
       "      <td>0</td>\n",
       "    </tr>\n",
       "    <tr>\n",
       "      <th>12</th>\n",
       "      <td>1.145866</td>\n",
       "      <td>-0.146359</td>\n",
       "      <td>-1.221098</td>\n",
       "      <td>-0.037838</td>\n",
       "      <td>-0.423252</td>\n",
       "      <td>-0.808640</td>\n",
       "      <td>-0.08895</td>\n",
       "      <td>-0.134216</td>\n",
       "      <td>-0.440215</td>\n",
       "      <td>-0.145584</td>\n",
       "      <td>-0.332457</td>\n",
       "      <td>-0.415141</td>\n",
       "      <td>-0.088975</td>\n",
       "      <td>-0.538945</td>\n",
       "      <td>0</td>\n",
       "    </tr>\n",
       "    <tr>\n",
       "      <th>14</th>\n",
       "      <td>1.394174</td>\n",
       "      <td>-1.153706</td>\n",
       "      <td>0.410810</td>\n",
       "      <td>-0.037838</td>\n",
       "      <td>2.362657</td>\n",
       "      <td>0.760768</td>\n",
       "      <td>-0.08895</td>\n",
       "      <td>-0.134216</td>\n",
       "      <td>-0.259857</td>\n",
       "      <td>-0.667833</td>\n",
       "      <td>-0.300554</td>\n",
       "      <td>0.208233</td>\n",
       "      <td>3.571818</td>\n",
       "      <td>-0.538945</td>\n",
       "      <td>0</td>\n",
       "    </tr>\n",
       "  </tbody>\n",
       "</table>\n",
       "</div>"
      ],
      "text/plain": [
       "         age    weight    height      HIPX       HRT   smoking  \\\n",
       "5   0.400940  1.562305 -0.459541 -0.037838 -0.423252 -0.808640   \n",
       "8   1.518328 -1.957033 -1.547479 -0.037838  2.362657 -0.808640   \n",
       "11 -0.343985 -1.109077 -1.003510 -0.037838  2.362657  2.330176   \n",
       "12  1.145866 -0.146359 -1.221098 -0.037838 -0.423252 -0.808640   \n",
       "14  1.394174 -1.153706  0.410810 -0.037838  2.362657  0.760768   \n",
       "\n",
       "    ReumatoidArthritis  SecondaryOsteoporsis   Alcohol  VitaminD   calcium  \\\n",
       "5             -0.08895             -0.134216 -0.401763  0.558001 -0.743991   \n",
       "8             -0.08895             -0.134216  0.963740  0.619655  1.558791   \n",
       "11            -0.08895             -0.134216 -0.788571  0.043005 -0.274591   \n",
       "12            -0.08895             -0.134216 -0.440215 -0.145584 -0.332457   \n",
       "14            -0.08895             -0.134216 -0.259857 -0.667833 -0.300554   \n",
       "\n",
       "    dose_walk  dose_moderate  dose_vigorous  Class  \n",
       "5   -0.459667      -0.537235      -0.538945      0  \n",
       "8    3.948473       0.135155      -0.168681      0  \n",
       "11  -0.570984      -0.313105       0.695268      0  \n",
       "12  -0.415141      -0.088975      -0.538945      0  \n",
       "14   0.208233       3.571818      -0.538945      0  "
      ]
     },
     "execution_count": 6,
     "metadata": {},
     "output_type": "execute_result"
    }
   ],
   "source": [
    "women_menopause.head()"
   ]
  },
  {
   "cell_type": "markdown",
   "metadata": {},
   "source": [
    "#### Create the X and y"
   ]
  },
  {
   "cell_type": "code",
   "execution_count": 7,
   "metadata": {},
   "outputs": [
    {
     "name": "stdout",
     "output_type": "stream",
     "text": [
      "(50215, 14)\n",
      "(50215, 1)\n"
     ]
    }
   ],
   "source": [
    "women_X = women_menopause.copy()\n",
    "women_X.drop(\"Class\", axis=1, inplace=True)\n",
    "print(women_X.shape)\n",
    "\n",
    "women_y = women_menopause[['Class']].copy()\n",
    "print(women_y.shape)"
   ]
  },
  {
   "cell_type": "markdown",
   "metadata": {},
   "source": [
    "#### Split the data into Train, Test and Validation"
   ]
  },
  {
   "cell_type": "markdown",
   "metadata": {},
   "source": [
    "The ratio in the splitting, in percentage, is 60/20/20"
   ]
  },
  {
   "cell_type": "code",
   "execution_count": 8,
   "metadata": {},
   "outputs": [],
   "source": [
    "women_X_train_and_val, women_X_test, women_y_train_and_val, women_y_test = train_test_split(women_X, women_y, test_size=0.2, random_state=42)\n",
    "women_X_train, women_X_val, women_y_train, women_y_val = train_test_split(women_X_train_and_val, women_y_train_and_val, test_size=0.25, random_state=42)"
   ]
  },
  {
   "cell_type": "code",
   "execution_count": 9,
   "metadata": {},
   "outputs": [
    {
     "data": {
      "text/plain": [
       "(25, 1)"
      ]
     },
     "execution_count": 9,
     "metadata": {},
     "output_type": "execute_result"
    }
   ],
   "source": [
    "women_y_val[women_y_val['Class']==1].shape"
   ]
  },
  {
   "cell_type": "code",
   "execution_count": 10,
   "metadata": {},
   "outputs": [
    {
     "data": {
      "text/plain": [
       "(64, 1)"
      ]
     },
     "execution_count": 10,
     "metadata": {},
     "output_type": "execute_result"
    }
   ],
   "source": [
    "women_y_train[women_y_train['Class']==1].shape"
   ]
  },
  {
   "cell_type": "code",
   "execution_count": 11,
   "metadata": {},
   "outputs": [
    {
     "data": {
      "text/plain": [
       "(39, 1)"
      ]
     },
     "execution_count": 11,
     "metadata": {},
     "output_type": "execute_result"
    }
   ],
   "source": [
    "women_y_test[women_y_test['Class']==1].shape"
   ]
  },
  {
   "cell_type": "markdown",
   "metadata": {},
   "source": [
    "#### Save to Files"
   ]
  },
  {
   "cell_type": "code",
   "execution_count": 12,
   "metadata": {},
   "outputs": [],
   "source": [
    "patients.to_csv(\"../../Data/women_menopause/standardized_patients.csv\")\n",
    "\n",
    "women_X_train.to_csv(\"../../Data/women_menopause/X_train_total.csv\")\n",
    "women_y_train.to_csv(\"../../Data/women_menopause/y_train_total.csv\")\n",
    "\n",
    "women_X_test.to_csv(\"../../Data/women_menopause/X_test.csv\")\n",
    "women_y_test.to_csv(\"../../Data/women_menopause/y_test.csv\")\n",
    "\n",
    "women_X_val.to_csv(\"../../Data/women_menopause/X_val.csv\")\n",
    "women_y_val.to_csv(\"../../Data/women_menopause/y_val.csv\")"
   ]
  },
  {
   "cell_type": "markdown",
   "metadata": {},
   "source": [
    "### 2.2 Other patients"
   ]
  },
  {
   "cell_type": "code",
   "execution_count": 13,
   "metadata": {},
   "outputs": [],
   "source": [
    "other_patients = patients[patients['menopause']<1]"
   ]
  },
  {
   "cell_type": "code",
   "execution_count": 14,
   "metadata": {},
   "outputs": [
    {
     "name": "stderr",
     "output_type": "stream",
     "text": [
      "/Users/erennio/.local/lib/python3.6/site-packages/pandas/core/frame.py:3694: SettingWithCopyWarning: \n",
      "A value is trying to be set on a copy of a slice from a DataFrame\n",
      "\n",
      "See the caveats in the documentation: http://pandas.pydata.org/pandas-docs/stable/indexing.html#indexing-view-versus-copy\n",
      "  errors=errors)\n"
     ]
    }
   ],
   "source": [
    "other_patients.drop(columns=['menopause','HRT'], axis=1, inplace=True)"
   ]
  },
  {
   "cell_type": "code",
   "execution_count": 15,
   "metadata": {},
   "outputs": [
    {
     "data": {
      "text/html": [
       "<div>\n",
       "<style scoped>\n",
       "    .dataframe tbody tr th:only-of-type {\n",
       "        vertical-align: middle;\n",
       "    }\n",
       "\n",
       "    .dataframe tbody tr th {\n",
       "        vertical-align: top;\n",
       "    }\n",
       "\n",
       "    .dataframe thead th {\n",
       "        text-align: right;\n",
       "    }\n",
       "</style>\n",
       "<table border=\"1\" class=\"dataframe\">\n",
       "  <thead>\n",
       "    <tr style=\"text-align: right;\">\n",
       "      <th></th>\n",
       "      <th>sex</th>\n",
       "      <th>age</th>\n",
       "      <th>weight</th>\n",
       "      <th>height</th>\n",
       "      <th>HIPX</th>\n",
       "      <th>smoking</th>\n",
       "      <th>ReumatoidArthritis</th>\n",
       "      <th>SecondaryOsteoporsis</th>\n",
       "      <th>Alcohol</th>\n",
       "      <th>VitaminD</th>\n",
       "      <th>calcium</th>\n",
       "      <th>dose_walk</th>\n",
       "      <th>dose_moderate</th>\n",
       "      <th>dose_vigorous</th>\n",
       "      <th>Class</th>\n",
       "    </tr>\n",
       "  </thead>\n",
       "  <tbody>\n",
       "    <tr>\n",
       "      <th>0</th>\n",
       "      <td>-1.029482</td>\n",
       "      <td>-0.840602</td>\n",
       "      <td>2.136111</td>\n",
       "      <td>-0.350747</td>\n",
       "      <td>-0.037838</td>\n",
       "      <td>-0.808640</td>\n",
       "      <td>-0.08895</td>\n",
       "      <td>-0.134216</td>\n",
       "      <td>-0.484617</td>\n",
       "      <td>0.960568</td>\n",
       "      <td>-0.537706</td>\n",
       "      <td>-0.593247</td>\n",
       "      <td>-0.537235</td>\n",
       "      <td>-0.538945</td>\n",
       "      <td>0</td>\n",
       "    </tr>\n",
       "    <tr>\n",
       "      <th>1</th>\n",
       "      <td>0.971362</td>\n",
       "      <td>0.400940</td>\n",
       "      <td>0.720724</td>\n",
       "      <td>0.302016</td>\n",
       "      <td>-0.037838</td>\n",
       "      <td>2.330176</td>\n",
       "      <td>-0.08895</td>\n",
       "      <td>-0.134216</td>\n",
       "      <td>0.452878</td>\n",
       "      <td>-0.254386</td>\n",
       "      <td>0.105317</td>\n",
       "      <td>0.208233</td>\n",
       "      <td>-0.014265</td>\n",
       "      <td>0.849545</td>\n",
       "      <td>0</td>\n",
       "    </tr>\n",
       "    <tr>\n",
       "      <th>2</th>\n",
       "      <td>0.971362</td>\n",
       "      <td>-0.716448</td>\n",
       "      <td>-0.267496</td>\n",
       "      <td>-0.133159</td>\n",
       "      <td>-0.037838</td>\n",
       "      <td>-0.808640</td>\n",
       "      <td>-0.08895</td>\n",
       "      <td>-0.134216</td>\n",
       "      <td>-0.239257</td>\n",
       "      <td>0.873526</td>\n",
       "      <td>0.342266</td>\n",
       "      <td>-0.526457</td>\n",
       "      <td>-0.462525</td>\n",
       "      <td>-0.477234</td>\n",
       "      <td>0</td>\n",
       "    </tr>\n",
       "    <tr>\n",
       "      <th>3</th>\n",
       "      <td>0.971362</td>\n",
       "      <td>-0.468139</td>\n",
       "      <td>0.561334</td>\n",
       "      <td>2.260306</td>\n",
       "      <td>-0.037838</td>\n",
       "      <td>-0.808640</td>\n",
       "      <td>-0.08895</td>\n",
       "      <td>-0.134216</td>\n",
       "      <td>-0.788571</td>\n",
       "      <td>-0.468363</td>\n",
       "      <td>-0.943450</td>\n",
       "      <td>-0.392877</td>\n",
       "      <td>0.433996</td>\n",
       "      <td>1.003821</td>\n",
       "      <td>0</td>\n",
       "    </tr>\n",
       "    <tr>\n",
       "      <th>4</th>\n",
       "      <td>0.971362</td>\n",
       "      <td>-1.337219</td>\n",
       "      <td>-0.548023</td>\n",
       "      <td>0.519604</td>\n",
       "      <td>-0.037838</td>\n",
       "      <td>-0.808640</td>\n",
       "      <td>-0.08895</td>\n",
       "      <td>-0.134216</td>\n",
       "      <td>-0.341796</td>\n",
       "      <td>-0.504631</td>\n",
       "      <td>1.168720</td>\n",
       "      <td>-0.459667</td>\n",
       "      <td>-0.574590</td>\n",
       "      <td>-0.261247</td>\n",
       "      <td>0</td>\n",
       "    </tr>\n",
       "  </tbody>\n",
       "</table>\n",
       "</div>"
      ],
      "text/plain": [
       "        sex       age    weight    height      HIPX   smoking  \\\n",
       "0 -1.029482 -0.840602  2.136111 -0.350747 -0.037838 -0.808640   \n",
       "1  0.971362  0.400940  0.720724  0.302016 -0.037838  2.330176   \n",
       "2  0.971362 -0.716448 -0.267496 -0.133159 -0.037838 -0.808640   \n",
       "3  0.971362 -0.468139  0.561334  2.260306 -0.037838 -0.808640   \n",
       "4  0.971362 -1.337219 -0.548023  0.519604 -0.037838 -0.808640   \n",
       "\n",
       "   ReumatoidArthritis  SecondaryOsteoporsis   Alcohol  VitaminD   calcium  \\\n",
       "0            -0.08895             -0.134216 -0.484617  0.960568 -0.537706   \n",
       "1            -0.08895             -0.134216  0.452878 -0.254386  0.105317   \n",
       "2            -0.08895             -0.134216 -0.239257  0.873526  0.342266   \n",
       "3            -0.08895             -0.134216 -0.788571 -0.468363 -0.943450   \n",
       "4            -0.08895             -0.134216 -0.341796 -0.504631  1.168720   \n",
       "\n",
       "   dose_walk  dose_moderate  dose_vigorous  Class  \n",
       "0  -0.593247      -0.537235      -0.538945      0  \n",
       "1   0.208233      -0.014265       0.849545      0  \n",
       "2  -0.526457      -0.462525      -0.477234      0  \n",
       "3  -0.392877       0.433996       1.003821      0  \n",
       "4  -0.459667      -0.574590      -0.261247      0  "
      ]
     },
     "execution_count": 15,
     "metadata": {},
     "output_type": "execute_result"
    }
   ],
   "source": [
    "other_patients.head()"
   ]
  },
  {
   "cell_type": "markdown",
   "metadata": {},
   "source": [
    "#### Create the X and y"
   ]
  },
  {
   "cell_type": "code",
   "execution_count": 16,
   "metadata": {},
   "outputs": [
    {
     "name": "stdout",
     "output_type": "stream",
     "text": [
      "(103669, 15)\n",
      "(103669, 1)\n"
     ]
    }
   ],
   "source": [
    "other_patients_X = other_patients.copy()\n",
    "other_patients_X.drop(\"Class\", axis=1, inplace=True)\n",
    "print(other_patients.shape)\n",
    "\n",
    "other_patients_y = other_patients[['Class']].copy()\n",
    "print(other_patients_y.shape)"
   ]
  },
  {
   "cell_type": "markdown",
   "metadata": {},
   "source": [
    "#### Split the data into Train, Test and Validation"
   ]
  },
  {
   "cell_type": "markdown",
   "metadata": {},
   "source": [
    "The ratio in the splitting, in percentage, is 60/20/20"
   ]
  },
  {
   "cell_type": "code",
   "execution_count": 17,
   "metadata": {},
   "outputs": [],
   "source": [
    "other_patients_X_train_and_val, other_patients_X_test, other_patients_y_train_and_val, other_patients_y_test = train_test_split(other_patients_X, other_patients_y, test_size=0.2, random_state=42)\n",
    "other_patients_X_train, other_patients_X_val, other_patients_y_train, other_patients_y_val = train_test_split(other_patients_X_train_and_val, other_patients_y_train_and_val, test_size=0.25, random_state=42)"
   ]
  },
  {
   "cell_type": "code",
   "execution_count": 18,
   "metadata": {
    "scrolled": false
   },
   "outputs": [
    {
     "data": {
      "text/plain": [
       "(21, 1)"
      ]
     },
     "execution_count": 18,
     "metadata": {},
     "output_type": "execute_result"
    }
   ],
   "source": [
    "other_patients_y_val[other_patients_y_val['Class']==1].shape"
   ]
  },
  {
   "cell_type": "code",
   "execution_count": 19,
   "metadata": {},
   "outputs": [
    {
     "data": {
      "text/plain": [
       "(94, 1)"
      ]
     },
     "execution_count": 19,
     "metadata": {},
     "output_type": "execute_result"
    }
   ],
   "source": [
    "other_patients_y_train[other_patients_y_train['Class']==1].shape"
   ]
  },
  {
   "cell_type": "code",
   "execution_count": 20,
   "metadata": {},
   "outputs": [
    {
     "data": {
      "text/plain": [
       "(35, 1)"
      ]
     },
     "execution_count": 20,
     "metadata": {},
     "output_type": "execute_result"
    }
   ],
   "source": [
    "other_patients_y_test[other_patients_y_test['Class']==1].shape"
   ]
  },
  {
   "cell_type": "markdown",
   "metadata": {},
   "source": [
    "#### Save to Files"
   ]
  },
  {
   "cell_type": "code",
   "execution_count": 21,
   "metadata": {},
   "outputs": [],
   "source": [
    "patients.to_csv(\"../../Data/other_patients/standardized_patients.csv\")\n",
    "\n",
    "other_patients_X_train.to_csv(\"../../Data/other_patients/X_train_total.csv\")\n",
    "other_patients_y_train.to_csv(\"../../Data/other_patients/y_train_total.csv\")\n",
    "\n",
    "other_patients_X_test.to_csv(\"../../Data/other_patients/X_test.csv\")\n",
    "other_patients_y_test.to_csv(\"../../Data/other_patients/y_test.csv\")\n",
    "\n",
    "other_patients_X_val.to_csv(\"../../Data/other_patients/X_val.csv\")\n",
    "other_patients_y_val.to_csv(\"../../Data/other_patients/y_val.csv\")"
   ]
  },
  {
   "cell_type": "code",
   "execution_count": null,
   "metadata": {},
   "outputs": [],
   "source": []
  }
 ],
 "metadata": {
  "kernelspec": {
   "display_name": "Python 3",
   "language": "python",
   "name": "python3"
  },
  "language_info": {
   "codemirror_mode": {
    "name": "ipython",
    "version": 3
   },
   "file_extension": ".py",
   "mimetype": "text/x-python",
   "name": "python",
   "nbconvert_exporter": "python",
   "pygments_lexer": "ipython3",
   "version": "3.6.5"
  }
 },
 "nbformat": 4,
 "nbformat_minor": 2
}
