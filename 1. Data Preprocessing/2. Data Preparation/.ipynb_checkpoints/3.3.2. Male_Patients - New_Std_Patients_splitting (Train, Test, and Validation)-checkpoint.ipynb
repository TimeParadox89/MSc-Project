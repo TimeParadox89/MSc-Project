{
 "cells": [
  {
   "cell_type": "markdown",
   "metadata": {},
   "source": [
    "# Dataset cleansing"
   ]
  },
  {
   "cell_type": "code",
   "execution_count": 2,
   "metadata": {},
   "outputs": [],
   "source": [
    "import pandas as pd\n",
    "import numpy as np\n",
    "from sklearn.model_selection import train_test_split"
   ]
  },
  {
   "cell_type": "markdown",
   "metadata": {},
   "source": [
    "## 1. Load the (standardized) Data"
   ]
  },
  {
   "cell_type": "code",
   "execution_count": null,
   "metadata": {},
   "outputs": [],
   "source": [
    "starting_ratio = '1'\n",
    "percent_ratio = '10'"
   ]
  },
  {
   "cell_type": "code",
   "execution_count": 2,
   "metadata": {
    "scrolled": true
   },
   "outputs": [
    {
     "data": {
      "text/html": [
       "<div>\n",
       "<style scoped>\n",
       "    .dataframe tbody tr th:only-of-type {\n",
       "        vertical-align: middle;\n",
       "    }\n",
       "\n",
       "    .dataframe tbody tr th {\n",
       "        vertical-align: top;\n",
       "    }\n",
       "\n",
       "    .dataframe thead th {\n",
       "        text-align: right;\n",
       "    }\n",
       "</style>\n",
       "<table border=\"1\" class=\"dataframe\">\n",
       "  <thead>\n",
       "    <tr style=\"text-align: right;\">\n",
       "      <th></th>\n",
       "      <th>age</th>\n",
       "      <th>weight</th>\n",
       "      <th>height</th>\n",
       "      <th>HIPX</th>\n",
       "      <th>smoking</th>\n",
       "      <th>ReumatoidArthritis</th>\n",
       "      <th>SecondaryOsteoporsis</th>\n",
       "      <th>Alcohol</th>\n",
       "      <th>VitaminD</th>\n",
       "      <th>calcium</th>\n",
       "      <th>dose_walk</th>\n",
       "      <th>dose_moderate</th>\n",
       "      <th>dose_vigorous</th>\n",
       "      <th>Class</th>\n",
       "    </tr>\n",
       "  </thead>\n",
       "  <tbody>\n",
       "    <tr>\n",
       "      <th>0</th>\n",
       "      <td>0.400940</td>\n",
       "      <td>-0.841301</td>\n",
       "      <td>-0.350747</td>\n",
       "      <td>-0.037838</td>\n",
       "      <td>-0.808640</td>\n",
       "      <td>-0.08895</td>\n",
       "      <td>-0.134216</td>\n",
       "      <td>-0.199890</td>\n",
       "      <td>-0.675087</td>\n",
       "      <td>-0.468514</td>\n",
       "      <td>1.143293</td>\n",
       "      <td>-0.163685</td>\n",
       "      <td>-0.477234</td>\n",
       "      <td>0</td>\n",
       "    </tr>\n",
       "    <tr>\n",
       "      <th>1</th>\n",
       "      <td>1.270020</td>\n",
       "      <td>0.778105</td>\n",
       "      <td>1.389955</td>\n",
       "      <td>-0.037838</td>\n",
       "      <td>-0.808640</td>\n",
       "      <td>-0.08895</td>\n",
       "      <td>-0.134216</td>\n",
       "      <td>-0.788571</td>\n",
       "      <td>-0.831036</td>\n",
       "      <td>-0.026670</td>\n",
       "      <td>-0.415141</td>\n",
       "      <td>0.583416</td>\n",
       "      <td>2.423166</td>\n",
       "      <td>0</td>\n",
       "    </tr>\n",
       "    <tr>\n",
       "      <th>2</th>\n",
       "      <td>1.518328</td>\n",
       "      <td>-1.013443</td>\n",
       "      <td>-1.329892</td>\n",
       "      <td>-0.037838</td>\n",
       "      <td>0.760768</td>\n",
       "      <td>-0.08895</td>\n",
       "      <td>-0.134216</td>\n",
       "      <td>0.502316</td>\n",
       "      <td>-0.769382</td>\n",
       "      <td>-0.767653</td>\n",
       "      <td>1.143293</td>\n",
       "      <td>-0.014265</td>\n",
       "      <td>-0.538945</td>\n",
       "      <td>0</td>\n",
       "    </tr>\n",
       "    <tr>\n",
       "      <th>3</th>\n",
       "      <td>-1.585527</td>\n",
       "      <td>0.472076</td>\n",
       "      <td>1.063574</td>\n",
       "      <td>-0.037838</td>\n",
       "      <td>-0.808640</td>\n",
       "      <td>-0.08895</td>\n",
       "      <td>-0.134216</td>\n",
       "      <td>0.747677</td>\n",
       "      <td>-0.787515</td>\n",
       "      <td>-0.181308</td>\n",
       "      <td>-0.326087</td>\n",
       "      <td>-0.487428</td>\n",
       "      <td>-0.538945</td>\n",
       "      <td>0</td>\n",
       "    </tr>\n",
       "    <tr>\n",
       "      <th>4</th>\n",
       "      <td>1.021712</td>\n",
       "      <td>1.479423</td>\n",
       "      <td>0.519604</td>\n",
       "      <td>-0.037838</td>\n",
       "      <td>0.760768</td>\n",
       "      <td>-0.08895</td>\n",
       "      <td>-0.134216</td>\n",
       "      <td>0.982966</td>\n",
       "      <td>-0.120197</td>\n",
       "      <td>0.301161</td>\n",
       "      <td>-0.259297</td>\n",
       "      <td>7.232610</td>\n",
       "      <td>2.052902</td>\n",
       "      <td>0</td>\n",
       "    </tr>\n",
       "  </tbody>\n",
       "</table>\n",
       "</div>"
      ],
      "text/plain": [
       "        age    weight    height      HIPX   smoking  ReumatoidArthritis  \\\n",
       "0  0.400940 -0.841301 -0.350747 -0.037838 -0.808640            -0.08895   \n",
       "1  1.270020  0.778105  1.389955 -0.037838 -0.808640            -0.08895   \n",
       "2  1.518328 -1.013443 -1.329892 -0.037838  0.760768            -0.08895   \n",
       "3 -1.585527  0.472076  1.063574 -0.037838 -0.808640            -0.08895   \n",
       "4  1.021712  1.479423  0.519604 -0.037838  0.760768            -0.08895   \n",
       "\n",
       "   SecondaryOsteoporsis   Alcohol  VitaminD   calcium  dose_walk  \\\n",
       "0             -0.134216 -0.199890 -0.675087 -0.468514   1.143293   \n",
       "1             -0.134216 -0.788571 -0.831036 -0.026670  -0.415141   \n",
       "2             -0.134216  0.502316 -0.769382 -0.767653   1.143293   \n",
       "3             -0.134216  0.747677 -0.787515 -0.181308  -0.326087   \n",
       "4             -0.134216  0.982966 -0.120197  0.301161  -0.259297   \n",
       "\n",
       "   dose_moderate  dose_vigorous  Class  \n",
       "0      -0.163685      -0.477234      0  \n",
       "1       0.583416       2.423166      0  \n",
       "2      -0.014265      -0.538945      0  \n",
       "3      -0.487428      -0.538945      0  \n",
       "4       7.232610       2.052902      0  "
      ]
     },
     "execution_count": 2,
     "metadata": {},
     "output_type": "execute_result"
    }
   ],
   "source": [
    "base_data_folder = '../../Data/male_patients/starting_ratio_'+starting_ratio+'/'+percent_ratio+'_percent/'"
   ]
  },
  {
   "cell_type": "code",
   "execution_count": null,
   "metadata": {},
   "outputs": [],
   "source": [
    "patients = pd.read_csv(base_data_folder+'new_std_patients.csv',index_col=0, header=0)\n",
    "patients.dropna(inplace=True)\n",
    "patients.head()"
   ]
  },
  {
   "cell_type": "code",
   "execution_count": 3,
   "metadata": {},
   "outputs": [],
   "source": [
    "patients = patients.sample(frac=1).reset_index(drop=True)"
   ]
  },
  {
   "cell_type": "markdown",
   "metadata": {},
   "source": [
    "## 2. Create the X and y"
   ]
  },
  {
   "cell_type": "code",
   "execution_count": 4,
   "metadata": {},
   "outputs": [
    {
     "name": "stdout",
     "output_type": "stream",
     "text": [
      "(153884, 13)\n",
      "(153884, 1)\n"
     ]
    }
   ],
   "source": [
    "X = patients.copy()\n",
    "X.drop(\"Class\", axis=1, inplace=True)\n",
    "print(X.shape)\n",
    "\n",
    "y = patients[['Class']].copy()\n",
    "print(y.shape)"
   ]
  },
  {
   "cell_type": "markdown",
   "metadata": {},
   "source": [
    "## 3. Split the data into Train, Test and Validation"
   ]
  },
  {
   "cell_type": "markdown",
   "metadata": {},
   "source": [
    "The ratio in the splitting, in percentage, is 60/20/20"
   ]
  },
  {
   "cell_type": "code",
   "execution_count": 5,
   "metadata": {},
   "outputs": [],
   "source": [
    "X_train_and_val, X_test, y_train_and_val, y_test = train_test_split(X, y, test_size=0.2, random_state=42)\n",
    "X_train, X_val, y_train, y_val = train_test_split(X_train_and_val, y_train_and_val, test_size=0.25, random_state=42)"
   ]
  },
  {
   "cell_type": "code",
   "execution_count": 6,
   "metadata": {
    "scrolled": false
   },
   "outputs": [
    {
     "data": {
      "text/plain": [
       "(1485, 1)"
      ]
     },
     "execution_count": 6,
     "metadata": {},
     "output_type": "execute_result"
    }
   ],
   "source": [
    "y_val[y_val['Class']==1].shape"
   ]
  },
  {
   "cell_type": "code",
   "execution_count": 7,
   "metadata": {},
   "outputs": [
    {
     "data": {
      "text/plain": [
       "(4264, 1)"
      ]
     },
     "execution_count": 7,
     "metadata": {},
     "output_type": "execute_result"
    }
   ],
   "source": [
    "y_train[y_train['Class']==1].shape"
   ]
  },
  {
   "cell_type": "code",
   "execution_count": 8,
   "metadata": {},
   "outputs": [
    {
     "data": {
      "text/plain": [
       "(1433, 1)"
      ]
     },
     "execution_count": 8,
     "metadata": {},
     "output_type": "execute_result"
    }
   ],
   "source": [
    "y_test[y_test['Class']==1].shape"
   ]
  },
  {
   "cell_type": "markdown",
   "metadata": {},
   "source": [
    "## 4. Save to Files"
   ]
  },
  {
   "cell_type": "code",
   "execution_count": 10,
   "metadata": {},
   "outputs": [],
   "source": [
    "patients.to_csv(base_data_folder+'new_std_patients.csv')\n",
    "\n",
    "X_train.to_csv(base_data_folder+'X_train_total.csv')\n",
    "y_train.to_csv(base_data_folder+'y_train_total.csv')\n",
    "\n",
    "X_test.to_csv(base_data_folder+'X_test.csv')\n",
    "y_test.to_csv(base_data_folder+'y_test.csv')\n",
    "\n",
    "X_val.to_csv(base_data_folder+'X_val.csv')\n",
    "y_val.to_csv(base_data_folder+'y_val.csv')"
   ]
  },
  {
   "cell_type": "code",
   "execution_count": null,
   "metadata": {},
   "outputs": [],
   "source": []
  },
  {
   "cell_type": "code",
   "execution_count": 3,
   "metadata": {},
   "outputs": [
    {
     "name": "stdout",
     "output_type": "stream",
     "text": [
      "(153884, 13)\n",
      "(153884, 1)\n",
      "(153884, 13)\n",
      "(153884, 1)\n",
      "(153884, 13)\n",
      "(153884, 1)\n",
      "(153884, 13)\n",
      "(153884, 1)\n",
      "(153884, 13)\n",
      "(153884, 1)\n",
      "(153884, 13)\n",
      "(153884, 1)\n",
      "(153884, 13)\n",
      "(153884, 1)\n",
      "(153884, 13)\n",
      "(153884, 1)\n",
      "(153884, 13)\n",
      "(153884, 1)\n",
      "(153884, 13)\n",
      "(153884, 1)\n"
     ]
    }
   ],
   "source": [
    "for ratio in ['05','1']:\n",
    "\n",
    "    for i in range (1,6):\n",
    "        starting_ratio = ratio #'1'\n",
    "        percent_ratio = str(i)+'0'\n",
    "        base_data_folder = '../../Data/male_patients/starting_ratio_'+starting_ratio+'/'+percent_ratio+'_percent/'\n",
    "\n",
    "        patients = pd.read_csv(base_data_folder+'new_std_patients.csv',index_col=0, header=0)\n",
    "        patients.dropna(inplace=True)\n",
    "        patients.head()\n",
    "\n",
    "        patients = patients.sample(frac=1).reset_index(drop=True)\n",
    "\n",
    "        X = patients.copy()\n",
    "        X.drop(\"Class\", axis=1, inplace=True)\n",
    "        print(X.shape)\n",
    "\n",
    "        y = patients[['Class']].copy()\n",
    "        print(y.shape)\n",
    "\n",
    "        X_train_and_val, X_test, y_train_and_val, y_test = train_test_split(X, y, test_size=0.2, random_state=42)\n",
    "        X_train, X_val, y_train, y_val = train_test_split(X_train_and_val, y_train_and_val, test_size=0.25, random_state=42)\n",
    "\n",
    "        patients.to_csv(base_data_folder+'new_std_patients.csv')\n",
    "\n",
    "        X_train.to_csv(base_data_folder+'X_train_total.csv')\n",
    "        y_train.to_csv(base_data_folder+'y_train_total.csv')\n",
    "\n",
    "        X_test.to_csv(base_data_folder+'X_test.csv')\n",
    "        y_test.to_csv(base_data_folder+'y_test.csv')\n",
    "\n",
    "        X_val.to_csv(base_data_folder+'X_val.csv')\n",
    "        y_val.to_csv(base_data_folder+'y_val.csv')"
   ]
  },
  {
   "cell_type": "code",
   "execution_count": null,
   "metadata": {},
   "outputs": [],
   "source": []
  }
 ],
 "metadata": {
  "kernelspec": {
   "display_name": "Python 3",
   "language": "python",
   "name": "python3"
  },
  "language_info": {
   "codemirror_mode": {
    "name": "ipython",
    "version": 3
   },
   "file_extension": ".py",
   "mimetype": "text/x-python",
   "name": "python",
   "nbconvert_exporter": "python",
   "pygments_lexer": "ipython3",
   "version": "3.6.5"
  }
 },
 "nbformat": 4,
 "nbformat_minor": 2
}
