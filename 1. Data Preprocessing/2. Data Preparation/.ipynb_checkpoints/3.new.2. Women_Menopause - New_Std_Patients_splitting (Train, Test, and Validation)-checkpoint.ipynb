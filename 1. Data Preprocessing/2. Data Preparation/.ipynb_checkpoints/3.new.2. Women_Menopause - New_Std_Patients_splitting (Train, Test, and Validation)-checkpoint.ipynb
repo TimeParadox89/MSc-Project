{
 "cells": [
  {
   "cell_type": "markdown",
   "metadata": {},
   "source": [
    "# Dataset cleansing"
   ]
  },
  {
   "cell_type": "code",
   "execution_count": 1,
   "metadata": {},
   "outputs": [],
   "source": [
    "import pandas as pd\n",
    "import numpy as np\n",
    "from sklearn.model_selection import train_test_split"
   ]
  },
  {
   "cell_type": "markdown",
   "metadata": {},
   "source": [
    "## 1. Load the (standardized) Data"
   ]
  },
  {
   "cell_type": "code",
   "execution_count": 2,
   "metadata": {
    "scrolled": false
   },
   "outputs": [
    {
     "data": {
      "text/html": [
       "<div>\n",
       "<style scoped>\n",
       "    .dataframe tbody tr th:only-of-type {\n",
       "        vertical-align: middle;\n",
       "    }\n",
       "\n",
       "    .dataframe tbody tr th {\n",
       "        vertical-align: top;\n",
       "    }\n",
       "\n",
       "    .dataframe thead th {\n",
       "        text-align: right;\n",
       "    }\n",
       "</style>\n",
       "<table border=\"1\" class=\"dataframe\">\n",
       "  <thead>\n",
       "    <tr style=\"text-align: right;\">\n",
       "      <th></th>\n",
       "      <th>age</th>\n",
       "      <th>weight</th>\n",
       "      <th>height</th>\n",
       "      <th>HIPX</th>\n",
       "      <th>HRT</th>\n",
       "      <th>smoking</th>\n",
       "      <th>ReumatoidArthritis</th>\n",
       "      <th>SecondaryOsteoporsis</th>\n",
       "      <th>Alcohol</th>\n",
       "      <th>VitaminD</th>\n",
       "      <th>calcium</th>\n",
       "      <th>dose_walk</th>\n",
       "      <th>dose_moderate</th>\n",
       "      <th>dose_vigorous</th>\n",
       "      <th>Class</th>\n",
       "    </tr>\n",
       "  </thead>\n",
       "  <tbody>\n",
       "    <tr>\n",
       "      <th>2</th>\n",
       "      <td>0.276786</td>\n",
       "      <td>-1.102701</td>\n",
       "      <td>-1.221098</td>\n",
       "      <td>-0.037838</td>\n",
       "      <td>2.362657</td>\n",
       "      <td>-0.808640</td>\n",
       "      <td>-0.08895</td>\n",
       "      <td>-0.134216</td>\n",
       "      <td>0.245512</td>\n",
       "      <td>-0.660580</td>\n",
       "      <td>-1.477415</td>\n",
       "      <td>0.608973</td>\n",
       "      <td>0.010639</td>\n",
       "      <td>-0.538945</td>\n",
       "      <td>0</td>\n",
       "    </tr>\n",
       "    <tr>\n",
       "      <th>3</th>\n",
       "      <td>0.897557</td>\n",
       "      <td>0.306310</td>\n",
       "      <td>-0.459541</td>\n",
       "      <td>-0.037838</td>\n",
       "      <td>-0.423252</td>\n",
       "      <td>-0.808640</td>\n",
       "      <td>-0.08895</td>\n",
       "      <td>-0.134216</td>\n",
       "      <td>1.668693</td>\n",
       "      <td>0.358531</td>\n",
       "      <td>-0.545290</td>\n",
       "      <td>0.519919</td>\n",
       "      <td>2.525877</td>\n",
       "      <td>2.052902</td>\n",
       "      <td>1</td>\n",
       "    </tr>\n",
       "    <tr>\n",
       "      <th>4</th>\n",
       "      <td>0.400940</td>\n",
       "      <td>-1.274843</td>\n",
       "      <td>-0.459541</td>\n",
       "      <td>-0.037838</td>\n",
       "      <td>-0.423252</td>\n",
       "      <td>-0.808640</td>\n",
       "      <td>-0.08895</td>\n",
       "      <td>-0.134216</td>\n",
       "      <td>-0.605467</td>\n",
       "      <td>-0.290654</td>\n",
       "      <td>-0.178603</td>\n",
       "      <td>-0.726827</td>\n",
       "      <td>-0.611945</td>\n",
       "      <td>-0.538945</td>\n",
       "      <td>0</td>\n",
       "    </tr>\n",
       "    <tr>\n",
       "      <th>6</th>\n",
       "      <td>-0.095676</td>\n",
       "      <td>-1.096326</td>\n",
       "      <td>-1.112304</td>\n",
       "      <td>-0.037838</td>\n",
       "      <td>-0.423252</td>\n",
       "      <td>0.760768</td>\n",
       "      <td>-0.08895</td>\n",
       "      <td>-0.134216</td>\n",
       "      <td>-0.376586</td>\n",
       "      <td>-0.602552</td>\n",
       "      <td>-0.288495</td>\n",
       "      <td>-0.259297</td>\n",
       "      <td>-0.462525</td>\n",
       "      <td>-0.538945</td>\n",
       "      <td>0</td>\n",
       "    </tr>\n",
       "    <tr>\n",
       "      <th>9</th>\n",
       "      <td>1.145866</td>\n",
       "      <td>-0.650033</td>\n",
       "      <td>-1.645394</td>\n",
       "      <td>-0.037838</td>\n",
       "      <td>-0.423252</td>\n",
       "      <td>-0.808640</td>\n",
       "      <td>-0.08895</td>\n",
       "      <td>-0.134216</td>\n",
       "      <td>-0.430144</td>\n",
       "      <td>-0.482870</td>\n",
       "      <td>-0.420179</td>\n",
       "      <td>-0.259297</td>\n",
       "      <td>-0.313105</td>\n",
       "      <td>-0.168681</td>\n",
       "      <td>0</td>\n",
       "    </tr>\n",
       "  </tbody>\n",
       "</table>\n",
       "</div>"
      ],
      "text/plain": [
       "        age    weight    height      HIPX       HRT   smoking  \\\n",
       "2  0.276786 -1.102701 -1.221098 -0.037838  2.362657 -0.808640   \n",
       "3  0.897557  0.306310 -0.459541 -0.037838 -0.423252 -0.808640   \n",
       "4  0.400940 -1.274843 -0.459541 -0.037838 -0.423252 -0.808640   \n",
       "6 -0.095676 -1.096326 -1.112304 -0.037838 -0.423252  0.760768   \n",
       "9  1.145866 -0.650033 -1.645394 -0.037838 -0.423252 -0.808640   \n",
       "\n",
       "   ReumatoidArthritis  SecondaryOsteoporsis   Alcohol  VitaminD   calcium  \\\n",
       "2            -0.08895             -0.134216  0.245512 -0.660580 -1.477415   \n",
       "3            -0.08895             -0.134216  1.668693  0.358531 -0.545290   \n",
       "4            -0.08895             -0.134216 -0.605467 -0.290654 -0.178603   \n",
       "6            -0.08895             -0.134216 -0.376586 -0.602552 -0.288495   \n",
       "9            -0.08895             -0.134216 -0.430144 -0.482870 -0.420179   \n",
       "\n",
       "   dose_walk  dose_moderate  dose_vigorous  Class  \n",
       "2   0.608973       0.010639      -0.538945      0  \n",
       "3   0.519919       2.525877       2.052902      1  \n",
       "4  -0.726827      -0.611945      -0.538945      0  \n",
       "6  -0.259297      -0.462525      -0.538945      0  \n",
       "9  -0.259297      -0.313105      -0.168681      0  "
      ]
     },
     "execution_count": 2,
     "metadata": {},
     "output_type": "execute_result"
    }
   ],
   "source": [
    "patients = pd.read_csv(\"../../Data/women_menopause/new_std_patients.csv\",index_col=0, header=0)\n",
    "patients.dropna(inplace=True)\n",
    "patients.head()"
   ]
  },
  {
   "cell_type": "code",
   "execution_count": 3,
   "metadata": {},
   "outputs": [],
   "source": [
    "patients = patients.sample(frac=1).reset_index(drop=True)"
   ]
  },
  {
   "cell_type": "markdown",
   "metadata": {},
   "source": [
    "## 2. Create the X and y"
   ]
  },
  {
   "cell_type": "code",
   "execution_count": 4,
   "metadata": {},
   "outputs": [
    {
     "name": "stdout",
     "output_type": "stream",
     "text": [
      "(50215, 14)\n",
      "(50215, 1)\n"
     ]
    }
   ],
   "source": [
    "X = patients.copy()\n",
    "X.drop(\"Class\", axis=1, inplace=True)\n",
    "print(X.shape)\n",
    "\n",
    "y = patients[['Class']].copy()\n",
    "print(y.shape)"
   ]
  },
  {
   "cell_type": "markdown",
   "metadata": {},
   "source": [
    "## 3. Split the data into Train, Test and Validation"
   ]
  },
  {
   "cell_type": "markdown",
   "metadata": {},
   "source": [
    "The ratio in the splitting, in percentage, is 60/20/20"
   ]
  },
  {
   "cell_type": "code",
   "execution_count": 5,
   "metadata": {},
   "outputs": [],
   "source": [
    "X_train_and_val, X_test, y_train_and_val, y_test = train_test_split(X, y, test_size=0.2, random_state=42)\n",
    "X_train, X_val, y_train, y_val = train_test_split(X_train_and_val, y_train_and_val, test_size=0.25, random_state=42)"
   ]
  },
  {
   "cell_type": "code",
   "execution_count": 6,
   "metadata": {
    "scrolled": false
   },
   "outputs": [
    {
     "data": {
      "text/plain": [
       "(1056, 1)"
      ]
     },
     "execution_count": 6,
     "metadata": {},
     "output_type": "execute_result"
    }
   ],
   "source": [
    "y_val[y_val['Class']==1].shape"
   ]
  },
  {
   "cell_type": "code",
   "execution_count": 7,
   "metadata": {},
   "outputs": [
    {
     "data": {
      "text/plain": [
       "(2951, 1)"
      ]
     },
     "execution_count": 7,
     "metadata": {},
     "output_type": "execute_result"
    }
   ],
   "source": [
    "y_train[y_train['Class']==1].shape"
   ]
  },
  {
   "cell_type": "code",
   "execution_count": 8,
   "metadata": {},
   "outputs": [
    {
     "data": {
      "text/plain": [
       "(992, 1)"
      ]
     },
     "execution_count": 8,
     "metadata": {},
     "output_type": "execute_result"
    }
   ],
   "source": [
    "y_test[y_test['Class']==1].shape"
   ]
  },
  {
   "cell_type": "markdown",
   "metadata": {},
   "source": [
    "## 4. Save to Files"
   ]
  },
  {
   "cell_type": "code",
   "execution_count": 10,
   "metadata": {},
   "outputs": [],
   "source": [
    "ratio = \"1\""
   ]
  },
  {
   "cell_type": "code",
   "execution_count": 11,
   "metadata": {},
   "outputs": [],
   "source": [
    "patients.to_csv(\"../../Data/women_menopause/ratio\"+ratio+\"/new_std_patients.csv\")\n",
    "\n",
    "X_train.to_csv(\"../../Data/women_menopause/ratio\"+ratio+\"/X_train_total.csv\")\n",
    "y_train.to_csv(\"../../Data/women_menopause/ratio\"+ratio+\"/y_train_total.csv\")\n",
    "\n",
    "X_test.to_csv(\"../../Data/women_menopause/ratio\"+ratio+\"/X_test.csv\")\n",
    "y_test.to_csv(\"../../Data/women_menopause/ratio\"+ratio+\"/y_test.csv\")\n",
    "\n",
    "X_val.to_csv(\"../../Data/women_menopause/ratio\"+ratio+\"/X_val.csv\")\n",
    "y_val.to_csv(\"../../Data/women_menopause/ratio\"+ratio+\"/y_val.csv\")"
   ]
  },
  {
   "cell_type": "code",
   "execution_count": null,
   "metadata": {},
   "outputs": [],
   "source": []
  }
 ],
 "metadata": {
  "kernelspec": {
   "display_name": "Python 3",
   "language": "python",
   "name": "python3"
  },
  "language_info": {
   "codemirror_mode": {
    "name": "ipython",
    "version": 3
   },
   "file_extension": ".py",
   "mimetype": "text/x-python",
   "name": "python",
   "nbconvert_exporter": "python",
   "pygments_lexer": "ipython3",
   "version": "3.6.5"
  }
 },
 "nbformat": 4,
 "nbformat_minor": 2
}
