{
 "cells": [
  {
   "cell_type": "markdown",
   "metadata": {},
   "source": [
    "# Dataset cleansing"
   ]
  },
  {
   "cell_type": "code",
   "execution_count": 1,
   "metadata": {},
   "outputs": [],
   "source": [
    "import pandas as pd\n",
    "import numpy as np\n",
    "from sklearn.model_selection import train_test_split"
   ]
  },
  {
   "cell_type": "markdown",
   "metadata": {},
   "source": [
    "## 1. Load the (standardized) Data"
   ]
  },
  {
   "cell_type": "code",
   "execution_count": 102,
   "metadata": {},
   "outputs": [],
   "source": [
    "starting_ratio = '1'\n",
    "percent_ratio = '50'"
   ]
  },
  {
   "cell_type": "code",
   "execution_count": 103,
   "metadata": {},
   "outputs": [],
   "source": [
    "base_data_folder = '../../Data/all_patients/starting_ratio_'+starting_ratio+'/'+percent_ratio+'_percent/'"
   ]
  },
  {
   "cell_type": "code",
   "execution_count": 104,
   "metadata": {
    "scrolled": false
   },
   "outputs": [
    {
     "data": {
      "text/html": [
       "<div>\n",
       "<style scoped>\n",
       "    .dataframe tbody tr th:only-of-type {\n",
       "        vertical-align: middle;\n",
       "    }\n",
       "\n",
       "    .dataframe tbody tr th {\n",
       "        vertical-align: top;\n",
       "    }\n",
       "\n",
       "    .dataframe thead th {\n",
       "        text-align: right;\n",
       "    }\n",
       "</style>\n",
       "<table border=\"1\" class=\"dataframe\">\n",
       "  <thead>\n",
       "    <tr style=\"text-align: right;\">\n",
       "      <th></th>\n",
       "      <th>sex</th>\n",
       "      <th>age</th>\n",
       "      <th>weight</th>\n",
       "      <th>height</th>\n",
       "      <th>HIPX</th>\n",
       "      <th>menopause</th>\n",
       "      <th>HRT</th>\n",
       "      <th>smoking</th>\n",
       "      <th>ReumatoidArthritis</th>\n",
       "      <th>SecondaryOsteoporsis</th>\n",
       "      <th>Alcohol</th>\n",
       "      <th>VitaminD</th>\n",
       "      <th>calcium</th>\n",
       "      <th>dose_walk</th>\n",
       "      <th>dose_moderate</th>\n",
       "      <th>dose_vigorous</th>\n",
       "      <th>Class</th>\n",
       "    </tr>\n",
       "  </thead>\n",
       "  <tbody>\n",
       "    <tr>\n",
       "      <th>0</th>\n",
       "      <td>-1.029482</td>\n",
       "      <td>-1.585527</td>\n",
       "      <td>-0.554398</td>\n",
       "      <td>-0.568335</td>\n",
       "      <td>-0.037838</td>\n",
       "      <td>-0.695973</td>\n",
       "      <td>-0.423252</td>\n",
       "      <td>0.760768</td>\n",
       "      <td>-0.08895</td>\n",
       "      <td>-0.134216</td>\n",
       "      <td>-0.788571</td>\n",
       "      <td>-0.598925</td>\n",
       "      <td>-0.481154</td>\n",
       "      <td>-0.504194</td>\n",
       "      <td>-0.313105</td>\n",
       "      <td>-0.353813</td>\n",
       "      <td>0</td>\n",
       "    </tr>\n",
       "    <tr>\n",
       "      <th>1</th>\n",
       "      <td>0.971362</td>\n",
       "      <td>-1.088910</td>\n",
       "      <td>0.771729</td>\n",
       "      <td>1.607543</td>\n",
       "      <td>-0.037838</td>\n",
       "      <td>-0.695973</td>\n",
       "      <td>-0.423252</td>\n",
       "      <td>2.330176</td>\n",
       "      <td>-0.08895</td>\n",
       "      <td>-0.134216</td>\n",
       "      <td>-0.513914</td>\n",
       "      <td>1.189051</td>\n",
       "      <td>-0.016963</td>\n",
       "      <td>-0.326087</td>\n",
       "      <td>-0.238395</td>\n",
       "      <td>0.201583</td>\n",
       "      <td>0</td>\n",
       "    </tr>\n",
       "    <tr>\n",
       "      <th>2</th>\n",
       "      <td>0.971362</td>\n",
       "      <td>0.400940</td>\n",
       "      <td>0.452949</td>\n",
       "      <td>0.193223</td>\n",
       "      <td>-0.037838</td>\n",
       "      <td>-0.695973</td>\n",
       "      <td>-0.423252</td>\n",
       "      <td>-0.808640</td>\n",
       "      <td>-0.08895</td>\n",
       "      <td>-0.134216</td>\n",
       "      <td>2.983384</td>\n",
       "      <td>-0.773008</td>\n",
       "      <td>1.548249</td>\n",
       "      <td>0.441998</td>\n",
       "      <td>0.695481</td>\n",
       "      <td>0.201583</td>\n",
       "      <td>0</td>\n",
       "    </tr>\n",
       "    <tr>\n",
       "      <th>3</th>\n",
       "      <td>-1.029482</td>\n",
       "      <td>0.773403</td>\n",
       "      <td>-1.886902</td>\n",
       "      <td>-1.547479</td>\n",
       "      <td>-0.037838</td>\n",
       "      <td>1.436838</td>\n",
       "      <td>-0.423252</td>\n",
       "      <td>-0.808640</td>\n",
       "      <td>-0.08895</td>\n",
       "      <td>-0.134216</td>\n",
       "      <td>-0.788571</td>\n",
       "      <td>-0.899944</td>\n",
       "      <td>7.322711</td>\n",
       "      <td>0.208233</td>\n",
       "      <td>0.284575</td>\n",
       "      <td>0.571847</td>\n",
       "      <td>0</td>\n",
       "    </tr>\n",
       "    <tr>\n",
       "      <th>4</th>\n",
       "      <td>0.971362</td>\n",
       "      <td>-1.833836</td>\n",
       "      <td>0.025783</td>\n",
       "      <td>1.172367</td>\n",
       "      <td>-0.037838</td>\n",
       "      <td>-0.695973</td>\n",
       "      <td>-0.423252</td>\n",
       "      <td>0.760768</td>\n",
       "      <td>-0.08895</td>\n",
       "      <td>-0.134216</td>\n",
       "      <td>0.104979</td>\n",
       "      <td>1.461056</td>\n",
       "      <td>-0.535557</td>\n",
       "      <td>-0.259297</td>\n",
       "      <td>8.801521</td>\n",
       "      <td>5.015013</td>\n",
       "      <td>0</td>\n",
       "    </tr>\n",
       "  </tbody>\n",
       "</table>\n",
       "</div>"
      ],
      "text/plain": [
       "        sex       age    weight    height      HIPX  menopause       HRT  \\\n",
       "0 -1.029482 -1.585527 -0.554398 -0.568335 -0.037838  -0.695973 -0.423252   \n",
       "1  0.971362 -1.088910  0.771729  1.607543 -0.037838  -0.695973 -0.423252   \n",
       "2  0.971362  0.400940  0.452949  0.193223 -0.037838  -0.695973 -0.423252   \n",
       "3 -1.029482  0.773403 -1.886902 -1.547479 -0.037838   1.436838 -0.423252   \n",
       "4  0.971362 -1.833836  0.025783  1.172367 -0.037838  -0.695973 -0.423252   \n",
       "\n",
       "    smoking  ReumatoidArthritis  SecondaryOsteoporsis   Alcohol  VitaminD  \\\n",
       "0  0.760768            -0.08895             -0.134216 -0.788571 -0.598925   \n",
       "1  2.330176            -0.08895             -0.134216 -0.513914  1.189051   \n",
       "2 -0.808640            -0.08895             -0.134216  2.983384 -0.773008   \n",
       "3 -0.808640            -0.08895             -0.134216 -0.788571 -0.899944   \n",
       "4  0.760768            -0.08895             -0.134216  0.104979  1.461056   \n",
       "\n",
       "    calcium  dose_walk  dose_moderate  dose_vigorous  Class  \n",
       "0 -0.481154  -0.504194      -0.313105      -0.353813      0  \n",
       "1 -0.016963  -0.326087      -0.238395       0.201583      0  \n",
       "2  1.548249   0.441998       0.695481       0.201583      0  \n",
       "3  7.322711   0.208233       0.284575       0.571847      0  \n",
       "4 -0.535557  -0.259297       8.801521       5.015013      0  "
      ]
     },
     "execution_count": 104,
     "metadata": {},
     "output_type": "execute_result"
    }
   ],
   "source": [
    "patients = pd.read_csv(base_data_folder+'new_std_patients.csv',index_col=0, header=0)\n",
    "patients.dropna(inplace=True)\n",
    "patients.head()"
   ]
  },
  {
   "cell_type": "code",
   "execution_count": 105,
   "metadata": {},
   "outputs": [],
   "source": [
    "patients = patients.sample(frac=1).reset_index(drop=True)"
   ]
  },
  {
   "cell_type": "markdown",
   "metadata": {},
   "source": [
    "## 2. Create the X and y"
   ]
  },
  {
   "cell_type": "code",
   "execution_count": 106,
   "metadata": {},
   "outputs": [
    {
     "name": "stdout",
     "output_type": "stream",
     "text": [
      "(153884, 16)\n",
      "(153884, 1)\n"
     ]
    }
   ],
   "source": [
    "X = patients.copy()\n",
    "X.drop(\"Class\", axis=1, inplace=True)\n",
    "print(X.shape)\n",
    "\n",
    "y = patients[['Class']].copy()\n",
    "print(y.shape)"
   ]
  },
  {
   "cell_type": "markdown",
   "metadata": {},
   "source": [
    "## 3. Split the data into Train, Test and Validation"
   ]
  },
  {
   "cell_type": "markdown",
   "metadata": {},
   "source": [
    "The ratio in the splitting, in percentage, is 60/20/20"
   ]
  },
  {
   "cell_type": "code",
   "execution_count": 107,
   "metadata": {},
   "outputs": [],
   "source": [
    "X_train_and_val, X_test, y_train_and_val, y_test = train_test_split(X, y, test_size=0.2, random_state=42)\n",
    "X_train, X_val, y_train, y_val = train_test_split(X_train_and_val, y_train_and_val, test_size=0.25, random_state=42)"
   ]
  },
  {
   "cell_type": "code",
   "execution_count": 108,
   "metadata": {
    "scrolled": false
   },
   "outputs": [
    {
     "data": {
      "text/plain": [
       "(1362, 1)"
      ]
     },
     "execution_count": 108,
     "metadata": {},
     "output_type": "execute_result"
    }
   ],
   "source": [
    "y_val[y_val['Class']==1].shape"
   ]
  },
  {
   "cell_type": "code",
   "execution_count": 109,
   "metadata": {},
   "outputs": [
    {
     "data": {
      "text/plain": [
       "(4102, 1)"
      ]
     },
     "execution_count": 109,
     "metadata": {},
     "output_type": "execute_result"
    }
   ],
   "source": [
    "y_train[y_train['Class']==1].shape"
   ]
  },
  {
   "cell_type": "code",
   "execution_count": 110,
   "metadata": {},
   "outputs": [
    {
     "data": {
      "text/plain": [
       "(1413, 1)"
      ]
     },
     "execution_count": 110,
     "metadata": {},
     "output_type": "execute_result"
    }
   ],
   "source": [
    "y_test[y_test['Class']==1].shape"
   ]
  },
  {
   "cell_type": "markdown",
   "metadata": {},
   "source": [
    "## 4. Save to Files"
   ]
  },
  {
   "cell_type": "code",
   "execution_count": 111,
   "metadata": {},
   "outputs": [],
   "source": [
    "patients.to_csv(base_data_folder+'new_std_patients.csv')\n",
    "\n",
    "X_train.to_csv(base_data_folder+'X_train_total.csv')\n",
    "y_train.to_csv(base_data_folder+'y_train_total.csv')\n",
    "\n",
    "X_test.to_csv(base_data_folder+'X_test.csv')\n",
    "y_test.to_csv(base_data_folder+'y_test.csv')\n",
    "\n",
    "X_val.to_csv(base_data_folder+'X_val.csv')\n",
    "y_val.to_csv(base_data_folder+'y_val.csv')"
   ]
  },
  {
   "cell_type": "code",
   "execution_count": null,
   "metadata": {},
   "outputs": [],
   "source": []
  }
 ],
 "metadata": {
  "kernelspec": {
   "display_name": "Python 3",
   "language": "python",
   "name": "python3"
  },
  "language_info": {
   "codemirror_mode": {
    "name": "ipython",
    "version": 3
   },
   "file_extension": ".py",
   "mimetype": "text/x-python",
   "name": "python",
   "nbconvert_exporter": "python",
   "pygments_lexer": "ipython3",
   "version": "3.6.5"
  }
 },
 "nbformat": 4,
 "nbformat_minor": 2
}
