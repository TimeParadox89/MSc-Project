{
 "cells": [
  {
   "cell_type": "markdown",
   "metadata": {},
   "source": [
    "# Dataset cleansing"
   ]
  },
  {
   "cell_type": "code",
   "execution_count": 1,
   "metadata": {},
   "outputs": [],
   "source": [
    "import pandas as pd\n",
    "import numpy as np\n",
    "from sklearn.model_selection import train_test_split"
   ]
  },
  {
   "cell_type": "markdown",
   "metadata": {},
   "source": [
    "## 1. Load the (standardized) Data"
   ]
  },
  {
   "cell_type": "code",
   "execution_count": 2,
   "metadata": {
    "scrolled": false
   },
   "outputs": [
    {
     "data": {
      "text/html": [
       "<div>\n",
       "<style scoped>\n",
       "    .dataframe tbody tr th:only-of-type {\n",
       "        vertical-align: middle;\n",
       "    }\n",
       "\n",
       "    .dataframe tbody tr th {\n",
       "        vertical-align: top;\n",
       "    }\n",
       "\n",
       "    .dataframe thead th {\n",
       "        text-align: right;\n",
       "    }\n",
       "</style>\n",
       "<table border=\"1\" class=\"dataframe\">\n",
       "  <thead>\n",
       "    <tr style=\"text-align: right;\">\n",
       "      <th></th>\n",
       "      <th>sex</th>\n",
       "      <th>age</th>\n",
       "      <th>weight</th>\n",
       "      <th>height</th>\n",
       "      <th>HIPX</th>\n",
       "      <th>menopause</th>\n",
       "      <th>HRT</th>\n",
       "      <th>smoking</th>\n",
       "      <th>ReumatoidArthritis</th>\n",
       "      <th>SecondaryOsteoporsis</th>\n",
       "      <th>Alcohol</th>\n",
       "      <th>VitaminD</th>\n",
       "      <th>calcium</th>\n",
       "      <th>dose_walk</th>\n",
       "      <th>dose_moderate</th>\n",
       "      <th>dose_vigorous</th>\n",
       "      <th>Class</th>\n",
       "    </tr>\n",
       "  </thead>\n",
       "  <tbody>\n",
       "    <tr>\n",
       "      <th>0</th>\n",
       "      <td>0.971362</td>\n",
       "      <td>1.642483</td>\n",
       "      <td>1.090510</td>\n",
       "      <td>0.628398</td>\n",
       "      <td>-0.037838</td>\n",
       "      <td>-0.695973</td>\n",
       "      <td>-0.423252</td>\n",
       "      <td>0.760768</td>\n",
       "      <td>-0.08895</td>\n",
       "      <td>-0.134216</td>\n",
       "      <td>-0.788571</td>\n",
       "      <td>-0.762128</td>\n",
       "      <td>-1.685343</td>\n",
       "      <td>-0.415141</td>\n",
       "      <td>-0.611945</td>\n",
       "      <td>-0.538945</td>\n",
       "      <td>0</td>\n",
       "    </tr>\n",
       "    <tr>\n",
       "      <th>1</th>\n",
       "      <td>-1.029482</td>\n",
       "      <td>-1.833836</td>\n",
       "      <td>-0.873179</td>\n",
       "      <td>0.084429</td>\n",
       "      <td>-0.037838</td>\n",
       "      <td>-0.695973</td>\n",
       "      <td>-0.423252</td>\n",
       "      <td>-0.808640</td>\n",
       "      <td>-0.08895</td>\n",
       "      <td>-0.134216</td>\n",
       "      <td>-0.788571</td>\n",
       "      <td>0.137300</td>\n",
       "      <td>-1.133682</td>\n",
       "      <td>0.275023</td>\n",
       "      <td>0.172510</td>\n",
       "      <td>-0.168681</td>\n",
       "      <td>0</td>\n",
       "    </tr>\n",
       "    <tr>\n",
       "      <th>2</th>\n",
       "      <td>0.971362</td>\n",
       "      <td>1.518328</td>\n",
       "      <td>0.408319</td>\n",
       "      <td>0.302016</td>\n",
       "      <td>-0.037838</td>\n",
       "      <td>-0.695973</td>\n",
       "      <td>-0.423252</td>\n",
       "      <td>-0.808640</td>\n",
       "      <td>-0.08895</td>\n",
       "      <td>-0.134216</td>\n",
       "      <td>2.536151</td>\n",
       "      <td>-0.265266</td>\n",
       "      <td>0.679982</td>\n",
       "      <td>-0.337219</td>\n",
       "      <td>-0.300653</td>\n",
       "      <td>-0.261247</td>\n",
       "      <td>0</td>\n",
       "    </tr>\n",
       "    <tr>\n",
       "      <th>3</th>\n",
       "      <td>-1.029482</td>\n",
       "      <td>-1.088910</td>\n",
       "      <td>1.581432</td>\n",
       "      <td>0.519604</td>\n",
       "      <td>-0.037838</td>\n",
       "      <td>-0.695973</td>\n",
       "      <td>-0.423252</td>\n",
       "      <td>2.330176</td>\n",
       "      <td>-0.08895</td>\n",
       "      <td>-0.134216</td>\n",
       "      <td>0.605313</td>\n",
       "      <td>2.730411</td>\n",
       "      <td>-0.870239</td>\n",
       "      <td>-0.058927</td>\n",
       "      <td>-0.611945</td>\n",
       "      <td>-0.538945</td>\n",
       "      <td>0</td>\n",
       "    </tr>\n",
       "    <tr>\n",
       "      <th>4</th>\n",
       "      <td>0.971362</td>\n",
       "      <td>0.028478</td>\n",
       "      <td>0.440197</td>\n",
       "      <td>1.063574</td>\n",
       "      <td>-0.037838</td>\n",
       "      <td>-0.695973</td>\n",
       "      <td>-0.423252</td>\n",
       "      <td>-0.808640</td>\n",
       "      <td>-0.08895</td>\n",
       "      <td>-0.134216</td>\n",
       "      <td>0.733944</td>\n",
       "      <td>0.159061</td>\n",
       "      <td>-0.610133</td>\n",
       "      <td>0.208233</td>\n",
       "      <td>1.479936</td>\n",
       "      <td>-0.168681</td>\n",
       "      <td>0</td>\n",
       "    </tr>\n",
       "  </tbody>\n",
       "</table>\n",
       "</div>"
      ],
      "text/plain": [
       "        sex       age    weight    height      HIPX  menopause       HRT  \\\n",
       "0  0.971362  1.642483  1.090510  0.628398 -0.037838  -0.695973 -0.423252   \n",
       "1 -1.029482 -1.833836 -0.873179  0.084429 -0.037838  -0.695973 -0.423252   \n",
       "2  0.971362  1.518328  0.408319  0.302016 -0.037838  -0.695973 -0.423252   \n",
       "3 -1.029482 -1.088910  1.581432  0.519604 -0.037838  -0.695973 -0.423252   \n",
       "4  0.971362  0.028478  0.440197  1.063574 -0.037838  -0.695973 -0.423252   \n",
       "\n",
       "    smoking  ReumatoidArthritis  SecondaryOsteoporsis   Alcohol  VitaminD  \\\n",
       "0  0.760768            -0.08895             -0.134216 -0.788571 -0.762128   \n",
       "1 -0.808640            -0.08895             -0.134216 -0.788571  0.137300   \n",
       "2 -0.808640            -0.08895             -0.134216  2.536151 -0.265266   \n",
       "3  2.330176            -0.08895             -0.134216  0.605313  2.730411   \n",
       "4 -0.808640            -0.08895             -0.134216  0.733944  0.159061   \n",
       "\n",
       "    calcium  dose_walk  dose_moderate  dose_vigorous  Class  \n",
       "0 -1.685343  -0.415141      -0.611945      -0.538945      0  \n",
       "1 -1.133682   0.275023       0.172510      -0.168681      0  \n",
       "2  0.679982  -0.337219      -0.300653      -0.261247      0  \n",
       "3 -0.870239  -0.058927      -0.611945      -0.538945      0  \n",
       "4 -0.610133   0.208233       1.479936      -0.168681      0  "
      ]
     },
     "execution_count": 2,
     "metadata": {},
     "output_type": "execute_result"
    }
   ],
   "source": [
    "patients = pd.read_csv(\"../../Data/standardized_patients.csv\",index_col=0, header=0)\n",
    "patients.dropna(inplace=True)\n",
    "patients.head()"
   ]
  },
  {
   "cell_type": "code",
   "execution_count": 3,
   "metadata": {},
   "outputs": [],
   "source": [
    "patients = patients.sample(frac=1).reset_index(drop=True)"
   ]
  },
  {
   "cell_type": "markdown",
   "metadata": {},
   "source": [
    "## 2. Create the two dataset from the t-SNE analysis"
   ]
  },
  {
   "cell_type": "markdown",
   "metadata": {},
   "source": [
    "### 2.1 Women in menopause condition"
   ]
  },
  {
   "cell_type": "code",
   "execution_count": 4,
   "metadata": {},
   "outputs": [],
   "source": [
    "women_menopause = patients[patients['menopause']>1]"
   ]
  },
  {
   "cell_type": "code",
   "execution_count": 5,
   "metadata": {},
   "outputs": [
    {
     "name": "stderr",
     "output_type": "stream",
     "text": [
      "/Users/erennio/.local/lib/python3.6/site-packages/pandas/core/frame.py:3694: SettingWithCopyWarning: \n",
      "A value is trying to be set on a copy of a slice from a DataFrame\n",
      "\n",
      "See the caveats in the documentation: http://pandas.pydata.org/pandas-docs/stable/indexing.html#indexing-view-versus-copy\n",
      "  errors=errors)\n"
     ]
    }
   ],
   "source": [
    "women_menopause.drop(columns=['sex','menopause'], axis=1, inplace=True)"
   ]
  },
  {
   "cell_type": "code",
   "execution_count": 6,
   "metadata": {},
   "outputs": [
    {
     "data": {
      "text/html": [
       "<div>\n",
       "<style scoped>\n",
       "    .dataframe tbody tr th:only-of-type {\n",
       "        vertical-align: middle;\n",
       "    }\n",
       "\n",
       "    .dataframe tbody tr th {\n",
       "        vertical-align: top;\n",
       "    }\n",
       "\n",
       "    .dataframe thead th {\n",
       "        text-align: right;\n",
       "    }\n",
       "</style>\n",
       "<table border=\"1\" class=\"dataframe\">\n",
       "  <thead>\n",
       "    <tr style=\"text-align: right;\">\n",
       "      <th></th>\n",
       "      <th>age</th>\n",
       "      <th>weight</th>\n",
       "      <th>height</th>\n",
       "      <th>HIPX</th>\n",
       "      <th>HRT</th>\n",
       "      <th>smoking</th>\n",
       "      <th>ReumatoidArthritis</th>\n",
       "      <th>SecondaryOsteoporsis</th>\n",
       "      <th>Alcohol</th>\n",
       "      <th>VitaminD</th>\n",
       "      <th>calcium</th>\n",
       "      <th>dose_walk</th>\n",
       "      <th>dose_moderate</th>\n",
       "      <th>dose_vigorous</th>\n",
       "      <th>Class</th>\n",
       "    </tr>\n",
       "  </thead>\n",
       "  <tbody>\n",
       "    <tr>\n",
       "      <th>2</th>\n",
       "      <td>0.276786</td>\n",
       "      <td>-1.102701</td>\n",
       "      <td>-1.221098</td>\n",
       "      <td>-0.037838</td>\n",
       "      <td>2.362657</td>\n",
       "      <td>-0.808640</td>\n",
       "      <td>-0.08895</td>\n",
       "      <td>-0.134216</td>\n",
       "      <td>0.245512</td>\n",
       "      <td>-0.660580</td>\n",
       "      <td>-1.477415</td>\n",
       "      <td>0.608973</td>\n",
       "      <td>0.010639</td>\n",
       "      <td>-0.538945</td>\n",
       "      <td>0</td>\n",
       "    </tr>\n",
       "    <tr>\n",
       "      <th>3</th>\n",
       "      <td>0.897557</td>\n",
       "      <td>0.306310</td>\n",
       "      <td>-0.459541</td>\n",
       "      <td>-0.037838</td>\n",
       "      <td>-0.423252</td>\n",
       "      <td>-0.808640</td>\n",
       "      <td>-0.08895</td>\n",
       "      <td>-0.134216</td>\n",
       "      <td>1.668693</td>\n",
       "      <td>0.358531</td>\n",
       "      <td>-0.545290</td>\n",
       "      <td>0.519919</td>\n",
       "      <td>2.525877</td>\n",
       "      <td>2.052902</td>\n",
       "      <td>0</td>\n",
       "    </tr>\n",
       "    <tr>\n",
       "      <th>4</th>\n",
       "      <td>0.400940</td>\n",
       "      <td>-1.274843</td>\n",
       "      <td>-0.459541</td>\n",
       "      <td>-0.037838</td>\n",
       "      <td>-0.423252</td>\n",
       "      <td>-0.808640</td>\n",
       "      <td>-0.08895</td>\n",
       "      <td>-0.134216</td>\n",
       "      <td>-0.605467</td>\n",
       "      <td>-0.290654</td>\n",
       "      <td>-0.178603</td>\n",
       "      <td>-0.726827</td>\n",
       "      <td>-0.611945</td>\n",
       "      <td>-0.538945</td>\n",
       "      <td>0</td>\n",
       "    </tr>\n",
       "    <tr>\n",
       "      <th>6</th>\n",
       "      <td>-0.095676</td>\n",
       "      <td>-1.096326</td>\n",
       "      <td>-1.112304</td>\n",
       "      <td>-0.037838</td>\n",
       "      <td>-0.423252</td>\n",
       "      <td>0.760768</td>\n",
       "      <td>-0.08895</td>\n",
       "      <td>-0.134216</td>\n",
       "      <td>-0.376586</td>\n",
       "      <td>-0.602552</td>\n",
       "      <td>-0.288495</td>\n",
       "      <td>-0.259297</td>\n",
       "      <td>-0.462525</td>\n",
       "      <td>-0.538945</td>\n",
       "      <td>0</td>\n",
       "    </tr>\n",
       "    <tr>\n",
       "      <th>9</th>\n",
       "      <td>1.145866</td>\n",
       "      <td>-0.650033</td>\n",
       "      <td>-1.645394</td>\n",
       "      <td>-0.037838</td>\n",
       "      <td>-0.423252</td>\n",
       "      <td>-0.808640</td>\n",
       "      <td>-0.08895</td>\n",
       "      <td>-0.134216</td>\n",
       "      <td>-0.430144</td>\n",
       "      <td>-0.482870</td>\n",
       "      <td>-0.420179</td>\n",
       "      <td>-0.259297</td>\n",
       "      <td>-0.313105</td>\n",
       "      <td>-0.168681</td>\n",
       "      <td>0</td>\n",
       "    </tr>\n",
       "  </tbody>\n",
       "</table>\n",
       "</div>"
      ],
      "text/plain": [
       "        age    weight    height      HIPX       HRT   smoking  \\\n",
       "2  0.276786 -1.102701 -1.221098 -0.037838  2.362657 -0.808640   \n",
       "3  0.897557  0.306310 -0.459541 -0.037838 -0.423252 -0.808640   \n",
       "4  0.400940 -1.274843 -0.459541 -0.037838 -0.423252 -0.808640   \n",
       "6 -0.095676 -1.096326 -1.112304 -0.037838 -0.423252  0.760768   \n",
       "9  1.145866 -0.650033 -1.645394 -0.037838 -0.423252 -0.808640   \n",
       "\n",
       "   ReumatoidArthritis  SecondaryOsteoporsis   Alcohol  VitaminD   calcium  \\\n",
       "2            -0.08895             -0.134216  0.245512 -0.660580 -1.477415   \n",
       "3            -0.08895             -0.134216  1.668693  0.358531 -0.545290   \n",
       "4            -0.08895             -0.134216 -0.605467 -0.290654 -0.178603   \n",
       "6            -0.08895             -0.134216 -0.376586 -0.602552 -0.288495   \n",
       "9            -0.08895             -0.134216 -0.430144 -0.482870 -0.420179   \n",
       "\n",
       "   dose_walk  dose_moderate  dose_vigorous  Class  \n",
       "2   0.608973       0.010639      -0.538945      0  \n",
       "3   0.519919       2.525877       2.052902      0  \n",
       "4  -0.726827      -0.611945      -0.538945      0  \n",
       "6  -0.259297      -0.462525      -0.538945      0  \n",
       "9  -0.259297      -0.313105      -0.168681      0  "
      ]
     },
     "execution_count": 6,
     "metadata": {},
     "output_type": "execute_result"
    }
   ],
   "source": [
    "women_menopause.head()"
   ]
  },
  {
   "cell_type": "markdown",
   "metadata": {},
   "source": [
    "#### Create the X and y"
   ]
  },
  {
   "cell_type": "code",
   "execution_count": 7,
   "metadata": {},
   "outputs": [
    {
     "name": "stdout",
     "output_type": "stream",
     "text": [
      "(50215, 14)\n",
      "(50215, 1)\n"
     ]
    }
   ],
   "source": [
    "women_X = women_menopause.copy()\n",
    "women_X.drop(\"Class\", axis=1, inplace=True)\n",
    "print(women_X.shape)\n",
    "\n",
    "women_y = women_menopause[['Class']].copy()\n",
    "print(women_y.shape)"
   ]
  },
  {
   "cell_type": "markdown",
   "metadata": {},
   "source": [
    "#### Split the data into Train, Test and Validation"
   ]
  },
  {
   "cell_type": "markdown",
   "metadata": {},
   "source": [
    "The ratio in the splitting, in percentage, is 60/20/20"
   ]
  },
  {
   "cell_type": "code",
   "execution_count": 8,
   "metadata": {},
   "outputs": [],
   "source": [
    "women_X_train_and_val, women_X_test, women_y_train_and_val, women_y_test = train_test_split(women_X, women_y, test_size=0.2, random_state=42)\n",
    "women_X_train, women_X_val, women_y_train, women_y_val = train_test_split(women_X_train_and_val, women_y_train_and_val, test_size=0.25, random_state=42)"
   ]
  },
  {
   "cell_type": "code",
   "execution_count": 9,
   "metadata": {},
   "outputs": [
    {
     "data": {
      "text/plain": [
       "(31, 1)"
      ]
     },
     "execution_count": 9,
     "metadata": {},
     "output_type": "execute_result"
    }
   ],
   "source": [
    "women_y_val[women_y_val['Class']==1].shape"
   ]
  },
  {
   "cell_type": "code",
   "execution_count": 10,
   "metadata": {},
   "outputs": [
    {
     "data": {
      "text/plain": [
       "(66, 1)"
      ]
     },
     "execution_count": 10,
     "metadata": {},
     "output_type": "execute_result"
    }
   ],
   "source": [
    "women_y_train[women_y_train['Class']==1].shape"
   ]
  },
  {
   "cell_type": "code",
   "execution_count": 11,
   "metadata": {},
   "outputs": [
    {
     "data": {
      "text/plain": [
       "(31, 1)"
      ]
     },
     "execution_count": 11,
     "metadata": {},
     "output_type": "execute_result"
    }
   ],
   "source": [
    "women_y_test[women_y_test['Class']==1].shape"
   ]
  },
  {
   "cell_type": "markdown",
   "metadata": {},
   "source": [
    "#### Save to Files"
   ]
  },
  {
   "cell_type": "code",
   "execution_count": 12,
   "metadata": {},
   "outputs": [],
   "source": [
    "women_X_train.to_csv(\"../../Data/women_menopause/X_train_total.csv\")\n",
    "women_y_train.to_csv(\"../../Data/women_menopause/y_train_total.csv\")\n",
    "\n",
    "women_X_test.to_csv(\"../../Data/women_menopause/X_test.csv\")\n",
    "women_y_test.to_csv(\"../../Data/women_menopause/y_test.csv\")\n",
    "\n",
    "women_X_val.to_csv(\"../../Data/women_menopause/X_val.csv\")\n",
    "women_y_val.to_csv(\"../../Data/women_menopause/y_val.csv\")"
   ]
  },
  {
   "cell_type": "markdown",
   "metadata": {},
   "source": [
    "### 2.2 Other patients"
   ]
  },
  {
   "cell_type": "code",
   "execution_count": 13,
   "metadata": {},
   "outputs": [],
   "source": [
    "other_patients = patients[patients['menopause']<1]"
   ]
  },
  {
   "cell_type": "code",
   "execution_count": 14,
   "metadata": {},
   "outputs": [
    {
     "name": "stderr",
     "output_type": "stream",
     "text": [
      "/Users/erennio/.local/lib/python3.6/site-packages/pandas/core/frame.py:3694: SettingWithCopyWarning: \n",
      "A value is trying to be set on a copy of a slice from a DataFrame\n",
      "\n",
      "See the caveats in the documentation: http://pandas.pydata.org/pandas-docs/stable/indexing.html#indexing-view-versus-copy\n",
      "  errors=errors)\n"
     ]
    }
   ],
   "source": [
    "other_patients.drop(columns=['menopause','HRT'], axis=1, inplace=True)"
   ]
  },
  {
   "cell_type": "code",
   "execution_count": 15,
   "metadata": {},
   "outputs": [
    {
     "data": {
      "text/html": [
       "<div>\n",
       "<style scoped>\n",
       "    .dataframe tbody tr th:only-of-type {\n",
       "        vertical-align: middle;\n",
       "    }\n",
       "\n",
       "    .dataframe tbody tr th {\n",
       "        vertical-align: top;\n",
       "    }\n",
       "\n",
       "    .dataframe thead th {\n",
       "        text-align: right;\n",
       "    }\n",
       "</style>\n",
       "<table border=\"1\" class=\"dataframe\">\n",
       "  <thead>\n",
       "    <tr style=\"text-align: right;\">\n",
       "      <th></th>\n",
       "      <th>sex</th>\n",
       "      <th>age</th>\n",
       "      <th>weight</th>\n",
       "      <th>height</th>\n",
       "      <th>HIPX</th>\n",
       "      <th>smoking</th>\n",
       "      <th>ReumatoidArthritis</th>\n",
       "      <th>SecondaryOsteoporsis</th>\n",
       "      <th>Alcohol</th>\n",
       "      <th>VitaminD</th>\n",
       "      <th>calcium</th>\n",
       "      <th>dose_walk</th>\n",
       "      <th>dose_moderate</th>\n",
       "      <th>dose_vigorous</th>\n",
       "      <th>Class</th>\n",
       "    </tr>\n",
       "  </thead>\n",
       "  <tbody>\n",
       "    <tr>\n",
       "      <th>0</th>\n",
       "      <td>-1.029482</td>\n",
       "      <td>-1.957990</td>\n",
       "      <td>-0.197364</td>\n",
       "      <td>-2.200243</td>\n",
       "      <td>-0.037838</td>\n",
       "      <td>0.760768</td>\n",
       "      <td>-0.08895</td>\n",
       "      <td>-0.134216</td>\n",
       "      <td>-0.788571</td>\n",
       "      <td>-0.743995</td>\n",
       "      <td>1.496880</td>\n",
       "      <td>-0.726827</td>\n",
       "      <td>-0.611945</td>\n",
       "      <td>-0.168681</td>\n",
       "      <td>0</td>\n",
       "    </tr>\n",
       "    <tr>\n",
       "      <th>1</th>\n",
       "      <td>0.971362</td>\n",
       "      <td>1.145866</td>\n",
       "      <td>0.382817</td>\n",
       "      <td>0.302016</td>\n",
       "      <td>-0.037838</td>\n",
       "      <td>0.760768</td>\n",
       "      <td>-0.08895</td>\n",
       "      <td>-0.134216</td>\n",
       "      <td>1.643058</td>\n",
       "      <td>0.971448</td>\n",
       "      <td>-0.784237</td>\n",
       "      <td>-0.058927</td>\n",
       "      <td>-0.425170</td>\n",
       "      <td>-0.538945</td>\n",
       "      <td>0</td>\n",
       "    </tr>\n",
       "    <tr>\n",
       "      <th>5</th>\n",
       "      <td>-1.029482</td>\n",
       "      <td>-1.088910</td>\n",
       "      <td>-2.039916</td>\n",
       "      <td>-1.166701</td>\n",
       "      <td>-0.037838</td>\n",
       "      <td>2.330176</td>\n",
       "      <td>-0.08895</td>\n",
       "      <td>-0.134216</td>\n",
       "      <td>-0.788571</td>\n",
       "      <td>-0.986985</td>\n",
       "      <td>-0.803449</td>\n",
       "      <td>0.208233</td>\n",
       "      <td>-0.462525</td>\n",
       "      <td>-0.353813</td>\n",
       "      <td>0</td>\n",
       "    </tr>\n",
       "    <tr>\n",
       "      <th>7</th>\n",
       "      <td>0.971362</td>\n",
       "      <td>0.152632</td>\n",
       "      <td>0.236178</td>\n",
       "      <td>-0.568335</td>\n",
       "      <td>-0.037838</td>\n",
       "      <td>-0.808640</td>\n",
       "      <td>-0.08895</td>\n",
       "      <td>-0.134216</td>\n",
       "      <td>-0.788571</td>\n",
       "      <td>-0.631566</td>\n",
       "      <td>-1.084209</td>\n",
       "      <td>-0.103454</td>\n",
       "      <td>-0.462525</td>\n",
       "      <td>-0.538945</td>\n",
       "      <td>1</td>\n",
       "    </tr>\n",
       "    <tr>\n",
       "      <th>8</th>\n",
       "      <td>0.971362</td>\n",
       "      <td>-1.957990</td>\n",
       "      <td>-0.414135</td>\n",
       "      <td>0.737192</td>\n",
       "      <td>-0.037838</td>\n",
       "      <td>-0.808640</td>\n",
       "      <td>-0.08895</td>\n",
       "      <td>-0.134216</td>\n",
       "      <td>-0.788571</td>\n",
       "      <td>-0.747621</td>\n",
       "      <td>0.599870</td>\n",
       "      <td>-0.715696</td>\n",
       "      <td>-0.512332</td>\n",
       "      <td>-0.292102</td>\n",
       "      <td>0</td>\n",
       "    </tr>\n",
       "  </tbody>\n",
       "</table>\n",
       "</div>"
      ],
      "text/plain": [
       "        sex       age    weight    height      HIPX   smoking  \\\n",
       "0 -1.029482 -1.957990 -0.197364 -2.200243 -0.037838  0.760768   \n",
       "1  0.971362  1.145866  0.382817  0.302016 -0.037838  0.760768   \n",
       "5 -1.029482 -1.088910 -2.039916 -1.166701 -0.037838  2.330176   \n",
       "7  0.971362  0.152632  0.236178 -0.568335 -0.037838 -0.808640   \n",
       "8  0.971362 -1.957990 -0.414135  0.737192 -0.037838 -0.808640   \n",
       "\n",
       "   ReumatoidArthritis  SecondaryOsteoporsis   Alcohol  VitaminD   calcium  \\\n",
       "0            -0.08895             -0.134216 -0.788571 -0.743995  1.496880   \n",
       "1            -0.08895             -0.134216  1.643058  0.971448 -0.784237   \n",
       "5            -0.08895             -0.134216 -0.788571 -0.986985 -0.803449   \n",
       "7            -0.08895             -0.134216 -0.788571 -0.631566 -1.084209   \n",
       "8            -0.08895             -0.134216 -0.788571 -0.747621  0.599870   \n",
       "\n",
       "   dose_walk  dose_moderate  dose_vigorous  Class  \n",
       "0  -0.726827      -0.611945      -0.168681      0  \n",
       "1  -0.058927      -0.425170      -0.538945      0  \n",
       "5   0.208233      -0.462525      -0.353813      0  \n",
       "7  -0.103454      -0.462525      -0.538945      1  \n",
       "8  -0.715696      -0.512332      -0.292102      0  "
      ]
     },
     "execution_count": 15,
     "metadata": {},
     "output_type": "execute_result"
    }
   ],
   "source": [
    "other_patients.head()"
   ]
  },
  {
   "cell_type": "markdown",
   "metadata": {},
   "source": [
    "#### Create the X and y"
   ]
  },
  {
   "cell_type": "code",
   "execution_count": 16,
   "metadata": {},
   "outputs": [
    {
     "name": "stdout",
     "output_type": "stream",
     "text": [
      "(103669, 15)\n",
      "(103669, 1)\n"
     ]
    }
   ],
   "source": [
    "other_patients_X = other_patients.copy()\n",
    "other_patients_X.drop(\"Class\", axis=1, inplace=True)\n",
    "print(other_patients.shape)\n",
    "\n",
    "other_patients_y = other_patients[['Class']].copy()\n",
    "print(other_patients_y.shape)"
   ]
  },
  {
   "cell_type": "markdown",
   "metadata": {},
   "source": [
    "#### Split the data into Train, Test and Validation"
   ]
  },
  {
   "cell_type": "markdown",
   "metadata": {},
   "source": [
    "The ratio in the splitting, in percentage, is 60/20/20"
   ]
  },
  {
   "cell_type": "code",
   "execution_count": 17,
   "metadata": {},
   "outputs": [],
   "source": [
    "other_patients_X_train_and_val, other_patients_X_test, other_patients_y_train_and_val, other_patients_y_test = train_test_split(other_patients_X, other_patients_y, test_size=0.2, random_state=42)\n",
    "other_patients_X_train, other_patients_X_val, other_patients_y_train, other_patients_y_val = train_test_split(other_patients_X_train_and_val, other_patients_y_train_and_val, test_size=0.25, random_state=42)"
   ]
  },
  {
   "cell_type": "code",
   "execution_count": 18,
   "metadata": {
    "scrolled": false
   },
   "outputs": [
    {
     "data": {
      "text/plain": [
       "(22, 1)"
      ]
     },
     "execution_count": 18,
     "metadata": {},
     "output_type": "execute_result"
    }
   ],
   "source": [
    "other_patients_y_val[other_patients_y_val['Class']==1].shape"
   ]
  },
  {
   "cell_type": "code",
   "execution_count": 19,
   "metadata": {},
   "outputs": [
    {
     "data": {
      "text/plain": [
       "(100, 1)"
      ]
     },
     "execution_count": 19,
     "metadata": {},
     "output_type": "execute_result"
    }
   ],
   "source": [
    "other_patients_y_train[other_patients_y_train['Class']==1].shape"
   ]
  },
  {
   "cell_type": "code",
   "execution_count": 20,
   "metadata": {},
   "outputs": [
    {
     "data": {
      "text/plain": [
       "(28, 1)"
      ]
     },
     "execution_count": 20,
     "metadata": {},
     "output_type": "execute_result"
    }
   ],
   "source": [
    "other_patients_y_test[other_patients_y_test['Class']==1].shape"
   ]
  },
  {
   "cell_type": "markdown",
   "metadata": {},
   "source": [
    "#### Save to Files"
   ]
  },
  {
   "cell_type": "code",
   "execution_count": 21,
   "metadata": {},
   "outputs": [],
   "source": [
    "patients.to_csv(\"../../Data/standardized_patients.csv\")\n",
    "\n",
    "other_patients_X_train.to_csv(\"../../Data/other_patients/X_train_total.csv\")\n",
    "other_patients_y_train.to_csv(\"../../Data/other_patients/y_train_total.csv\")\n",
    "\n",
    "other_patients_X_test.to_csv(\"../../Data/other_patients/X_test.csv\")\n",
    "other_patients_y_test.to_csv(\"../../Data/other_patients/y_test.csv\")\n",
    "\n",
    "other_patients_X_val.to_csv(\"../../Data/other_patients/X_val.csv\")\n",
    "other_patients_y_val.to_csv(\"../../Data/other_patients/y_val.csv\")"
   ]
  },
  {
   "cell_type": "code",
   "execution_count": null,
   "metadata": {},
   "outputs": [],
   "source": []
  }
 ],
 "metadata": {
  "kernelspec": {
   "display_name": "Python 3",
   "language": "python",
   "name": "python3"
  },
  "language_info": {
   "codemirror_mode": {
    "name": "ipython",
    "version": 3
   },
   "file_extension": ".py",
   "mimetype": "text/x-python",
   "name": "python",
   "nbconvert_exporter": "python",
   "pygments_lexer": "ipython3",
   "version": "3.6.5"
  }
 },
 "nbformat": 4,
 "nbformat_minor": 2
}
