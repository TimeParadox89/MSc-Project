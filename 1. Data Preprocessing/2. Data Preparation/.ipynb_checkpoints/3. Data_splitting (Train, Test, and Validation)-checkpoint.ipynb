{
 "cells": [
  {
   "cell_type": "markdown",
   "metadata": {},
   "source": [
    "# Dataset cleansing"
   ]
  },
  {
   "cell_type": "code",
   "execution_count": 22,
   "metadata": {},
   "outputs": [],
   "source": [
    "import pandas as pd\n",
    "import numpy as np\n",
    "from sklearn.model_selection import train_test_split"
   ]
  },
  {
   "cell_type": "markdown",
   "metadata": {},
   "source": [
    "## 1. Load the (standardized) Data"
   ]
  },
  {
   "cell_type": "code",
   "execution_count": 23,
   "metadata": {
    "scrolled": false
   },
   "outputs": [
    {
     "data": {
      "text/html": [
       "<div>\n",
       "<style scoped>\n",
       "    .dataframe tbody tr th:only-of-type {\n",
       "        vertical-align: middle;\n",
       "    }\n",
       "\n",
       "    .dataframe tbody tr th {\n",
       "        vertical-align: top;\n",
       "    }\n",
       "\n",
       "    .dataframe thead th {\n",
       "        text-align: right;\n",
       "    }\n",
       "</style>\n",
       "<table border=\"1\" class=\"dataframe\">\n",
       "  <thead>\n",
       "    <tr style=\"text-align: right;\">\n",
       "      <th></th>\n",
       "      <th>sex</th>\n",
       "      <th>age</th>\n",
       "      <th>weight</th>\n",
       "      <th>height</th>\n",
       "      <th>HIPX</th>\n",
       "      <th>menopause</th>\n",
       "      <th>HRT</th>\n",
       "      <th>smoking</th>\n",
       "      <th>ReumatoidArthritis</th>\n",
       "      <th>SecondaryOsteoporsis</th>\n",
       "      <th>Alcohol</th>\n",
       "      <th>VitaminD</th>\n",
       "      <th>calcium</th>\n",
       "      <th>dose_walk</th>\n",
       "      <th>dose_moderate</th>\n",
       "      <th>dose_vigorous</th>\n",
       "      <th>Class</th>\n",
       "    </tr>\n",
       "  </thead>\n",
       "  <tbody>\n",
       "    <tr>\n",
       "      <th>0</th>\n",
       "      <td>0.971362</td>\n",
       "      <td>0.276786</td>\n",
       "      <td>-0.012471</td>\n",
       "      <td>-0.785922</td>\n",
       "      <td>-0.037838</td>\n",
       "      <td>-0.695973</td>\n",
       "      <td>-0.423252</td>\n",
       "      <td>-0.80864</td>\n",
       "      <td>-0.08895</td>\n",
       "      <td>-0.134216</td>\n",
       "      <td>1.891623</td>\n",
       "      <td>-0.816529</td>\n",
       "      <td>-0.176960</td>\n",
       "      <td>-0.326087</td>\n",
       "      <td>2.376457</td>\n",
       "      <td>-0.538945</td>\n",
       "      <td>0</td>\n",
       "    </tr>\n",
       "    <tr>\n",
       "      <th>1</th>\n",
       "      <td>-1.029482</td>\n",
       "      <td>-0.219831</td>\n",
       "      <td>0.210675</td>\n",
       "      <td>-1.112304</td>\n",
       "      <td>-0.037838</td>\n",
       "      <td>1.436838</td>\n",
       "      <td>-0.423252</td>\n",
       "      <td>-0.80864</td>\n",
       "      <td>-0.08895</td>\n",
       "      <td>-0.134216</td>\n",
       "      <td>-0.091858</td>\n",
       "      <td>-0.812902</td>\n",
       "      <td>-1.312412</td>\n",
       "      <td>0.208233</td>\n",
       "      <td>-0.088975</td>\n",
       "      <td>-0.353813</td>\n",
       "      <td>0</td>\n",
       "    </tr>\n",
       "    <tr>\n",
       "      <th>2</th>\n",
       "      <td>-1.029482</td>\n",
       "      <td>0.400940</td>\n",
       "      <td>-0.796672</td>\n",
       "      <td>-0.350747</td>\n",
       "      <td>-0.037838</td>\n",
       "      <td>1.436838</td>\n",
       "      <td>2.362657</td>\n",
       "      <td>-0.80864</td>\n",
       "      <td>-0.08895</td>\n",
       "      <td>-0.134216</td>\n",
       "      <td>-0.788571</td>\n",
       "      <td>0.757471</td>\n",
       "      <td>-0.696793</td>\n",
       "      <td>-0.125717</td>\n",
       "      <td>-0.462525</td>\n",
       "      <td>-0.477234</td>\n",
       "      <td>0</td>\n",
       "    </tr>\n",
       "    <tr>\n",
       "      <th>3</th>\n",
       "      <td>0.971362</td>\n",
       "      <td>0.400940</td>\n",
       "      <td>0.210675</td>\n",
       "      <td>-0.024365</td>\n",
       "      <td>-0.037838</td>\n",
       "      <td>-0.695973</td>\n",
       "      <td>-0.423252</td>\n",
       "      <td>-0.80864</td>\n",
       "      <td>-0.08895</td>\n",
       "      <td>-0.134216</td>\n",
       "      <td>1.302484</td>\n",
       "      <td>-0.580792</td>\n",
       "      <td>-1.217106</td>\n",
       "      <td>-0.058927</td>\n",
       "      <td>0.284575</td>\n",
       "      <td>-0.538945</td>\n",
       "      <td>0</td>\n",
       "    </tr>\n",
       "    <tr>\n",
       "      <th>4</th>\n",
       "      <td>0.971362</td>\n",
       "      <td>-0.592293</td>\n",
       "      <td>-0.165486</td>\n",
       "      <td>-0.133159</td>\n",
       "      <td>-0.037838</td>\n",
       "      <td>-0.695973</td>\n",
       "      <td>-0.423252</td>\n",
       "      <td>-0.80864</td>\n",
       "      <td>-0.08895</td>\n",
       "      <td>-0.134216</td>\n",
       "      <td>-0.465849</td>\n",
       "      <td>-0.022276</td>\n",
       "      <td>-0.878177</td>\n",
       "      <td>0.675763</td>\n",
       "      <td>-0.088975</td>\n",
       "      <td>-0.292102</td>\n",
       "      <td>0</td>\n",
       "    </tr>\n",
       "  </tbody>\n",
       "</table>\n",
       "</div>"
      ],
      "text/plain": [
       "        sex       age    weight    height      HIPX  menopause       HRT  \\\n",
       "0  0.971362  0.276786 -0.012471 -0.785922 -0.037838  -0.695973 -0.423252   \n",
       "1 -1.029482 -0.219831  0.210675 -1.112304 -0.037838   1.436838 -0.423252   \n",
       "2 -1.029482  0.400940 -0.796672 -0.350747 -0.037838   1.436838  2.362657   \n",
       "3  0.971362  0.400940  0.210675 -0.024365 -0.037838  -0.695973 -0.423252   \n",
       "4  0.971362 -0.592293 -0.165486 -0.133159 -0.037838  -0.695973 -0.423252   \n",
       "\n",
       "   smoking  ReumatoidArthritis  SecondaryOsteoporsis   Alcohol  VitaminD  \\\n",
       "0 -0.80864            -0.08895             -0.134216  1.891623 -0.816529   \n",
       "1 -0.80864            -0.08895             -0.134216 -0.091858 -0.812902   \n",
       "2 -0.80864            -0.08895             -0.134216 -0.788571  0.757471   \n",
       "3 -0.80864            -0.08895             -0.134216  1.302484 -0.580792   \n",
       "4 -0.80864            -0.08895             -0.134216 -0.465849 -0.022276   \n",
       "\n",
       "    calcium  dose_walk  dose_moderate  dose_vigorous  Class  \n",
       "0 -0.176960  -0.326087       2.376457      -0.538945      0  \n",
       "1 -1.312412   0.208233      -0.088975      -0.353813      0  \n",
       "2 -0.696793  -0.125717      -0.462525      -0.477234      0  \n",
       "3 -1.217106  -0.058927       0.284575      -0.538945      0  \n",
       "4 -0.878177   0.675763      -0.088975      -0.292102      0  "
      ]
     },
     "execution_count": 23,
     "metadata": {},
     "output_type": "execute_result"
    }
   ],
   "source": [
    "patients = pd.read_csv(\"../Data/standardized_patients.csv\",index_col=0, header=0)\n",
    "patients.dropna(inplace=True)\n",
    "patients.head()"
   ]
  },
  {
   "cell_type": "code",
   "execution_count": 24,
   "metadata": {},
   "outputs": [],
   "source": [
    "patients = patients.sample(frac=1).reset_index(drop=True)"
   ]
  },
  {
   "cell_type": "markdown",
   "metadata": {},
   "source": [
    "## 2. Create the X and y"
   ]
  },
  {
   "cell_type": "code",
   "execution_count": 25,
   "metadata": {},
   "outputs": [
    {
     "name": "stdout",
     "output_type": "stream",
     "text": [
      "(153884, 16)\n",
      "(153884, 1)\n"
     ]
    }
   ],
   "source": [
    "X = patients.copy()\n",
    "X.drop(\"Class\", axis=1, inplace=True)\n",
    "print(X.shape)\n",
    "\n",
    "y = patients[['Class']].copy()\n",
    "print(y.shape)"
   ]
  },
  {
   "cell_type": "markdown",
   "metadata": {},
   "source": [
    "## 3. Split the data into Train, Test and Validation"
   ]
  },
  {
   "cell_type": "markdown",
   "metadata": {},
   "source": [
    "The ratio in the splitting, in percentage, is 60/20/20"
   ]
  },
  {
   "cell_type": "code",
   "execution_count": 26,
   "metadata": {},
   "outputs": [],
   "source": [
    "X_train_and_val, X_test, y_train_and_val, y_test = train_test_split(X, y, test_size=0.2, random_state=42)\n",
    "X_train, X_val, y_train, y_val = train_test_split(X_train_and_val, y_train_and_val, test_size=0.25, random_state=42)"
   ]
  },
  {
   "cell_type": "code",
   "execution_count": 27,
   "metadata": {
    "scrolled": false
   },
   "outputs": [
    {
     "data": {
      "text/plain": [
       "(53, 1)"
      ]
     },
     "execution_count": 27,
     "metadata": {},
     "output_type": "execute_result"
    }
   ],
   "source": [
    "y_val[y_val['Class']==1].shape"
   ]
  },
  {
   "cell_type": "code",
   "execution_count": 28,
   "metadata": {},
   "outputs": [
    {
     "data": {
      "text/plain": [
       "(172, 1)"
      ]
     },
     "execution_count": 28,
     "metadata": {},
     "output_type": "execute_result"
    }
   ],
   "source": [
    "y_train[y_train['Class']==1].shape"
   ]
  },
  {
   "cell_type": "code",
   "execution_count": 29,
   "metadata": {},
   "outputs": [
    {
     "data": {
      "text/plain": [
       "(53, 1)"
      ]
     },
     "execution_count": 29,
     "metadata": {},
     "output_type": "execute_result"
    }
   ],
   "source": [
    "y_test[y_test['Class']==1].shape"
   ]
  },
  {
   "cell_type": "markdown",
   "metadata": {},
   "source": [
    "## 4. Save to Files"
   ]
  },
  {
   "cell_type": "code",
   "execution_count": 30,
   "metadata": {},
   "outputs": [],
   "source": [
    "patients.to_csv(\"../Data/standardized_patients.csv\")\n",
    "\n",
    "X_train.to_csv(\"../Data/X_train_total.csv\")\n",
    "y_train.to_csv(\"../Data/y_train_total.csv\")\n",
    "\n",
    "X_test.to_csv(\"../Data/X_test.csv\")\n",
    "y_test.to_csv(\"../Data/y_test.csv\")\n",
    "\n",
    "X_val.to_csv(\"../Data/X_val.csv\")\n",
    "y_val.to_csv(\"../Data/y_val.csv\")"
   ]
  },
  {
   "cell_type": "code",
   "execution_count": null,
   "metadata": {},
   "outputs": [],
   "source": []
  }
 ],
 "metadata": {
  "kernelspec": {
   "display_name": "Python 3",
   "language": "python",
   "name": "python3"
  },
  "language_info": {
   "codemirror_mode": {
    "name": "ipython",
    "version": 3
   },
   "file_extension": ".py",
   "mimetype": "text/x-python",
   "name": "python",
   "nbconvert_exporter": "python",
   "pygments_lexer": "ipython3",
   "version": "3.6.5"
  }
 },
 "nbformat": 4,
 "nbformat_minor": 2
}
