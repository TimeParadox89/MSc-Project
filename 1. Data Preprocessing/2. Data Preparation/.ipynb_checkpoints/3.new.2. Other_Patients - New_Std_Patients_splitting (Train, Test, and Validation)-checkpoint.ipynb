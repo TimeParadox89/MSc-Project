{
 "cells": [
  {
   "cell_type": "markdown",
   "metadata": {},
   "source": [
    "# Dataset cleansing"
   ]
  },
  {
   "cell_type": "code",
   "execution_count": 1,
   "metadata": {},
   "outputs": [],
   "source": [
    "import pandas as pd\n",
    "import numpy as np\n",
    "from sklearn.model_selection import train_test_split"
   ]
  },
  {
   "cell_type": "markdown",
   "metadata": {},
   "source": [
    "## 1. Load the (standardized) Data"
   ]
  },
  {
   "cell_type": "code",
   "execution_count": 2,
   "metadata": {
    "scrolled": false
   },
   "outputs": [
    {
     "data": {
      "text/html": [
       "<div>\n",
       "<style scoped>\n",
       "    .dataframe tbody tr th:only-of-type {\n",
       "        vertical-align: middle;\n",
       "    }\n",
       "\n",
       "    .dataframe tbody tr th {\n",
       "        vertical-align: top;\n",
       "    }\n",
       "\n",
       "    .dataframe thead th {\n",
       "        text-align: right;\n",
       "    }\n",
       "</style>\n",
       "<table border=\"1\" class=\"dataframe\">\n",
       "  <thead>\n",
       "    <tr style=\"text-align: right;\">\n",
       "      <th></th>\n",
       "      <th>sex</th>\n",
       "      <th>age</th>\n",
       "      <th>weight</th>\n",
       "      <th>height</th>\n",
       "      <th>HIPX</th>\n",
       "      <th>smoking</th>\n",
       "      <th>ReumatoidArthritis</th>\n",
       "      <th>SecondaryOsteoporsis</th>\n",
       "      <th>Alcohol</th>\n",
       "      <th>VitaminD</th>\n",
       "      <th>calcium</th>\n",
       "      <th>dose_walk</th>\n",
       "      <th>dose_moderate</th>\n",
       "      <th>dose_vigorous</th>\n",
       "      <th>Class</th>\n",
       "    </tr>\n",
       "  </thead>\n",
       "  <tbody>\n",
       "    <tr>\n",
       "      <th>0</th>\n",
       "      <td>-1.029482</td>\n",
       "      <td>-1.957990</td>\n",
       "      <td>-0.197364</td>\n",
       "      <td>-2.200243</td>\n",
       "      <td>-0.037838</td>\n",
       "      <td>0.760768</td>\n",
       "      <td>-0.08895</td>\n",
       "      <td>-0.134216</td>\n",
       "      <td>-0.788571</td>\n",
       "      <td>-0.743995</td>\n",
       "      <td>1.496880</td>\n",
       "      <td>-0.726827</td>\n",
       "      <td>-0.611945</td>\n",
       "      <td>-0.168681</td>\n",
       "      <td>0</td>\n",
       "    </tr>\n",
       "    <tr>\n",
       "      <th>1</th>\n",
       "      <td>0.971362</td>\n",
       "      <td>1.145866</td>\n",
       "      <td>0.382817</td>\n",
       "      <td>0.302016</td>\n",
       "      <td>-0.037838</td>\n",
       "      <td>0.760768</td>\n",
       "      <td>-0.08895</td>\n",
       "      <td>-0.134216</td>\n",
       "      <td>1.643058</td>\n",
       "      <td>0.971448</td>\n",
       "      <td>-0.784237</td>\n",
       "      <td>-0.058927</td>\n",
       "      <td>-0.425170</td>\n",
       "      <td>-0.538945</td>\n",
       "      <td>0</td>\n",
       "    </tr>\n",
       "    <tr>\n",
       "      <th>5</th>\n",
       "      <td>-1.029482</td>\n",
       "      <td>-1.088910</td>\n",
       "      <td>-2.039916</td>\n",
       "      <td>-1.166701</td>\n",
       "      <td>-0.037838</td>\n",
       "      <td>2.330176</td>\n",
       "      <td>-0.08895</td>\n",
       "      <td>-0.134216</td>\n",
       "      <td>-0.788571</td>\n",
       "      <td>-0.986985</td>\n",
       "      <td>-0.803449</td>\n",
       "      <td>0.208233</td>\n",
       "      <td>-0.462525</td>\n",
       "      <td>-0.353813</td>\n",
       "      <td>0</td>\n",
       "    </tr>\n",
       "    <tr>\n",
       "      <th>7</th>\n",
       "      <td>0.971362</td>\n",
       "      <td>0.152632</td>\n",
       "      <td>0.236178</td>\n",
       "      <td>-0.568335</td>\n",
       "      <td>-0.037838</td>\n",
       "      <td>-0.808640</td>\n",
       "      <td>-0.08895</td>\n",
       "      <td>-0.134216</td>\n",
       "      <td>-0.788571</td>\n",
       "      <td>-0.631566</td>\n",
       "      <td>-1.084209</td>\n",
       "      <td>-0.103454</td>\n",
       "      <td>-0.462525</td>\n",
       "      <td>-0.538945</td>\n",
       "      <td>1</td>\n",
       "    </tr>\n",
       "    <tr>\n",
       "      <th>8</th>\n",
       "      <td>0.971362</td>\n",
       "      <td>-1.957990</td>\n",
       "      <td>-0.414135</td>\n",
       "      <td>0.737192</td>\n",
       "      <td>-0.037838</td>\n",
       "      <td>-0.808640</td>\n",
       "      <td>-0.08895</td>\n",
       "      <td>-0.134216</td>\n",
       "      <td>-0.788571</td>\n",
       "      <td>-0.747621</td>\n",
       "      <td>0.599870</td>\n",
       "      <td>-0.715696</td>\n",
       "      <td>-0.512332</td>\n",
       "      <td>-0.292102</td>\n",
       "      <td>0</td>\n",
       "    </tr>\n",
       "  </tbody>\n",
       "</table>\n",
       "</div>"
      ],
      "text/plain": [
       "        sex       age    weight    height      HIPX   smoking  \\\n",
       "0 -1.029482 -1.957990 -0.197364 -2.200243 -0.037838  0.760768   \n",
       "1  0.971362  1.145866  0.382817  0.302016 -0.037838  0.760768   \n",
       "5 -1.029482 -1.088910 -2.039916 -1.166701 -0.037838  2.330176   \n",
       "7  0.971362  0.152632  0.236178 -0.568335 -0.037838 -0.808640   \n",
       "8  0.971362 -1.957990 -0.414135  0.737192 -0.037838 -0.808640   \n",
       "\n",
       "   ReumatoidArthritis  SecondaryOsteoporsis   Alcohol  VitaminD   calcium  \\\n",
       "0            -0.08895             -0.134216 -0.788571 -0.743995  1.496880   \n",
       "1            -0.08895             -0.134216  1.643058  0.971448 -0.784237   \n",
       "5            -0.08895             -0.134216 -0.788571 -0.986985 -0.803449   \n",
       "7            -0.08895             -0.134216 -0.788571 -0.631566 -1.084209   \n",
       "8            -0.08895             -0.134216 -0.788571 -0.747621  0.599870   \n",
       "\n",
       "   dose_walk  dose_moderate  dose_vigorous  Class  \n",
       "0  -0.726827      -0.611945      -0.168681      0  \n",
       "1  -0.058927      -0.425170      -0.538945      0  \n",
       "5   0.208233      -0.462525      -0.353813      0  \n",
       "7  -0.103454      -0.462525      -0.538945      1  \n",
       "8  -0.715696      -0.512332      -0.292102      0  "
      ]
     },
     "execution_count": 2,
     "metadata": {},
     "output_type": "execute_result"
    }
   ],
   "source": [
    "patients = pd.read_csv(\"../../Data/other_patients/new_std_patients.csv\",index_col=0, header=0)\n",
    "patients.dropna(inplace=True)\n",
    "patients.head()"
   ]
  },
  {
   "cell_type": "code",
   "execution_count": 3,
   "metadata": {},
   "outputs": [],
   "source": [
    "patients = patients.sample(frac=1).reset_index(drop=True)"
   ]
  },
  {
   "cell_type": "markdown",
   "metadata": {},
   "source": [
    "## 2. Create the X and y"
   ]
  },
  {
   "cell_type": "code",
   "execution_count": 4,
   "metadata": {},
   "outputs": [
    {
     "name": "stdout",
     "output_type": "stream",
     "text": [
      "(103669, 14)\n",
      "(103669, 1)\n"
     ]
    }
   ],
   "source": [
    "X = patients.copy()\n",
    "X.drop(\"Class\", axis=1, inplace=True)\n",
    "print(X.shape)\n",
    "\n",
    "y = patients[['Class']].copy()\n",
    "print(y.shape)"
   ]
  },
  {
   "cell_type": "markdown",
   "metadata": {},
   "source": [
    "## 3. Split the data into Train, Test and Validation"
   ]
  },
  {
   "cell_type": "markdown",
   "metadata": {},
   "source": [
    "The ratio in the splitting, in percentage, is 60/20/20"
   ]
  },
  {
   "cell_type": "code",
   "execution_count": 5,
   "metadata": {},
   "outputs": [],
   "source": [
    "X_train_and_val, X_test, y_train_and_val, y_test = train_test_split(X, y, test_size=0.2, random_state=42)\n",
    "X_train, X_val, y_train, y_val = train_test_split(X_train_and_val, y_train_and_val, test_size=0.25, random_state=42)"
   ]
  },
  {
   "cell_type": "code",
   "execution_count": 6,
   "metadata": {
    "scrolled": false
   },
   "outputs": [
    {
     "data": {
      "text/plain": [
       "(1937, 1)"
      ]
     },
     "execution_count": 6,
     "metadata": {},
     "output_type": "execute_result"
    }
   ],
   "source": [
    "y_val[y_val['Class']==1].shape"
   ]
  },
  {
   "cell_type": "code",
   "execution_count": 7,
   "metadata": {},
   "outputs": [
    {
     "data": {
      "text/plain": [
       "(5776, 1)"
      ]
     },
     "execution_count": 7,
     "metadata": {},
     "output_type": "execute_result"
    }
   ],
   "source": [
    "y_train[y_train['Class']==1].shape"
   ]
  },
  {
   "cell_type": "code",
   "execution_count": 8,
   "metadata": {},
   "outputs": [
    {
     "data": {
      "text/plain": [
       "(1880, 1)"
      ]
     },
     "execution_count": 8,
     "metadata": {},
     "output_type": "execute_result"
    }
   ],
   "source": [
    "y_test[y_test['Class']==1].shape"
   ]
  },
  {
   "cell_type": "markdown",
   "metadata": {},
   "source": [
    "## 4. Save to Files"
   ]
  },
  {
   "cell_type": "code",
   "execution_count": 9,
   "metadata": {},
   "outputs": [],
   "source": [
    "ratio = \"1\""
   ]
  },
  {
   "cell_type": "code",
   "execution_count": 10,
   "metadata": {},
   "outputs": [],
   "source": [
    "patients.to_csv(\"../../Data/other_patients/ratio\"+ratio+\"/new_std_patients.csv\")\n",
    "\n",
    "X_train.to_csv(\"../../Data/other_patients/ratio\"+ratio+\"/X_train_total.csv\")\n",
    "y_train.to_csv(\"../../Data/other_patients/ratio\"+ratio+\"/y_train_total.csv\")\n",
    "\n",
    "X_test.to_csv(\"../../Data/other_patients/ratio\"+ratio+\"/X_test.csv\")\n",
    "y_test.to_csv(\"../../Data/other_patients/ratio\"+ratio+\"/y_test.csv\")\n",
    "\n",
    "X_val.to_csv(\"../../Data/other_patients/ratio\"+ratio+\"/X_val.csv\")\n",
    "y_val.to_csv(\"../../Data/other_patients/ratio\"+ratio+\"/y_val.csv\")"
   ]
  },
  {
   "cell_type": "code",
   "execution_count": null,
   "metadata": {},
   "outputs": [],
   "source": []
  }
 ],
 "metadata": {
  "kernelspec": {
   "display_name": "Python 3",
   "language": "python",
   "name": "python3"
  },
  "language_info": {
   "codemirror_mode": {
    "name": "ipython",
    "version": 3
   },
   "file_extension": ".py",
   "mimetype": "text/x-python",
   "name": "python",
   "nbconvert_exporter": "python",
   "pygments_lexer": "ipython3",
   "version": "3.6.5"
  }
 },
 "nbformat": 4,
 "nbformat_minor": 2
}
