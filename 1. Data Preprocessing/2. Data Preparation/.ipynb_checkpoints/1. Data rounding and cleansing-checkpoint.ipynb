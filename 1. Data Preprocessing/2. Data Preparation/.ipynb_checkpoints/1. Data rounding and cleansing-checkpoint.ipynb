{
 "cells": [
  {
   "cell_type": "markdown",
   "metadata": {},
   "source": [
    "# Data Rounding and Cleansing"
   ]
  },
  {
   "cell_type": "code",
   "execution_count": 1,
   "metadata": {},
   "outputs": [],
   "source": [
    "import pandas as pd\n",
    "import numpy as np"
   ]
  },
  {
   "cell_type": "markdown",
   "metadata": {},
   "source": [
    "## 1. Load the sampled data"
   ]
  },
  {
   "cell_type": "code",
   "execution_count": 3,
   "metadata": {},
   "outputs": [
    {
     "data": {
      "text/html": [
       "<div>\n",
       "<style scoped>\n",
       "    .dataframe tbody tr th:only-of-type {\n",
       "        vertical-align: middle;\n",
       "    }\n",
       "\n",
       "    .dataframe tbody tr th {\n",
       "        vertical-align: top;\n",
       "    }\n",
       "\n",
       "    .dataframe thead th {\n",
       "        text-align: right;\n",
       "    }\n",
       "</style>\n",
       "<table border=\"1\" class=\"dataframe\">\n",
       "  <thead>\n",
       "    <tr style=\"text-align: right;\">\n",
       "      <th></th>\n",
       "      <th>sex</th>\n",
       "      <th>age</th>\n",
       "      <th>ethnic</th>\n",
       "      <th>weight</th>\n",
       "      <th>height</th>\n",
       "      <th>BMI</th>\n",
       "      <th>waist</th>\n",
       "      <th>BMI_category</th>\n",
       "      <th>Waist_category</th>\n",
       "      <th>HIPX</th>\n",
       "      <th>...</th>\n",
       "      <th>calcium</th>\n",
       "      <th>dose_walk</th>\n",
       "      <th>dose_moderate</th>\n",
       "      <th>dose_vigorous</th>\n",
       "      <th>dose_pleasure</th>\n",
       "      <th>dose_sport</th>\n",
       "      <th>dose_execise</th>\n",
       "      <th>dose_lightDIY</th>\n",
       "      <th>dose_heavyDIY</th>\n",
       "      <th>Class</th>\n",
       "    </tr>\n",
       "  </thead>\n",
       "  <tbody>\n",
       "    <tr>\n",
       "      <th>0</th>\n",
       "      <td>0</td>\n",
       "      <td>50</td>\n",
       "      <td>4</td>\n",
       "      <td>86.9</td>\n",
       "      <td>161.0</td>\n",
       "      <td>33.524941</td>\n",
       "      <td>88.0</td>\n",
       "      <td>3</td>\n",
       "      <td>8</td>\n",
       "      <td>0</td>\n",
       "      <td>...</td>\n",
       "      <td>384.586667</td>\n",
       "      <td>70</td>\n",
       "      <td>100</td>\n",
       "      <td>240</td>\n",
       "      <td>8</td>\n",
       "      <td>20</td>\n",
       "      <td>20</td>\n",
       "      <td>0</td>\n",
       "      <td>0</td>\n",
       "      <td>0</td>\n",
       "    </tr>\n",
       "    <tr>\n",
       "      <th>1</th>\n",
       "      <td>0</td>\n",
       "      <td>63</td>\n",
       "      <td>1</td>\n",
       "      <td>63.1</td>\n",
       "      <td>152.0</td>\n",
       "      <td>27.311288</td>\n",
       "      <td>86.0</td>\n",
       "      <td>2</td>\n",
       "      <td>7</td>\n",
       "      <td>0</td>\n",
       "      <td>...</td>\n",
       "      <td>1232.642500</td>\n",
       "      <td>360</td>\n",
       "      <td>120</td>\n",
       "      <td>0</td>\n",
       "      <td>8</td>\n",
       "      <td>0</td>\n",
       "      <td>6</td>\n",
       "      <td>0</td>\n",
       "      <td>0</td>\n",
       "      <td>0</td>\n",
       "    </tr>\n",
       "    <tr>\n",
       "      <th>2</th>\n",
       "      <td>0</td>\n",
       "      <td>56</td>\n",
       "      <td>1</td>\n",
       "      <td>54.0</td>\n",
       "      <td>163.0</td>\n",
       "      <td>20.324438</td>\n",
       "      <td>68.0</td>\n",
       "      <td>1</td>\n",
       "      <td>6</td>\n",
       "      <td>0</td>\n",
       "      <td>...</td>\n",
       "      <td>580.740000</td>\n",
       "      <td>210</td>\n",
       "      <td>420</td>\n",
       "      <td>0</td>\n",
       "      <td>1</td>\n",
       "      <td>0</td>\n",
       "      <td>0</td>\n",
       "      <td>8</td>\n",
       "      <td>0</td>\n",
       "      <td>0</td>\n",
       "    </tr>\n",
       "    <tr>\n",
       "      <th>3</th>\n",
       "      <td>0</td>\n",
       "      <td>69</td>\n",
       "      <td>1</td>\n",
       "      <td>61.3</td>\n",
       "      <td>160.0</td>\n",
       "      <td>23.945312</td>\n",
       "      <td>86.0</td>\n",
       "      <td>1</td>\n",
       "      <td>7</td>\n",
       "      <td>0</td>\n",
       "      <td>...</td>\n",
       "      <td>502.640000</td>\n",
       "      <td>120</td>\n",
       "      <td>60</td>\n",
       "      <td>20</td>\n",
       "      <td>8</td>\n",
       "      <td>0</td>\n",
       "      <td>8</td>\n",
       "      <td>0</td>\n",
       "      <td>0</td>\n",
       "      <td>0</td>\n",
       "    </tr>\n",
       "    <tr>\n",
       "      <th>4</th>\n",
       "      <td>0</td>\n",
       "      <td>64</td>\n",
       "      <td>1</td>\n",
       "      <td>86.4</td>\n",
       "      <td>158.0</td>\n",
       "      <td>34.609838</td>\n",
       "      <td>99.0</td>\n",
       "      <td>3</td>\n",
       "      <td>8</td>\n",
       "      <td>0</td>\n",
       "      <td>...</td>\n",
       "      <td>1388.290000</td>\n",
       "      <td>840</td>\n",
       "      <td>1260</td>\n",
       "      <td>180</td>\n",
       "      <td>6</td>\n",
       "      <td>0</td>\n",
       "      <td>0</td>\n",
       "      <td>0</td>\n",
       "      <td>8</td>\n",
       "      <td>0</td>\n",
       "    </tr>\n",
       "  </tbody>\n",
       "</table>\n",
       "<p>5 rows × 28 columns</p>\n",
       "</div>"
      ],
      "text/plain": [
       "   sex  age  ethnic  weight  height        BMI  waist  BMI_category  \\\n",
       "0    0   50       4    86.9   161.0  33.524941   88.0             3   \n",
       "1    0   63       1    63.1   152.0  27.311288   86.0             2   \n",
       "2    0   56       1    54.0   163.0  20.324438   68.0             1   \n",
       "3    0   69       1    61.3   160.0  23.945312   86.0             1   \n",
       "4    0   64       1    86.4   158.0  34.609838   99.0             3   \n",
       "\n",
       "   Waist_category  HIPX  ...        calcium  dose_walk  dose_moderate  \\\n",
       "0               8     0  ...     384.586667         70            100   \n",
       "1               7     0  ...    1232.642500        360            120   \n",
       "2               6     0  ...     580.740000        210            420   \n",
       "3               7     0  ...     502.640000        120             60   \n",
       "4               8     0  ...    1388.290000        840           1260   \n",
       "\n",
       "   dose_vigorous  dose_pleasure  dose_sport  dose_execise  dose_lightDIY  \\\n",
       "0            240              8          20            20              0   \n",
       "1              0              8           0             6              0   \n",
       "2              0              1           0             0              8   \n",
       "3             20              8           0             8              0   \n",
       "4            180              6           0             0              0   \n",
       "\n",
       "   dose_heavyDIY  Class  \n",
       "0              0      0  \n",
       "1              0      0  \n",
       "2              0      0  \n",
       "3              0      0  \n",
       "4              8      0  \n",
       "\n",
       "[5 rows x 28 columns]"
      ]
     },
     "execution_count": 3,
     "metadata": {},
     "output_type": "execute_result"
    }
   ],
   "source": [
    "patients = pd.read_csv('../../Data/complete_dataset_zero_missings.csv', sep=\",\")\n",
    "patients.drop(columns=[\"Unnamed: 0\"], inplace=True)\n",
    "patients.head()"
   ]
  },
  {
   "cell_type": "code",
   "execution_count": 4,
   "metadata": {
    "scrolled": true
   },
   "outputs": [],
   "source": [
    "#patients = pd.read_csv(\"../Data/total_patients_balanced.csv\",index_col=0, header=0)\n",
    "#patients.dropna(inplace=True)\n",
    "#patients.head()"
   ]
  },
  {
   "cell_type": "markdown",
   "metadata": {},
   "source": [
    "## 2. Removing the unnecessary features"
   ]
  },
  {
   "cell_type": "code",
   "execution_count": 5,
   "metadata": {},
   "outputs": [],
   "source": [
    "unnecessary_features = ['ethnic', 'BMI', 'BMI_category', 'Waist_category', 'waist', 'dose_pleasure','dose_sport','dose_execise','dose_lightDIY','dose_heavyDIY','Alcohol24']"
   ]
  },
  {
   "cell_type": "code",
   "execution_count": 6,
   "metadata": {},
   "outputs": [],
   "source": [
    "patients.drop(unnecessary_features, axis=1, inplace=True)"
   ]
  },
  {
   "cell_type": "code",
   "execution_count": 7,
   "metadata": {},
   "outputs": [
    {
     "data": {
      "text/plain": [
       "((153884, 17),\n",
       " array(['sex', 'age', 'weight', 'height', 'HIPX', 'menopause', 'HRT',\n",
       "        'smoking', 'ReumatoidArthritis', 'SecondaryOsteoporsis', 'Alcohol',\n",
       "        'VitaminD', 'calcium', 'dose_walk', 'dose_moderate',\n",
       "        'dose_vigorous', 'Class'], dtype=object))"
      ]
     },
     "execution_count": 7,
     "metadata": {},
     "output_type": "execute_result"
    }
   ],
   "source": [
    "patients.shape, patients.columns.values"
   ]
  },
  {
   "cell_type": "code",
   "execution_count": 8,
   "metadata": {},
   "outputs": [],
   "source": [
    "patients.reset_index(inplace=True)"
   ]
  },
  {
   "cell_type": "code",
   "execution_count": 9,
   "metadata": {},
   "outputs": [
    {
     "data": {
      "text/plain": [
       "array([     0,      1,      2, ..., 153881, 153882, 153883])"
      ]
     },
     "execution_count": 9,
     "metadata": {},
     "output_type": "execute_result"
    }
   ],
   "source": [
    "patients.index.values"
   ]
  },
  {
   "cell_type": "code",
   "execution_count": 10,
   "metadata": {},
   "outputs": [],
   "source": [
    "patients_integer = patients.round(0)[['Class','sex','age','HIPX','menopause', 'HRT','smoking', 'ReumatoidArthritis', 'SecondaryOsteoporsis']] #'ethnic','BMI_category', 'Waist_category',\n",
    "patients_float = patients.round(2)[['weight', 'height', 'Alcohol','VitaminD', 'calcium', 'dose_walk', 'dose_moderate','dose_vigorous']] #'BMI',,'Alcohol24', 'dose_plea'waist',sure', 'dose_sport', 'dose_execise','dose_lightDIY', 'dose_heavyDIY'\n",
    "#patients = pd.concat([patients_integer,patients_float])"
   ]
  },
  {
   "cell_type": "markdown",
   "metadata": {},
   "source": [
    "put the two dataframe together, then reorder the columns as the original dataset, and then check that every value in the original dataframe and the rounded dataframe are equals, to ensure that no data has been changed."
   ]
  },
  {
   "cell_type": "code",
   "execution_count": 11,
   "metadata": {
    "scrolled": true
   },
   "outputs": [],
   "source": [
    "rounded_patients = patients_integer.join(patients_float)"
   ]
  },
  {
   "cell_type": "code",
   "execution_count": 12,
   "metadata": {},
   "outputs": [],
   "source": [
    "patients.drop(['index'], axis=1, inplace=True)"
   ]
  },
  {
   "cell_type": "code",
   "execution_count": 13,
   "metadata": {},
   "outputs": [
    {
     "data": {
      "text/plain": [
       "True"
      ]
     },
     "execution_count": 13,
     "metadata": {},
     "output_type": "execute_result"
    }
   ],
   "source": [
    "rounded_patients.shape == patients.shape"
   ]
  },
  {
   "cell_type": "code",
   "execution_count": 14,
   "metadata": {},
   "outputs": [],
   "source": [
    "rounded_patients = rounded_patients[patients.columns.tolist()]"
   ]
  },
  {
   "cell_type": "code",
   "execution_count": 15,
   "metadata": {},
   "outputs": [
    {
     "data": {
      "text/plain": [
       "True"
      ]
     },
     "execution_count": 15,
     "metadata": {},
     "output_type": "execute_result"
    }
   ],
   "source": [
    "patients.columns.tolist() == rounded_patients.columns.tolist()"
   ]
  },
  {
   "cell_type": "code",
   "execution_count": 16,
   "metadata": {
    "scrolled": true
   },
   "outputs": [],
   "source": [
    "for i in range(0,rounded_patients.shape[0]):\n",
    "    results = rounded_patients.iloc[i] == patients.iloc[i].round(2)\n",
    "    for key, value in results.to_dict().items() :\n",
    "        if not value :\n",
    "            if key not in patients_integer.columns.values:\n",
    "                print(\"For the patients with index: \",i,\" there is a difference in: \", key)"
   ]
  },
  {
   "cell_type": "markdown",
   "metadata": {},
   "source": [
    "## Randomize data order"
   ]
  },
  {
   "cell_type": "code",
   "execution_count": 17,
   "metadata": {},
   "outputs": [
    {
     "name": "stdout",
     "output_type": "stream",
     "text": [
      "Dataframe shape before sorting:  (153884, 17)\n",
      "Dataframe shape after sorting:  (153884, 17)\n"
     ]
    },
    {
     "data": {
      "text/html": [
       "<div>\n",
       "<style scoped>\n",
       "    .dataframe tbody tr th:only-of-type {\n",
       "        vertical-align: middle;\n",
       "    }\n",
       "\n",
       "    .dataframe tbody tr th {\n",
       "        vertical-align: top;\n",
       "    }\n",
       "\n",
       "    .dataframe thead th {\n",
       "        text-align: right;\n",
       "    }\n",
       "</style>\n",
       "<table border=\"1\" class=\"dataframe\">\n",
       "  <thead>\n",
       "    <tr style=\"text-align: right;\">\n",
       "      <th></th>\n",
       "      <th>sex</th>\n",
       "      <th>age</th>\n",
       "      <th>weight</th>\n",
       "      <th>height</th>\n",
       "      <th>HIPX</th>\n",
       "      <th>menopause</th>\n",
       "      <th>HRT</th>\n",
       "      <th>smoking</th>\n",
       "      <th>ReumatoidArthritis</th>\n",
       "      <th>SecondaryOsteoporsis</th>\n",
       "      <th>Alcohol</th>\n",
       "      <th>VitaminD</th>\n",
       "      <th>calcium</th>\n",
       "      <th>dose_walk</th>\n",
       "      <th>dose_moderate</th>\n",
       "      <th>dose_vigorous</th>\n",
       "      <th>Class</th>\n",
       "    </tr>\n",
       "  </thead>\n",
       "  <tbody>\n",
       "    <tr>\n",
       "      <th>0</th>\n",
       "      <td>0</td>\n",
       "      <td>52</td>\n",
       "      <td>81.7</td>\n",
       "      <td>174.0</td>\n",
       "      <td>0</td>\n",
       "      <td>1</td>\n",
       "      <td>0</td>\n",
       "      <td>0</td>\n",
       "      <td>0</td>\n",
       "      <td>0</td>\n",
       "      <td>36.48</td>\n",
       "      <td>0.91</td>\n",
       "      <td>776.77</td>\n",
       "      <td>280</td>\n",
       "      <td>0</td>\n",
       "      <td>0</td>\n",
       "      <td>0</td>\n",
       "    </tr>\n",
       "    <tr>\n",
       "      <th>1</th>\n",
       "      <td>1</td>\n",
       "      <td>66</td>\n",
       "      <td>82.6</td>\n",
       "      <td>175.0</td>\n",
       "      <td>0</td>\n",
       "      <td>0</td>\n",
       "      <td>0</td>\n",
       "      <td>0</td>\n",
       "      <td>0</td>\n",
       "      <td>0</td>\n",
       "      <td>17.64</td>\n",
       "      <td>1.74</td>\n",
       "      <td>784.64</td>\n",
       "      <td>240</td>\n",
       "      <td>720</td>\n",
       "      <td>240</td>\n",
       "      <td>0</td>\n",
       "    </tr>\n",
       "    <tr>\n",
       "      <th>2</th>\n",
       "      <td>0</td>\n",
       "      <td>51</td>\n",
       "      <td>75.1</td>\n",
       "      <td>160.0</td>\n",
       "      <td>0</td>\n",
       "      <td>0</td>\n",
       "      <td>0</td>\n",
       "      <td>1</td>\n",
       "      <td>0</td>\n",
       "      <td>0</td>\n",
       "      <td>9.76</td>\n",
       "      <td>10.69</td>\n",
       "      <td>920.13</td>\n",
       "      <td>1260</td>\n",
       "      <td>1680</td>\n",
       "      <td>180</td>\n",
       "      <td>0</td>\n",
       "    </tr>\n",
       "    <tr>\n",
       "      <th>3</th>\n",
       "      <td>0</td>\n",
       "      <td>41</td>\n",
       "      <td>74.7</td>\n",
       "      <td>157.0</td>\n",
       "      <td>0</td>\n",
       "      <td>0</td>\n",
       "      <td>0</td>\n",
       "      <td>0</td>\n",
       "      <td>0</td>\n",
       "      <td>0</td>\n",
       "      <td>15.66</td>\n",
       "      <td>0.36</td>\n",
       "      <td>611.05</td>\n",
       "      <td>900</td>\n",
       "      <td>0</td>\n",
       "      <td>0</td>\n",
       "      <td>0</td>\n",
       "    </tr>\n",
       "    <tr>\n",
       "      <th>4</th>\n",
       "      <td>0</td>\n",
       "      <td>51</td>\n",
       "      <td>69.4</td>\n",
       "      <td>175.0</td>\n",
       "      <td>0</td>\n",
       "      <td>1</td>\n",
       "      <td>0</td>\n",
       "      <td>1</td>\n",
       "      <td>0</td>\n",
       "      <td>1</td>\n",
       "      <td>31.32</td>\n",
       "      <td>1.04</td>\n",
       "      <td>1007.37</td>\n",
       "      <td>105</td>\n",
       "      <td>300</td>\n",
       "      <td>105</td>\n",
       "      <td>0</td>\n",
       "    </tr>\n",
       "  </tbody>\n",
       "</table>\n",
       "</div>"
      ],
      "text/plain": [
       "   sex  age  weight  height  HIPX  menopause  HRT  smoking  \\\n",
       "0    0   52    81.7   174.0     0          1    0        0   \n",
       "1    1   66    82.6   175.0     0          0    0        0   \n",
       "2    0   51    75.1   160.0     0          0    0        1   \n",
       "3    0   41    74.7   157.0     0          0    0        0   \n",
       "4    0   51    69.4   175.0     0          1    0        1   \n",
       "\n",
       "   ReumatoidArthritis  SecondaryOsteoporsis  Alcohol  VitaminD  calcium  \\\n",
       "0                   0                     0    36.48      0.91   776.77   \n",
       "1                   0                     0    17.64      1.74   784.64   \n",
       "2                   0                     0     9.76     10.69   920.13   \n",
       "3                   0                     0    15.66      0.36   611.05   \n",
       "4                   0                     1    31.32      1.04  1007.37   \n",
       "\n",
       "   dose_walk  dose_moderate  dose_vigorous  Class  \n",
       "0        280              0              0      0  \n",
       "1        240            720            240      0  \n",
       "2       1260           1680            180      0  \n",
       "3        900              0              0      0  \n",
       "4        105            300            105      0  "
      ]
     },
     "execution_count": 17,
     "metadata": {},
     "output_type": "execute_result"
    }
   ],
   "source": [
    "print(\"Dataframe shape before sorting: \",rounded_patients.shape)\n",
    "rounded_patients = rounded_patients.sample(frac=1).reset_index(drop=True)\n",
    "print(\"Dataframe shape after sorting: \",rounded_patients.shape)\n",
    "rounded_patients.head()"
   ]
  },
  {
   "cell_type": "code",
   "execution_count": 19,
   "metadata": {},
   "outputs": [],
   "source": [
    "rounded_patients.to_csv(\"../../Data/rounded_patients.csv\")"
   ]
  },
  {
   "cell_type": "code",
   "execution_count": null,
   "metadata": {},
   "outputs": [],
   "source": []
  }
 ],
 "metadata": {
  "kernelspec": {
   "display_name": "Python 3",
   "language": "python",
   "name": "python3"
  },
  "language_info": {
   "codemirror_mode": {
    "name": "ipython",
    "version": 3
   },
   "file_extension": ".py",
   "mimetype": "text/x-python",
   "name": "python",
   "nbconvert_exporter": "python",
   "pygments_lexer": "ipython3",
   "version": "3.6.5"
  }
 },
 "nbformat": 4,
 "nbformat_minor": 2
}
