{
 "cells": [
  {
   "cell_type": "markdown",
   "metadata": {},
   "source": [
    "# Dataset cleansing"
   ]
  },
  {
   "cell_type": "code",
   "execution_count": 15,
   "metadata": {},
   "outputs": [],
   "source": [
    "import pandas as pd\n",
    "import numpy as np\n",
    "from sklearn.model_selection import train_test_split"
   ]
  },
  {
   "cell_type": "markdown",
   "metadata": {},
   "source": [
    "## 1. Load the (standardized) Data"
   ]
  },
  {
   "cell_type": "code",
   "execution_count": 16,
   "metadata": {
    "scrolled": false
   },
   "outputs": [
    {
     "data": {
      "text/html": [
       "<div>\n",
       "<style scoped>\n",
       "    .dataframe tbody tr th:only-of-type {\n",
       "        vertical-align: middle;\n",
       "    }\n",
       "\n",
       "    .dataframe tbody tr th {\n",
       "        vertical-align: top;\n",
       "    }\n",
       "\n",
       "    .dataframe thead th {\n",
       "        text-align: right;\n",
       "    }\n",
       "</style>\n",
       "<table border=\"1\" class=\"dataframe\">\n",
       "  <thead>\n",
       "    <tr style=\"text-align: right;\">\n",
       "      <th></th>\n",
       "      <th>sex</th>\n",
       "      <th>age</th>\n",
       "      <th>weight</th>\n",
       "      <th>height</th>\n",
       "      <th>HIPX</th>\n",
       "      <th>menopause</th>\n",
       "      <th>HRT</th>\n",
       "      <th>smoking</th>\n",
       "      <th>ReumatoidArthritis</th>\n",
       "      <th>SecondaryOsteoporsis</th>\n",
       "      <th>Alcohol</th>\n",
       "      <th>VitaminD</th>\n",
       "      <th>calcium</th>\n",
       "      <th>dose_walk</th>\n",
       "      <th>dose_moderate</th>\n",
       "      <th>dose_vigorous</th>\n",
       "      <th>Class</th>\n",
       "    </tr>\n",
       "  </thead>\n",
       "  <tbody>\n",
       "    <tr>\n",
       "      <th>0</th>\n",
       "      <td>0.971362</td>\n",
       "      <td>1.518328</td>\n",
       "      <td>0.593212</td>\n",
       "      <td>0.410810</td>\n",
       "      <td>-0.037838</td>\n",
       "      <td>-0.695973</td>\n",
       "      <td>-0.423252</td>\n",
       "      <td>0.760768</td>\n",
       "      <td>-0.08895</td>\n",
       "      <td>-0.134216</td>\n",
       "      <td>5.850345</td>\n",
       "      <td>0.340397</td>\n",
       "      <td>-0.563315</td>\n",
       "      <td>-0.548721</td>\n",
       "      <td>-0.437622</td>\n",
       "      <td>0.325004</td>\n",
       "      <td>0</td>\n",
       "    </tr>\n",
       "    <tr>\n",
       "      <th>1</th>\n",
       "      <td>-1.029482</td>\n",
       "      <td>1.394174</td>\n",
       "      <td>-2.033541</td>\n",
       "      <td>-2.417830</td>\n",
       "      <td>-0.037838</td>\n",
       "      <td>1.436838</td>\n",
       "      <td>2.362657</td>\n",
       "      <td>-0.808640</td>\n",
       "      <td>-0.08895</td>\n",
       "      <td>-0.134216</td>\n",
       "      <td>-0.788571</td>\n",
       "      <td>-0.399455</td>\n",
       "      <td>0.308998</td>\n",
       "      <td>-0.559852</td>\n",
       "      <td>0.956966</td>\n",
       "      <td>-0.076115</td>\n",
       "      <td>0</td>\n",
       "    </tr>\n",
       "    <tr>\n",
       "      <th>2</th>\n",
       "      <td>-1.029482</td>\n",
       "      <td>0.028478</td>\n",
       "      <td>-1.319472</td>\n",
       "      <td>-1.112304</td>\n",
       "      <td>-0.037838</td>\n",
       "      <td>1.436838</td>\n",
       "      <td>-0.423252</td>\n",
       "      <td>-0.808640</td>\n",
       "      <td>-0.08895</td>\n",
       "      <td>-0.134216</td>\n",
       "      <td>0.246428</td>\n",
       "      <td>0.028498</td>\n",
       "      <td>-0.619588</td>\n",
       "      <td>-0.459667</td>\n",
       "      <td>-0.512332</td>\n",
       "      <td>-0.477234</td>\n",
       "      <td>0</td>\n",
       "    </tr>\n",
       "    <tr>\n",
       "      <th>3</th>\n",
       "      <td>-1.029482</td>\n",
       "      <td>0.400940</td>\n",
       "      <td>-0.407759</td>\n",
       "      <td>0.410810</td>\n",
       "      <td>-0.037838</td>\n",
       "      <td>1.436838</td>\n",
       "      <td>2.362657</td>\n",
       "      <td>0.760768</td>\n",
       "      <td>-0.08895</td>\n",
       "      <td>-0.134216</td>\n",
       "      <td>0.004272</td>\n",
       "      <td>0.195328</td>\n",
       "      <td>0.874360</td>\n",
       "      <td>-0.259297</td>\n",
       "      <td>-0.611945</td>\n",
       "      <td>-0.538945</td>\n",
       "      <td>0</td>\n",
       "    </tr>\n",
       "    <tr>\n",
       "      <th>4</th>\n",
       "      <td>-1.029482</td>\n",
       "      <td>-0.716448</td>\n",
       "      <td>2.206243</td>\n",
       "      <td>-0.459541</td>\n",
       "      <td>-0.037838</td>\n",
       "      <td>-0.695973</td>\n",
       "      <td>-0.423252</td>\n",
       "      <td>0.760768</td>\n",
       "      <td>-0.08895</td>\n",
       "      <td>-0.134216</td>\n",
       "      <td>-0.788571</td>\n",
       "      <td>-1.052266</td>\n",
       "      <td>3.313502</td>\n",
       "      <td>0.341813</td>\n",
       "      <td>-0.412718</td>\n",
       "      <td>-0.538945</td>\n",
       "      <td>0</td>\n",
       "    </tr>\n",
       "  </tbody>\n",
       "</table>\n",
       "</div>"
      ],
      "text/plain": [
       "        sex       age    weight    height      HIPX  menopause       HRT  \\\n",
       "0  0.971362  1.518328  0.593212  0.410810 -0.037838  -0.695973 -0.423252   \n",
       "1 -1.029482  1.394174 -2.033541 -2.417830 -0.037838   1.436838  2.362657   \n",
       "2 -1.029482  0.028478 -1.319472 -1.112304 -0.037838   1.436838 -0.423252   \n",
       "3 -1.029482  0.400940 -0.407759  0.410810 -0.037838   1.436838  2.362657   \n",
       "4 -1.029482 -0.716448  2.206243 -0.459541 -0.037838  -0.695973 -0.423252   \n",
       "\n",
       "    smoking  ReumatoidArthritis  SecondaryOsteoporsis   Alcohol  VitaminD  \\\n",
       "0  0.760768            -0.08895             -0.134216  5.850345  0.340397   \n",
       "1 -0.808640            -0.08895             -0.134216 -0.788571 -0.399455   \n",
       "2 -0.808640            -0.08895             -0.134216  0.246428  0.028498   \n",
       "3  0.760768            -0.08895             -0.134216  0.004272  0.195328   \n",
       "4  0.760768            -0.08895             -0.134216 -0.788571 -1.052266   \n",
       "\n",
       "    calcium  dose_walk  dose_moderate  dose_vigorous  Class  \n",
       "0 -0.563315  -0.548721      -0.437622       0.325004      0  \n",
       "1  0.308998  -0.559852       0.956966      -0.076115      0  \n",
       "2 -0.619588  -0.459667      -0.512332      -0.477234      0  \n",
       "3  0.874360  -0.259297      -0.611945      -0.538945      0  \n",
       "4  3.313502   0.341813      -0.412718      -0.538945      0  "
      ]
     },
     "execution_count": 16,
     "metadata": {},
     "output_type": "execute_result"
    }
   ],
   "source": [
    "patients = pd.read_csv(\"../Data/new_std_patients.csv\",index_col=0, header=0)\n",
    "patients.dropna(inplace=True)\n",
    "patients.head()"
   ]
  },
  {
   "cell_type": "code",
   "execution_count": 17,
   "metadata": {},
   "outputs": [],
   "source": [
    "patients = patients.sample(frac=1).reset_index(drop=True)"
   ]
  },
  {
   "cell_type": "markdown",
   "metadata": {},
   "source": [
    "## 2. Create the X and y"
   ]
  },
  {
   "cell_type": "code",
   "execution_count": 18,
   "metadata": {},
   "outputs": [
    {
     "name": "stdout",
     "output_type": "stream",
     "text": [
      "(153884, 16)\n",
      "(153884, 1)\n"
     ]
    }
   ],
   "source": [
    "X = patients.copy()\n",
    "X.drop(\"Class\", axis=1, inplace=True)\n",
    "print(X.shape)\n",
    "\n",
    "y = patients[['Class']].copy()\n",
    "print(y.shape)"
   ]
  },
  {
   "cell_type": "markdown",
   "metadata": {},
   "source": [
    "## 3. Split the data into Train, Test and Validation"
   ]
  },
  {
   "cell_type": "markdown",
   "metadata": {},
   "source": [
    "The ratio in the splitting, in percentage, is 60/20/20"
   ]
  },
  {
   "cell_type": "code",
   "execution_count": 19,
   "metadata": {},
   "outputs": [],
   "source": [
    "X_train_and_val, X_test, y_train_and_val, y_test = train_test_split(X, y, test_size=0.2, random_state=42)\n",
    "X_train, X_val, y_train, y_val = train_test_split(X_train_and_val, y_train_and_val, test_size=0.25, random_state=42)"
   ]
  },
  {
   "cell_type": "code",
   "execution_count": 20,
   "metadata": {
    "scrolled": false
   },
   "outputs": [
    {
     "data": {
      "text/plain": [
       "(1736, 1)"
      ]
     },
     "execution_count": 20,
     "metadata": {},
     "output_type": "execute_result"
    }
   ],
   "source": [
    "y_val[y_val['Class']==1].shape"
   ]
  },
  {
   "cell_type": "code",
   "execution_count": 21,
   "metadata": {},
   "outputs": [
    {
     "data": {
      "text/plain": [
       "(5516, 1)"
      ]
     },
     "execution_count": 21,
     "metadata": {},
     "output_type": "execute_result"
    }
   ],
   "source": [
    "y_train[y_train['Class']==1].shape"
   ]
  },
  {
   "cell_type": "code",
   "execution_count": 22,
   "metadata": {},
   "outputs": [
    {
     "data": {
      "text/plain": [
       "(1797, 1)"
      ]
     },
     "execution_count": 22,
     "metadata": {},
     "output_type": "execute_result"
    }
   ],
   "source": [
    "y_test[y_test['Class']==1].shape"
   ]
  },
  {
   "cell_type": "markdown",
   "metadata": {},
   "source": [
    "## 4. Save to Files"
   ]
  },
  {
   "cell_type": "code",
   "execution_count": 23,
   "metadata": {},
   "outputs": [],
   "source": [
    "ratio = \"0.5\""
   ]
  },
  {
   "cell_type": "code",
   "execution_count": 24,
   "metadata": {},
   "outputs": [],
   "source": [
    "patients.to_csv(\"../Data/ratio\"+ratio+\"/new_std_patients.csv\")\n",
    "\n",
    "X_train.to_csv(\"../Data/ratio\"+ratio+\"/X_train_total.csv\")\n",
    "y_train.to_csv(\"../Data/ratio\"+ratio+\"/y_train_total.csv\")\n",
    "\n",
    "X_test.to_csv(\"../Data/ratio\"+ratio+\"/X_test.csv\")\n",
    "y_test.to_csv(\"../Data/ratio\"+ratio+\"/y_test.csv\")\n",
    "\n",
    "X_val.to_csv(\"../Data/ratio\"+ratio+\"/X_val.csv\")\n",
    "y_val.to_csv(\"../Data/ratio\"+ratio+\"/y_val.csv\")"
   ]
  },
  {
   "cell_type": "code",
   "execution_count": null,
   "metadata": {},
   "outputs": [],
   "source": []
  }
 ],
 "metadata": {
  "kernelspec": {
   "display_name": "Python 3",
   "language": "python",
   "name": "python3"
  },
  "language_info": {
   "codemirror_mode": {
    "name": "ipython",
    "version": 3
   },
   "file_extension": ".py",
   "mimetype": "text/x-python",
   "name": "python",
   "nbconvert_exporter": "python",
   "pygments_lexer": "ipython3",
   "version": "3.6.5"
  }
 },
 "nbformat": 4,
 "nbformat_minor": 2
}
