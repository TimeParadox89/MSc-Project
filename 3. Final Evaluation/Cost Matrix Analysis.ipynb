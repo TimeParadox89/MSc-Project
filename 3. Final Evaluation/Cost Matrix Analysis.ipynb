{
 "cells": [
  {
   "cell_type": "markdown",
   "metadata": {},
   "source": [
    "# <center><b><h1>Cost Matrix Analysis (Evaluation)</h1></b></center>"
   ]
  },
  {
   "cell_type": "code",
   "execution_count": 1,
   "metadata": {
    "collapsed": true
   },
   "outputs": [],
   "source": [
    "import numpy as np\n",
    "import pandas as pd\n",
    "from sklearn.externals import joblib"
   ]
  },
  {
   "cell_type": "markdown",
   "metadata": {},
   "source": [
    "## 1. Load the data"
   ]
  },
  {
   "cell_type": "markdown",
   "metadata": {},
   "source": [
    "### 1.1 Confusion matrix of the best models"
   ]
  },
  {
   "cell_type": "code",
   "execution_count": 2,
   "metadata": {},
   "outputs": [
    {
     "data": {
      "text/html": [
       "<div>\n",
       "<style scoped>\n",
       "    .dataframe tbody tr th:only-of-type {\n",
       "        vertical-align: middle;\n",
       "    }\n",
       "\n",
       "    .dataframe tbody tr th {\n",
       "        vertical-align: top;\n",
       "    }\n",
       "\n",
       "    .dataframe thead th {\n",
       "        text-align: right;\n",
       "    }\n",
       "</style>\n",
       "<table border=\"1\" class=\"dataframe\">\n",
       "  <thead>\n",
       "    <tr style=\"text-align: right;\">\n",
       "      <th></th>\n",
       "      <th>tp</th>\n",
       "      <th>fp</th>\n",
       "      <th>fn</th>\n",
       "      <th>tn</th>\n",
       "    </tr>\n",
       "  </thead>\n",
       "  <tbody>\n",
       "    <tr>\n",
       "      <th>All_Patients</th>\n",
       "      <td>41</td>\n",
       "      <td>4111</td>\n",
       "      <td>20</td>\n",
       "      <td>26605</td>\n",
       "    </tr>\n",
       "  </tbody>\n",
       "</table>\n",
       "</div>"
      ],
      "text/plain": [
       "              tp    fp  fn     tn\n",
       "All_Patients  41  4111  20  26605"
      ]
     },
     "execution_count": 2,
     "metadata": {},
     "output_type": "execute_result"
    }
   ],
   "source": [
    "all_patients_cm = pd.read_csv(\"../Data/confusion_matrix/neural_network/best_model_based/All_Patients.csv\", index_col=0)\n",
    "all_patients_cm"
   ]
  },
  {
   "cell_type": "code",
   "execution_count": 3,
   "metadata": {},
   "outputs": [
    {
     "data": {
      "text/html": [
       "<div>\n",
       "<style scoped>\n",
       "    .dataframe tbody tr th:only-of-type {\n",
       "        vertical-align: middle;\n",
       "    }\n",
       "\n",
       "    .dataframe tbody tr th {\n",
       "        vertical-align: top;\n",
       "    }\n",
       "\n",
       "    .dataframe thead th {\n",
       "        text-align: right;\n",
       "    }\n",
       "</style>\n",
       "<table border=\"1\" class=\"dataframe\">\n",
       "  <thead>\n",
       "    <tr style=\"text-align: right;\">\n",
       "      <th></th>\n",
       "      <th>tp</th>\n",
       "      <th>fp</th>\n",
       "      <th>fn</th>\n",
       "      <th>tn</th>\n",
       "    </tr>\n",
       "  </thead>\n",
       "  <tbody>\n",
       "    <tr>\n",
       "      <th>Female_Patients_No_Menopause</th>\n",
       "      <td>3</td>\n",
       "      <td>1005</td>\n",
       "      <td>3</td>\n",
       "      <td>3888</td>\n",
       "    </tr>\n",
       "  </tbody>\n",
       "</table>\n",
       "</div>"
      ],
      "text/plain": [
       "                              tp    fp  fn    tn\n",
       "Female_Patients_No_Menopause   3  1005   3  3888"
      ]
     },
     "execution_count": 3,
     "metadata": {},
     "output_type": "execute_result"
    }
   ],
   "source": [
    "female_patients_no_menopause_cm = pd.read_csv(\"../Data/confusion_matrix/neural_network/best_model_based/female_patients_no_menopause.csv\", index_col=0)\n",
    "female_patients_no_menopause_cm"
   ]
  },
  {
   "cell_type": "code",
   "execution_count": 4,
   "metadata": {},
   "outputs": [
    {
     "data": {
      "text/html": [
       "<div>\n",
       "<style scoped>\n",
       "    .dataframe tbody tr th:only-of-type {\n",
       "        vertical-align: middle;\n",
       "    }\n",
       "\n",
       "    .dataframe tbody tr th {\n",
       "        vertical-align: top;\n",
       "    }\n",
       "\n",
       "    .dataframe thead th {\n",
       "        text-align: right;\n",
       "    }\n",
       "</style>\n",
       "<table border=\"1\" class=\"dataframe\">\n",
       "  <thead>\n",
       "    <tr style=\"text-align: right;\">\n",
       "      <th></th>\n",
       "      <th>tp</th>\n",
       "      <th>fp</th>\n",
       "      <th>fn</th>\n",
       "      <th>tn</th>\n",
       "    </tr>\n",
       "  </thead>\n",
       "  <tbody>\n",
       "    <tr>\n",
       "      <th>Male_Patients</th>\n",
       "      <td>12</td>\n",
       "      <td>2813</td>\n",
       "      <td>6</td>\n",
       "      <td>13005</td>\n",
       "    </tr>\n",
       "  </tbody>\n",
       "</table>\n",
       "</div>"
      ],
      "text/plain": [
       "               tp    fp  fn     tn\n",
       "Male_Patients  12  2813   6  13005"
      ]
     },
     "execution_count": 4,
     "metadata": {},
     "output_type": "execute_result"
    }
   ],
   "source": [
    "male_patients_cm = pd.read_csv(\"../Data/confusion_matrix/neural_network/best_model_based/male_Patients.csv\", index_col=0)\n",
    "male_patients_cm"
   ]
  },
  {
   "cell_type": "code",
   "execution_count": 5,
   "metadata": {
    "scrolled": false
   },
   "outputs": [
    {
     "data": {
      "text/html": [
       "<div>\n",
       "<style scoped>\n",
       "    .dataframe tbody tr th:only-of-type {\n",
       "        vertical-align: middle;\n",
       "    }\n",
       "\n",
       "    .dataframe tbody tr th {\n",
       "        vertical-align: top;\n",
       "    }\n",
       "\n",
       "    .dataframe thead th {\n",
       "        text-align: right;\n",
       "    }\n",
       "</style>\n",
       "<table border=\"1\" class=\"dataframe\">\n",
       "  <thead>\n",
       "    <tr style=\"text-align: right;\">\n",
       "      <th></th>\n",
       "      <th>tp</th>\n",
       "      <th>fp</th>\n",
       "      <th>fn</th>\n",
       "      <th>tn</th>\n",
       "    </tr>\n",
       "  </thead>\n",
       "  <tbody>\n",
       "    <tr>\n",
       "      <th>Other_Patients</th>\n",
       "      <td>28</td>\n",
       "      <td>2369</td>\n",
       "      <td>7</td>\n",
       "      <td>18330</td>\n",
       "    </tr>\n",
       "  </tbody>\n",
       "</table>\n",
       "</div>"
      ],
      "text/plain": [
       "                tp    fp  fn     tn\n",
       "Other_Patients  28  2369   7  18330"
      ]
     },
     "execution_count": 5,
     "metadata": {},
     "output_type": "execute_result"
    }
   ],
   "source": [
    "other_patients_cm = pd.read_csv(\"../Data/confusion_matrix/neural_network/best_model_based/other_Patients.csv\", index_col=0)\n",
    "other_patients_cm"
   ]
  },
  {
   "cell_type": "code",
   "execution_count": 6,
   "metadata": {},
   "outputs": [
    {
     "data": {
      "text/html": [
       "<div>\n",
       "<style scoped>\n",
       "    .dataframe tbody tr th:only-of-type {\n",
       "        vertical-align: middle;\n",
       "    }\n",
       "\n",
       "    .dataframe tbody tr th {\n",
       "        vertical-align: top;\n",
       "    }\n",
       "\n",
       "    .dataframe thead th {\n",
       "        text-align: right;\n",
       "    }\n",
       "</style>\n",
       "<table border=\"1\" class=\"dataframe\">\n",
       "  <thead>\n",
       "    <tr style=\"text-align: right;\">\n",
       "      <th></th>\n",
       "      <th>tp</th>\n",
       "      <th>fp</th>\n",
       "      <th>fn</th>\n",
       "      <th>tn</th>\n",
       "    </tr>\n",
       "  </thead>\n",
       "  <tbody>\n",
       "    <tr>\n",
       "      <th>Women_Menopause</th>\n",
       "      <td>24</td>\n",
       "      <td>2248</td>\n",
       "      <td>15</td>\n",
       "      <td>7756</td>\n",
       "    </tr>\n",
       "  </tbody>\n",
       "</table>\n",
       "</div>"
      ],
      "text/plain": [
       "                 tp    fp  fn    tn\n",
       "Women_Menopause  24  2248  15  7756"
      ]
     },
     "execution_count": 6,
     "metadata": {},
     "output_type": "execute_result"
    }
   ],
   "source": [
    "women_menopause_cm = pd.read_csv(\"../Data/confusion_matrix/neural_network/best_model_based/women_menopause.csv\", index_col=0)\n",
    "women_menopause_cm"
   ]
  },
  {
   "cell_type": "markdown",
   "metadata": {},
   "source": [
    "#### Unifying the confusion matrices into one table"
   ]
  },
  {
   "cell_type": "code",
   "execution_count": 7,
   "metadata": {
    "collapsed": true
   },
   "outputs": [],
   "source": [
    "dataframes = [all_patients_cm, female_patients_no_menopause_cm, male_patients_cm, other_patients_cm, women_menopause_cm]"
   ]
  },
  {
   "cell_type": "code",
   "execution_count": 8,
   "metadata": {},
   "outputs": [
    {
     "data": {
      "text/html": [
       "<div>\n",
       "<style scoped>\n",
       "    .dataframe tbody tr th:only-of-type {\n",
       "        vertical-align: middle;\n",
       "    }\n",
       "\n",
       "    .dataframe tbody tr th {\n",
       "        vertical-align: top;\n",
       "    }\n",
       "\n",
       "    .dataframe thead th {\n",
       "        text-align: right;\n",
       "    }\n",
       "</style>\n",
       "<table border=\"1\" class=\"dataframe\">\n",
       "  <thead>\n",
       "    <tr style=\"text-align: right;\">\n",
       "      <th>model</th>\n",
       "      <th>tp</th>\n",
       "      <th>fp</th>\n",
       "      <th>fn</th>\n",
       "      <th>tn</th>\n",
       "    </tr>\n",
       "  </thead>\n",
       "  <tbody>\n",
       "    <tr>\n",
       "      <th>All_Patients</th>\n",
       "      <td>41</td>\n",
       "      <td>4111</td>\n",
       "      <td>20</td>\n",
       "      <td>26605</td>\n",
       "    </tr>\n",
       "    <tr>\n",
       "      <th>Female_Patients_No_Menopause</th>\n",
       "      <td>3</td>\n",
       "      <td>1005</td>\n",
       "      <td>3</td>\n",
       "      <td>3888</td>\n",
       "    </tr>\n",
       "    <tr>\n",
       "      <th>Male_Patients</th>\n",
       "      <td>12</td>\n",
       "      <td>2813</td>\n",
       "      <td>6</td>\n",
       "      <td>13005</td>\n",
       "    </tr>\n",
       "    <tr>\n",
       "      <th>Other_Patients</th>\n",
       "      <td>28</td>\n",
       "      <td>2369</td>\n",
       "      <td>7</td>\n",
       "      <td>18330</td>\n",
       "    </tr>\n",
       "    <tr>\n",
       "      <th>Women_Menopause</th>\n",
       "      <td>24</td>\n",
       "      <td>2248</td>\n",
       "      <td>15</td>\n",
       "      <td>7756</td>\n",
       "    </tr>\n",
       "  </tbody>\n",
       "</table>\n",
       "</div>"
      ],
      "text/plain": [
       "model                         tp    fp  fn     tn\n",
       "All_Patients                  41  4111  20  26605\n",
       "Female_Patients_No_Menopause   3  1005   3   3888\n",
       "Male_Patients                 12  2813   6  13005\n",
       "Other_Patients                28  2369   7  18330\n",
       "Women_Menopause               24  2248  15   7756"
      ]
     },
     "execution_count": 8,
     "metadata": {},
     "output_type": "execute_result"
    }
   ],
   "source": [
    "models_df = pd.concat(dataframes)\n",
    "models_df.columns.names = ['model']\n",
    "models_df"
   ]
  },
  {
   "cell_type": "markdown",
   "metadata": {},
   "source": [
    "### 1.2 Neural Network models"
   ]
  },
  {
   "cell_type": "code",
   "execution_count": 9,
   "metadata": {
    "collapsed": true
   },
   "outputs": [],
   "source": [
    "model_folder_base = '../Models/Neural_Networks/best_models/'"
   ]
  },
  {
   "cell_type": "markdown",
   "metadata": {},
   "source": [
    "#### Models trained with a Base Ratio of 1 between the classes"
   ]
  },
  {
   "cell_type": "code",
   "execution_count": 10,
   "metadata": {
    "collapsed": true
   },
   "outputs": [],
   "source": [
    "all_patients = joblib.load(model_folder_base+'All_Patients_Model.pkl')\n",
    "female_patients_no_menopause = joblib.load(model_folder_base+'Female_Patients_No_Menopause_Model.pkl')\n",
    "male_patients = joblib.load(model_folder_base+'Male_Patients_Model.pkl')\n",
    "other_patients = joblib.load(model_folder_base+'Other_patients_Model.pkl')\n",
    "women_menopause = joblib.load(model_folder_base+'Women_Menopause_Model.pkl')\n"
   ]
  },
  {
   "cell_type": "markdown",
   "metadata": {},
   "source": [
    "## 2. Defining the Cost Matrix"
   ]
  },
  {
   "cell_type": "markdown",
   "metadata": {},
   "source": [
    "### 2.1 defining costs"
   ]
  },
  {
   "cell_type": "code",
   "execution_count": 11,
   "metadata": {
    "collapsed": true
   },
   "outputs": [],
   "source": [
    "xray = 47\n",
    "mri_and_consultant = 453 "
   ]
  },
  {
   "cell_type": "code",
   "execution_count": 12,
   "metadata": {
    "collapsed": true
   },
   "outputs": [],
   "source": [
    "tn_cost = 0\n",
    "fp_cost = xray\n",
    "fn_cost = xray + mri_and_consultant\n",
    "tp_cost = xray"
   ]
  },
  {
   "cell_type": "markdown",
   "metadata": {},
   "source": [
    "### 2.2 Cost Matrix"
   ]
  },
  {
   "cell_type": "code",
   "execution_count": 13,
   "metadata": {},
   "outputs": [
    {
     "data": {
      "text/html": [
       "<div>\n",
       "<style scoped>\n",
       "    .dataframe tbody tr th:only-of-type {\n",
       "        vertical-align: middle;\n",
       "    }\n",
       "\n",
       "    .dataframe tbody tr th {\n",
       "        vertical-align: top;\n",
       "    }\n",
       "\n",
       "    .dataframe thead th {\n",
       "        text-align: right;\n",
       "    }\n",
       "</style>\n",
       "<table border=\"1\" class=\"dataframe\">\n",
       "  <thead>\n",
       "    <tr style=\"text-align: right;\">\n",
       "      <th></th>\n",
       "      <th>tn_cost</th>\n",
       "      <th>fp_cost</th>\n",
       "      <th>fn_cost</th>\n",
       "      <th>tp_cost</th>\n",
       "    </tr>\n",
       "  </thead>\n",
       "  <tbody>\n",
       "    <tr>\n",
       "      <th>Costs</th>\n",
       "      <td>0</td>\n",
       "      <td>47</td>\n",
       "      <td>500</td>\n",
       "      <td>47</td>\n",
       "    </tr>\n",
       "  </tbody>\n",
       "</table>\n",
       "</div>"
      ],
      "text/plain": [
       "       tn_cost  fp_cost  fn_cost  tp_cost\n",
       "Costs        0       47      500       47"
      ]
     },
     "execution_count": 13,
     "metadata": {},
     "output_type": "execute_result"
    }
   ],
   "source": [
    "cost_matrix_df = pd.DataFrame([list(pd.Series([tn_cost, fp_cost, fn_cost, tp_cost]))],columns=['tn_cost', 'fp_cost', 'fn_cost', 'tp_cost'])\n",
    "cost_matrix_df.rename(index={0: 'Costs'},inplace=True)\n",
    "cost_matrix_df"
   ]
  },
  {
   "cell_type": "markdown",
   "metadata": {},
   "source": [
    "## 3 Compute the total costs"
   ]
  },
  {
   "cell_type": "code",
   "execution_count": 14,
   "metadata": {
    "collapsed": true
   },
   "outputs": [],
   "source": [
    "for key,element in models_df.iterrows():\n",
    "    models_df.loc[key,'total_cost'] = (element['tn'] * cost_matrix_df.loc['Costs','tn_cost']) +\\\n",
    "                                        (element['fp'] * cost_matrix_df.loc['Costs','fp_cost']) +\\\n",
    "                                        (element['fn'] * cost_matrix_df.loc['Costs','fn_cost']) +\\\n",
    "                                        (element['tp'] * cost_matrix_df.loc['Costs','tp_cost'])"
   ]
  },
  {
   "cell_type": "code",
   "execution_count": 15,
   "metadata": {},
   "outputs": [
    {
     "data": {
      "text/html": [
       "<div>\n",
       "<style scoped>\n",
       "    .dataframe tbody tr th:only-of-type {\n",
       "        vertical-align: middle;\n",
       "    }\n",
       "\n",
       "    .dataframe tbody tr th {\n",
       "        vertical-align: top;\n",
       "    }\n",
       "\n",
       "    .dataframe thead th {\n",
       "        text-align: right;\n",
       "    }\n",
       "</style>\n",
       "<table border=\"1\" class=\"dataframe\">\n",
       "  <thead>\n",
       "    <tr style=\"text-align: right;\">\n",
       "      <th>model</th>\n",
       "      <th>tp</th>\n",
       "      <th>fp</th>\n",
       "      <th>fn</th>\n",
       "      <th>tn</th>\n",
       "      <th>total_cost</th>\n",
       "    </tr>\n",
       "  </thead>\n",
       "  <tbody>\n",
       "    <tr>\n",
       "      <th>All_Patients</th>\n",
       "      <td>41</td>\n",
       "      <td>4111</td>\n",
       "      <td>20</td>\n",
       "      <td>26605</td>\n",
       "      <td>205144.0</td>\n",
       "    </tr>\n",
       "    <tr>\n",
       "      <th>Female_Patients_No_Menopause</th>\n",
       "      <td>3</td>\n",
       "      <td>1005</td>\n",
       "      <td>3</td>\n",
       "      <td>3888</td>\n",
       "      <td>48876.0</td>\n",
       "    </tr>\n",
       "    <tr>\n",
       "      <th>Male_Patients</th>\n",
       "      <td>12</td>\n",
       "      <td>2813</td>\n",
       "      <td>6</td>\n",
       "      <td>13005</td>\n",
       "      <td>135775.0</td>\n",
       "    </tr>\n",
       "    <tr>\n",
       "      <th>Other_Patients</th>\n",
       "      <td>28</td>\n",
       "      <td>2369</td>\n",
       "      <td>7</td>\n",
       "      <td>18330</td>\n",
       "      <td>116159.0</td>\n",
       "    </tr>\n",
       "    <tr>\n",
       "      <th>Women_Menopause</th>\n",
       "      <td>24</td>\n",
       "      <td>2248</td>\n",
       "      <td>15</td>\n",
       "      <td>7756</td>\n",
       "      <td>114284.0</td>\n",
       "    </tr>\n",
       "  </tbody>\n",
       "</table>\n",
       "</div>"
      ],
      "text/plain": [
       "model                         tp    fp  fn     tn  total_cost\n",
       "All_Patients                  41  4111  20  26605    205144.0\n",
       "Female_Patients_No_Menopause   3  1005   3   3888     48876.0\n",
       "Male_Patients                 12  2813   6  13005    135775.0\n",
       "Other_Patients                28  2369   7  18330    116159.0\n",
       "Women_Menopause               24  2248  15   7756    114284.0"
      ]
     },
     "execution_count": 15,
     "metadata": {},
     "output_type": "execute_result"
    }
   ],
   "source": [
    "models_df"
   ]
  },
  {
   "cell_type": "markdown",
   "metadata": {},
   "source": [
    "## 4 Compute the minimum costs for real fractures and non-fractures."
   ]
  },
  {
   "cell_type": "code",
   "execution_count": 16,
   "metadata": {
    "collapsed": true
   },
   "outputs": [],
   "source": [
    "min_non_frac_cost = min(cost_matrix_df.loc['Costs','tn_cost'],cost_matrix_df.loc['Costs','fp_cost'])\n",
    "min_fracture_cost = min(cost_matrix_df.loc['Costs','fn_cost'],cost_matrix_df.loc['Costs','tp_cost'])"
   ]
  },
  {
   "cell_type": "markdown",
   "metadata": {},
   "source": [
    "## 5 Compute the new Cost Matrix"
   ]
  },
  {
   "cell_type": "code",
   "execution_count": 17,
   "metadata": {},
   "outputs": [
    {
     "data": {
      "text/html": [
       "<div>\n",
       "<style scoped>\n",
       "    .dataframe tbody tr th:only-of-type {\n",
       "        vertical-align: middle;\n",
       "    }\n",
       "\n",
       "    .dataframe tbody tr th {\n",
       "        vertical-align: top;\n",
       "    }\n",
       "\n",
       "    .dataframe thead th {\n",
       "        text-align: right;\n",
       "    }\n",
       "</style>\n",
       "<table border=\"1\" class=\"dataframe\">\n",
       "  <thead>\n",
       "    <tr style=\"text-align: right;\">\n",
       "      <th></th>\n",
       "      <th>tn_cost</th>\n",
       "      <th>fp_cost</th>\n",
       "      <th>fn_cost</th>\n",
       "      <th>tp_cost</th>\n",
       "    </tr>\n",
       "  </thead>\n",
       "  <tbody>\n",
       "    <tr>\n",
       "      <th>Minimum_Costs</th>\n",
       "      <td>0</td>\n",
       "      <td>47</td>\n",
       "      <td>453</td>\n",
       "      <td>0</td>\n",
       "    </tr>\n",
       "  </tbody>\n",
       "</table>\n",
       "</div>"
      ],
      "text/plain": [
       "               tn_cost  fp_cost  fn_cost  tp_cost\n",
       "Minimum_Costs        0       47      453        0"
      ]
     },
     "execution_count": 17,
     "metadata": {},
     "output_type": "execute_result"
    }
   ],
   "source": [
    "min_cost_matrix_df = pd.DataFrame([list(pd.Series([ tn_cost - min_non_frac_cost, \n",
    "                                                   fp_cost - min_non_frac_cost, \n",
    "                                                   fn_cost - min_fracture_cost, \n",
    "                                                   tp_cost - min_fracture_cost]))],\n",
    "                                  columns=['tn_cost', 'fp_cost', 'fn_cost', 'tp_cost'])\n",
    "\n",
    "min_cost_matrix_df.rename(index={0: 'Minimum_Costs'},inplace=True)\n",
    "min_cost_matrix_df"
   ]
  },
  {
   "cell_type": "markdown",
   "metadata": {},
   "source": [
    "## 5 Compute the new Costs"
   ]
  },
  {
   "cell_type": "code",
   "execution_count": 18,
   "metadata": {
    "collapsed": true
   },
   "outputs": [],
   "source": [
    "for key,element in models_df.iterrows():\n",
    "    models_df.loc[key,'minimum_cost'] = (element['tn'] * min_cost_matrix_df.loc['Minimum_Costs','tn_cost']) +\\\n",
    "                                        (element['fp'] * min_cost_matrix_df.loc['Minimum_Costs','fp_cost']) +\\\n",
    "                                        (element['fn'] * min_cost_matrix_df.loc['Minimum_Costs','fn_cost']) +\\\n",
    "                                        (element['tp'] * min_cost_matrix_df.loc['Minimum_Costs','tp_cost'])"
   ]
  },
  {
   "cell_type": "code",
   "execution_count": 19,
   "metadata": {},
   "outputs": [
    {
     "data": {
      "text/html": [
       "<div>\n",
       "<style scoped>\n",
       "    .dataframe tbody tr th:only-of-type {\n",
       "        vertical-align: middle;\n",
       "    }\n",
       "\n",
       "    .dataframe tbody tr th {\n",
       "        vertical-align: top;\n",
       "    }\n",
       "\n",
       "    .dataframe thead th {\n",
       "        text-align: right;\n",
       "    }\n",
       "</style>\n",
       "<table border=\"1\" class=\"dataframe\">\n",
       "  <thead>\n",
       "    <tr style=\"text-align: right;\">\n",
       "      <th>model</th>\n",
       "      <th>tp</th>\n",
       "      <th>fp</th>\n",
       "      <th>fn</th>\n",
       "      <th>tn</th>\n",
       "      <th>total_cost</th>\n",
       "      <th>minimum_cost</th>\n",
       "    </tr>\n",
       "  </thead>\n",
       "  <tbody>\n",
       "    <tr>\n",
       "      <th>All_Patients</th>\n",
       "      <td>41</td>\n",
       "      <td>4111</td>\n",
       "      <td>20</td>\n",
       "      <td>26605</td>\n",
       "      <td>205144.0</td>\n",
       "      <td>202277.0</td>\n",
       "    </tr>\n",
       "    <tr>\n",
       "      <th>Female_Patients_No_Menopause</th>\n",
       "      <td>3</td>\n",
       "      <td>1005</td>\n",
       "      <td>3</td>\n",
       "      <td>3888</td>\n",
       "      <td>48876.0</td>\n",
       "      <td>48594.0</td>\n",
       "    </tr>\n",
       "    <tr>\n",
       "      <th>Male_Patients</th>\n",
       "      <td>12</td>\n",
       "      <td>2813</td>\n",
       "      <td>6</td>\n",
       "      <td>13005</td>\n",
       "      <td>135775.0</td>\n",
       "      <td>134929.0</td>\n",
       "    </tr>\n",
       "    <tr>\n",
       "      <th>Other_Patients</th>\n",
       "      <td>28</td>\n",
       "      <td>2369</td>\n",
       "      <td>7</td>\n",
       "      <td>18330</td>\n",
       "      <td>116159.0</td>\n",
       "      <td>114514.0</td>\n",
       "    </tr>\n",
       "    <tr>\n",
       "      <th>Women_Menopause</th>\n",
       "      <td>24</td>\n",
       "      <td>2248</td>\n",
       "      <td>15</td>\n",
       "      <td>7756</td>\n",
       "      <td>114284.0</td>\n",
       "      <td>112451.0</td>\n",
       "    </tr>\n",
       "  </tbody>\n",
       "</table>\n",
       "</div>"
      ],
      "text/plain": [
       "model                         tp    fp  fn     tn  total_cost  minimum_cost\n",
       "All_Patients                  41  4111  20  26605    205144.0      202277.0\n",
       "Female_Patients_No_Menopause   3  1005   3   3888     48876.0       48594.0\n",
       "Male_Patients                 12  2813   6  13005    135775.0      134929.0\n",
       "Other_Patients                28  2369   7  18330    116159.0      114514.0\n",
       "Women_Menopause               24  2248  15   7756    114284.0      112451.0"
      ]
     },
     "execution_count": 19,
     "metadata": {},
     "output_type": "execute_result"
    }
   ],
   "source": [
    "models_df"
   ]
  },
  {
   "cell_type": "markdown",
   "metadata": {},
   "source": [
    "## 5 Compare the models"
   ]
  },
  {
   "cell_type": "code",
   "execution_count": 20,
   "metadata": {
    "collapsed": true
   },
   "outputs": [],
   "source": [
    "all_patients_costs = models_df.loc['All_Patients','minimum_cost']\n",
    "\n",
    "tsne_division_costs = models_df.loc['Other_Patients','minimum_cost'] +\\\n",
    "                        models_df.loc['Women_Menopause','minimum_cost']\n",
    "\n",
    "complete_division_costs = models_df.loc['Female_Patients_No_Menopause','minimum_cost'] +\\\n",
    "                            models_df.loc['Male_Patients','minimum_cost'] +\\\n",
    "                            models_df.loc['Women_Menopause','minimum_cost']"
   ]
  },
  {
   "cell_type": "code",
   "execution_count": 21,
   "metadata": {},
   "outputs": [
    {
     "name": "stdout",
     "output_type": "stream",
     "text": [
      "The best model by the Cost Matrix Analysis is : All_Patients\n"
     ]
    }
   ],
   "source": [
    "if min(all_patients_costs, tsne_division_costs, complete_division_costs) == all_patients_costs:\n",
    "    print(\"The best model by the Cost Matrix Analysis is : All_Patients\")\n",
    "elif min(all_patients_costs, tsne_division_costs, complete_division_costs) == tsne_division_costs:\n",
    "    print(\"The best model by the Cost Matrix Analysis is the one suggesed from the t-SNE Analysis\")\n",
    "else:\n",
    "    print(\"The best model by the Cost Matrix Analysis is the one composed by the three models full divided\")"
   ]
  },
  {
   "cell_type": "code",
   "execution_count": null,
   "metadata": {
    "collapsed": true
   },
   "outputs": [],
   "source": []
  },
  {
   "cell_type": "code",
   "execution_count": 22,
   "metadata": {},
   "outputs": [
    {
     "data": {
      "text/plain": [
       "(202277.0, 226965.0, 295974.0)"
      ]
     },
     "execution_count": 22,
     "metadata": {},
     "output_type": "execute_result"
    }
   ],
   "source": [
    "all_patients_costs, tsne_division_costs, complete_division_costs"
   ]
  },
  {
   "cell_type": "code",
   "execution_count": null,
   "metadata": {
    "collapsed": true
   },
   "outputs": [],
   "source": []
  }
 ],
 "metadata": {
  "kernelspec": {
   "display_name": "Python 2",
   "language": "python",
   "name": "python2"
  },
  "language_info": {
   "codemirror_mode": {
    "name": "ipython",
    "version": 2
   },
   "file_extension": ".py",
   "mimetype": "text/x-python",
   "name": "python",
   "nbconvert_exporter": "python",
   "pygments_lexer": "ipython2",
   "version": "2.7.14"
  }
 },
 "nbformat": 4,
 "nbformat_minor": 2
}
