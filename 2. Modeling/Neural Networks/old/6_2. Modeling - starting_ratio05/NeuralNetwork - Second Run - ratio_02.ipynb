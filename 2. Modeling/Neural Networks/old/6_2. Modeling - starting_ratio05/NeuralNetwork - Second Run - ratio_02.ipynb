{
 "cells": [
  {
   "cell_type": "markdown",
   "metadata": {},
   "source": [
    "# <center><b><h1>NeuralNetwork (All Features)</h1></b></center>"
   ]
  },
  {
   "cell_type": "code",
   "execution_count": 1,
   "metadata": {},
   "outputs": [],
   "source": [
    "import matplotlib\n",
    "import matplotlib.pyplot as plt\n",
    "%matplotlib inline\n",
    "import numpy as np\n",
    "from sklearn import datasets\n",
    "from sklearn.feature_selection import SelectFromModel\n",
    "from sklearn.metrics import accuracy_score, r2_score, recall_score, auc, roc_auc_score, roc_curve\n",
    "import pandas as pd\n",
    "from sklearn.externals import joblib\n",
    "from scipy.stats import spearmanr, pearsonr\n",
    "from sklearn.metrics import classification_report,confusion_matrix, accuracy_score, precision_score\n",
    "import itertools\n",
    "\n",
    "from sklearn.neural_network import MLPClassifier"
   ]
  },
  {
   "cell_type": "markdown",
   "metadata": {},
   "source": [
    "## 1. Prepare the data"
   ]
  },
  {
   "cell_type": "code",
   "execution_count": 2,
   "metadata": {},
   "outputs": [],
   "source": [
    "ratio_folder = \"ratio0.5/\""
   ]
  },
  {
   "cell_type": "code",
   "execution_count": 3,
   "metadata": {
    "scrolled": true
   },
   "outputs": [
    {
     "data": {
      "text/plain": [
       "(33096, 16)"
      ]
     },
     "execution_count": 3,
     "metadata": {},
     "output_type": "execute_result"
    }
   ],
   "source": [
    "df_X_train = pd.read_csv(\"../Data/\"+ratio_folder+\"X_train.csv\", index_col=0)\n",
    "df_X_train.shape"
   ]
  },
  {
   "cell_type": "code",
   "execution_count": 4,
   "metadata": {},
   "outputs": [
    {
     "data": {
      "text/plain": [
       "(33096, 1)"
      ]
     },
     "execution_count": 4,
     "metadata": {},
     "output_type": "execute_result"
    }
   ],
   "source": [
    "df_y_train = pd.read_csv(\"../Data/\"+ratio_folder+\"y_train.csv\", index_col=0)\n",
    "df_y_train.shape"
   ]
  },
  {
   "cell_type": "code",
   "execution_count": 5,
   "metadata": {},
   "outputs": [
    {
     "data": {
      "text/plain": [
       "(30777, 16)"
      ]
     },
     "execution_count": 5,
     "metadata": {},
     "output_type": "execute_result"
    }
   ],
   "source": [
    "df_X_val = pd.read_csv(\"../Data/\"+ratio_folder+\"X_val.csv\", index_col=0)\n",
    "df_X_val.shape"
   ]
  },
  {
   "cell_type": "code",
   "execution_count": 6,
   "metadata": {},
   "outputs": [
    {
     "data": {
      "text/plain": [
       "(30777, 1)"
      ]
     },
     "execution_count": 6,
     "metadata": {},
     "output_type": "execute_result"
    }
   ],
   "source": [
    "df_y_val = pd.read_csv(\"../Data/\"+ratio_folder+\"y_val.csv\", index_col=0)\n",
    "df_y_val.shape"
   ]
  },
  {
   "cell_type": "markdown",
   "metadata": {},
   "source": [
    "## 2. Finding the best number of layers (between 1 and 2) and the best number of neurons"
   ]
  },
  {
   "cell_type": "markdown",
   "metadata": {},
   "source": [
    "### 2.1 AUC based"
   ]
  },
  {
   "cell_type": "code",
   "execution_count": 7,
   "metadata": {
    "scrolled": true
   },
   "outputs": [
    {
     "name": "stdout",
     "output_type": "stream",
     "text": [
      "I:  1 Best_I:  1 Best_Score:  0.5 Actual_Score:  0.5\n",
      "I:  2 Best_I:  2 Best_Score:  0.5095769476238662 Actual_Score:  0.5095769476238662\n",
      "I:  3 Best_I:  2 Best_Score:  0.5095769476238662 Actual_Score:  0.502388764843348\n",
      "I:  4 Best_I:  4 Best_Score:  0.5119140613532719 Actual_Score:  0.5119140613532719\n",
      "I:  5 Best_I:  5 Best_Score:  0.5134761405970297 Actual_Score:  0.5134761405970297\n",
      "I:  6 Best_I:  6 Best_Score:  0.5150306130043064 Actual_Score:  0.5150306130043064\n",
      "I:  7 Best_I:  7 Best_Score:  0.5283471290470156 Actual_Score:  0.5283471290470156\n",
      "I:  8 Best_I:  7 Best_Score:  0.5283471290470156 Actual_Score:  0.5273876461325852\n",
      "I:  9 Best_I:  7 Best_Score:  0.5283471290470156 Actual_Score:  0.5207536119679519\n",
      "I:  10 Best_I:  10 Best_Score:  0.5349467291356872 Actual_Score:  0.5349467291356872\n",
      "I:  11 Best_I:  11 Best_Score:  0.5369943566199193 Actual_Score:  0.5369943566199193\n",
      "I:  12 Best_I:  12 Best_Score:  0.5400718029824988 Actual_Score:  0.5400718029824988\n",
      "I:  13 Best_I:  12 Best_Score:  0.5400718029824988 Actual_Score:  0.5343911127078084\n",
      "I:  14 Best_I:  14 Best_Score:  0.5455771194768814 Actual_Score:  0.5455771194768814\n",
      "I:  15 Best_I:  15 Best_Score:  0.556753783820967 Actual_Score:  0.556753783820967\n",
      "I:  16 Best_I:  15 Best_Score:  0.556753783820967 Actual_Score:  0.5415839667008204\n",
      "I:  17 Best_I:  15 Best_Score:  0.556753783820967 Actual_Score:  0.5535088382910732\n",
      "I:  18 Best_I:  18 Best_Score:  0.5580278446315451 Actual_Score:  0.5580278446315451\n",
      "I:  19 Best_I:  19 Best_Score:  0.5587777874662185 Actual_Score:  0.5587777874662185\n",
      "I:  20 Best_I:  19 Best_Score:  0.5587777874662185 Actual_Score:  0.5514253089188859\n",
      "I:  21 Best_I:  19 Best_Score:  0.5587777874662185 Actual_Score:  0.5582376524878144\n",
      "I:  22 Best_I:  19 Best_Score:  0.5587777874662185 Actual_Score:  0.5509400284549241\n",
      "I:  23 Best_I:  23 Best_Score:  0.5658673392313458 Actual_Score:  0.5658673392313458\n",
      "I:  24 Best_I:  23 Best_Score:  0.5658673392313458 Actual_Score:  0.5576522731964677\n",
      "I:  25 Best_I:  23 Best_Score:  0.5658673392313458 Actual_Score:  0.5554560991714081\n",
      "I:  26 Best_I:  26 Best_Score:  0.572297704564197 Actual_Score:  0.572297704564197\n",
      "I:  27 Best_I:  26 Best_Score:  0.572297704564197 Actual_Score:  0.5595933950523153\n",
      "I:  28 Best_I:  26 Best_Score:  0.572297704564197 Actual_Score:  0.5670567826640137\n",
      "I:  29 Best_I:  26 Best_Score:  0.572297704564197 Actual_Score:  0.5579732578936152\n",
      "I:  30 Best_I:  26 Best_Score:  0.572297704564197 Actual_Score:  0.5610194735807329\n",
      "I:  31 Best_I:  26 Best_Score:  0.572297704564197 Actual_Score:  0.5638558814115813\n",
      "Best_I:  26 Best_Score:  0.572297704564197\n"
     ]
    }
   ],
   "source": [
    "best_score_sl = actual_score = 0\n",
    "best_i_sl = 0\n",
    "for i in range(1,32,1):\n",
    "    mlp = MLPClassifier(hidden_layer_sizes=(i,), max_iter=200000,verbose=False)\n",
    "    mlp.fit(df_X_train,df_y_train['Class'].values)\n",
    "    predictions = mlp.predict(df_X_val.values)\n",
    "    fpr, tpr, thresholds = roc_curve(df_y_val['Class'].values, predictions, pos_label=1)\n",
    "    actual_score = auc(fpr, tpr)\n",
    "    if actual_score > best_score_sl:\n",
    "        best_score_sl = actual_score\n",
    "        best_i_sl = i\n",
    "    print(\"I: \", i, \"Best_I: \",best_i_sl,\"Best_Score: \", best_score_sl,\"Actual_Score: \", actual_score)\n",
    "print(\"Best_I: \",best_i_sl,\"Best_Score: \", best_score_sl)"
   ]
  },
  {
   "cell_type": "code",
   "execution_count": null,
   "metadata": {
    "scrolled": true
   },
   "outputs": [
    {
     "name": "stdout",
     "output_type": "stream",
     "text": [
      "I,J:  1 - 1\n",
      "I,J:  1 - 2\n",
      "I,J:  1 - 3\n",
      "I,J:  1 - 4\n",
      "I,J:  1 - 5\n",
      "I,J:  1 - 6\n",
      "I,J:  1 - 7\n",
      "I,J:  1 - 8\n",
      "I,J:  1 - 9\n",
      "I,J:  1 - 10\n",
      "I,J:  1 - 11\n",
      "I,J:  1 - 12\n",
      "I,J:  1 - 13\n",
      "I,J:  1 - 14\n",
      "I,J:  1 - 15\n",
      "I,J:  1 - 16\n",
      "I,J:  1 - 17\n",
      "I,J:  1 - 18\n",
      "I,J:  1 - 19\n",
      "I,J:  1 - 20\n",
      "I,J:  1 - 21\n",
      "I,J:  1 - 22\n",
      "I,J:  1 - 23\n",
      "I,J:  1 - 24\n",
      "I,J:  1 - 25\n",
      "I,J:  1 - 26\n",
      "I,J:  1 - 27\n",
      "I,J:  1 - 28\n",
      "I,J:  1 - 29\n",
      "I,J:  1 - 30\n",
      "I,J:  1 - 31\n",
      "Best_I:  1 Best_J:  14 Best_Score:  0.5002880184331797 Actual_Score:  0.5\n",
      "I,J:  2 - 1\n",
      "I,J:  2 - 2\n",
      "I,J:  2 - 3\n",
      "I,J:  2 - 4\n",
      "I,J:  2 - 5\n",
      "I,J:  2 - 6\n",
      "I,J:  2 - 7\n",
      "I,J:  2 - 8\n",
      "I,J:  2 - 9\n",
      "I,J:  2 - 10\n",
      "I,J:  2 - 11\n",
      "I,J:  2 - 12\n",
      "I,J:  2 - 13\n",
      "I,J:  2 - 14\n",
      "I,J:  2 - 15\n",
      "I,J:  2 - 16\n",
      "I,J:  2 - 17\n",
      "I,J:  2 - 18\n",
      "I,J:  2 - 19\n",
      "I,J:  2 - 20\n",
      "I,J:  2 - 21\n",
      "I,J:  2 - 22\n",
      "I,J:  2 - 23\n",
      "I,J:  2 - 24\n",
      "I,J:  2 - 25\n",
      "I,J:  2 - 26\n",
      "I,J:  2 - 27\n",
      "I,J:  2 - 28\n",
      "I,J:  2 - 29\n",
      "I,J:  2 - 30\n",
      "I,J:  2 - 31\n",
      "Best_I:  2 Best_J:  1 Best_Score:  0.5085798272329745 Actual_Score:  0.5\n",
      "I,J:  3 - 1\n",
      "I,J:  3 - 2\n",
      "I,J:  3 - 3\n",
      "I,J:  3 - 4\n",
      "I,J:  3 - 5\n",
      "I,J:  3 - 6\n",
      "I,J:  3 - 7\n",
      "I,J:  3 - 8\n",
      "I,J:  3 - 9\n",
      "I,J:  3 - 10\n",
      "I,J:  3 - 11\n",
      "I,J:  3 - 12\n",
      "I,J:  3 - 13\n",
      "I,J:  3 - 14\n",
      "I,J:  3 - 15\n",
      "I,J:  3 - 16\n",
      "I,J:  3 - 17\n",
      "I,J:  3 - 18\n",
      "I,J:  3 - 19\n",
      "I,J:  3 - 20\n",
      "I,J:  3 - 21\n",
      "I,J:  3 - 22\n",
      "I,J:  3 - 23\n",
      "I,J:  3 - 24\n",
      "I,J:  3 - 25\n",
      "I,J:  3 - 26\n",
      "I,J:  3 - 27\n",
      "I,J:  3 - 28\n",
      "I,J:  3 - 29\n",
      "I,J:  3 - 30\n",
      "I,J:  3 - 31\n",
      "Best_I:  3 Best_J:  15 Best_Score:  0.512137882847022 Actual_Score:  0.5020240036452517\n",
      "I,J:  4 - 1\n",
      "I,J:  4 - 2\n",
      "I,J:  4 - 3\n",
      "I,J:  4 - 4\n",
      "I,J:  4 - 5\n",
      "I,J:  4 - 6\n",
      "I,J:  4 - 7\n",
      "I,J:  4 - 8\n",
      "I,J:  4 - 9\n",
      "I,J:  4 - 10\n",
      "I,J:  4 - 11\n",
      "I,J:  4 - 12\n",
      "I,J:  4 - 13\n",
      "I,J:  4 - 14\n",
      "I,J:  4 - 15\n",
      "I,J:  4 - 16\n",
      "I,J:  4 - 17\n",
      "I,J:  4 - 18\n",
      "I,J:  4 - 19\n",
      "I,J:  4 - 20\n",
      "I,J:  4 - 21\n",
      "I,J:  4 - 22\n",
      "I,J:  4 - 23\n",
      "I,J:  4 - 24\n",
      "I,J:  4 - 25\n",
      "I,J:  4 - 26\n",
      "I,J:  4 - 27\n",
      "I,J:  4 - 28\n",
      "I,J:  4 - 29\n",
      "I,J:  4 - 30\n",
      "I,J:  4 - 31\n",
      "Best_I:  4 Best_J:  2 Best_Score:  0.5271527466253415 Actual_Score:  0.5098868543075203\n",
      "I,J:  5 - 1\n",
      "I,J:  5 - 2\n",
      "I,J:  5 - 3\n",
      "I,J:  5 - 4\n",
      "I,J:  5 - 5\n",
      "I,J:  5 - 6\n",
      "I,J:  5 - 7\n",
      "I,J:  5 - 8\n",
      "I,J:  5 - 9\n",
      "I,J:  5 - 10\n",
      "I,J:  5 - 11\n",
      "I,J:  5 - 12\n",
      "I,J:  5 - 13\n",
      "I,J:  5 - 14\n",
      "I,J:  5 - 15\n",
      "I,J:  5 - 16\n",
      "I,J:  5 - 17\n",
      "I,J:  5 - 18\n",
      "I,J:  5 - 19\n",
      "I,J:  5 - 20\n",
      "I,J:  5 - 21\n",
      "I,J:  5 - 22\n",
      "I,J:  5 - 23\n",
      "I,J:  5 - 24\n",
      "I,J:  5 - 25\n",
      "I,J:  5 - 26\n",
      "I,J:  5 - 27\n",
      "I,J:  5 - 28\n",
      "I,J:  5 - 29\n",
      "I,J:  5 - 30\n",
      "I,J:  5 - 31\n",
      "Best_I:  4 Best_J:  2 Best_Score:  0.5271527466253415 Actual_Score:  0.5116385887455792\n",
      "I,J:  6 - 1\n",
      "I,J:  6 - 2\n",
      "I,J:  6 - 3\n",
      "I,J:  6 - 4\n",
      "I,J:  6 - 5\n",
      "I,J:  6 - 6\n",
      "I,J:  6 - 7\n",
      "I,J:  6 - 8\n",
      "I,J:  6 - 9\n",
      "I,J:  6 - 10\n",
      "I,J:  6 - 11\n",
      "I,J:  6 - 12\n",
      "I,J:  6 - 13\n",
      "I,J:  6 - 14\n",
      "I,J:  6 - 15\n",
      "I,J:  6 - 16\n",
      "I,J:  6 - 17\n",
      "I,J:  6 - 18\n",
      "I,J:  6 - 19\n",
      "I,J:  6 - 20\n",
      "I,J:  6 - 21\n",
      "I,J:  6 - 22\n",
      "I,J:  6 - 23\n",
      "I,J:  6 - 24\n",
      "I,J:  6 - 25\n",
      "I,J:  6 - 26\n",
      "I,J:  6 - 27\n",
      "I,J:  6 - 28\n",
      "I,J:  6 - 29\n",
      "I,J:  6 - 30\n",
      "I,J:  6 - 31\n",
      "Best_I:  6 Best_J:  1 Best_Score:  0.5285694827287719 Actual_Score:  0.5125542951590608\n",
      "I,J:  7 - 1\n",
      "I,J:  7 - 2\n",
      "I,J:  7 - 3\n",
      "I,J:  7 - 4\n",
      "I,J:  7 - 5\n",
      "I,J:  7 - 6\n",
      "I,J:  7 - 7\n",
      "I,J:  7 - 8\n",
      "I,J:  7 - 9\n",
      "I,J:  7 - 10\n",
      "I,J:  7 - 11\n",
      "I,J:  7 - 12\n",
      "I,J:  7 - 13\n",
      "I,J:  7 - 14\n",
      "I,J:  7 - 15\n",
      "I,J:  7 - 16\n",
      "I,J:  7 - 17\n",
      "I,J:  7 - 18\n",
      "I,J:  7 - 19\n",
      "I,J:  7 - 20\n",
      "I,J:  7 - 21\n",
      "I,J:  7 - 22\n",
      "I,J:  7 - 23\n",
      "I,J:  7 - 24\n",
      "I,J:  7 - 25\n",
      "I,J:  7 - 26\n",
      "I,J:  7 - 27\n",
      "I,J:  7 - 28\n",
      "I,J:  7 - 29\n",
      "I,J:  7 - 30\n",
      "I,J:  7 - 31\n",
      "Best_I:  7 Best_J:  2 Best_Score:  0.5333610260529489 Actual_Score:  0.5201697004885989\n",
      "I,J:  8 - 1\n",
      "I,J:  8 - 2\n",
      "I,J:  8 - 3\n",
      "I,J:  8 - 4\n",
      "I,J:  8 - 5\n",
      "I,J:  8 - 6\n",
      "I,J:  8 - 7\n",
      "I,J:  8 - 8\n",
      "I,J:  8 - 9\n",
      "I,J:  8 - 10\n",
      "I,J:  8 - 11\n",
      "I,J:  8 - 12\n",
      "I,J:  8 - 13\n",
      "I,J:  8 - 14\n",
      "I,J:  8 - 15\n",
      "I,J:  8 - 16\n",
      "I,J:  8 - 17\n",
      "I,J:  8 - 18\n",
      "I,J:  8 - 19\n",
      "I,J:  8 - 20\n",
      "I,J:  8 - 21\n",
      "I,J:  8 - 22\n",
      "I,J:  8 - 23\n",
      "I,J:  8 - 24\n",
      "I,J:  8 - 25\n",
      "I,J:  8 - 26\n",
      "I,J:  8 - 27\n",
      "I,J:  8 - 28\n",
      "I,J:  8 - 29\n",
      "I,J:  8 - 30\n",
      "I,J:  8 - 31\n",
      "Best_I:  8 Best_J:  17 Best_Score:  0.5468934889764145 Actual_Score:  0.5166288619125321\n",
      "I,J:  9 - 1\n",
      "I,J:  9 - 2\n",
      "I,J:  9 - 3\n",
      "I,J:  9 - 4\n",
      "I,J:  9 - 5\n",
      "I,J:  9 - 6\n",
      "I,J:  9 - 7\n",
      "I,J:  9 - 8\n",
      "I,J:  9 - 9\n",
      "I,J:  9 - 10\n",
      "I,J:  9 - 11\n",
      "I,J:  9 - 12\n",
      "I,J:  9 - 13\n",
      "I,J:  9 - 14\n",
      "I,J:  9 - 15\n",
      "I,J:  9 - 16\n",
      "I,J:  9 - 17\n",
      "I,J:  9 - 18\n",
      "I,J:  9 - 19\n",
      "I,J:  9 - 20\n",
      "I,J:  9 - 21\n",
      "I,J:  9 - 22\n",
      "I,J:  9 - 23\n",
      "I,J:  9 - 24\n",
      "I,J:  9 - 25\n",
      "I,J:  9 - 26\n",
      "I,J:  9 - 27\n",
      "I,J:  9 - 28\n",
      "I,J:  9 - 29\n",
      "I,J:  9 - 30\n",
      "I,J:  9 - 31\n",
      "Best_I:  9 Best_J:  21 Best_Score:  0.5544309515055545 Actual_Score:  0.5304668280836707\n",
      "I,J:  10 - 1\n",
      "I,J:  10 - 2\n",
      "I,J:  10 - 3\n",
      "I,J:  10 - 4\n",
      "I,J:  10 - 5\n",
      "I,J:  10 - 6\n",
      "I,J:  10 - 7\n",
      "I,J:  10 - 8\n",
      "I,J:  10 - 9\n",
      "I,J:  10 - 10\n",
      "I,J:  10 - 11\n",
      "I,J:  10 - 12\n",
      "I,J:  10 - 13\n",
      "I,J:  10 - 14\n",
      "I,J:  10 - 15\n",
      "I,J:  10 - 16\n",
      "I,J:  10 - 17\n",
      "I,J:  10 - 18\n",
      "I,J:  10 - 19\n",
      "I,J:  10 - 20\n",
      "I,J:  10 - 21\n",
      "I,J:  10 - 22\n",
      "I,J:  10 - 23\n",
      "I,J:  10 - 24\n",
      "I,J:  10 - 25\n",
      "I,J:  10 - 26\n",
      "I,J:  10 - 27\n",
      "I,J:  10 - 28\n",
      "I,J:  10 - 29\n",
      "I,J:  10 - 30\n",
      "I,J:  10 - 31\n",
      "Best_I:  10 Best_J:  31 Best_Score:  0.5582457948773203 Actual_Score:  0.5582457948773203\n",
      "I,J:  11 - 1\n",
      "I,J:  11 - 2\n",
      "I,J:  11 - 3\n",
      "I,J:  11 - 4\n",
      "I,J:  11 - 5\n",
      "I,J:  11 - 6\n",
      "I,J:  11 - 7\n",
      "I,J:  11 - 8\n",
      "I,J:  11 - 9\n",
      "I,J:  11 - 10\n",
      "I,J:  11 - 11\n",
      "I,J:  11 - 12\n",
      "I,J:  11 - 13\n",
      "I,J:  11 - 14\n",
      "I,J:  11 - 15\n",
      "I,J:  11 - 16\n",
      "I,J:  11 - 17\n",
      "I,J:  11 - 18\n",
      "I,J:  11 - 19\n",
      "I,J:  11 - 20\n",
      "I,J:  11 - 21\n",
      "I,J:  11 - 22\n",
      "I,J:  11 - 23\n",
      "I,J:  11 - 24\n",
      "I,J:  11 - 25\n",
      "I,J:  11 - 26\n",
      "I,J:  11 - 27\n",
      "I,J:  11 - 28\n",
      "I,J:  11 - 29\n",
      "I,J:  11 - 30\n",
      "I,J:  11 - 31\n",
      "Best_I:  11 Best_J:  24 Best_Score:  0.5583272088547306 Actual_Score:  0.5348402235073026\n",
      "I,J:  12 - 1\n",
      "I,J:  12 - 2\n",
      "I,J:  12 - 3\n",
      "I,J:  12 - 4\n",
      "I,J:  12 - 5\n",
      "I,J:  12 - 6\n",
      "I,J:  12 - 7\n",
      "I,J:  12 - 8\n",
      "I,J:  12 - 9\n",
      "I,J:  12 - 10\n",
      "I,J:  12 - 11\n",
      "I,J:  12 - 12\n",
      "I,J:  12 - 13\n",
      "I,J:  12 - 14\n",
      "I,J:  12 - 15\n",
      "I,J:  12 - 16\n",
      "I,J:  12 - 17\n",
      "I,J:  12 - 18\n",
      "I,J:  12 - 19\n",
      "I,J:  12 - 20\n",
      "I,J:  12 - 21\n",
      "I,J:  12 - 22\n",
      "I,J:  12 - 23\n",
      "I,J:  12 - 24\n",
      "I,J:  12 - 25\n",
      "I,J:  12 - 26\n",
      "I,J:  12 - 27\n",
      "I,J:  12 - 28\n",
      "I,J:  12 - 29\n",
      "I,J:  12 - 30\n",
      "I,J:  12 - 31\n",
      "Best_I:  12 Best_J:  28 Best_Score:  0.5624172570576764 Actual_Score:  0.5438866463542645\n",
      "I,J:  13 - 1\n",
      "I,J:  13 - 2\n",
      "I,J:  13 - 3\n",
      "I,J:  13 - 4\n",
      "I,J:  13 - 5\n",
      "I,J:  13 - 6\n",
      "I,J:  13 - 7\n",
      "I,J:  13 - 8\n",
      "I,J:  13 - 9\n",
      "I,J:  13 - 10\n",
      "I,J:  13 - 11\n",
      "I,J:  13 - 12\n",
      "I,J:  13 - 13\n",
      "I,J:  13 - 14\n",
      "I,J:  13 - 15\n",
      "I,J:  13 - 16\n",
      "I,J:  13 - 17\n",
      "I,J:  13 - 18\n",
      "I,J:  13 - 19\n",
      "I,J:  13 - 20\n",
      "I,J:  13 - 21\n",
      "I,J:  13 - 22\n",
      "I,J:  13 - 23\n",
      "I,J:  13 - 24\n",
      "I,J:  13 - 25\n",
      "I,J:  13 - 26\n",
      "I,J:  13 - 27\n",
      "I,J:  13 - 28\n",
      "I,J:  13 - 29\n",
      "I,J:  13 - 30\n",
      "I,J:  13 - 31\n",
      "Best_I:  12 Best_J:  28 Best_Score:  0.5624172570576764 Actual_Score:  0.5503782730025578\n",
      "I,J:  14 - 1\n",
      "I,J:  14 - 2\n",
      "I,J:  14 - 3\n",
      "I,J:  14 - 4\n",
      "I,J:  14 - 5\n",
      "I,J:  14 - 6\n",
      "I,J:  14 - 7\n",
      "I,J:  14 - 8\n",
      "I,J:  14 - 9\n",
      "I,J:  14 - 10\n",
      "I,J:  14 - 11\n",
      "I,J:  14 - 12\n",
      "I,J:  14 - 13\n",
      "I,J:  14 - 14\n",
      "I,J:  14 - 15\n",
      "I,J:  14 - 16\n",
      "I,J:  14 - 17\n",
      "I,J:  14 - 18\n",
      "I,J:  14 - 19\n",
      "I,J:  14 - 20\n"
     ]
    }
   ],
   "source": [
    "best_score_twol = actual_score = 0\n",
    "best_i_twol = best_j_twol = 0\n",
    "for i in range(1,32,1):\n",
    "    for j in range(1,32,1):\n",
    "        mlp = MLPClassifier(hidden_layer_sizes=(i,j,), max_iter=200000,verbose=False)\n",
    "        mlp.fit(df_X_train,df_y_train['Class'].values)\n",
    "        predictions = mlp.predict(df_X_val.values)\n",
    "        fpr, tpr, thresholds = roc_curve(df_y_val['Class'].values, predictions, pos_label=1)\n",
    "        actual_score = auc(fpr, tpr)\n",
    "        if actual_score > best_score_twol:\n",
    "            best_score_twol = actual_score\n",
    "            best_i_twol = i\n",
    "            best_j_twol = j\n",
    "        print(\"I,J: \", i,\"-\",j)\n",
    "    print(\"Best_I: \", best_i_twol,\"Best_J: \", best_j_twol,\"Best_Score: \", best_score_twol,\"Actual_Score: \", actual_score)\n",
    "print(\"Best_I: \",best_i_twol,\"Best_I: \",best_j_twol,\"Best_Score: \", best_score_twol)"
   ]
  },
  {
   "cell_type": "markdown",
   "metadata": {},
   "source": [
    "## 3 Find the best random state for both single layer and two layers"
   ]
  },
  {
   "cell_type": "code",
   "execution_count": null,
   "metadata": {
    "scrolled": true
   },
   "outputs": [],
   "source": [
    "best_score_sl = actual_score = 0\n",
    "best_random_state_sl = 0\n",
    "for i in range(1,100,1):\n",
    "    mlp = MLPClassifier(hidden_layer_sizes=(best_i_sl,), max_iter=200000,verbose=False, random_state=i)\n",
    "    mlp.fit(df_X_train,df_y_train['Class'].values)\n",
    "    predictions = mlp.predict(df_X_val.values)\n",
    "    fpr, tpr, thresholds = roc_curve(df_y_val['Class'].values, predictions, pos_label=1)\n",
    "    actual_score = auc(fpr, tpr)\n",
    "    if actual_score > best_score_sl:\n",
    "        best_score_sl = actual_score\n",
    "        best_random_state_sl = i\n",
    "    print(\"I: \", i, \"Best_Random_State: \",best_random_state_sl,\"Best_Score: \", best_score_sl,\"Actual_Score: \", actual_score)\n",
    "print(\"Best_Random_State: \",best_random_state_sl,\"Best_Score: \", best_score_sl)"
   ]
  },
  {
   "cell_type": "code",
   "execution_count": null,
   "metadata": {
    "scrolled": true
   },
   "outputs": [],
   "source": [
    "best_score_twol = actual_score = 0\n",
    "best_random_state_twol = 0\n",
    "for i in range(1,100,1):\n",
    "    mlp = MLPClassifier(hidden_layer_sizes=(best_i_twol,best_j_twol), max_iter=200000,verbose=False, random_state=i)\n",
    "    mlp.fit(df_X_train,df_y_train['Class'].values)\n",
    "    predictions = mlp.predict(df_X_val.values)\n",
    "    fpr, tpr, thresholds = roc_curve(df_y_val['Class'].values, predictions, pos_label=1)\n",
    "    actual_score = auc(fpr, tpr)\n",
    "    if actual_score > best_score_twol:\n",
    "        best_score_twol = actual_score\n",
    "        best_random_state_twol = i\n",
    "    print(\"I: \", i, \"Best_Random_State: \",best_random_state_twol,\"Best_Score: \", best_score_twol,\"Actual_Score: \", actual_score)\n",
    "print(\"Best_Random_State: \",best_random_state_twol,\"Best_Score: \", best_score_twol)"
   ]
  },
  {
   "cell_type": "markdown",
   "metadata": {},
   "source": [
    "## 4. Compute metrics on the best architecture"
   ]
  },
  {
   "cell_type": "code",
   "execution_count": null,
   "metadata": {},
   "outputs": [],
   "source": [
    "if best_score_sl > best_score_twol:\n",
    "    best_architecture = \"Two Layers\"\n",
    "    best_neurons = [best_i_sl]\n",
    "    mlp = MLPClassifier(hidden_layer_sizes=(best_i_sl,), max_iter=200000,verbose=False, random_state=best_random_state_sl)\n",
    "    mlp.fit(df_X_train,df_y_train['Class'].values)\n",
    "else:\n",
    "    best_architecture = \"Two Layers\"\n",
    "    best_neurons = [best_i_twol, best_j_twol]\n",
    "    mlp = MLPClassifier(hidden_layer_sizes=(best_i_twol,best_j_twol), max_iter=200000,verbose=False, random_state=best_random_state_twol)\n",
    "    mlp.fit(df_X_train,df_y_train['Class'].values)\n",
    "\n",
    "predictions = mlp.predict(df_X_val.values)\n",
    "print(\"The best architecture is : \", best_architecture)\n",
    "layer = 0\n",
    "for neuron in best_neurons:\n",
    "    layer += 1\n",
    "    print(\"For the layer \", layer, \" the best number of neurons is : \", neuron)"
   ]
  },
  {
   "cell_type": "markdown",
   "metadata": {},
   "source": [
    "### 4.3 Confusion Matrix"
   ]
  },
  {
   "cell_type": "code",
   "execution_count": null,
   "metadata": {
    "scrolled": false
   },
   "outputs": [],
   "source": [
    "conf_mat = confusion_matrix(df_y_val['Class'].values,predictions)\n",
    "tn, fp, fn, tp = conf_mat.ravel()\n",
    "print(conf_mat)"
   ]
  },
  {
   "cell_type": "markdown",
   "metadata": {},
   "source": [
    "### 4.2 Accuracy"
   ]
  },
  {
   "cell_type": "code",
   "execution_count": null,
   "metadata": {},
   "outputs": [],
   "source": [
    "accuracy = (tp + tn) / float(tp+tn+fp+fn)\n",
    "print(\"Accuracy : \",accuracy)"
   ]
  },
  {
   "cell_type": "markdown",
   "metadata": {},
   "source": [
    "### 4.3 Recall (or Sensitivity)"
   ]
  },
  {
   "cell_type": "code",
   "execution_count": null,
   "metadata": {},
   "outputs": [],
   "source": [
    "recall = tp/(tp+fn)\n",
    "print(\"Recall : \", recall)"
   ]
  },
  {
   "cell_type": "markdown",
   "metadata": {},
   "source": [
    "### 4.4 Error"
   ]
  },
  {
   "cell_type": "code",
   "execution_count": null,
   "metadata": {},
   "outputs": [],
   "source": [
    "classification_error = (fp + fn) / float(tp+tn+fp+fn)\n",
    "print(\"Error : \",classification_error)"
   ]
  },
  {
   "cell_type": "markdown",
   "metadata": {},
   "source": [
    "### 4.5 Specificity"
   ]
  },
  {
   "cell_type": "code",
   "execution_count": null,
   "metadata": {},
   "outputs": [],
   "source": [
    "specificity = tn / (tn+fp)\n",
    "\n",
    "print(specificity)"
   ]
  },
  {
   "cell_type": "markdown",
   "metadata": {},
   "source": [
    "### 4.6 False Positive Rate: When the actual value is negative, how often is the prediction incorrect?"
   ]
  },
  {
   "cell_type": "code",
   "execution_count": null,
   "metadata": {},
   "outputs": [],
   "source": [
    "false_positive_rate = fp / float(tn+fp)\n",
    "\n",
    "print(false_positive_rate)\n",
    "print(1 - specificity)"
   ]
  },
  {
   "cell_type": "markdown",
   "metadata": {},
   "source": [
    "### 4.7 Precision: When a positive value is predicted, how often is the prediction correct?"
   ]
  },
  {
   "cell_type": "code",
   "execution_count": null,
   "metadata": {},
   "outputs": [],
   "source": [
    "precision = tp / float(tp+fp)\n",
    "\n",
    "print(precision)"
   ]
  },
  {
   "cell_type": "markdown",
   "metadata": {},
   "source": [
    "## 5 Metrics visualization"
   ]
  },
  {
   "cell_type": "code",
   "execution_count": null,
   "metadata": {},
   "outputs": [],
   "source": [
    "fpr, tpr, thresholds = roc_curve(df_y_val, predictions)\n",
    "\n",
    "plt.plot(fpr, tpr)\n",
    "plt.xlim([0.0, 1.0])\n",
    "plt.ylim([0.0, 1.0])\n",
    "plt.rcParams['font.size'] = 12\n",
    "plt.title('ROC curve')\n",
    "plt.xlabel('False Positive Rate')\n",
    "plt.ylabel('True Positive Rate')\n",
    "plt.grid(True)"
   ]
  },
  {
   "cell_type": "markdown",
   "metadata": {},
   "source": [
    "## 6. Save the model"
   ]
  },
  {
   "cell_type": "code",
   "execution_count": null,
   "metadata": {},
   "outputs": [],
   "source": [
    "joblib.dump(mlp, 'NeuralNetwork - Second Run - Ratio 02.pkl') "
   ]
  }
 ],
 "metadata": {
  "kernelspec": {
   "display_name": "Python 3",
   "language": "python",
   "name": "python3"
  },
  "language_info": {
   "codemirror_mode": {
    "name": "ipython",
    "version": 3
   },
   "file_extension": ".py",
   "mimetype": "text/x-python",
   "name": "python",
   "nbconvert_exporter": "python",
   "pygments_lexer": "ipython3",
   "version": "3.6.5"
  }
 },
 "nbformat": 4,
 "nbformat_minor": 2
}
