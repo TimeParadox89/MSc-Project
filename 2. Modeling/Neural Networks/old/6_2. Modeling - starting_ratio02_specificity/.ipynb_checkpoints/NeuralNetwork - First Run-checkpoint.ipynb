{
 "cells": [
  {
   "cell_type": "markdown",
   "metadata": {},
   "source": [
    "# <center><b><h1>NeuralNetwork (First Run)</h1></b></center>"
   ]
  },
  {
   "cell_type": "code",
   "execution_count": 1,
   "metadata": {},
   "outputs": [],
   "source": [
    "import matplotlib\n",
    "import matplotlib.pyplot as plt\n",
    "%matplotlib inline\n",
    "import numpy as np\n",
    "from sklearn import datasets\n",
    "from sklearn.feature_selection import SelectFromModel\n",
    "from sklearn.metrics import accuracy_score, r2_score, recall_score, auc, roc_auc_score, roc_curve\n",
    "import pandas as pd\n",
    "from sklearn.externals import joblib\n",
    "from scipy.stats import spearmanr, pearsonr\n",
    "from sklearn.metrics import classification_report,confusion_matrix, accuracy_score, precision_score\n",
    "import itertools\n",
    "\n",
    "from sklearn.neural_network import MLPClassifier"
   ]
  },
  {
   "cell_type": "markdown",
   "metadata": {},
   "source": [
    "## 1. Prepare the data"
   ]
  },
  {
   "cell_type": "code",
   "execution_count": 2,
   "metadata": {},
   "outputs": [
    {
     "data": {
      "text/plain": [
       "(516, 16)"
      ]
     },
     "execution_count": 2,
     "metadata": {},
     "output_type": "execute_result"
    }
   ],
   "source": [
    "df_X_train = pd.read_csv(\"../Data/X_train.csv\", index_col=0)\n",
    "df_X_train.shape"
   ]
  },
  {
   "cell_type": "code",
   "execution_count": 3,
   "metadata": {},
   "outputs": [
    {
     "data": {
      "text/plain": [
       "(516, 1)"
      ]
     },
     "execution_count": 3,
     "metadata": {},
     "output_type": "execute_result"
    }
   ],
   "source": [
    "df_y_train = pd.read_csv(\"../Data/y_train.csv\", index_col=0)\n",
    "df_y_train.shape"
   ]
  },
  {
   "cell_type": "code",
   "execution_count": 4,
   "metadata": {},
   "outputs": [
    {
     "data": {
      "text/plain": [
       "(30777, 16)"
      ]
     },
     "execution_count": 4,
     "metadata": {},
     "output_type": "execute_result"
    }
   ],
   "source": [
    "df_X_val = pd.read_csv(\"../Data/X_val.csv\", index_col=0)\n",
    "df_X_val.shape"
   ]
  },
  {
   "cell_type": "code",
   "execution_count": 5,
   "metadata": {},
   "outputs": [
    {
     "data": {
      "text/plain": [
       "(30777, 1)"
      ]
     },
     "execution_count": 5,
     "metadata": {},
     "output_type": "execute_result"
    }
   ],
   "source": [
    "df_y_val = pd.read_csv(\"../Data/y_val.csv\", index_col=0)\n",
    "df_y_val.shape"
   ]
  },
  {
   "cell_type": "markdown",
   "metadata": {},
   "source": [
    "## 2. Finding the best number of layers (between 1 and 2) and the best number of neurons"
   ]
  },
  {
   "cell_type": "markdown",
   "metadata": {},
   "source": [
    "### 2.1 False Positive Rate based"
   ]
  },
  {
   "cell_type": "code",
   "execution_count": 6,
   "metadata": {
    "scrolled": true
   },
   "outputs": [
    {
     "name": "stdout",
     "output_type": "stream",
     "text": [
      "[[21795  8929]\n",
      " [   27    26]]\n",
      "I:  32 Best_I:  32 Best_Score:  0.29061971097513345 Actual_Score:  0.29061971097513345\n",
      "I:  31 Best_I:  32 Best_Score:  0.29061971097513345 Actual_Score:  0.30731675563077726\n",
      "[[21941  8783]\n",
      " [   35    18]]\n",
      "I:  30 Best_I:  30 Best_Score:  0.28586772555656814 Actual_Score:  0.28586772555656814\n",
      "[[22073  8651]\n",
      " [   37    16]]\n",
      "I:  29 Best_I:  29 Best_Score:  0.28157140997265984 Actual_Score:  0.28157140997265984\n",
      "I:  28 Best_I:  29 Best_Score:  0.28157140997265984 Actual_Score:  0.2994401770602786\n",
      "I:  27 Best_I:  29 Best_Score:  0.28157140997265984 Actual_Score:  0.3112875927613592\n",
      "I:  26 Best_I:  29 Best_Score:  0.28157140997265984 Actual_Score:  0.3071865642494467\n",
      "I:  25 Best_I:  29 Best_Score:  0.28157140997265984 Actual_Score:  0.2838172113006119\n",
      "I:  24 Best_I:  29 Best_Score:  0.28157140997265984 Actual_Score:  0.2876578570498633\n",
      "I:  23 Best_I:  29 Best_Score:  0.28157140997265984 Actual_Score:  0.28160395781799247\n",
      "[[22081  8643]\n",
      " [   26    27]]\n",
      "I:  22 Best_I:  22 Best_Score:  0.2813110272099987 Actual_Score:  0.2813110272099987\n",
      "[[22515  8209]\n",
      " [   34    19]]\n",
      "I:  21 Best_I:  21 Best_Score:  0.2671852623356334 Actual_Score:  0.2671852623356334\n",
      "I:  20 Best_I:  21 Best_Score:  0.2671852623356334 Actual_Score:  0.28433797682593415\n",
      "I:  19 Best_I:  21 Best_Score:  0.2671852623356334 Actual_Score:  0.29221455539643276\n",
      "I:  18 Best_I:  21 Best_Score:  0.2671852623356334 Actual_Score:  0.27424814477281606\n",
      "I:  17 Best_I:  21 Best_Score:  0.2671852623356334 Actual_Score:  0.26832443692227576\n",
      "I:  16 Best_I:  21 Best_Score:  0.2671852623356334 Actual_Score:  0.2776331206874105\n",
      "[[22617  8107]\n",
      " [   39    14]]\n",
      "I:  15 Best_I:  15 Best_Score:  0.2638653821117042 Actual_Score:  0.2638653821117042\n",
      "[[23016  7708]\n",
      " [   36    17]]\n",
      "I:  14 Best_I:  14 Best_Score:  0.25087879182398126 Actual_Score:  0.25087879182398126\n",
      "[[23784  6940]\n",
      " [   41    12]]\n",
      "I:  13 Best_I:  13 Best_Score:  0.22588204660851452 Actual_Score:  0.22588204660851452\n",
      "I:  12 Best_I:  13 Best_Score:  0.22588204660851452 Actual_Score:  0.263344616586382\n",
      "I:  11 Best_I:  13 Best_Score:  0.22588204660851452 Actual_Score:  0.2403983856268715\n",
      "I:  10 Best_I:  13 Best_Score:  0.22588204660851452 Actual_Score:  0.24521546673610206\n",
      "I:  9 Best_I:  13 Best_Score:  0.22588204660851452 Actual_Score:  0.23587423512563468\n",
      "[[25212  5512]\n",
      " [   36    17]]\n",
      "I:  8 Best_I:  8 Best_Score:  0.17940372347350605 Actual_Score:  0.17940372347350605\n",
      "I:  7 Best_I:  8 Best_Score:  0.17940372347350605 Actual_Score:  0.18555526624137483\n",
      "I:  6 Best_I:  8 Best_Score:  0.17940372347350605 Actual_Score:  0.18887514646530398\n",
      "[[27363  3361]\n",
      " [   45     8]]\n",
      "I:  5 Best_I:  5 Best_Score:  0.10939330816299961 Actual_Score:  0.10939330816299961\n",
      "I:  4 Best_I:  5 Best_Score:  0.10939330816299961 Actual_Score:  0.12980080718656425\n",
      "[[30724     0]\n",
      " [   53     0]]\n",
      "I:  3 Best_I:  3 Best_Score:  0.0 Actual_Score:  0.0\n",
      "I:  2 Best_I:  3 Best_Score:  0.0 Actual_Score:  0.03987111053248275\n",
      "Best_I:  3 Best_Score:  0.0\n"
     ]
    }
   ],
   "source": [
    "best_score_sl = 2\n",
    "actual_score = 1\n",
    "best_i_sl = 0\n",
    "for i in range(32,1,-1):\n",
    "    mlp = MLPClassifier(hidden_layer_sizes=(i,), max_iter=200000,verbose=False)\n",
    "    mlp.fit(df_X_train,df_y_train['Class'].values)\n",
    "    predictions = mlp.predict(df_X_val.values)\n",
    "    tn, fp, fn, tp = confusion_matrix(df_y_val['Class'].values,predictions).ravel()\n",
    "    actual_score = fp / float(tn+fp)\n",
    "    if actual_score < best_score_sl:\n",
    "        best_score_sl = actual_score\n",
    "        best_i_sl = i\n",
    "        print(confusion_matrix(df_y_val['Class'].values,predictions))\n",
    "    print(\"I: \", i, \"Best_I: \",best_i_sl,\"Best_Score: \", best_score_sl,\"Actual_Score: \", actual_score)\n",
    "print(\"Best_I: \",best_i_sl,\"Best_Score: \", best_score_sl)"
   ]
  },
  {
   "cell_type": "code",
   "execution_count": 7,
   "metadata": {
    "scrolled": true
   },
   "outputs": [
    {
     "name": "stdout",
     "output_type": "stream",
     "text": [
      "[[22195  8529]\n",
      " [   32    21]]\n",
      "I,J:  32 - 32\n",
      "[[22331  8393]\n",
      " [   35    18]]\n",
      "I,J:  32 - 28\n",
      "[[22417  8307]\n",
      " [   30    23]]\n",
      "I,J:  32 - 20\n",
      "[[22699  8025]\n",
      " [   31    22]]\n",
      "I,J:  32 - 15\n",
      "[[22882  7842]\n",
      " [   35    18]]\n",
      "I,J:  32 - 7\n",
      "[[25167  5557]\n",
      " [   43    10]]\n",
      "I,J:  32 - 3\n",
      "Best_I:  32 Best_J:  3 Best_Score:  0.18086837651347482 Actual_Score:  0.18086837651347482\n",
      "Best_I:  32 Best_J:  3 Best_Score:  0.18086837651347482 Actual_Score:  0.28186434058065357\n",
      "Best_I:  32 Best_J:  3 Best_Score:  0.18086837651347482 Actual_Score:  0.2686499153756021\n",
      "Best_I:  32 Best_J:  3 Best_Score:  0.18086837651347482 Actual_Score:  0.23750162739226663\n",
      "Best_I:  32 Best_J:  3 Best_Score:  0.18086837651347482 Actual_Score:  0.2786421038927223\n",
      "Best_I:  32 Best_J:  3 Best_Score:  0.18086837651347482 Actual_Score:  0.3314672568675954\n",
      "Best_I:  32 Best_J:  3 Best_Score:  0.18086837651347482 Actual_Score:  0.32528316625439396\n",
      "Best_I:  32 Best_J:  3 Best_Score:  0.18086837651347482 Actual_Score:  0.2995052727509439\n",
      "Best_I:  32 Best_J:  3 Best_Score:  0.18086837651347482 Actual_Score:  0.23733888816560345\n",
      "Best_I:  32 Best_J:  3 Best_Score:  0.18086837651347482 Actual_Score:  0.3273336805103502\n",
      "Best_I:  32 Best_J:  3 Best_Score:  0.18086837651347482 Actual_Score:  0.3071214685587814\n",
      "Best_I:  32 Best_J:  3 Best_Score:  0.18086837651347482 Actual_Score:  0.30982293972139047\n",
      "Best_I:  32 Best_J:  3 Best_Score:  0.18086837651347482 Actual_Score:  0.2971292800416612\n",
      "Best_I:  32 Best_J:  3 Best_Score:  0.18086837651347482 Actual_Score:  0.2670225231089702\n",
      "Best_I:  32 Best_J:  3 Best_Score:  0.18086837651347482 Actual_Score:  0.3088790522067439\n",
      "Best_I:  32 Best_J:  3 Best_Score:  0.18086837651347482 Actual_Score:  0.29429761749772165\n",
      "Best_I:  32 Best_J:  3 Best_Score:  0.18086837651347482 Actual_Score:  0.29612029683634944\n",
      "Best_I:  32 Best_J:  3 Best_Score:  0.18086837651347482 Actual_Score:  0.34556047389662803\n",
      "Best_I:  32 Best_J:  3 Best_Score:  0.18086837651347482 Actual_Score:  0.1831141778414269\n",
      "Best_I:  32 Best_J:  3 Best_Score:  0.18086837651347482 Actual_Score:  0.2862582997005598\n",
      "Best_I:  32 Best_J:  3 Best_Score:  0.18086837651347482 Actual_Score:  0.2009178492383804\n",
      "Best_I:  32 Best_J:  3 Best_Score:  0.18086837651347482 Actual_Score:  0.2592110402291368\n",
      "Best_I:  32 Best_J:  3 Best_Score:  0.18086837651347482 Actual_Score:  0.2765590417914334\n",
      "Best_I:  32 Best_J:  3 Best_Score:  0.18086837651347482 Actual_Score:  0.24921885171201666\n",
      "Best_I:  32 Best_J:  3 Best_Score:  0.18086837651347482 Actual_Score:  0.3316299960942586\n",
      "Best_I:  32 Best_J:  3 Best_Score:  0.18086837651347482 Actual_Score:  0.19977867465173804\n",
      "[[25839  4885]\n",
      " [   40    13]]\n",
      "I,J:  6 - 3\n",
      "Best_I:  6 Best_J:  3 Best_Score:  0.1589962244499414 Actual_Score:  0.1589962244499414\n",
      "[[26050  4674]\n",
      " [   39    14]]\n",
      "I,J:  5 - 9\n",
      "[[27286  3438]\n",
      " [   44     9]]\n",
      "I,J:  5 - 4\n",
      "[[28005  2719]\n",
      " [   48     5]]\n",
      "I,J:  5 - 3\n",
      "Best_I:  5 Best_J:  3 Best_Score:  0.08849759145944538 Actual_Score:  0.08849759145944538\n",
      "[[30381   343]\n",
      " [   53     0]]\n",
      "I,J:  4 - 4\n",
      "Best_I:  4 Best_J:  4 Best_Score:  0.01116391094909517 Actual_Score:  0.020244759796901445\n",
      "Best_I:  4 Best_J:  4 Best_Score:  0.01116391094909517 Actual_Score:  0.05276005728420779\n",
      "Best_I:  4 Best_I:  4 Best_Score:  0.01116391094909517\n"
     ]
    }
   ],
   "source": [
    "best_score_twol = 2\n",
    "actual_score = 1\n",
    "best_i_twol = best_j_twol = 0\n",
    "for i in range(32,2,-1):\n",
    "    for j in range(32,2,-1):\n",
    "        mlp = MLPClassifier(hidden_layer_sizes=(i,j,), max_iter=200000,verbose=False)\n",
    "        mlp.fit(df_X_train,df_y_train['Class'].values)\n",
    "        predictions = mlp.predict(df_X_val.values)\n",
    "        tn, fp, fn, tp = confusion_matrix(df_y_val['Class'].values,predictions).ravel()\n",
    "        actual_score = fp / float(tn+fp)\n",
    "        if actual_score < best_score_twol:\n",
    "            best_score_twol = actual_score\n",
    "            best_i_twol = i\n",
    "            best_j_twol = j\n",
    "            print(confusion_matrix(df_y_val['Class'].values,predictions))\n",
    "            print(\"I,J: \", i,\"-\",j)\n",
    "    print(\"Best_I: \", best_i_twol,\"Best_J: \", best_j_twol,\"Best_Score: \", best_score_twol,\"Actual_Score: \", actual_score)\n",
    "print(\"Best_I: \",best_i_twol,\"Best_I: \",best_j_twol,\"Best_Score: \", best_score_twol)"
   ]
  },
  {
   "cell_type": "markdown",
   "metadata": {},
   "source": [
    "## 3 Find the best random state for both single layer and two layers"
   ]
  },
  {
   "cell_type": "code",
   "execution_count": 8,
   "metadata": {
    "scrolled": true
   },
   "outputs": [
    {
     "name": "stdout",
     "output_type": "stream",
     "text": [
      "I:  1 Best_Random_State:  1 Best_Score:  0.08068610857961203 Actual_Score:  0.08068610857961203\n",
      "I:  2 Best_Random_State:  1 Best_Score:  0.08068610857961203 Actual_Score:  0.15593672698867336\n",
      "I:  3 Best_Random_State:  3 Best_Score:  0.05839083452675433 Actual_Score:  0.05839083452675433\n",
      "I:  4 Best_Random_State:  3 Best_Score:  0.05839083452675433 Actual_Score:  0.07902616846764744\n",
      "I:  5 Best_Random_State:  5 Best_Score:  0.03733237859653691 Actual_Score:  0.03733237859653691\n",
      "I:  6 Best_Random_State:  5 Best_Score:  0.03733237859653691 Actual_Score:  0.10330686108579612\n",
      "I:  7 Best_Random_State:  7 Best_Score:  0.03459835958859524 Actual_Score:  0.03459835958859524\n",
      "I:  8 Best_Random_State:  7 Best_Score:  0.03459835958859524 Actual_Score:  0.04680380158833485\n",
      "I:  9 Best_Random_State:  7 Best_Score:  0.03459835958859524 Actual_Score:  0.05100247363624528\n",
      "I:  10 Best_Random_State:  10 Best_Score:  0.0 Actual_Score:  0.0\n",
      "I:  11 Best_Random_State:  10 Best_Score:  0.0 Actual_Score:  0.20514906913162348\n",
      "I:  12 Best_Random_State:  10 Best_Score:  0.0 Actual_Score:  0.10438093998177321\n",
      "I:  13 Best_Random_State:  10 Best_Score:  0.0 Actual_Score:  0.08602395521416482\n",
      "I:  14 Best_Random_State:  10 Best_Score:  0.0 Actual_Score:  0.10223278218981903\n",
      "I:  15 Best_Random_State:  10 Best_Score:  0.0 Actual_Score:  0.034923838041921625\n",
      "I:  16 Best_Random_State:  10 Best_Score:  0.0 Actual_Score:  0.11518682463220935\n",
      "I:  17 Best_Random_State:  10 Best_Score:  0.0 Actual_Score:  0.11919020960812395\n",
      "I:  18 Best_Random_State:  10 Best_Score:  0.0 Actual_Score:  0.19531961984116653\n",
      "I:  19 Best_Random_State:  10 Best_Score:  0.0 Actual_Score:  0.0\n",
      "I:  20 Best_Random_State:  10 Best_Score:  0.0 Actual_Score:  0.06942455409451895\n",
      "I:  21 Best_Random_State:  10 Best_Score:  0.0 Actual_Score:  0.08276917068090092\n",
      "I:  22 Best_Random_State:  10 Best_Score:  0.0 Actual_Score:  0.0769105585210259\n",
      "I:  23 Best_Random_State:  10 Best_Score:  0.0 Actual_Score:  0.13448769691446427\n",
      "I:  24 Best_Random_State:  10 Best_Score:  0.0 Actual_Score:  0.33914854836609815\n",
      "I:  25 Best_Random_State:  10 Best_Score:  0.0 Actual_Score:  0.0\n",
      "I:  26 Best_Random_State:  10 Best_Score:  0.0 Actual_Score:  0.06890378856919673\n",
      "I:  27 Best_Random_State:  10 Best_Score:  0.0 Actual_Score:  0.05428980601484182\n",
      "I:  28 Best_Random_State:  10 Best_Score:  0.0 Actual_Score:  0.2506509569066528\n",
      "I:  29 Best_Random_State:  10 Best_Score:  0.0 Actual_Score:  0.08605650305949746\n",
      "I:  30 Best_Random_State:  10 Best_Score:  0.0 Actual_Score:  0.017022523108970185\n",
      "I:  31 Best_Random_State:  10 Best_Score:  0.0 Actual_Score:  0.0\n",
      "I:  32 Best_Random_State:  10 Best_Score:  0.0 Actual_Score:  0.0\n",
      "I:  33 Best_Random_State:  10 Best_Score:  0.0 Actual_Score:  0.0\n",
      "I:  34 Best_Random_State:  10 Best_Score:  0.0 Actual_Score:  0.15867074599661501\n",
      "I:  35 Best_Random_State:  10 Best_Score:  0.0 Actual_Score:  0.11378726728290588\n",
      "I:  36 Best_Random_State:  10 Best_Score:  0.0 Actual_Score:  0.16885822158573102\n",
      "I:  37 Best_Random_State:  10 Best_Score:  0.0 Actual_Score:  0.11111834396562947\n",
      "I:  38 Best_Random_State:  10 Best_Score:  0.0 Actual_Score:  0.0\n",
      "I:  39 Best_Random_State:  10 Best_Score:  0.0 Actual_Score:  0.041921624788439006\n",
      "I:  40 Best_Random_State:  10 Best_Score:  0.0 Actual_Score:  0.0\n",
      "I:  41 Best_Random_State:  10 Best_Score:  0.0 Actual_Score:  0.02301132665017576\n",
      "I:  42 Best_Random_State:  10 Best_Score:  0.0 Actual_Score:  0.06675563077724254\n",
      "I:  43 Best_Random_State:  10 Best_Score:  0.0 Actual_Score:  0.0974482489259211\n",
      "I:  44 Best_Random_State:  10 Best_Score:  0.0 Actual_Score:  0.08745606040880094\n",
      "I:  45 Best_Random_State:  10 Best_Score:  0.0 Actual_Score:  0.041400859263116783\n",
      "I:  46 Best_Random_State:  10 Best_Score:  0.0 Actual_Score:  0.06551881265460227\n",
      "I:  47 Best_Random_State:  10 Best_Score:  0.0 Actual_Score:  0.021839604218200755\n",
      "I:  48 Best_Random_State:  10 Best_Score:  0.0 Actual_Score:  0.03476109881525843\n",
      "I:  49 Best_Random_State:  10 Best_Score:  0.0 Actual_Score:  0.08211821377424815\n",
      "I:  50 Best_Random_State:  10 Best_Score:  0.0 Actual_Score:  0.04390704335372998\n",
      "I:  51 Best_Random_State:  10 Best_Score:  0.0 Actual_Score:  0.079156359848978\n",
      "I:  52 Best_Random_State:  10 Best_Score:  0.0 Actual_Score:  0.0\n",
      "I:  53 Best_Random_State:  10 Best_Score:  0.0 Actual_Score:  0.023434448639500064\n",
      "I:  54 Best_Random_State:  10 Best_Score:  0.0 Actual_Score:  0.030171852623356334\n",
      "I:  55 Best_Random_State:  10 Best_Score:  0.0 Actual_Score:  0.157140997265981\n",
      "I:  56 Best_Random_State:  10 Best_Score:  0.0 Actual_Score:  0.03127847936466606\n",
      "I:  57 Best_Random_State:  10 Best_Score:  0.0 Actual_Score:  0.021188647311547976\n",
      "I:  58 Best_Random_State:  10 Best_Score:  0.0 Actual_Score:  0.0\n",
      "I:  59 Best_Random_State:  10 Best_Score:  0.0 Actual_Score:  0.17859002734019008\n",
      "I:  60 Best_Random_State:  10 Best_Score:  0.0 Actual_Score:  0.0\n",
      "I:  61 Best_Random_State:  10 Best_Score:  0.0 Actual_Score:  0.0\n",
      "I:  62 Best_Random_State:  10 Best_Score:  0.0 Actual_Score:  0.026624137482098686\n",
      "I:  63 Best_Random_State:  10 Best_Score:  0.0 Actual_Score:  0.047584949876318186\n",
      "I:  64 Best_Random_State:  10 Best_Score:  0.0 Actual_Score:  0.0\n",
      "I:  65 Best_Random_State:  10 Best_Score:  0.0 Actual_Score:  0.0\n",
      "I:  66 Best_Random_State:  10 Best_Score:  0.0 Actual_Score:  0.03225491472464523\n",
      "I:  67 Best_Random_State:  10 Best_Score:  0.0 Actual_Score:  0.04273532092175498\n",
      "I:  68 Best_Random_State:  10 Best_Score:  0.0 Actual_Score:  0.07541335763572452\n",
      "I:  69 Best_Random_State:  10 Best_Score:  0.0 Actual_Score:  0.0686434058065356\n",
      "I:  70 Best_Random_State:  10 Best_Score:  0.0 Actual_Score:  0.07495768780106757\n",
      "I:  71 Best_Random_State:  10 Best_Score:  0.0 Actual_Score:  0.0772360369743523\n",
      "I:  72 Best_Random_State:  10 Best_Score:  0.0 Actual_Score:  0.07293972139044395\n",
      "I:  73 Best_Random_State:  10 Best_Score:  0.0 Actual_Score:  0.034533263897929954\n",
      "I:  74 Best_Random_State:  10 Best_Score:  0.0 Actual_Score:  0.06890378856919673\n",
      "I:  75 Best_Random_State:  10 Best_Score:  0.0 Actual_Score:  0.0\n",
      "I:  76 Best_Random_State:  10 Best_Score:  0.0 Actual_Score:  0.3645358677255566\n",
      "I:  77 Best_Random_State:  10 Best_Score:  0.0 Actual_Score:  0.13552922796510872\n",
      "I:  78 Best_Random_State:  10 Best_Score:  0.0 Actual_Score:  0.0\n",
      "I:  79 Best_Random_State:  10 Best_Score:  0.0 Actual_Score:  0.2602525712797813\n",
      "I:  80 Best_Random_State:  10 Best_Score:  0.0 Actual_Score:  0.0\n",
      "I:  81 Best_Random_State:  10 Best_Score:  0.0 Actual_Score:  0.08078375211560995\n",
      "I:  82 Best_Random_State:  10 Best_Score:  0.0 Actual_Score:  0.0\n",
      "I:  83 Best_Random_State:  10 Best_Score:  0.0 Actual_Score:  0.13080979039187607\n",
      "I:  84 Best_Random_State:  10 Best_Score:  0.0 Actual_Score:  0.08231350084624398\n",
      "I:  85 Best_Random_State:  10 Best_Score:  0.0 Actual_Score:  0.06916417133185783\n",
      "I:  86 Best_Random_State:  10 Best_Score:  0.0 Actual_Score:  0.16293451373519072\n",
      "I:  87 Best_Random_State:  10 Best_Score:  0.0 Actual_Score:  0.03563989063923968\n",
      "I:  88 Best_Random_State:  10 Best_Score:  0.0 Actual_Score:  0.12361671657336284\n",
      "I:  89 Best_Random_State:  10 Best_Score:  0.0 Actual_Score:  0.0\n",
      "I:  90 Best_Random_State:  10 Best_Score:  0.0 Actual_Score:  0.0753157140997266\n",
      "I:  91 Best_Random_State:  10 Best_Score:  0.0 Actual_Score:  0.03651868246322094\n",
      "I:  92 Best_Random_State:  10 Best_Score:  0.0 Actual_Score:  0.0778218981903398\n",
      "I:  93 Best_Random_State:  10 Best_Score:  0.0 Actual_Score:  0.0\n",
      "I:  94 Best_Random_State:  10 Best_Score:  0.0 Actual_Score:  0.07609686238770993\n",
      "I:  95 Best_Random_State:  10 Best_Score:  0.0 Actual_Score:  0.0\n",
      "I:  96 Best_Random_State:  10 Best_Score:  0.0 Actual_Score:  0.07583647962504882\n",
      "I:  97 Best_Random_State:  10 Best_Score:  0.0 Actual_Score:  0.38614763702642885\n",
      "I:  98 Best_Random_State:  10 Best_Score:  0.0 Actual_Score:  0.06626741309725297\n",
      "I:  99 Best_Random_State:  10 Best_Score:  0.0 Actual_Score:  0.19086056503059498\n",
      "Best_Random_State:  10 Best_Score:  0.0\n"
     ]
    }
   ],
   "source": [
    "best_score_sl = 2\n",
    "actual_score = 1\n",
    "best_random_state_sl = 0\n",
    "for i in range(1,100,1):\n",
    "    mlp = MLPClassifier(hidden_layer_sizes=(best_i_sl,), max_iter=200000,verbose=False, random_state=i)\n",
    "    mlp.fit(df_X_train,df_y_train['Class'].values)\n",
    "    predictions = mlp.predict(df_X_val.values)\n",
    "    tn, fp, fn, tp = confusion_matrix(df_y_val['Class'].values,predictions).ravel()\n",
    "    actual_score = fp / float(tn+fp)\n",
    "    if actual_score < best_score_sl:\n",
    "        best_score_sl = actual_score\n",
    "        best_random_state_sl = i\n",
    "    print(\"I: \", i, \"Best_Random_State: \",best_random_state_sl,\"Best_Score: \", best_score_sl,\"Actual_Score: \", actual_score)\n",
    "print(\"Best_Random_State: \",best_random_state_sl,\"Best_Score: \", best_score_sl)"
   ]
  },
  {
   "cell_type": "code",
   "execution_count": 9,
   "metadata": {
    "scrolled": true
   },
   "outputs": [
    {
     "name": "stdout",
     "output_type": "stream",
     "text": [
      "I:  1 Best_Random_State:  1 Best_Score:  0.0 Actual_Score:  0.0\n",
      "I:  2 Best_Random_State:  1 Best_Score:  0.0 Actual_Score:  0.0025061840906132012\n",
      "I:  3 Best_Random_State:  1 Best_Score:  0.0 Actual_Score:  0.0\n",
      "I:  4 Best_Random_State:  1 Best_Score:  0.0 Actual_Score:  0.0\n",
      "I:  5 Best_Random_State:  1 Best_Score:  0.0 Actual_Score:  0.0\n",
      "I:  6 Best_Random_State:  1 Best_Score:  0.0 Actual_Score:  0.0\n",
      "I:  7 Best_Random_State:  1 Best_Score:  0.0 Actual_Score:  0.06926181486785575\n",
      "I:  8 Best_Random_State:  1 Best_Score:  0.0 Actual_Score:  0.0\n",
      "I:  9 Best_Random_State:  1 Best_Score:  0.0 Actual_Score:  0.0067374039838562685\n",
      "I:  10 Best_Random_State:  1 Best_Score:  0.0 Actual_Score:  0.0\n",
      "I:  11 Best_Random_State:  1 Best_Score:  0.0 Actual_Score:  0.0\n",
      "I:  12 Best_Random_State:  1 Best_Score:  0.0 Actual_Score:  0.06415180315063143\n",
      "I:  13 Best_Random_State:  1 Best_Score:  0.0 Actual_Score:  0.0\n",
      "I:  14 Best_Random_State:  1 Best_Score:  0.0 Actual_Score:  0.0\n",
      "I:  15 Best_Random_State:  1 Best_Score:  0.0 Actual_Score:  0.0\n",
      "I:  16 Best_Random_State:  1 Best_Score:  0.0 Actual_Score:  0.0\n",
      "I:  17 Best_Random_State:  1 Best_Score:  0.0 Actual_Score:  0.0\n",
      "I:  18 Best_Random_State:  1 Best_Score:  0.0 Actual_Score:  0.002701471162609035\n",
      "I:  19 Best_Random_State:  1 Best_Score:  0.0 Actual_Score:  0.021481577919541726\n",
      "I:  20 Best_Random_State:  1 Best_Score:  0.0 Actual_Score:  0.23274964197370135\n",
      "I:  21 Best_Random_State:  1 Best_Score:  0.0 Actual_Score:  0.0\n",
      "I:  22 Best_Random_State:  1 Best_Score:  0.0 Actual_Score:  0.0\n",
      "I:  23 Best_Random_State:  1 Best_Score:  0.0 Actual_Score:  0.0\n",
      "I:  24 Best_Random_State:  1 Best_Score:  0.0 Actual_Score:  0.0\n",
      "I:  25 Best_Random_State:  1 Best_Score:  0.0 Actual_Score:  0.0008462439786486134\n",
      "I:  26 Best_Random_State:  1 Best_Score:  0.0 Actual_Score:  0.0\n",
      "I:  27 Best_Random_State:  1 Best_Score:  0.0 Actual_Score:  0.0\n",
      "I:  28 Best_Random_State:  1 Best_Score:  0.0 Actual_Score:  0.0\n",
      "I:  29 Best_Random_State:  1 Best_Score:  0.0 Actual_Score:  0.03485874235125635\n",
      "I:  30 Best_Random_State:  1 Best_Score:  0.0 Actual_Score:  0.0\n",
      "I:  31 Best_Random_State:  1 Best_Score:  0.0 Actual_Score:  0.0\n",
      "I:  32 Best_Random_State:  1 Best_Score:  0.0 Actual_Score:  0.0\n",
      "I:  33 Best_Random_State:  1 Best_Score:  0.0 Actual_Score:  0.0\n",
      "I:  34 Best_Random_State:  1 Best_Score:  0.0 Actual_Score:  0.0\n",
      "I:  35 Best_Random_State:  1 Best_Score:  0.0 Actual_Score:  0.0\n",
      "I:  36 Best_Random_State:  1 Best_Score:  0.0 Actual_Score:  0.0\n",
      "I:  37 Best_Random_State:  1 Best_Score:  0.0 Actual_Score:  0.00413357635724515\n",
      "I:  38 Best_Random_State:  1 Best_Score:  0.0 Actual_Score:  0.004361411274573623\n",
      "I:  39 Best_Random_State:  1 Best_Score:  0.0 Actual_Score:  0.0\n",
      "I:  40 Best_Random_State:  1 Best_Score:  0.0 Actual_Score:  0.0\n",
      "I:  41 Best_Random_State:  1 Best_Score:  0.0 Actual_Score:  0.0077463871891680774\n",
      "I:  42 Best_Random_State:  1 Best_Score:  0.0 Actual_Score:  0.0\n",
      "I:  43 Best_Random_State:  1 Best_Score:  0.0 Actual_Score:  0.0\n",
      "I:  44 Best_Random_State:  1 Best_Score:  0.0 Actual_Score:  0.0\n",
      "I:  45 Best_Random_State:  1 Best_Score:  0.0 Actual_Score:  0.0\n",
      "I:  46 Best_Random_State:  1 Best_Score:  0.0 Actual_Score:  0.07997005598229397\n",
      "I:  47 Best_Random_State:  1 Best_Score:  0.0 Actual_Score:  0.22099986980861866\n",
      "I:  48 Best_Random_State:  1 Best_Score:  0.0 Actual_Score:  0.0\n",
      "I:  49 Best_Random_State:  1 Best_Score:  0.0 Actual_Score:  0.0\n",
      "I:  50 Best_Random_State:  1 Best_Score:  0.0 Actual_Score:  0.0\n",
      "I:  51 Best_Random_State:  1 Best_Score:  0.0 Actual_Score:  0.0\n",
      "I:  52 Best_Random_State:  1 Best_Score:  0.0 Actual_Score:  0.017998958468949354\n",
      "I:  53 Best_Random_State:  1 Best_Score:  0.0 Actual_Score:  0.0\n",
      "I:  54 Best_Random_State:  1 Best_Score:  0.0 Actual_Score:  0.0\n",
      "I:  55 Best_Random_State:  1 Best_Score:  0.0 Actual_Score:  0.0\n",
      "I:  56 Best_Random_State:  1 Best_Score:  0.0 Actual_Score:  0.0\n",
      "I:  57 Best_Random_State:  1 Best_Score:  0.0 Actual_Score:  0.10324176539513084\n",
      "I:  58 Best_Random_State:  1 Best_Score:  0.0 Actual_Score:  0.0\n",
      "I:  59 Best_Random_State:  1 Best_Score:  0.0 Actual_Score:  0.0\n",
      "I:  60 Best_Random_State:  1 Best_Score:  0.0 Actual_Score:  0.0\n",
      "I:  61 Best_Random_State:  1 Best_Score:  0.0 Actual_Score:  0.0\n",
      "I:  62 Best_Random_State:  1 Best_Score:  0.0 Actual_Score:  0.2809855487566723\n",
      "I:  63 Best_Random_State:  1 Best_Score:  0.0 Actual_Score:  0.07450201796641062\n",
      "I:  64 Best_Random_State:  1 Best_Score:  0.0 Actual_Score:  0.0\n",
      "I:  65 Best_Random_State:  1 Best_Score:  0.0 Actual_Score:  0.0\n",
      "I:  66 Best_Random_State:  1 Best_Score:  0.0 Actual_Score:  6.509569066527795e-05\n",
      "I:  67 Best_Random_State:  1 Best_Score:  0.0 Actual_Score:  0.0\n",
      "I:  68 Best_Random_State:  1 Best_Score:  0.0 Actual_Score:  0.0\n",
      "I:  69 Best_Random_State:  1 Best_Score:  0.0 Actual_Score:  0.0\n",
      "I:  70 Best_Random_State:  1 Best_Score:  0.0 Actual_Score:  0.0\n",
      "I:  71 Best_Random_State:  1 Best_Score:  0.0 Actual_Score:  0.0\n",
      "I:  72 Best_Random_State:  1 Best_Score:  0.0 Actual_Score:  0.01851972399427158\n",
      "I:  73 Best_Random_State:  1 Best_Score:  0.0 Actual_Score:  0.0\n",
      "I:  74 Best_Random_State:  1 Best_Score:  0.0 Actual_Score:  0.0\n",
      "I:  75 Best_Random_State:  1 Best_Score:  0.0 Actual_Score:  0.0\n",
      "I:  76 Best_Random_State:  1 Best_Score:  0.0 Actual_Score:  0.03313370654862648\n",
      "I:  77 Best_Random_State:  1 Best_Score:  0.0 Actual_Score:  0.0\n",
      "I:  78 Best_Random_State:  1 Best_Score:  0.0 Actual_Score:  0.01246582476240073\n",
      "I:  79 Best_Random_State:  1 Best_Score:  0.0 Actual_Score:  0.0\n",
      "I:  80 Best_Random_State:  1 Best_Score:  0.0 Actual_Score:  0.04572972269235777\n",
      "I:  81 Best_Random_State:  1 Best_Score:  0.0 Actual_Score:  0.0\n",
      "I:  82 Best_Random_State:  1 Best_Score:  0.0 Actual_Score:  0.0\n",
      "I:  83 Best_Random_State:  1 Best_Score:  0.0 Actual_Score:  0.0197890899622445\n",
      "I:  84 Best_Random_State:  1 Best_Score:  0.0 Actual_Score:  0.0\n",
      "I:  85 Best_Random_State:  1 Best_Score:  0.0 Actual_Score:  0.0\n",
      "I:  86 Best_Random_State:  1 Best_Score:  0.0 Actual_Score:  0.0\n",
      "I:  87 Best_Random_State:  1 Best_Score:  0.0 Actual_Score:  0.14695352167686498\n",
      "I:  88 Best_Random_State:  1 Best_Score:  0.0 Actual_Score:  0.0021481577919541727\n",
      "I:  89 Best_Random_State:  1 Best_Score:  0.0 Actual_Score:  0.16286941804452545\n",
      "I:  90 Best_Random_State:  1 Best_Score:  0.0 Actual_Score:  0.0\n",
      "I:  91 Best_Random_State:  1 Best_Score:  0.0 Actual_Score:  0.0\n",
      "I:  92 Best_Random_State:  1 Best_Score:  0.0 Actual_Score:  0.0\n",
      "I:  93 Best_Random_State:  1 Best_Score:  0.0 Actual_Score:  0.10503189688842599\n",
      "I:  94 Best_Random_State:  1 Best_Score:  0.0 Actual_Score:  0.08221585731024607\n",
      "I:  95 Best_Random_State:  1 Best_Score:  0.0 Actual_Score:  0.0\n",
      "I:  96 Best_Random_State:  1 Best_Score:  0.0 Actual_Score:  0.0\n",
      "I:  97 Best_Random_State:  1 Best_Score:  0.0 Actual_Score:  0.0\n",
      "I:  98 Best_Random_State:  1 Best_Score:  0.0 Actual_Score:  0.0\n",
      "I:  99 Best_Random_State:  1 Best_Score:  0.0 Actual_Score:  0.0\n",
      "Best_Random_State:  1 Best_Score:  0.0\n"
     ]
    }
   ],
   "source": [
    "best_score_twol = 2\n",
    "actual_score = 1\n",
    "best_random_state_twol = 0\n",
    "for i in range(1,100,1):\n",
    "    mlp = MLPClassifier(hidden_layer_sizes=(best_i_twol,best_j_twol), max_iter=200000,verbose=False, random_state=i)\n",
    "    mlp.fit(df_X_train,df_y_train['Class'].values)\n",
    "    predictions = mlp.predict(df_X_val.values)\n",
    "    tn, fp, fn, tp = confusion_matrix(df_y_val['Class'].values,predictions).ravel()\n",
    "    actual_score = fp / float(tn+fp)\n",
    "    if actual_score < best_score_twol:\n",
    "        best_score_twol = actual_score\n",
    "        best_random_state_twol = i\n",
    "    print(\"I: \", i, \"Best_Random_State: \",best_random_state_twol,\"Best_Score: \", best_score_twol,\"Actual_Score: \", actual_score)\n",
    "print(\"Best_Random_State: \",best_random_state_twol,\"Best_Score: \", best_score_twol)"
   ]
  },
  {
   "cell_type": "markdown",
   "metadata": {},
   "source": [
    "## 4. Compute metrics on the best architecture"
   ]
  },
  {
   "cell_type": "code",
   "execution_count": 10,
   "metadata": {},
   "outputs": [
    {
     "name": "stdout",
     "output_type": "stream",
     "text": [
      "The best architecture is :  Two Layers\n",
      "For the layer  1  the best number of neurons is :  1\n",
      "For the layer  2  the best number of neurons is :  1\n"
     ]
    }
   ],
   "source": [
    "if best_score_sl < best_score_twol:\n",
    "    best_architecture = \"Single Layer\"\n",
    "    best_neurons = [best_i_sl]\n",
    "    mlp = MLPClassifier(hidden_layer_sizes=(best_i_sl,), max_iter=200000,verbose=False, random_state=best_random_state_sl)\n",
    "    mlp.fit(df_X_train,df_y_train['Class'].values)\n",
    "else:\n",
    "    best_architecture = \"Two Layers\"\n",
    "    best_neurons = [best_i_twol, best_j_twol]\n",
    "    mlp = MLPClassifier(hidden_layer_sizes=(best_i_twol,best_j_twol), max_iter=200000,verbose=False, random_state=best_random_state_twol)\n",
    "    mlp.fit(df_X_train,df_y_train['Class'].values)\n",
    "\n",
    "predictions = mlp.predict(df_X_val.values)\n",
    "print(\"The best architecture is : \", best_architecture)\n",
    "layer = 0\n",
    "for neuron in best_neurons:\n",
    "    layer += 1\n",
    "    print(\"For the layer \", layer, \" the best number of neurons is : \", neuron)"
   ]
  },
  {
   "cell_type": "markdown",
   "metadata": {},
   "source": [
    "### 4.3 Confusion Matrix"
   ]
  },
  {
   "cell_type": "code",
   "execution_count": 11,
   "metadata": {},
   "outputs": [
    {
     "name": "stdout",
     "output_type": "stream",
     "text": [
      "[[30724     0]\n",
      " [   53     0]]\n"
     ]
    }
   ],
   "source": [
    "conf_mat = confusion_matrix(df_y_val['Class'].values,predictions)\n",
    "tn, fp, fn, tp = conf_mat.ravel()\n",
    "print(conf_mat)"
   ]
  },
  {
   "cell_type": "code",
   "execution_count": 12,
   "metadata": {},
   "outputs": [
    {
     "name": "stdout",
     "output_type": "stream",
     "text": [
      "              precision    recall  f1-score   support\n",
      "\n",
      "Non-Fracture       1.00      1.00      1.00     30724\n",
      "    Fracture       0.00      0.00      0.00        53\n",
      "\n",
      "   micro avg       1.00      1.00      1.00     30777\n",
      "   macro avg       0.50      0.50      0.50     30777\n",
      "weighted avg       1.00      1.00      1.00     30777\n",
      "\n"
     ]
    },
    {
     "name": "stderr",
     "output_type": "stream",
     "text": [
      "/Users/erennio/anaconda2/envs/Python36/lib/python3.6/site-packages/sklearn/metrics/classification.py:1143: UndefinedMetricWarning: Precision and F-score are ill-defined and being set to 0.0 in labels with no predicted samples.\n",
      "  'precision', 'predicted', average, warn_for)\n"
     ]
    }
   ],
   "source": [
    "print(classification_report(df_y_val['Class'].values,predictions,target_names=['Non-Fracture','Fracture']))"
   ]
  },
  {
   "cell_type": "markdown",
   "metadata": {},
   "source": [
    "### 4.2 Accuracy"
   ]
  },
  {
   "cell_type": "code",
   "execution_count": 13,
   "metadata": {},
   "outputs": [
    {
     "name": "stdout",
     "output_type": "stream",
     "text": [
      "Accuracy :  0.9982779348214575\n"
     ]
    }
   ],
   "source": [
    "accuracy = (tp + tn) / float(tp+tn+fp+fn)\n",
    "print(\"Accuracy : \",accuracy)"
   ]
  },
  {
   "cell_type": "markdown",
   "metadata": {},
   "source": [
    "### 4.3 Recall (or Sensitivity)"
   ]
  },
  {
   "cell_type": "code",
   "execution_count": 14,
   "metadata": {},
   "outputs": [
    {
     "name": "stdout",
     "output_type": "stream",
     "text": [
      "Recall :  0.0\n"
     ]
    }
   ],
   "source": [
    "recall = tp/(tp+fn)\n",
    "print(\"Recall : \", recall)"
   ]
  },
  {
   "cell_type": "markdown",
   "metadata": {},
   "source": [
    "### 4.4 Error"
   ]
  },
  {
   "cell_type": "code",
   "execution_count": 15,
   "metadata": {},
   "outputs": [
    {
     "name": "stdout",
     "output_type": "stream",
     "text": [
      "Error :  0.001722065178542418\n"
     ]
    }
   ],
   "source": [
    "classification_error = (fp + fn) / float(tp+tn+fp+fn)\n",
    "print(\"Error : \",classification_error)"
   ]
  },
  {
   "cell_type": "markdown",
   "metadata": {},
   "source": [
    "### 4.5 Specificity"
   ]
  },
  {
   "cell_type": "code",
   "execution_count": 16,
   "metadata": {},
   "outputs": [
    {
     "name": "stdout",
     "output_type": "stream",
     "text": [
      "1.0\n"
     ]
    }
   ],
   "source": [
    "specificity = tn / (tn+fp)\n",
    "\n",
    "print(specificity)"
   ]
  },
  {
   "cell_type": "markdown",
   "metadata": {},
   "source": [
    "### 4.6 False Positive Rate: When the actual value is negative, how often is the prediction incorrect?"
   ]
  },
  {
   "cell_type": "code",
   "execution_count": 17,
   "metadata": {},
   "outputs": [
    {
     "name": "stdout",
     "output_type": "stream",
     "text": [
      "0.0\n",
      "0.0\n"
     ]
    }
   ],
   "source": [
    "false_positive_rate = fp / float(tn+fp)\n",
    "\n",
    "print(false_positive_rate)\n",
    "print(1 - specificity)"
   ]
  },
  {
   "cell_type": "markdown",
   "metadata": {},
   "source": [
    "### 4.7 Precision: When a positive value is predicted, how often is the prediction correct?"
   ]
  },
  {
   "cell_type": "code",
   "execution_count": 18,
   "metadata": {},
   "outputs": [
    {
     "name": "stdout",
     "output_type": "stream",
     "text": [
      "nan\n"
     ]
    },
    {
     "name": "stderr",
     "output_type": "stream",
     "text": [
      "/Users/erennio/anaconda2/envs/Python36/lib/python3.6/site-packages/ipykernel_launcher.py:1: RuntimeWarning: invalid value encountered in true_divide\n",
      "  \"\"\"Entry point for launching an IPython kernel.\n"
     ]
    }
   ],
   "source": [
    "precision = tp / float(tp+fp)\n",
    "\n",
    "print(precision)"
   ]
  },
  {
   "cell_type": "markdown",
   "metadata": {},
   "source": [
    "## 5. Metrics visualization"
   ]
  },
  {
   "cell_type": "code",
   "execution_count": 19,
   "metadata": {},
   "outputs": [
    {
     "data": {
      "image/png": "[encoded data removed]",
      "text/plain": [
       "<Figure size 432x288 with 1 Axes>"
      ]
     },
     "metadata": {},
     "output_type": "display_data"
    }
   ],
   "source": [
    "fpr, tpr, thresholds = roc_curve(df_y_val, predictions)\n",
    "\n",
    "plt.plot(fpr, tpr)\n",
    "plt.xlim([0.0, 1.0])\n",
    "plt.ylim([0.0, 1.0])\n",
    "plt.rcParams['font.size'] = 12\n",
    "plt.title('ROC curve')\n",
    "plt.xlabel('False Positive Rate')\n",
    "plt.ylabel('True Positive Rate')\n",
    "plt.grid(True)"
   ]
  },
  {
   "cell_type": "markdown",
   "metadata": {},
   "source": [
    "## 6. Creation new dataframe"
   ]
  },
  {
   "cell_type": "code",
   "execution_count": 20,
   "metadata": {},
   "outputs": [],
   "source": [
    "mod_df = pd.DataFrame(df_X_val)"
   ]
  },
  {
   "cell_type": "code",
   "execution_count": 21,
   "metadata": {},
   "outputs": [
    {
     "data": {
      "text/html": [
       "<div>\n",
       "<style scoped>\n",
       "    .dataframe tbody tr th:only-of-type {\n",
       "        vertical-align: middle;\n",
       "    }\n",
       "\n",
       "    .dataframe tbody tr th {\n",
       "        vertical-align: top;\n",
       "    }\n",
       "\n",
       "    .dataframe thead th {\n",
       "        text-align: right;\n",
       "    }\n",
       "</style>\n",
       "<table border=\"1\" class=\"dataframe\">\n",
       "  <thead>\n",
       "    <tr style=\"text-align: right;\">\n",
       "      <th></th>\n",
       "      <th>sex</th>\n",
       "      <th>age</th>\n",
       "      <th>weight</th>\n",
       "      <th>height</th>\n",
       "      <th>HIPX</th>\n",
       "      <th>menopause</th>\n",
       "      <th>HRT</th>\n",
       "      <th>smoking</th>\n",
       "      <th>ReumatoidArthritis</th>\n",
       "      <th>SecondaryOsteoporsis</th>\n",
       "      <th>Alcohol</th>\n",
       "      <th>VitaminD</th>\n",
       "      <th>calcium</th>\n",
       "      <th>dose_walk</th>\n",
       "      <th>dose_moderate</th>\n",
       "      <th>dose_vigorous</th>\n",
       "    </tr>\n",
       "  </thead>\n",
       "  <tbody>\n",
       "    <tr>\n",
       "      <th>149978</th>\n",
       "      <td>-1.029482</td>\n",
       "      <td>0.152632</td>\n",
       "      <td>-1.383228</td>\n",
       "      <td>-1.438686</td>\n",
       "      <td>-0.037838</td>\n",
       "      <td>1.436838</td>\n",
       "      <td>-0.423252</td>\n",
       "      <td>-0.808640</td>\n",
       "      <td>-0.08895</td>\n",
       "      <td>-0.134216</td>\n",
       "      <td>-0.612333</td>\n",
       "      <td>-0.141958</td>\n",
       "      <td>0.115530</td>\n",
       "      <td>-0.259297</td>\n",
       "      <td>-0.462525</td>\n",
       "      <td>-0.538945</td>\n",
       "    </tr>\n",
       "    <tr>\n",
       "      <th>43265</th>\n",
       "      <td>0.971362</td>\n",
       "      <td>-1.957990</td>\n",
       "      <td>0.637841</td>\n",
       "      <td>1.770734</td>\n",
       "      <td>-0.037838</td>\n",
       "      <td>-0.695973</td>\n",
       "      <td>-0.423252</td>\n",
       "      <td>0.760768</td>\n",
       "      <td>-0.08895</td>\n",
       "      <td>-0.134216</td>\n",
       "      <td>0.104979</td>\n",
       "      <td>1.276093</td>\n",
       "      <td>0.113305</td>\n",
       "      <td>-0.637774</td>\n",
       "      <td>-0.611945</td>\n",
       "      <td>0.201583</td>\n",
       "    </tr>\n",
       "    <tr>\n",
       "      <th>116861</th>\n",
       "      <td>0.971362</td>\n",
       "      <td>1.145866</td>\n",
       "      <td>2.161613</td>\n",
       "      <td>1.498749</td>\n",
       "      <td>-0.037838</td>\n",
       "      <td>-0.695973</td>\n",
       "      <td>-0.423252</td>\n",
       "      <td>0.760768</td>\n",
       "      <td>-0.08895</td>\n",
       "      <td>-0.134216</td>\n",
       "      <td>0.104979</td>\n",
       "      <td>-0.504631</td>\n",
       "      <td>-0.366965</td>\n",
       "      <td>-0.493062</td>\n",
       "      <td>0.583416</td>\n",
       "      <td>-0.353813</td>\n",
       "    </tr>\n",
       "    <tr>\n",
       "      <th>46479</th>\n",
       "      <td>0.971362</td>\n",
       "      <td>-0.716448</td>\n",
       "      <td>-0.803047</td>\n",
       "      <td>0.845986</td>\n",
       "      <td>-0.037838</td>\n",
       "      <td>-0.695973</td>\n",
       "      <td>-0.423252</td>\n",
       "      <td>2.330176</td>\n",
       "      <td>-0.08895</td>\n",
       "      <td>-0.134216</td>\n",
       "      <td>3.056626</td>\n",
       "      <td>-1.030506</td>\n",
       "      <td>-0.598176</td>\n",
       "      <td>-0.504194</td>\n",
       "      <td>-0.462525</td>\n",
       "      <td>-0.168681</td>\n",
       "    </tr>\n",
       "    <tr>\n",
       "      <th>115581</th>\n",
       "      <td>-1.029482</td>\n",
       "      <td>-0.095676</td>\n",
       "      <td>0.274431</td>\n",
       "      <td>0.737192</td>\n",
       "      <td>-0.037838</td>\n",
       "      <td>1.436838</td>\n",
       "      <td>-0.423252</td>\n",
       "      <td>-0.808640</td>\n",
       "      <td>-0.08895</td>\n",
       "      <td>-0.134216</td>\n",
       "      <td>0.397031</td>\n",
       "      <td>-0.874557</td>\n",
       "      <td>-0.343833</td>\n",
       "      <td>-0.593247</td>\n",
       "      <td>-0.562138</td>\n",
       "      <td>-0.508090</td>\n",
       "    </tr>\n",
       "  </tbody>\n",
       "</table>\n",
       "</div>"
      ],
      "text/plain": [
       "             sex       age    weight    height      HIPX  menopause       HRT  \\\n",
       "149978 -1.029482  0.152632 -1.383228 -1.438686 -0.037838   1.436838 -0.423252   \n",
       "43265   0.971362 -1.957990  0.637841  1.770734 -0.037838  -0.695973 -0.423252   \n",
       "116861  0.971362  1.145866  2.161613  1.498749 -0.037838  -0.695973 -0.423252   \n",
       "46479   0.971362 -0.716448 -0.803047  0.845986 -0.037838  -0.695973 -0.423252   \n",
       "115581 -1.029482 -0.095676  0.274431  0.737192 -0.037838   1.436838 -0.423252   \n",
       "\n",
       "         smoking  ReumatoidArthritis  SecondaryOsteoporsis   Alcohol  \\\n",
       "149978 -0.808640            -0.08895             -0.134216 -0.612333   \n",
       "43265   0.760768            -0.08895             -0.134216  0.104979   \n",
       "116861  0.760768            -0.08895             -0.134216  0.104979   \n",
       "46479   2.330176            -0.08895             -0.134216  3.056626   \n",
       "115581 -0.808640            -0.08895             -0.134216  0.397031   \n",
       "\n",
       "        VitaminD   calcium  dose_walk  dose_moderate  dose_vigorous  \n",
       "149978 -0.141958  0.115530  -0.259297      -0.462525      -0.538945  \n",
       "43265   1.276093  0.113305  -0.637774      -0.611945       0.201583  \n",
       "116861 -0.504631 -0.366965  -0.493062       0.583416      -0.353813  \n",
       "46479  -1.030506 -0.598176  -0.504194      -0.462525      -0.168681  \n",
       "115581 -0.874557 -0.343833  -0.593247      -0.562138      -0.508090  "
      ]
     },
     "execution_count": 21,
     "metadata": {},
     "output_type": "execute_result"
    }
   ],
   "source": [
    "mod_df.head()"
   ]
  },
  {
   "cell_type": "code",
   "execution_count": 22,
   "metadata": {},
   "outputs": [],
   "source": [
    "mod_df['real_class'] = df_y_val\n",
    "mod_df['predicted_class'] = predictions"
   ]
  },
  {
   "cell_type": "code",
   "execution_count": 23,
   "metadata": {},
   "outputs": [
    {
     "data": {
      "text/html": [
       "<div>\n",
       "<style scoped>\n",
       "    .dataframe tbody tr th:only-of-type {\n",
       "        vertical-align: middle;\n",
       "    }\n",
       "\n",
       "    .dataframe tbody tr th {\n",
       "        vertical-align: top;\n",
       "    }\n",
       "\n",
       "    .dataframe thead th {\n",
       "        text-align: right;\n",
       "    }\n",
       "</style>\n",
       "<table border=\"1\" class=\"dataframe\">\n",
       "  <thead>\n",
       "    <tr style=\"text-align: right;\">\n",
       "      <th></th>\n",
       "      <th>sex</th>\n",
       "      <th>age</th>\n",
       "      <th>weight</th>\n",
       "      <th>height</th>\n",
       "      <th>HIPX</th>\n",
       "      <th>menopause</th>\n",
       "      <th>HRT</th>\n",
       "      <th>smoking</th>\n",
       "      <th>ReumatoidArthritis</th>\n",
       "      <th>SecondaryOsteoporsis</th>\n",
       "      <th>Alcohol</th>\n",
       "      <th>VitaminD</th>\n",
       "      <th>calcium</th>\n",
       "      <th>dose_walk</th>\n",
       "      <th>dose_moderate</th>\n",
       "      <th>dose_vigorous</th>\n",
       "      <th>real_class</th>\n",
       "      <th>predicted_class</th>\n",
       "    </tr>\n",
       "  </thead>\n",
       "  <tbody>\n",
       "    <tr>\n",
       "      <th>149978</th>\n",
       "      <td>-1.029482</td>\n",
       "      <td>0.152632</td>\n",
       "      <td>-1.383228</td>\n",
       "      <td>-1.438686</td>\n",
       "      <td>-0.037838</td>\n",
       "      <td>1.436838</td>\n",
       "      <td>-0.423252</td>\n",
       "      <td>-0.808640</td>\n",
       "      <td>-0.08895</td>\n",
       "      <td>-0.134216</td>\n",
       "      <td>-0.612333</td>\n",
       "      <td>-0.141958</td>\n",
       "      <td>0.115530</td>\n",
       "      <td>-0.259297</td>\n",
       "      <td>-0.462525</td>\n",
       "      <td>-0.538945</td>\n",
       "      <td>0</td>\n",
       "      <td>0</td>\n",
       "    </tr>\n",
       "    <tr>\n",
       "      <th>43265</th>\n",
       "      <td>0.971362</td>\n",
       "      <td>-1.957990</td>\n",
       "      <td>0.637841</td>\n",
       "      <td>1.770734</td>\n",
       "      <td>-0.037838</td>\n",
       "      <td>-0.695973</td>\n",
       "      <td>-0.423252</td>\n",
       "      <td>0.760768</td>\n",
       "      <td>-0.08895</td>\n",
       "      <td>-0.134216</td>\n",
       "      <td>0.104979</td>\n",
       "      <td>1.276093</td>\n",
       "      <td>0.113305</td>\n",
       "      <td>-0.637774</td>\n",
       "      <td>-0.611945</td>\n",
       "      <td>0.201583</td>\n",
       "      <td>0</td>\n",
       "      <td>0</td>\n",
       "    </tr>\n",
       "    <tr>\n",
       "      <th>116861</th>\n",
       "      <td>0.971362</td>\n",
       "      <td>1.145866</td>\n",
       "      <td>2.161613</td>\n",
       "      <td>1.498749</td>\n",
       "      <td>-0.037838</td>\n",
       "      <td>-0.695973</td>\n",
       "      <td>-0.423252</td>\n",
       "      <td>0.760768</td>\n",
       "      <td>-0.08895</td>\n",
       "      <td>-0.134216</td>\n",
       "      <td>0.104979</td>\n",
       "      <td>-0.504631</td>\n",
       "      <td>-0.366965</td>\n",
       "      <td>-0.493062</td>\n",
       "      <td>0.583416</td>\n",
       "      <td>-0.353813</td>\n",
       "      <td>0</td>\n",
       "      <td>0</td>\n",
       "    </tr>\n",
       "    <tr>\n",
       "      <th>46479</th>\n",
       "      <td>0.971362</td>\n",
       "      <td>-0.716448</td>\n",
       "      <td>-0.803047</td>\n",
       "      <td>0.845986</td>\n",
       "      <td>-0.037838</td>\n",
       "      <td>-0.695973</td>\n",
       "      <td>-0.423252</td>\n",
       "      <td>2.330176</td>\n",
       "      <td>-0.08895</td>\n",
       "      <td>-0.134216</td>\n",
       "      <td>3.056626</td>\n",
       "      <td>-1.030506</td>\n",
       "      <td>-0.598176</td>\n",
       "      <td>-0.504194</td>\n",
       "      <td>-0.462525</td>\n",
       "      <td>-0.168681</td>\n",
       "      <td>0</td>\n",
       "      <td>0</td>\n",
       "    </tr>\n",
       "    <tr>\n",
       "      <th>115581</th>\n",
       "      <td>-1.029482</td>\n",
       "      <td>-0.095676</td>\n",
       "      <td>0.274431</td>\n",
       "      <td>0.737192</td>\n",
       "      <td>-0.037838</td>\n",
       "      <td>1.436838</td>\n",
       "      <td>-0.423252</td>\n",
       "      <td>-0.808640</td>\n",
       "      <td>-0.08895</td>\n",
       "      <td>-0.134216</td>\n",
       "      <td>0.397031</td>\n",
       "      <td>-0.874557</td>\n",
       "      <td>-0.343833</td>\n",
       "      <td>-0.593247</td>\n",
       "      <td>-0.562138</td>\n",
       "      <td>-0.508090</td>\n",
       "      <td>0</td>\n",
       "      <td>0</td>\n",
       "    </tr>\n",
       "  </tbody>\n",
       "</table>\n",
       "</div>"
      ],
      "text/plain": [
       "             sex       age    weight    height      HIPX  menopause       HRT  \\\n",
       "149978 -1.029482  0.152632 -1.383228 -1.438686 -0.037838   1.436838 -0.423252   \n",
       "43265   0.971362 -1.957990  0.637841  1.770734 -0.037838  -0.695973 -0.423252   \n",
       "116861  0.971362  1.145866  2.161613  1.498749 -0.037838  -0.695973 -0.423252   \n",
       "46479   0.971362 -0.716448 -0.803047  0.845986 -0.037838  -0.695973 -0.423252   \n",
       "115581 -1.029482 -0.095676  0.274431  0.737192 -0.037838   1.436838 -0.423252   \n",
       "\n",
       "         smoking  ReumatoidArthritis  SecondaryOsteoporsis   Alcohol  \\\n",
       "149978 -0.808640            -0.08895             -0.134216 -0.612333   \n",
       "43265   0.760768            -0.08895             -0.134216  0.104979   \n",
       "116861  0.760768            -0.08895             -0.134216  0.104979   \n",
       "46479   2.330176            -0.08895             -0.134216  3.056626   \n",
       "115581 -0.808640            -0.08895             -0.134216  0.397031   \n",
       "\n",
       "        VitaminD   calcium  dose_walk  dose_moderate  dose_vigorous  \\\n",
       "149978 -0.141958  0.115530  -0.259297      -0.462525      -0.538945   \n",
       "43265   1.276093  0.113305  -0.637774      -0.611945       0.201583   \n",
       "116861 -0.504631 -0.366965  -0.493062       0.583416      -0.353813   \n",
       "46479  -1.030506 -0.598176  -0.504194      -0.462525      -0.168681   \n",
       "115581 -0.874557 -0.343833  -0.593247      -0.562138      -0.508090   \n",
       "\n",
       "        real_class  predicted_class  \n",
       "149978           0                0  \n",
       "43265            0                0  \n",
       "116861           0                0  \n",
       "46479            0                0  \n",
       "115581           0                0  "
      ]
     },
     "execution_count": 23,
     "metadata": {},
     "output_type": "execute_result"
    }
   ],
   "source": [
    "mod_df.head()"
   ]
  },
  {
   "cell_type": "code",
   "execution_count": 24,
   "metadata": {
    "scrolled": true
   },
   "outputs": [],
   "source": [
    "mod_df_complete = mod_df[(mod_df['real_class'] == 0) & ( mod_df['predicted_class']==1)]"
   ]
  },
  {
   "cell_type": "code",
   "execution_count": 25,
   "metadata": {
    "scrolled": true
   },
   "outputs": [
    {
     "name": "stderr",
     "output_type": "stream",
     "text": [
      "/Users/erennio/anaconda2/envs/Python36/lib/python3.6/site-packages/ipykernel_launcher.py:1: SettingWithCopyWarning: \n",
      "A value is trying to be set on a copy of a slice from a DataFrame.\n",
      "Try using .loc[row_indexer,col_indexer] = value instead\n",
      "\n",
      "See the caveats in the documentation: http://pandas.pydata.org/pandas-docs/stable/indexing.html#indexing-view-versus-copy\n",
      "  \"\"\"Entry point for launching an IPython kernel.\n"
     ]
    },
    {
     "data": {
      "text/plain": [
       "(30777, 17)"
      ]
     },
     "execution_count": 25,
     "metadata": {},
     "output_type": "execute_result"
    }
   ],
   "source": [
    "mod_df_complete['Class'] = mod_df['real_class']\n",
    "mod_df_complete = mod_df_complete.drop(['real_class','predicted_class'],axis=1)\n",
    "mod_df_complete.shape"
   ]
  },
  {
   "cell_type": "code",
   "execution_count": 26,
   "metadata": {
    "scrolled": true
   },
   "outputs": [
    {
     "data": {
      "text/plain": [
       "(153884, 17)"
      ]
     },
     "execution_count": 26,
     "metadata": {},
     "output_type": "execute_result"
    }
   ],
   "source": [
    "std_patients = pd.read_csv('../Data/standardized_patients.csv', index_col=0)\n",
    "std_patients.shape"
   ]
  },
  {
   "cell_type": "markdown",
   "metadata": {},
   "source": [
    "for index in mod_df_complete.index.values:\n",
    "    feature_to_check = std_patients.loc[index].round(10) == mod_df_complete.loc[index].round(10)\n",
    "    for check in feature_to_check:\n",
    "        if not check:\n",
    "            print(index, feature_to_check)"
   ]
  },
  {
   "cell_type": "code",
   "execution_count": 27,
   "metadata": {},
   "outputs": [
    {
     "ename": "NameError",
     "evalue": "name 'giorgiONE' is not defined",
     "output_type": "error",
     "traceback": [
      "\u001b[0;31m---------------------------------------------------------------------------\u001b[0m",
      "\u001b[0;31mNameError\u001b[0m                                 Traceback (most recent call last)",
      "\u001b[0;32m<ipython-input-27-127aaa893fbf>\u001b[0m in \u001b[0;36m<module>\u001b[0;34m()\u001b[0m\n\u001b[1;32m      5\u001b[0m         \u001b[0;32mif\u001b[0m \u001b[0;32mnot\u001b[0m \u001b[0mfeature\u001b[0m\u001b[0;34m:\u001b[0m\u001b[0;34m\u001b[0m\u001b[0m\n\u001b[1;32m      6\u001b[0m             \u001b[0mequals\u001b[0m \u001b[0;34m=\u001b[0m \u001b[0;32mFalse\u001b[0m\u001b[0;34m\u001b[0m\u001b[0m\n\u001b[0;32m----> 7\u001b[0;31m             \u001b[0mprint\u001b[0m\u001b[0;34m(\u001b[0m\u001b[0mstd_patients\u001b[0m\u001b[0;34m.\u001b[0m\u001b[0mloc\u001b[0m\u001b[0;34m[\u001b[0m\u001b[0mindex\u001b[0m\u001b[0;34m]\u001b[0m\u001b[0;34m.\u001b[0m\u001b[0mround\u001b[0m\u001b[0;34m(\u001b[0m\u001b[0;36m10\u001b[0m\u001b[0;34m)\u001b[0m \u001b[0;34m==\u001b[0m \u001b[0mgiorgiONE\u001b[0m\u001b[0;34m.\u001b[0m\u001b[0mloc\u001b[0m\u001b[0;34m[\u001b[0m\u001b[0mindex\u001b[0m\u001b[0;34m]\u001b[0m\u001b[0;34m.\u001b[0m\u001b[0mround\u001b[0m\u001b[0;34m(\u001b[0m\u001b[0;36m10\u001b[0m\u001b[0;34m)\u001b[0m\u001b[0;34m,\u001b[0m \u001b[0mindex\u001b[0m\u001b[0;34m)\u001b[0m\u001b[0;34m\u001b[0m\u001b[0m\n\u001b[0m\u001b[1;32m      8\u001b[0m     \u001b[0;32mif\u001b[0m \u001b[0mequals\u001b[0m\u001b[0;34m:\u001b[0m\u001b[0;34m\u001b[0m\u001b[0m\n\u001b[1;32m      9\u001b[0m         \u001b[0mstd_patients\u001b[0m\u001b[0;34m.\u001b[0m\u001b[0mloc\u001b[0m\u001b[0;34m[\u001b[0m\u001b[0mindex\u001b[0m\u001b[0;34m,\u001b[0m\u001b[0;34m'Class'\u001b[0m\u001b[0;34m]\u001b[0m \u001b[0;34m=\u001b[0m \u001b[0;36m1\u001b[0m\u001b[0;34m\u001b[0m\u001b[0m\n",
      "\u001b[0;31mNameError\u001b[0m: name 'giorgiONE' is not defined"
     ]
    }
   ],
   "source": [
    "for index in mod_df_complete.index.values:\n",
    "    equals = True\n",
    "    patient = std_patients.loc[index].round(10) == mod_df_complete.loc[index].round(10)\n",
    "    for feature in patient:\n",
    "        if not feature:\n",
    "            equals = False\n",
    "            print(std_patients.loc[index].round(10) == giorgiONE.loc[index].round(10), index)\n",
    "    if equals:\n",
    "        std_patients.loc[index,'Class'] = 1        \n",
    "    "
   ]
  },
  {
   "cell_type": "code",
   "execution_count": null,
   "metadata": {
    "scrolled": true
   },
   "outputs": [],
   "source": [
    "std_patients.loc[mod_df_complete.index.values,'Class'].shape"
   ]
  },
  {
   "cell_type": "code",
   "execution_count": null,
   "metadata": {},
   "outputs": [],
   "source": [
    "std_patients.to_csv('../Data/specficity_new_std_patients.csv')"
   ]
  },
  {
   "cell_type": "code",
   "execution_count": null,
   "metadata": {},
   "outputs": [],
   "source": []
  }
 ],
 "metadata": {
  "kernelspec": {
   "display_name": "Python 3",
   "language": "python",
   "name": "python3"
  },
  "language_info": {
   "codemirror_mode": {
    "name": "ipython",
    "version": 3
   },
   "file_extension": ".py",
   "mimetype": "text/x-python",
   "name": "python",
   "nbconvert_exporter": "python",
   "pygments_lexer": "ipython3",
   "version": "3.6.5"
  }
 },
 "nbformat": 4,
 "nbformat_minor": 2
}
