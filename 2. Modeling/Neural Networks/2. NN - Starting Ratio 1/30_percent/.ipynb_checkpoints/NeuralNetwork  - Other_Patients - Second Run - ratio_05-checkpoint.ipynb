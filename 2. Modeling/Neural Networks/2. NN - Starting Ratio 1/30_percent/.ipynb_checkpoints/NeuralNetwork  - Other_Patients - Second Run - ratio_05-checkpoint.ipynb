{
 "cells": [
  {
   "cell_type": "markdown",
   "metadata": {},
   "source": [
    "# <center><b><h1>NeuralNetwork (Second Run - Ratio 0.5)</h1></b></center>"
   ]
  },
  {
   "cell_type": "code",
   "execution_count": 1,
   "metadata": {},
   "outputs": [],
   "source": [
    "import itertools\n",
    "import matplotlib\n",
    "import matplotlib.pyplot as plt\n",
    "%matplotlib inline\n",
    "from math import cos, sin, atan\n",
    "import numpy as np\n",
    "import pandas as pd\n",
    "from sklearn import datasets\n",
    "from sklearn.externals import joblib\n",
    "from sklearn.feature_selection import SelectFromModel\n",
    "from sklearn.metrics import accuracy_score, r2_score, recall_score, auc, roc_auc_score, roc_curve\n",
    "from sklearn.metrics import classification_report,confusion_matrix, precision_score\n",
    "from sklearn.neural_network import MLPClassifier\n",
    "from scipy.stats import spearmanr, pearsonr"
   ]
  },
  {
   "cell_type": "code",
   "execution_count": 2,
   "metadata": {},
   "outputs": [],
   "source": [
    "pd.options.mode.chained_assignment = None  # default='warn'"
   ]
  },
  {
   "cell_type": "markdown",
   "metadata": {},
   "source": [
    "## 1. Prepare the data"
   ]
  },
  {
   "cell_type": "code",
   "execution_count": 3,
   "metadata": {
    "scrolled": true
   },
   "outputs": [
    {
     "data": {
      "text/plain": [
       "(5418, 14)"
      ]
     },
     "execution_count": 3,
     "metadata": {},
     "output_type": "execute_result"
    }
   ],
   "source": [
    "df_X_train = pd.read_csv(\"../../../../Data/other_patients/starting_ratio_1/30_percent/ratio_05/X_train.csv\", index_col=0)\n",
    "df_X_train.shape"
   ]
  },
  {
   "cell_type": "code",
   "execution_count": 4,
   "metadata": {},
   "outputs": [
    {
     "data": {
      "text/plain": [
       "(5418, 1)"
      ]
     },
     "execution_count": 4,
     "metadata": {},
     "output_type": "execute_result"
    }
   ],
   "source": [
    "df_y_train = pd.read_csv(\"../../../../Data/other_patients/starting_ratio_1/30_percent/ratio_05/y_train.csv\", index_col=0)\n",
    "df_y_train.shape"
   ]
  },
  {
   "cell_type": "code",
   "execution_count": 5,
   "metadata": {},
   "outputs": [
    {
     "data": {
      "text/plain": [
       "(20734, 14)"
      ]
     },
     "execution_count": 5,
     "metadata": {},
     "output_type": "execute_result"
    }
   ],
   "source": [
    "df_X_val = pd.read_csv(\"../../../../Data/other_patients/X_val.csv\", index_col=0)\n",
    "df_X_val.shape"
   ]
  },
  {
   "cell_type": "code",
   "execution_count": 6,
   "metadata": {},
   "outputs": [
    {
     "data": {
      "text/plain": [
       "(20734, 1)"
      ]
     },
     "execution_count": 6,
     "metadata": {},
     "output_type": "execute_result"
    }
   ],
   "source": [
    "df_y_val = pd.read_csv(\"../../../../Data/other_patients/y_val.csv\", index_col=0)\n",
    "df_y_val.shape"
   ]
  },
  {
   "cell_type": "code",
   "execution_count": 7,
   "metadata": {},
   "outputs": [],
   "source": [
    "neural_network_name = 'NeuralNetwork - Other_Patients - Second Run - 30 Percent - Ratio 05'"
   ]
  },
  {
   "cell_type": "markdown",
   "metadata": {},
   "source": [
    "## 2. Finding the best number of layers (between 1 and 2) and the best number of neurons"
   ]
  },
  {
   "cell_type": "markdown",
   "metadata": {},
   "source": [
    "### 2.1 AUC based"
   ]
  },
  {
   "cell_type": "code",
   "execution_count": 8,
   "metadata": {},
   "outputs": [],
   "source": [
    "max_n_neurons = df_X_train.shape[1] * 2 + 1\n",
    "max_n_randomstate = 100"
   ]
  },
  {
   "cell_type": "code",
   "execution_count": null,
   "metadata": {
    "scrolled": true
   },
   "outputs": [
    {
     "name": "stdout",
     "output_type": "stream",
     "text": [
      "I:  1 Best_I:  1 Best_Score:  0.5927356410627785 Actual_Score:  0.5927356410627785\n",
      "I:  2 Best_I:  2 Best_Score:  0.6177038574808091 Actual_Score:  0.6177038574808091\n",
      "I:  3 Best_I:  2 Best_Score:  0.6177038574808091 Actual_Score:  0.5896940729654484\n",
      "I:  4 Best_I:  2 Best_Score:  0.6177038574808091 Actual_Score:  0.6068169748467146\n",
      "I:  5 Best_I:  5 Best_Score:  0.6400167366710118 Actual_Score:  0.6400167366710118\n"
     ]
    }
   ],
   "source": [
    "best_score_sl = actual_score = 0.5\n",
    "best_i_sl = 0\n",
    "for i in range(1,max_n_neurons,1):\n",
    "    mlp = MLPClassifier(hidden_layer_sizes=(i,), max_iter=200000,verbose=False)\n",
    "    mlp.fit(df_X_train,df_y_train['Class'].values)\n",
    "    predictions = mlp.predict(df_X_val.values)\n",
    "    fpr, tpr, thresholds = roc_curve(df_y_val['Class'].values, predictions, pos_label=1)\n",
    "    actual_score = auc(fpr, tpr)\n",
    "    if actual_score > best_score_sl:\n",
    "        best_score_sl = actual_score\n",
    "        best_i_sl = i\n",
    "    print(\"I: \", i, \"Best_I: \",best_i_sl,\"Best_Score: \", best_score_sl,\"Actual_Score: \", actual_score)\n",
    "print(\"Best_I: \",best_i_sl,\"Best_Score: \", best_score_sl)"
   ]
  },
  {
   "cell_type": "code",
   "execution_count": null,
   "metadata": {
    "scrolled": true
   },
   "outputs": [],
   "source": [
    "best_score_twol = actual_score = 0.5\n",
    "best_i_twol = best_j_twol = 0\n",
    "for i in range(1,max_n_neurons,1):\n",
    "    for j in range(1,max_n_neurons,1):\n",
    "        mlp = MLPClassifier(hidden_layer_sizes=(i,j,), max_iter=200000,verbose=False)\n",
    "        mlp.fit(df_X_train,df_y_train['Class'].values)\n",
    "        predictions = mlp.predict(df_X_val.values)\n",
    "        fpr, tpr, thresholds = roc_curve(df_y_val['Class'].values, predictions, pos_label=1)\n",
    "        actual_score = auc(fpr, tpr)\n",
    "        if actual_score > best_score_twol:\n",
    "            best_score_twol = actual_score\n",
    "            best_i_twol = i\n",
    "            best_j_twol = j\n",
    "        print(\"I,J: \", i,\"-\",j)\n",
    "    print(\"Best_I: \", best_i_twol,\"Best_J: \", best_j_twol,\"Best_Score: \", best_score_twol,\"Actual_Score: \", actual_score)\n",
    "print(\"Best_I: \",best_i_twol,\"Best_I: \",best_j_twol,\"Best_Score: \", best_score_twol)"
   ]
  },
  {
   "cell_type": "markdown",
   "metadata": {},
   "source": [
    "## 3 Find the best random state for both single layer and two layers"
   ]
  },
  {
   "cell_type": "code",
   "execution_count": null,
   "metadata": {
    "scrolled": true
   },
   "outputs": [],
   "source": [
    "best_score_sl = actual_score = 0\n",
    "best_random_state_sl = 0\n",
    "for i in range(1,max_n_randomstate,1):\n",
    "    mlp = MLPClassifier(hidden_layer_sizes=(best_i_sl,), max_iter=200000,verbose=False, random_state=i)\n",
    "    mlp.fit(df_X_train,df_y_train['Class'].values)\n",
    "    predictions = mlp.predict(df_X_val.values)\n",
    "    fpr, tpr, thresholds = roc_curve(df_y_val['Class'].values, predictions, pos_label=1)\n",
    "    actual_score = auc(fpr, tpr)\n",
    "    if actual_score > best_score_sl:\n",
    "        best_score_sl = actual_score\n",
    "        best_random_state_sl = i\n",
    "    print(\"I: \", i, \"Best_Random_State: \",best_random_state_sl,\"Best_Score: \", best_score_sl,\"Actual_Score: \", actual_score)\n",
    "print(\"Best_Random_State: \",best_random_state_sl,\"Best_Score: \", best_score_sl)"
   ]
  },
  {
   "cell_type": "code",
   "execution_count": null,
   "metadata": {
    "scrolled": true
   },
   "outputs": [],
   "source": [
    "best_score_twol = actual_score = 0\n",
    "best_random_state_twol = 0\n",
    "for i in range(1,max_n_randomstate,1):\n",
    "    mlp = MLPClassifier(hidden_layer_sizes=(best_i_twol,best_j_twol), max_iter=200000,verbose=False, random_state=i)\n",
    "    mlp.fit(df_X_train,df_y_train['Class'].values)\n",
    "    predictions = mlp.predict(df_X_val.values)\n",
    "    fpr, tpr, thresholds = roc_curve(df_y_val['Class'].values, predictions, pos_label=1)\n",
    "    actual_score = auc(fpr, tpr)\n",
    "    if actual_score > best_score_twol:\n",
    "        best_score_twol = actual_score\n",
    "        best_random_state_twol = i\n",
    "    print(\"I: \", i, \"Best_Random_State: \",best_random_state_twol,\"Best_Score: \", best_score_twol,\"Actual_Score: \", actual_score)\n",
    "print(\"Best_Random_State: \",best_random_state_twol,\"Best_Score: \", best_score_twol)"
   ]
  },
  {
   "cell_type": "markdown",
   "metadata": {},
   "source": [
    "## 4. Compute metrics on the best architecture"
   ]
  },
  {
   "cell_type": "code",
   "execution_count": null,
   "metadata": {},
   "outputs": [],
   "source": [
    "if (best_score_sl > 0.5) and (best_score_sl > best_score_twol):\n",
    "    best_architecture = \"One Layer\"\n",
    "    best_neurons = [best_i_sl]\n",
    "    mlp = MLPClassifier(hidden_layer_sizes=(best_i_sl,), max_iter=200000,verbose=False, random_state=best_random_state_sl)\n",
    "    mlp.fit(df_X_train,df_y_train['Class'].values)\n",
    "elif best_score_twol > 0.5:\n",
    "    best_architecture = \"Two Layers\"\n",
    "    best_neurons = [best_i_twol, best_j_twol]\n",
    "    mlp = MLPClassifier(hidden_layer_sizes=(best_i_twol,best_j_twol), max_iter=200000,verbose=False, random_state=best_random_state_twol)\n",
    "    mlp.fit(df_X_train,df_y_train['Class'].values)\n",
    "else:\n",
    "    print(\"The auc value is below the threshold of 0.5 and it means that there aren't good NN with 1 or 2 hidden layers architecture\")\n",
    "\n",
    "predictions = mlp.predict(df_X_val.values)\n",
    "print(\"The best architecture is : \", best_architecture)\n",
    "layer = 0\n",
    "for neuron in best_neurons:\n",
    "    layer += 1\n",
    "    print(\"For the hidden layer \", layer, \" the best number of neurons is : \", neuron)"
   ]
  },
  {
   "cell_type": "markdown",
   "metadata": {},
   "source": [
    "### 4.1 Confusion Matrix and Classification Report"
   ]
  },
  {
   "cell_type": "code",
   "execution_count": null,
   "metadata": {},
   "outputs": [],
   "source": [
    "conf_mat_base_folder = '../../../../Data/confusion_matrix/neural_network/other_patients/base_ratio_1/30_percent/'"
   ]
  },
  {
   "cell_type": "code",
   "execution_count": null,
   "metadata": {},
   "outputs": [],
   "source": [
    "def plot_confusion_matrix(cm, classes,\n",
    "                          normalize=False,\n",
    "                          title='Confusion matrix',\n",
    "                          cmap=plt.cm.Blues):\n",
    "    \"\"\"\n",
    "    This function prints and plots the confusion matrix.\n",
    "    Normalization can be applied by setting `normalize=True`.\n",
    "    \"\"\"\n",
    "    if normalize:\n",
    "        cm = cm.astype('float') / cm.sum(axis=1)[:, np.newaxis]\n",
    "        print(\"Normalized confusion matrix\")\n",
    "    else:\n",
    "        print('Confusion matrix')\n",
    "\n",
    "    print(cm)\n",
    "\n",
    "    plt.imshow(cm, interpolation='nearest', cmap=cmap)\n",
    "    plt.title(title)\n",
    "    plt.colorbar()\n",
    "    tick_marks = np.arange(len(classes))\n",
    "    plt.xticks(tick_marks, classes, rotation=45)\n",
    "    plt.yticks(tick_marks, classes)\n",
    "\n",
    "    fmt = '.2f' if normalize else 'd'\n",
    "    thresh = cm.max() / 2.\n",
    "    for i, j in itertools.product(range(cm.shape[0]), range(cm.shape[1])):\n",
    "        plt.text(j, i, format(cm[i, j], fmt),\n",
    "                 horizontalalignment=\"center\",\n",
    "                 color=\"white\" if cm[i, j] > thresh else \"black\")\n",
    "\n",
    "    plt.tight_layout()\n",
    "    plt.ylabel('True label')\n",
    "    plt.xlabel('Predicted label')"
   ]
  },
  {
   "cell_type": "code",
   "execution_count": null,
   "metadata": {},
   "outputs": [],
   "source": [
    "# Compute confusion matrix\n",
    "conf_mat = confusion_matrix(df_y_val['Class'].values,predictions)\n",
    "tn, fp, fn, tp = conf_mat.ravel()"
   ]
  },
  {
   "cell_type": "code",
   "execution_count": null,
   "metadata": {},
   "outputs": [],
   "source": [
    "conf_mat_df = pd.DataFrame([list(pd.Series([tn, fp, fn, tp]))],columns=['tn', 'fp', 'fn', 'tp'])\n",
    "conf_mat_df.columns.names = ['model']\n",
    "conf_mat_df.rename(index={0: 'All_Patients'},inplace=True)\n",
    "conf_mat_df"
   ]
  },
  {
   "cell_type": "code",
   "execution_count": null,
   "metadata": {
    "scrolled": false
   },
   "outputs": [],
   "source": [
    "np.set_printoptions(precision=2)\n",
    "\n",
    "# Plot confusion matrix\n",
    "plt.figure()\n",
    "plot_confusion_matrix(conf_mat, classes=['Non-Fracture', \"Fracture\"],\n",
    "                      title='Confusion matrix')\n",
    "plt.savefig(conf_mat_base_folder+neural_network_name+'_confusion_matrix.png', bbox_inches=\"tight\")\n",
    "\n",
    "# Plot normalized confusion matrix\n",
    "plt.figure()\n",
    "plot_confusion_matrix(conf_mat, classes=['Non-Fracture', \"Fracture\"], normalize=True,\n",
    "                      title='Normalized confusion matrix')\n",
    "plt.savefig(conf_mat_base_folder+neural_network_name+'_confusion_matrix_normalized.png', bbox_inches=\"tight\")\n",
    "plt.show()"
   ]
  },
  {
   "cell_type": "code",
   "execution_count": null,
   "metadata": {},
   "outputs": [],
   "source": [
    "print(classification_report(df_y_val['Class'].values,predictions,target_names=['Non-Fracture','Fracture']))"
   ]
  },
  {
   "cell_type": "markdown",
   "metadata": {},
   "source": [
    "### 4.2 Accuracy"
   ]
  },
  {
   "cell_type": "code",
   "execution_count": null,
   "metadata": {},
   "outputs": [],
   "source": [
    "accuracy = (tp + tn) / float(tp+tn+fp+fn)\n",
    "print(\"Accuracy : \",accuracy)"
   ]
  },
  {
   "cell_type": "markdown",
   "metadata": {},
   "source": [
    "### 4.3 Recall (or Sensitivity)"
   ]
  },
  {
   "cell_type": "code",
   "execution_count": null,
   "metadata": {},
   "outputs": [],
   "source": [
    "recall = tp/(tp+fn)\n",
    "print(\"Recall : \", recall)"
   ]
  },
  {
   "cell_type": "markdown",
   "metadata": {},
   "source": [
    "### 4.4 Error"
   ]
  },
  {
   "cell_type": "code",
   "execution_count": null,
   "metadata": {},
   "outputs": [],
   "source": [
    "classification_error = (fp + fn) / float(tp+tn+fp+fn)\n",
    "print(\"Error : \",classification_error)"
   ]
  },
  {
   "cell_type": "markdown",
   "metadata": {},
   "source": [
    "### 4.5 Specificity"
   ]
  },
  {
   "cell_type": "code",
   "execution_count": null,
   "metadata": {},
   "outputs": [],
   "source": [
    "specificity = tn / (tn+fp)\n",
    "\n",
    "print(specificity)"
   ]
  },
  {
   "cell_type": "markdown",
   "metadata": {},
   "source": [
    "### 4.6 False Positive Rate: When the actual value is negative, how often is the prediction incorrect?"
   ]
  },
  {
   "cell_type": "code",
   "execution_count": null,
   "metadata": {},
   "outputs": [],
   "source": [
    "false_positive_rate = fp / float(tn+fp)\n",
    "\n",
    "print(false_positive_rate)\n",
    "print(1 - specificity)"
   ]
  },
  {
   "cell_type": "markdown",
   "metadata": {},
   "source": [
    "### 4.7 Precision: When a positive value is predicted, how often is the prediction correct?"
   ]
  },
  {
   "cell_type": "code",
   "execution_count": null,
   "metadata": {},
   "outputs": [],
   "source": [
    "precision = tp / float(tp+fp)\n",
    "\n",
    "print(precision)"
   ]
  },
  {
   "cell_type": "markdown",
   "metadata": {},
   "source": [
    "## 5 Metrics visualization"
   ]
  },
  {
   "cell_type": "code",
   "execution_count": null,
   "metadata": {},
   "outputs": [],
   "source": [
    "fpr, tpr, thresholds = roc_curve(df_y_val, predictions)\n",
    "\n",
    "plt.plot(fpr, tpr)\n",
    "plt.xlim([0.0, 1.0])\n",
    "plt.ylim([0.0, 1.0])\n",
    "plt.rcParams['font.size'] = 12\n",
    "plt.title('ROC curve')\n",
    "plt.xlabel('False Positive Rate')\n",
    "plt.ylabel('True Positive Rate')\n",
    "plt.grid(True)"
   ]
  },
  {
   "cell_type": "markdown",
   "metadata": {},
   "source": [
    "## 6. Neural Network Visualization"
   ]
  },
  {
   "cell_type": "code",
   "execution_count": null,
   "metadata": {},
   "outputs": [],
   "source": [
    "nn_model_base_folder = '../../../../Models/Neural_Networks/other_patients/base_ratio_1/30_percent/'"
   ]
  },
  {
   "cell_type": "code",
   "execution_count": null,
   "metadata": {},
   "outputs": [],
   "source": [
    "class Neuron():\n",
    "    def __init__(self, x, y):\n",
    "        self.x = x\n",
    "        self.y = y\n",
    "\n",
    "    def draw(self, neuron_radius):\n",
    "        circle = plt.Circle((self.x, self.y), radius=neuron_radius, fill=False)\n",
    "        plt.gca().add_patch(circle)\n",
    "\n",
    "\n",
    "class Layer():\n",
    "    def __init__(self, network, number_of_neurons, number_of_neurons_in_widest_layer):\n",
    "        self.vertical_distance_between_layers = 6\n",
    "        self.horizontal_distance_between_neurons = 2\n",
    "        self.neuron_radius = 0.5\n",
    "        self.number_of_neurons_in_widest_layer = number_of_neurons_in_widest_layer\n",
    "        self.previous_layer = self.__get_previous_layer(network)\n",
    "        self.y = self.__calculate_layer_y_position()\n",
    "        self.neurons = self.__intialise_neurons(number_of_neurons)\n",
    "\n",
    "    def __intialise_neurons(self, number_of_neurons):\n",
    "        neurons = []\n",
    "        x = self.__calculate_left_margin_so_layer_is_centered(number_of_neurons)\n",
    "        for iteration in range(number_of_neurons):\n",
    "            neuron = Neuron(x, self.y)\n",
    "            neurons.append(neuron)\n",
    "            x += self.horizontal_distance_between_neurons\n",
    "        return neurons\n",
    "\n",
    "    def __calculate_left_margin_so_layer_is_centered(self, number_of_neurons):\n",
    "        return self.horizontal_distance_between_neurons * (self.number_of_neurons_in_widest_layer - number_of_neurons) / 2\n",
    "\n",
    "    def __calculate_layer_y_position(self):\n",
    "        if self.previous_layer:\n",
    "            return self.previous_layer.y + self.vertical_distance_between_layers\n",
    "        else:\n",
    "            return 0\n",
    "\n",
    "    def __get_previous_layer(self, network):\n",
    "        if len(network.layers) > 0:\n",
    "            return network.layers[-1]\n",
    "        else:\n",
    "            return None\n",
    "\n",
    "    def __line_between_two_neurons(self, neuron1, neuron2):\n",
    "        angle = atan((neuron2.x - neuron1.x) / float(neuron2.y - neuron1.y))\n",
    "        x_adjustment = self.neuron_radius * sin(angle)\n",
    "        y_adjustment = self.neuron_radius * cos(angle)\n",
    "        line = plt.Line2D((neuron1.x - x_adjustment, neuron2.x + x_adjustment), (neuron1.y - y_adjustment, neuron2.y + y_adjustment))\n",
    "        plt.gca().add_line(line)\n",
    "\n",
    "    def draw(self, layerType=0):\n",
    "        n_neurons = 0\n",
    "        for neuron in self.neurons:\n",
    "            neuron.draw( self.neuron_radius )\n",
    "            n_neurons += 1\n",
    "            if self.previous_layer:\n",
    "                for previous_layer_neuron in self.previous_layer.neurons:\n",
    "                    self.__line_between_two_neurons(neuron, previous_layer_neuron)\n",
    "        # write Text\n",
    "        x_text = self.number_of_neurons_in_widest_layer * self.horizontal_distance_between_neurons\n",
    "        if layerType == 0:\n",
    "            plt.text(x_text, self.y, 'Input Layer', fontsize = 12)\n",
    "        elif layerType == -1:\n",
    "            plt.text(x_text, self.y, 'Output Layer', fontsize = 12)\n",
    "        else:\n",
    "            plt.text(x_text, self.y, 'Hidden Layer '+str(layerType)+\" - \"+str(n_neurons)+\" neurons\", fontsize = 12)\n",
    "\n",
    "class NeuralNetwork():\n",
    "    def __init__(self, number_of_neurons_in_widest_layer):\n",
    "        self.number_of_neurons_in_widest_layer = number_of_neurons_in_widest_layer\n",
    "        self.layers = []\n",
    "        self.layertype = 0\n",
    "\n",
    "    def add_layer(self, number_of_neurons ):\n",
    "        layer = Layer(self, number_of_neurons, self.number_of_neurons_in_widest_layer)\n",
    "        self.layers.append(layer)\n",
    "\n",
    "    def draw(self):\n",
    "        plt.figure(figsize=(38,8), dpi=300)\n",
    "        for i in range( len(self.layers) ):\n",
    "            layer = self.layers[i]\n",
    "            if i == len(self.layers)-1:\n",
    "                i = -1\n",
    "            layer.draw( i )\n",
    "        plt.axis('scaled')\n",
    "        plt.axis('off')\n",
    "        plt.title( 'Neural Network architecture', fontsize=15 )\n",
    "        plt.savefig(nn_model_base_folder+neural_network_name+'_network.png', bbox_inches=\"tight\")\n",
    "        plt.show()\n",
    "\n",
    "class DrawNN():\n",
    "    def __init__( self, neural_network ):\n",
    "        self.neural_network = neural_network\n",
    "\n",
    "    def draw( self ):\n",
    "        widest_layer = max( self.neural_network )\n",
    "        network = NeuralNetwork( widest_layer )\n",
    "        for l in self.neural_network:\n",
    "            network.add_layer(l)\n",
    "        network.draw()"
   ]
  },
  {
   "cell_type": "code",
   "execution_count": null,
   "metadata": {},
   "outputs": [],
   "source": [
    "n_input = df_X_train.shape[1]\n",
    "n_output = 1\n",
    "if best_score_sl > best_score_twol:\n",
    "    nn_structure = [n_input, best_i_sl, n_output]\n",
    "else:\n",
    "    nn_structure = [n_input, best_i_twol, best_j_twol, n_output]    \n",
    "    \n",
    "neural_network = DrawNN( nn_structure )\n",
    "neural_network.draw()"
   ]
  },
  {
   "cell_type": "markdown",
   "metadata": {},
   "source": [
    "## 7. Save the model"
   ]
  },
  {
   "cell_type": "code",
   "execution_count": null,
   "metadata": {},
   "outputs": [],
   "source": [
    "joblib.dump(mlp, nn_model_base_folder+neural_network_name+'_model.pkl')\n",
    "conf_mat_df.to_csv(conf_mat_base_folder+neural_network_name+'.csv')"
   ]
  },
  {
   "cell_type": "code",
   "execution_count": null,
   "metadata": {},
   "outputs": [],
   "source": []
  }
 ],
 "metadata": {
  "kernelspec": {
   "display_name": "Python 3",
   "language": "python",
   "name": "python3"
  },
  "language_info": {
   "codemirror_mode": {
    "name": "ipython",
    "version": 3
   },
   "file_extension": ".py",
   "mimetype": "text/x-python",
   "name": "python",
   "nbconvert_exporter": "python",
   "pygments_lexer": "ipython3",
   "version": "3.6.5"
  }
 },
 "nbformat": 4,
 "nbformat_minor": 2
}
