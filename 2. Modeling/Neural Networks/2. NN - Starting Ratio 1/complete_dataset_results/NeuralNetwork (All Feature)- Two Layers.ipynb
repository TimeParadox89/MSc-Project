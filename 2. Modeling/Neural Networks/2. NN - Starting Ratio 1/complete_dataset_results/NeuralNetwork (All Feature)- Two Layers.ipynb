{
 "cells": [
  {
   "cell_type": "markdown",
   "metadata": {},
   "source": [
    "# <center><b><h1>NeuralNetwork (All Features)</h1></b></center>"
   ]
  },
  {
   "cell_type": "code",
   "execution_count": 21,
   "metadata": {},
   "outputs": [],
   "source": [
    "import matplotlib\n",
    "import matplotlib.pyplot as plt\n",
    "%matplotlib inline\n",
    "import numpy as np\n",
    "from sklearn import datasets\n",
    "from sklearn.feature_selection import SelectFromModel\n",
    "from sklearn.metrics import accuracy_score, r2_score, recall_score, auc, roc_auc_score, roc_curve, classification_report,confusion_matrix, precision_score\n",
    "import pandas as pd\n",
    "from sklearn.externals import joblib\n",
    "from scipy.stats import spearmanr, pearsonr\n",
    "import itertools\n",
    "\n",
    "from sklearn.neural_network import MLPClassifier"
   ]
  },
  {
   "cell_type": "markdown",
   "metadata": {},
   "source": [
    "## 1. Prepare the data"
   ]
  },
  {
   "cell_type": "code",
   "execution_count": 22,
   "metadata": {},
   "outputs": [
    {
     "data": {
      "text/plain": [
       "(9588, 16)"
      ]
     },
     "execution_count": 22,
     "metadata": {},
     "output_type": "execute_result"
    }
   ],
   "source": [
    "df_X_train = pd.read_csv(\"../Data/X_train.csv\", index_col=0)\n",
    "df_X_train.shape"
   ]
  },
  {
   "cell_type": "code",
   "execution_count": 23,
   "metadata": {},
   "outputs": [
    {
     "data": {
      "text/plain": [
       "(9588, 1)"
      ]
     },
     "execution_count": 23,
     "metadata": {},
     "output_type": "execute_result"
    }
   ],
   "source": [
    "df_y_train = pd.read_csv(\"../Data/y_train.csv\", index_col=0)\n",
    "df_y_train.shape"
   ]
  },
  {
   "cell_type": "code",
   "execution_count": 24,
   "metadata": {},
   "outputs": [
    {
     "data": {
      "text/plain": [
       "(30777, 16)"
      ]
     },
     "execution_count": 24,
     "metadata": {},
     "output_type": "execute_result"
    }
   ],
   "source": [
    "df_X_val = pd.read_csv(\"../Data/X_val.csv\", index_col=0)\n",
    "df_X_val.shape"
   ]
  },
  {
   "cell_type": "code",
   "execution_count": 25,
   "metadata": {},
   "outputs": [
    {
     "data": {
      "text/plain": [
       "(30777, 1)"
      ]
     },
     "execution_count": 25,
     "metadata": {},
     "output_type": "execute_result"
    }
   ],
   "source": [
    "df_y_val = pd.read_csv(\"../Data/y_val.csv\", index_col=0)\n",
    "df_y_val.shape"
   ]
  },
  {
   "cell_type": "markdown",
   "metadata": {},
   "source": [
    "proporzione degli attuali positivi quanto sono stati identificati in maniera corretta "
   ]
  },
  {
   "cell_type": "markdown",
   "metadata": {},
   "source": [
    "## Creation Dataset with predicted and real column to extract false fractures"
   ]
  },
  {
   "cell_type": "markdown",
   "metadata": {},
   "source": [
    "### AUC based"
   ]
  },
  {
   "cell_type": "code",
   "execution_count": 6,
   "metadata": {
    "scrolled": true
   },
   "outputs": [
    {
     "name": "stdout",
     "output_type": "stream",
     "text": [
      "I,J:  1 29 Best_I:  1 Best_J:  8 Best_Score:  0.5608136603833722 Actual_Score:  0.5592500276946937\n",
      "I,J:  2 29 Best_I:  2 Best_J:  6 Best_Score:  0.5650885549977747 Actual_Score:  0.5547222853855587\n",
      "I,J:  3 29 Best_I:  3 Best_J:  7 Best_Score:  0.6152837782947453 Actual_Score:  0.587560709683814\n",
      "I,J:  4 29 Best_I:  4 Best_J:  7 Best_Score:  0.6747306812505952 Actual_Score:  0.6430931377407738\n",
      "I,J:  5 29 Best_I:  5 Best_J:  1 Best_Score:  0.6900440977263141 Actual_Score:  0.6220524586085797\n",
      "I,J:  6 29 Best_I:  6 Best_J:  3 Best_Score:  0.7137990511895115 Actual_Score:  0.6966195954048187\n",
      "I,J:  7 29 Best_I:  7 Best_J:  1 Best_Score:  0.7313318329611554 Actual_Score:  0.7119144515770428\n",
      "I,J:  8 29 Best_I:  8 Best_J:  1 Best_Score:  0.7545638911724865 Actual_Score:  0.6980783769549053\n",
      "I,J:  9 29 Best_I:  9 Best_J:  19 Best_Score:  0.762450173844937 Actual_Score:  0.7299751816674731\n",
      "I,J:  10 29 Best_I:  9 Best_J:  19 Best_Score:  0.762450173844937 Actual_Score:  0.7357965091081531\n",
      "I,J:  11 29 Best_I:  11 Best_J:  2 Best_Score:  0.7696763510637679 Actual_Score:  0.7133459271308881\n",
      "I,J:  12 29 Best_I:  12 Best_J:  29 Best_Score:  0.771190424826884 Actual_Score:  0.771190424826884\n",
      "I,J:  13 29 Best_I:  12 Best_J:  29 Best_Score:  0.771190424826884 Actual_Score:  0.738914348572217\n",
      "I,J:  14 29 Best_I:  14 Best_J:  20 Best_Score:  0.7887993912997848 Actual_Score:  0.7666080705252664\n",
      "I,J:  15 29 Best_I:  14 Best_J:  20 Best_Score:  0.7887993912997848 Actual_Score:  0.754991361199054\n",
      "I,J:  16 29 Best_I:  14 Best_J:  20 Best_Score:  0.7887993912997848 Actual_Score:  0.7410892080094997\n",
      "I,J:  17 29 Best_I:  17 Best_J:  29 Best_Score:  0.7964169868561956 Actual_Score:  0.7964169868561956\n",
      "I,J:  18 29 Best_I:  17 Best_J:  29 Best_Score:  0.7964169868561956 Actual_Score:  0.7685573882640577\n",
      "I,J:  19 29 Best_I:  17 Best_J:  29 Best_Score:  0.7964169868561956 Actual_Score:  0.7479246471112976\n",
      "I,J:  20 29 Best_I:  17 Best_J:  29 Best_Score:  0.7964169868561956 Actual_Score:  0.761628564598602\n",
      "I,J:  21 29 Best_I:  21 Best_J:  1 Best_Score:  0.8007414403961605 Actual_Score:  0.7617047492998587\n",
      "I,J:  22 29 Best_I:  22 Best_J:  1 Best_Score:  0.80278414269861 Actual_Score:  0.7470871984436555\n",
      "I,J:  23 29 Best_I:  23 Best_J:  1 Best_Score:  0.80391321163216 Actual_Score:  0.7534155817148943\n",
      "I,J:  24 29 Best_I:  23 Best_J:  1 Best_Score:  0.80391321163216 Actual_Score:  0.7608514612109092\n",
      "I,J:  25 29 Best_I:  23 Best_J:  1 Best_Score:  0.80391321163216 Actual_Score:  0.739304406468703\n",
      "I,J:  26 29 Best_I:  23 Best_J:  1 Best_Score:  0.80391321163216 Actual_Score:  0.7667668534357941\n",
      "I,J:  27 29 Best_I:  27 Best_J:  7 Best_Score:  0.8172034578525632 Actual_Score:  0.7815459080847126\n",
      "I,J:  28 29 Best_I:  27 Best_J:  7 Best_Score:  0.8172034578525632 Actual_Score:  0.7670986067139712\n",
      "I,J:  29 29 Best_I:  29 Best_J:  1 Best_Score:  0.8209389375732451 Actual_Score:  0.7788963518800325\n",
      "Best_I:  29 Best_I:  1 Best_Score:  0.8209389375732451\n"
     ]
    }
   ],
   "source": [
    "best_score = actual_score = 0\n",
    "best_i = best_j = 0\n",
    "for i in range(1,30,1):\n",
    "    for j in range(1,30,1):\n",
    "        mlp = MLPClassifier(hidden_layer_sizes=(i,j), max_iter=200000,verbose=False)\n",
    "        mlp.fit(df_X_train,df_y_train['Class'].values)\n",
    "        predictions = mlp.predict(df_X_val.values)\n",
    "        fpr, tpr, thresholds = roc_curve(df_y_val['Class'].values, predictions, pos_label=1)\n",
    "        actual_score = auc(fpr, tpr)\n",
    "        #actual_score = recall_score(df_y_val['Class'].values,predictions)\n",
    "        if actual_score > best_score:\n",
    "            best_score = actual_score\n",
    "            best_i = i\n",
    "            best_j = j\n",
    "        print((\"I,J: \", i,\"-\",j)\n",
    "    print(\"Best_I: \",best_i,\"Best_J: \",best_j,\"Best_Score: \", best_score,\"Actual_Score: \", actual_score)\n",
    "print(\"Best_I: \",best_i,\"Best_I: \",best_j,\"Best_Score: \", best_score)"
   ]
  },
  {
   "cell_type": "code",
   "execution_count": 7,
   "metadata": {
    "scrolled": true
   },
   "outputs": [
    {
     "name": "stdout",
     "output_type": "stream",
     "text": [
      "I:  1 Best_Random_State:  1 Best_Score:  0.7542415638076025 Actual_Score:  0.7542415638076025\n",
      "I:  2 Best_Random_State:  1 Best_Score:  0.7542415638076025 Actual_Score:  0.754092887030915\n",
      "I:  3 Best_Random_State:  1 Best_Score:  0.7542415638076025 Actual_Score:  0.7247357343175154\n",
      "I:  4 Best_Random_State:  4 Best_Score:  0.7988015485706622 Actual_Score:  0.7988015485706622\n",
      "I:  5 Best_Random_State:  4 Best_Score:  0.7988015485706622 Actual_Score:  0.7601899953161957\n",
      "I:  6 Best_Random_State:  4 Best_Score:  0.7988015485706622 Actual_Score:  0.7563395583230814\n",
      "I:  7 Best_Random_State:  4 Best_Score:  0.7988015485706622 Actual_Score:  0.7169472090550959\n",
      "I:  8 Best_Random_State:  4 Best_Score:  0.7988015485706622 Actual_Score:  0.7452858772610044\n",
      "I:  9 Best_Random_State:  9 Best_Score:  0.7991319414077455 Actual_Score:  0.7991319414077455\n",
      "I:  10 Best_Random_State:  9 Best_Score:  0.7991319414077455 Actual_Score:  0.7744073821420728\n",
      "I:  11 Best_Random_State:  9 Best_Score:  0.7991319414077455 Actual_Score:  0.5\n",
      "I:  12 Best_Random_State:  9 Best_Score:  0.7991319414077455 Actual_Score:  0.7811976351646814\n",
      "I:  13 Best_Random_State:  13 Best_Score:  0.8112988519820654 Actual_Score:  0.8112988519820654\n",
      "I:  14 Best_Random_State:  13 Best_Score:  0.8112988519820654 Actual_Score:  0.7493065637395805\n",
      "I:  15 Best_Random_State:  13 Best_Score:  0.8112988519820654 Actual_Score:  0.7378061721268941\n",
      "I:  16 Best_Random_State:  13 Best_Score:  0.8112988519820654 Actual_Score:  0.7381746573146059\n",
      "I:  17 Best_Random_State:  17 Best_Score:  0.8117455625326749 Actual_Score:  0.8117455625326749\n",
      "I:  18 Best_Random_State:  17 Best_Score:  0.8117455625326749 Actual_Score:  0.7394746559541647\n",
      "I:  19 Best_Random_State:  17 Best_Score:  0.8117455625326749 Actual_Score:  0.7978275699218135\n",
      "I:  20 Best_Random_State:  17 Best_Score:  0.8117455625326749 Actual_Score:  0.7991535141165197\n",
      "I:  21 Best_Random_State:  17 Best_Score:  0.8117455625326749 Actual_Score:  0.7619525439276711\n",
      "I:  22 Best_Random_State:  22 Best_Score:  0.8133537010799959 Actual_Score:  0.8133537010799959\n",
      "I:  23 Best_Random_State:  22 Best_Score:  0.8133537010799959 Actual_Score:  0.8101553040683019\n",
      "I:  24 Best_Random_State:  22 Best_Score:  0.8133537010799959 Actual_Score:  0.7952713982807911\n",
      "I:  25 Best_Random_State:  22 Best_Score:  0.8133537010799959 Actual_Score:  0.7785379728261609\n",
      "I:  26 Best_Random_State:  22 Best_Score:  0.8133537010799959 Actual_Score:  0.7584217134172532\n",
      "I:  27 Best_Random_State:  22 Best_Score:  0.8133537010799959 Actual_Score:  0.8015495424059206\n",
      "I:  28 Best_Random_State:  22 Best_Score:  0.8133537010799959 Actual_Score:  0.7272905455174438\n",
      "I:  29 Best_Random_State:  22 Best_Score:  0.8133537010799959 Actual_Score:  0.7261399038751193\n",
      "I:  30 Best_Random_State:  22 Best_Score:  0.8133537010799959 Actual_Score:  0.7901604154398403\n",
      "I:  31 Best_Random_State:  22 Best_Score:  0.8133537010799959 Actual_Score:  0.7540763673890609\n",
      "I:  32 Best_Random_State:  32 Best_Score:  0.8143856928240619 Actual_Score:  0.8143856928240619\n",
      "I:  33 Best_Random_State:  32 Best_Score:  0.8143856928240619 Actual_Score:  0.8066237933373369\n",
      "I:  34 Best_Random_State:  32 Best_Score:  0.8143856928240619 Actual_Score:  0.8044000551950387\n",
      "I:  35 Best_Random_State:  32 Best_Score:  0.8143856928240619 Actual_Score:  0.7865075339284291\n",
      "I:  36 Best_Random_State:  32 Best_Score:  0.8143856928240619 Actual_Score:  0.7686558258946359\n",
      "I:  37 Best_Random_State:  32 Best_Score:  0.8143856928240619 Actual_Score:  0.8125880642672373\n",
      "I:  38 Best_Random_State:  32 Best_Score:  0.8143856928240619 Actual_Score:  0.7476100936955217\n",
      "I:  39 Best_Random_State:  32 Best_Score:  0.8143856928240619 Actual_Score:  0.7946041990986106\n",
      "I:  40 Best_Random_State:  32 Best_Score:  0.8143856928240619 Actual_Score:  0.7413312693498452\n",
      "I:  41 Best_Random_State:  32 Best_Score:  0.8143856928240619 Actual_Score:  0.8129312841203485\n",
      "I:  42 Best_Random_State:  32 Best_Score:  0.8143856928240619 Actual_Score:  0.7348312761520506\n",
      "I:  43 Best_Random_State:  32 Best_Score:  0.8143856928240619 Actual_Score:  0.7863595373722886\n",
      "I:  44 Best_Random_State:  32 Best_Score:  0.8143856928240619 Actual_Score:  0.8051464514837554\n",
      "I:  45 Best_Random_State:  32 Best_Score:  0.8143856928240619 Actual_Score:  0.7876918950750088\n",
      "I:  46 Best_Random_State:  32 Best_Score:  0.8143856928240619 Actual_Score:  0.7954099689236384\n",
      "I:  47 Best_Random_State:  32 Best_Score:  0.8143856928240619 Actual_Score:  0.7503860737475682\n",
      "I:  48 Best_Random_State:  32 Best_Score:  0.8143856928240619 Actual_Score:  0.7123591214660113\n",
      "I:  49 Best_Random_State:  32 Best_Score:  0.8143856928240619 Actual_Score:  0.8058409566621771\n",
      "I:  50 Best_Random_State:  32 Best_Score:  0.8143856928240619 Actual_Score:  0.770997242191554\n",
      "I:  51 Best_Random_State:  51 Best_Score:  0.8155407073127596 Actual_Score:  0.8155407073127596\n",
      "I:  52 Best_Random_State:  51 Best_Score:  0.8155407073127596 Actual_Score:  0.7910072900207759\n",
      "I:  53 Best_Random_State:  51 Best_Score:  0.8155407073127596 Actual_Score:  0.8089689022600813\n",
      "I:  54 Best_Random_State:  51 Best_Score:  0.8155407073127596 Actual_Score:  0.796868750473725\n",
      "I:  55 Best_Random_State:  51 Best_Score:  0.8155407073127596 Actual_Score:  0.8010660999457767\n",
      "I:  56 Best_Random_State:  51 Best_Score:  0.8155407073127596 Actual_Score:  0.8108376624512427\n",
      "I:  57 Best_Random_State:  51 Best_Score:  0.8155407073127596 Actual_Score:  0.7379211293993263\n",
      "I:  58 Best_Random_State:  51 Best_Score:  0.8155407073127596 Actual_Score:  0.8017922839668128\n",
      "I:  59 Best_Random_State:  59 Best_Score:  0.8177435529668305 Actual_Score:  0.8177435529668305\n",
      "I:  60 Best_Random_State:  59 Best_Score:  0.8177435529668305 Actual_Score:  0.7560695107659477\n",
      "I:  61 Best_Random_State:  59 Best_Score:  0.8177435529668305 Actual_Score:  0.7598875886959006\n",
      "I:  62 Best_Random_State:  59 Best_Score:  0.8177435529668305 Actual_Score:  0.8017204721119293\n",
      "I:  63 Best_Random_State:  59 Best_Score:  0.8177435529668305 Actual_Score:  0.7228626012799807\n",
      "I:  64 Best_Random_State:  59 Best_Score:  0.8177435529668305 Actual_Score:  0.74010813563209\n",
      "I:  65 Best_Random_State:  59 Best_Score:  0.8177435529668305 Actual_Score:  0.7979260075523916\n",
      "I:  66 Best_Random_State:  59 Best_Score:  0.8177435529668305 Actual_Score:  0.8086132440883976\n",
      "I:  67 Best_Random_State:  59 Best_Score:  0.8177435529668305 Actual_Score:  0.766353182168893\n",
      "I:  68 Best_Random_State:  59 Best_Score:  0.8177435529668305 Actual_Score:  0.743517595362062\n",
      "I:  69 Best_Random_State:  59 Best_Score:  0.8177435529668305 Actual_Score:  0.7545058780772691\n",
      "I:  70 Best_Random_State:  59 Best_Score:  0.8177435529668305 Actual_Score:  0.8038241999148752\n",
      "I:  71 Best_Random_State:  71 Best_Score:  0.817892909964065 Actual_Score:  0.817892909964065\n",
      "I:  72 Best_Random_State:  71 Best_Score:  0.817892909964065 Actual_Score:  0.811150175205378\n",
      "I:  73 Best_Random_State:  71 Best_Score:  0.817892909964065 Actual_Score:  0.7951284547915706\n",
      "I:  74 Best_Random_State:  71 Best_Score:  0.817892909964065 Actual_Score:  0.7932711611753432\n",
      "I:  75 Best_Random_State:  71 Best_Score:  0.817892909964065 Actual_Score:  0.7609441655540202\n",
      "I:  76 Best_Random_State:  71 Best_Score:  0.817892909964065 Actual_Score:  0.7428345567585742\n",
      "I:  77 Best_Random_State:  71 Best_Score:  0.817892909964065 Actual_Score:  0.7691571484377279\n",
      "I:  78 Best_Random_State:  71 Best_Score:  0.817892909964065 Actual_Score:  0.8000584017926726\n",
      "I:  79 Best_Random_State:  71 Best_Score:  0.817892909964065 Actual_Score:  0.7531124948740522\n",
      "I:  80 Best_Random_State:  71 Best_Score:  0.817892909964065 Actual_Score:  0.7888037641461579\n",
      "I:  81 Best_Random_State:  71 Best_Score:  0.817892909964065 Actual_Score:  0.8109361000818208\n",
      "I:  82 Best_Random_State:  71 Best_Score:  0.817892909964065 Actual_Score:  0.810159676914675\n",
      "I:  83 Best_Random_State:  71 Best_Score:  0.817892909964065 Actual_Score:  0.8039735569121097\n",
      "I:  84 Best_Random_State:  71 Best_Score:  0.817892909964065 Actual_Score:  0.812950816167482\n",
      "I:  85 Best_Random_State:  71 Best_Score:  0.817892909964065 Actual_Score:  0.7454015147539835\n",
      "I:  86 Best_Random_State:  71 Best_Score:  0.817892909964065 Actual_Score:  0.7548470572687395\n"
     ]
    },
    {
     "name": "stdout",
     "output_type": "stream",
     "text": [
      "I:  87 Best_Random_State:  71 Best_Score:  0.817892909964065 Actual_Score:  0.7845848419653321\n",
      "I:  88 Best_Random_State:  71 Best_Score:  0.817892909964065 Actual_Score:  0.7823877295987282\n",
      "I:  89 Best_Random_State:  71 Best_Score:  0.817892909964065 Actual_Score:  0.7607250373635429\n",
      "I:  90 Best_Random_State:  71 Best_Score:  0.817892909964065 Actual_Score:  0.7377343602720104\n",
      "I:  91 Best_Random_State:  71 Best_Score:  0.817892909964065 Actual_Score:  0.7988288545669034\n",
      "I:  92 Best_Random_State:  71 Best_Score:  0.817892909964065 Actual_Score:  0.7284806399514906\n",
      "I:  93 Best_Random_State:  71 Best_Score:  0.817892909964065 Actual_Score:  0.7917075284866647\n",
      "I:  94 Best_Random_State:  71 Best_Score:  0.817892909964065 Actual_Score:  0.7474118579932717\n",
      "I:  95 Best_Random_State:  71 Best_Score:  0.817892909964065 Actual_Score:  0.7700161698141444\n",
      "I:  96 Best_Random_State:  71 Best_Score:  0.817892909964065 Actual_Score:  0.7530521495941026\n",
      "I:  97 Best_Random_State:  71 Best_Score:  0.817892909964065 Actual_Score:  0.7225264751554303\n",
      "I:  98 Best_Random_State:  71 Best_Score:  0.817892909964065 Actual_Score:  0.7390063726947811\n",
      "I:  99 Best_Random_State:  71 Best_Score:  0.817892909964065 Actual_Score:  0.7386156345777483\n",
      "Best_Random_State:  71 Best_Score:  0.817892909964065\n"
     ]
    }
   ],
   "source": [
    "best_score = actual_score = 0\n",
    "best_random_state = 0\n",
    "for i in range(1,100,1):\n",
    "    mlp = MLPClassifier(hidden_layer_sizes=(best_i,best_j), max_iter=200000,verbose=False, random_state=i)\n",
    "    mlp.fit(df_X_train,df_y_train['Class'].values)\n",
    "    predictions = mlp.predict(df_X_val.values)\n",
    "    fpr, tpr, thresholds = roc_curve(df_y_val['Class'].values, predictions, pos_label=1)\n",
    "    actual_score = auc(fpr, tpr)\n",
    "    if actual_score > best_score:\n",
    "        best_score = actual_score\n",
    "        best_random_state = i\n",
    "    print(\"I: \", i, \"Best_Random_State: \",best_random_state,\"Best_Score: \", best_score,\"Actual_Score: \", actual_score)\n",
    "print(\"Best_Random_State: \",best_random_state,\"Best_Score: \", best_score)"
   ]
  },
  {
   "cell_type": "code",
   "execution_count": 8,
   "metadata": {},
   "outputs": [
    {
     "data": {
      "text/plain": [
       "0.5274509803921569"
      ]
     },
     "execution_count": 8,
     "metadata": {},
     "output_type": "execute_result"
    }
   ],
   "source": [
    "recall_score(df_y_val['Class'].values,predictions)"
   ]
  },
  {
   "cell_type": "code",
   "execution_count": 9,
   "metadata": {},
   "outputs": [
    {
     "data": {
      "text/plain": [
       "array([[28747,  1520],\n",
       "       [  241,   269]])"
      ]
     },
     "execution_count": 9,
     "metadata": {},
     "output_type": "execute_result"
    }
   ],
   "source": [
    "confusion_matrix(df_y_val['Class'].values,predictions)"
   ]
  },
  {
   "cell_type": "code",
   "execution_count": 10,
   "metadata": {},
   "outputs": [
    {
     "data": {
      "text/plain": [
       "0.9427819475582415"
      ]
     },
     "execution_count": 10,
     "metadata": {},
     "output_type": "execute_result"
    }
   ],
   "source": [
    "accuracy_score(df_y_val['Class'].values,predictions)"
   ]
  },
  {
   "cell_type": "markdown",
   "metadata": {},
   "source": [
    "### Recall Based"
   ]
  },
  {
   "cell_type": "code",
   "execution_count": 6,
   "metadata": {
    "scrolled": true
   },
   "outputs": [
    {
     "name": "stdout",
     "output_type": "stream",
     "text": [
      "I:  1 Best_I:  1 Best_Score:  0.0784313725490196 Actual_Score:  0.0784313725490196\n",
      "I:  2 Best_I:  2 Best_Score:  0.10196078431372549 Actual_Score:  0.10196078431372549\n",
      "I:  3 Best_I:  3 Best_Score:  0.2725490196078431 Actual_Score:  0.2725490196078431\n",
      "I:  4 Best_I:  4 Best_Score:  0.307843137254902 Actual_Score:  0.307843137254902\n",
      "I:  5 Best_I:  5 Best_Score:  0.30980392156862746 Actual_Score:  0.30980392156862746\n",
      "I:  6 Best_I:  6 Best_Score:  0.3411764705882353 Actual_Score:  0.3411764705882353\n",
      "I:  7 Best_I:  7 Best_Score:  0.3509803921568627 Actual_Score:  0.3509803921568627\n",
      "I:  8 Best_I:  8 Best_Score:  0.42549019607843136 Actual_Score:  0.42549019607843136\n",
      "I:  9 Best_I:  8 Best_Score:  0.42549019607843136 Actual_Score:  0.4196078431372549\n",
      "I:  10 Best_I:  10 Best_Score:  0.49019607843137253 Actual_Score:  0.49019607843137253\n",
      "I:  11 Best_I:  10 Best_Score:  0.49019607843137253 Actual_Score:  0.4803921568627451\n",
      "I:  12 Best_I:  10 Best_Score:  0.49019607843137253 Actual_Score:  0.4803921568627451\n",
      "I:  13 Best_I:  10 Best_Score:  0.49019607843137253 Actual_Score:  0.48823529411764705\n",
      "I:  14 Best_I:  10 Best_Score:  0.49019607843137253 Actual_Score:  0.4725490196078431\n",
      "I:  15 Best_I:  10 Best_Score:  0.49019607843137253 Actual_Score:  0.4666666666666667\n",
      "I:  16 Best_I:  16 Best_Score:  0.5372549019607843 Actual_Score:  0.5372549019607843\n",
      "I:  17 Best_I:  16 Best_Score:  0.5372549019607843 Actual_Score:  0.5137254901960784\n",
      "I:  18 Best_I:  16 Best_Score:  0.5372549019607843 Actual_Score:  0.5098039215686274\n",
      "I:  19 Best_I:  16 Best_Score:  0.5372549019607843 Actual_Score:  0.5294117647058824\n",
      "I:  20 Best_I:  16 Best_Score:  0.5372549019607843 Actual_Score:  0.4980392156862745\n",
      "I:  21 Best_I:  21 Best_Score:  0.5882352941176471 Actual_Score:  0.5882352941176471\n",
      "I:  22 Best_I:  21 Best_Score:  0.5882352941176471 Actual_Score:  0.5431372549019607\n",
      "I:  23 Best_I:  21 Best_Score:  0.5882352941176471 Actual_Score:  0.5529411764705883\n",
      "I:  24 Best_I:  21 Best_Score:  0.5882352941176471 Actual_Score:  0.5313725490196078\n",
      "I:  25 Best_I:  21 Best_Score:  0.5882352941176471 Actual_Score:  0.5549019607843138\n",
      "I:  26 Best_I:  21 Best_Score:  0.5882352941176471 Actual_Score:  0.5803921568627451\n",
      "I:  27 Best_I:  21 Best_Score:  0.5882352941176471 Actual_Score:  0.5647058823529412\n",
      "I:  28 Best_I:  21 Best_Score:  0.5882352941176471 Actual_Score:  0.5470588235294118\n",
      "I:  29 Best_I:  21 Best_Score:  0.5882352941176471 Actual_Score:  0.5568627450980392\n",
      "Best_I:  21 Best_Score:  0.5882352941176471\n"
     ]
    }
   ],
   "source": [
    "best_score = actual_score = 0\n",
    "best_i = 0\n",
    "for i in range(1,30,1):\n",
    "    for j in range(1,30,1):\n",
    "        mlp = MLPClassifier(hidden_layer_sizes=(i,j,), max_iter=200000,verbose=False)\n",
    "        mlp.fit(df_X_train,df_y_train['Class'].values)\n",
    "        predictions = mlp.predict(df_X_val.values)\n",
    "        actual_score = recall_score(df_y_val['Class'].values,predictions)\n",
    "        if actual_score > best_score:\n",
    "            best_score = actual_score\n",
    "            best_i = i\n",
    "            best_j = j\n",
    "        print((\"I,J: \", i,\"-\",j)\n",
    "    print(\"Best_I: \",best_i,\"Best_J: \",best_j,\"Best_Score: \", best_score,\"Actual_Score: \", actual_score)\n",
    "print(\"Best_I: \",best_i,\"Best_Score: \", best_score)"
   ]
  },
  {
   "cell_type": "code",
   "execution_count": 7,
   "metadata": {
    "scrolled": true
   },
   "outputs": [
    {
     "name": "stdout",
     "output_type": "stream",
     "text": [
      "I:  1 Best_Random_State:  1 Best_Score:  0.5313725490196078 Actual_Score:  0.5313725490196078\n",
      "I:  2 Best_Random_State:  1 Best_Score:  0.5313725490196078 Actual_Score:  0.5\n",
      "I:  3 Best_Random_State:  3 Best_Score:  0.5784313725490197 Actual_Score:  0.5784313725490197\n",
      "I:  4 Best_Random_State:  3 Best_Score:  0.5784313725490197 Actual_Score:  0.5549019607843138\n",
      "I:  5 Best_Random_State:  3 Best_Score:  0.5784313725490197 Actual_Score:  0.5\n",
      "I:  6 Best_Random_State:  3 Best_Score:  0.5784313725490197 Actual_Score:  0.5392156862745098\n",
      "I:  7 Best_Random_State:  3 Best_Score:  0.5784313725490197 Actual_Score:  0.5490196078431373\n",
      "I:  8 Best_Random_State:  3 Best_Score:  0.5784313725490197 Actual_Score:  0.5392156862745098\n",
      "I:  9 Best_Random_State:  3 Best_Score:  0.5784313725490197 Actual_Score:  0.5509803921568628\n",
      "I:  10 Best_Random_State:  3 Best_Score:  0.5784313725490197 Actual_Score:  0.5450980392156862\n",
      "I:  11 Best_Random_State:  3 Best_Score:  0.5784313725490197 Actual_Score:  0.5509803921568628\n",
      "I:  12 Best_Random_State:  3 Best_Score:  0.5784313725490197 Actual_Score:  0.5705882352941176\n",
      "I:  13 Best_Random_State:  3 Best_Score:  0.5784313725490197 Actual_Score:  0.5333333333333333\n",
      "I:  14 Best_Random_State:  14 Best_Score:  0.5803921568627451 Actual_Score:  0.5803921568627451\n",
      "I:  15 Best_Random_State:  14 Best_Score:  0.5803921568627451 Actual_Score:  0.5509803921568628\n",
      "I:  16 Best_Random_State:  14 Best_Score:  0.5803921568627451 Actual_Score:  0.5254901960784314\n",
      "I:  17 Best_Random_State:  14 Best_Score:  0.5803921568627451 Actual_Score:  0.48823529411764705\n",
      "I:  18 Best_Random_State:  14 Best_Score:  0.5803921568627451 Actual_Score:  0.5647058823529412\n",
      "I:  19 Best_Random_State:  14 Best_Score:  0.5803921568627451 Actual_Score:  0.5313725490196078\n",
      "I:  20 Best_Random_State:  14 Best_Score:  0.5803921568627451 Actual_Score:  0.5764705882352941\n",
      "I:  21 Best_Random_State:  21 Best_Score:  0.5862745098039216 Actual_Score:  0.5862745098039216\n",
      "I:  22 Best_Random_State:  21 Best_Score:  0.5862745098039216 Actual_Score:  0.5470588235294118\n",
      "I:  23 Best_Random_State:  21 Best_Score:  0.5862745098039216 Actual_Score:  0.5411764705882353\n",
      "I:  24 Best_Random_State:  21 Best_Score:  0.5862745098039216 Actual_Score:  0.5549019607843138\n",
      "I:  25 Best_Random_State:  21 Best_Score:  0.5862745098039216 Actual_Score:  0.5803921568627451\n",
      "I:  26 Best_Random_State:  21 Best_Score:  0.5862745098039216 Actual_Score:  0.5588235294117647\n",
      "I:  27 Best_Random_State:  21 Best_Score:  0.5862745098039216 Actual_Score:  0.5392156862745098\n",
      "I:  28 Best_Random_State:  21 Best_Score:  0.5862745098039216 Actual_Score:  0.5098039215686274\n",
      "I:  29 Best_Random_State:  21 Best_Score:  0.5862745098039216 Actual_Score:  0.5176470588235295\n",
      "I:  30 Best_Random_State:  21 Best_Score:  0.5862745098039216 Actual_Score:  0.5529411764705883\n",
      "I:  31 Best_Random_State:  21 Best_Score:  0.5862745098039216 Actual_Score:  0.5058823529411764\n",
      "I:  32 Best_Random_State:  21 Best_Score:  0.5862745098039216 Actual_Score:  0.5196078431372549\n",
      "I:  33 Best_Random_State:  21 Best_Score:  0.5862745098039216 Actual_Score:  0.5568627450980392\n",
      "I:  34 Best_Random_State:  21 Best_Score:  0.5862745098039216 Actual_Score:  0.5823529411764706\n",
      "I:  35 Best_Random_State:  21 Best_Score:  0.5862745098039216 Actual_Score:  0.5392156862745098\n",
      "I:  36 Best_Random_State:  21 Best_Score:  0.5862745098039216 Actual_Score:  0.5352941176470588\n",
      "I:  37 Best_Random_State:  21 Best_Score:  0.5862745098039216 Actual_Score:  0.5666666666666667\n",
      "I:  38 Best_Random_State:  21 Best_Score:  0.5862745098039216 Actual_Score:  0.5568627450980392\n",
      "I:  39 Best_Random_State:  21 Best_Score:  0.5862745098039216 Actual_Score:  0.5176470588235295\n",
      "I:  40 Best_Random_State:  21 Best_Score:  0.5862745098039216 Actual_Score:  0.5254901960784314\n",
      "I:  41 Best_Random_State:  21 Best_Score:  0.5862745098039216 Actual_Score:  0.5588235294117647\n",
      "I:  42 Best_Random_State:  21 Best_Score:  0.5862745098039216 Actual_Score:  0.5176470588235295\n",
      "I:  43 Best_Random_State:  21 Best_Score:  0.5862745098039216 Actual_Score:  0.5274509803921569\n",
      "I:  44 Best_Random_State:  21 Best_Score:  0.5862745098039216 Actual_Score:  0.5254901960784314\n",
      "I:  45 Best_Random_State:  21 Best_Score:  0.5862745098039216 Actual_Score:  0.5686274509803921\n",
      "I:  46 Best_Random_State:  21 Best_Score:  0.5862745098039216 Actual_Score:  0.5745098039215686\n",
      "I:  47 Best_Random_State:  21 Best_Score:  0.5862745098039216 Actual_Score:  0.515686274509804\n",
      "I:  48 Best_Random_State:  21 Best_Score:  0.5862745098039216 Actual_Score:  0.5490196078431373\n",
      "I:  49 Best_Random_State:  21 Best_Score:  0.5862745098039216 Actual_Score:  0.5254901960784314\n",
      "I:  50 Best_Random_State:  21 Best_Score:  0.5862745098039216 Actual_Score:  0.5235294117647059\n",
      "I:  51 Best_Random_State:  51 Best_Score:  0.5882352941176471 Actual_Score:  0.5882352941176471\n",
      "I:  52 Best_Random_State:  51 Best_Score:  0.5882352941176471 Actual_Score:  0.5\n",
      "I:  53 Best_Random_State:  51 Best_Score:  0.5882352941176471 Actual_Score:  0.5862745098039216\n",
      "I:  54 Best_Random_State:  51 Best_Score:  0.5882352941176471 Actual_Score:  0.5843137254901961\n",
      "I:  55 Best_Random_State:  51 Best_Score:  0.5882352941176471 Actual_Score:  0.5117647058823529\n",
      "I:  56 Best_Random_State:  51 Best_Score:  0.5882352941176471 Actual_Score:  0.5490196078431373\n",
      "I:  57 Best_Random_State:  51 Best_Score:  0.5882352941176471 Actual_Score:  0.5686274509803921\n",
      "I:  58 Best_Random_State:  51 Best_Score:  0.5882352941176471 Actual_Score:  0.5294117647058824\n",
      "I:  59 Best_Random_State:  51 Best_Score:  0.5882352941176471 Actual_Score:  0.5392156862745098\n",
      "I:  60 Best_Random_State:  51 Best_Score:  0.5882352941176471 Actual_Score:  0.5647058823529412\n",
      "I:  61 Best_Random_State:  51 Best_Score:  0.5882352941176471 Actual_Score:  0.5627450980392157\n",
      "I:  62 Best_Random_State:  51 Best_Score:  0.5882352941176471 Actual_Score:  0.5196078431372549\n",
      "I:  63 Best_Random_State:  51 Best_Score:  0.5882352941176471 Actual_Score:  0.5529411764705883\n",
      "I:  64 Best_Random_State:  51 Best_Score:  0.5882352941176471 Actual_Score:  0.5254901960784314\n",
      "I:  65 Best_Random_State:  51 Best_Score:  0.5882352941176471 Actual_Score:  0.5588235294117647\n",
      "I:  66 Best_Random_State:  51 Best_Score:  0.5882352941176471 Actual_Score:  0.5549019607843138\n",
      "I:  67 Best_Random_State:  51 Best_Score:  0.5882352941176471 Actual_Score:  0.5843137254901961\n",
      "I:  68 Best_Random_State:  51 Best_Score:  0.5882352941176471 Actual_Score:  0.5215686274509804\n",
      "I:  69 Best_Random_State:  51 Best_Score:  0.5882352941176471 Actual_Score:  0.5392156862745098\n",
      "I:  70 Best_Random_State:  51 Best_Score:  0.5882352941176471 Actual_Score:  0.5647058823529412\n",
      "I:  71 Best_Random_State:  51 Best_Score:  0.5882352941176471 Actual_Score:  0.5529411764705883\n",
      "I:  72 Best_Random_State:  51 Best_Score:  0.5882352941176471 Actual_Score:  0.5392156862745098\n",
      "I:  73 Best_Random_State:  51 Best_Score:  0.5882352941176471 Actual_Score:  0.5666666666666667\n",
      "I:  74 Best_Random_State:  74 Best_Score:  0.5901960784313726 Actual_Score:  0.5901960784313726\n",
      "I:  75 Best_Random_State:  74 Best_Score:  0.5901960784313726 Actual_Score:  0.5627450980392157\n",
      "I:  76 Best_Random_State:  74 Best_Score:  0.5901960784313726 Actual_Score:  0.5509803921568628\n",
      "I:  77 Best_Random_State:  74 Best_Score:  0.5901960784313726 Actual_Score:  0.5549019607843138\n",
      "I:  78 Best_Random_State:  74 Best_Score:  0.5901960784313726 Actual_Score:  0.5450980392156862\n",
      "I:  79 Best_Random_State:  74 Best_Score:  0.5901960784313726 Actual_Score:  0.5352941176470588\n",
      "I:  80 Best_Random_State:  74 Best_Score:  0.5901960784313726 Actual_Score:  0.5333333333333333\n",
      "I:  81 Best_Random_State:  74 Best_Score:  0.5901960784313726 Actual_Score:  0.5470588235294118\n",
      "I:  82 Best_Random_State:  74 Best_Score:  0.5901960784313726 Actual_Score:  0.5235294117647059\n",
      "I:  83 Best_Random_State:  74 Best_Score:  0.5901960784313726 Actual_Score:  0.5137254901960784\n",
      "I:  84 Best_Random_State:  74 Best_Score:  0.5901960784313726 Actual_Score:  0.5470588235294118\n",
      "I:  85 Best_Random_State:  74 Best_Score:  0.5901960784313726 Actual_Score:  0.5196078431372549\n",
      "I:  86 Best_Random_State:  74 Best_Score:  0.5901960784313726 Actual_Score:  0.5549019607843138\n",
      "I:  87 Best_Random_State:  74 Best_Score:  0.5901960784313726 Actual_Score:  0.5431372549019607\n"
     ]
    },
    {
     "name": "stdout",
     "output_type": "stream",
     "text": [
      "I:  88 Best_Random_State:  74 Best_Score:  0.5901960784313726 Actual_Score:  0.5392156862745098\n",
      "I:  89 Best_Random_State:  74 Best_Score:  0.5901960784313726 Actual_Score:  0.5549019607843138\n",
      "I:  90 Best_Random_State:  74 Best_Score:  0.5901960784313726 Actual_Score:  0.5784313725490197\n",
      "I:  91 Best_Random_State:  74 Best_Score:  0.5901960784313726 Actual_Score:  0.5352941176470588\n",
      "I:  92 Best_Random_State:  74 Best_Score:  0.5901960784313726 Actual_Score:  0.5274509803921569\n",
      "I:  93 Best_Random_State:  74 Best_Score:  0.5901960784313726 Actual_Score:  0.5294117647058824\n",
      "I:  94 Best_Random_State:  74 Best_Score:  0.5901960784313726 Actual_Score:  0.5333333333333333\n",
      "I:  95 Best_Random_State:  74 Best_Score:  0.5901960784313726 Actual_Score:  0.5313725490196078\n",
      "I:  96 Best_Random_State:  74 Best_Score:  0.5901960784313726 Actual_Score:  0.5392156862745098\n",
      "I:  97 Best_Random_State:  74 Best_Score:  0.5901960784313726 Actual_Score:  0.5372549019607843\n",
      "I:  98 Best_Random_State:  74 Best_Score:  0.5901960784313726 Actual_Score:  0.5568627450980392\n",
      "I:  99 Best_Random_State:  74 Best_Score:  0.5901960784313726 Actual_Score:  0.5411764705882353\n",
      "Best_Random_State:  74 Best_Score:  0.5901960784313726\n"
     ]
    }
   ],
   "source": [
    "best_score = actual_score = 0\n",
    "best_random_state = 0\n",
    "for i in range(1,100,1):\n",
    "    mlp = MLPClassifier(hidden_layer_sizes=(best_i,best_j), max_iter=200000,verbose=False, random_state=i)\n",
    "    mlp.fit(df_X_train,df_y_train['Class'].values)\n",
    "    predictions = mlp.predict(df_X_val.values)\n",
    "    actual_score = recall_score(df_y_val['Class'].values,predictions)\n",
    "    if actual_score > best_score:\n",
    "        best_score = actual_score\n",
    "        best_random_state = i\n",
    "    print(\"I: \", i, \"Best_Random_State: \",best_random_state,\"Best_Score: \", best_score,\"Actual_Score: \", actual_score)\n",
    "print(\"Best_Random_State: \",best_random_state,\"Best_Score: \", best_score)"
   ]
  },
  {
   "cell_type": "code",
   "execution_count": 19,
   "metadata": {},
   "outputs": [
    {
     "data": {
      "text/plain": [
       "(0.5705882352941176, 0.15569823434991975)"
      ]
     },
     "execution_count": 19,
     "metadata": {},
     "output_type": "execute_result"
    }
   ],
   "source": [
    "mlp = MLPClassifier(hidden_layer_sizes=(best_i,), max_iter=200000,verbose=False, \n",
    "                    random_state=best_random_state)\n",
    "mlp.fit(df_X_train,df_y_train['Class'].values)\n",
    "predictions = mlp.predict(df_X_val.values)\n",
    "fpr, tpr, thresholds = roc_curve(df_y_val['Class'].values, predictions, pos_label=1)\n",
    "actual_score = auc(fpr, tpr)\n",
    "recall_score(df_y_val['Class'].values,predictions), precision_score(df_y_val['Class'].values,predictions)"
   ]
  },
  {
   "cell_type": "markdown",
   "metadata": {},
   "source": [
    "(0.5901960784313726, 0.1620021528525296)"
   ]
  },
  {
   "cell_type": "code",
   "execution_count": 20,
   "metadata": {},
   "outputs": [
    {
     "data": {
      "text/plain": [
       "array([[28689,  1578],\n",
       "       [  219,   291]])"
      ]
     },
     "execution_count": 20,
     "metadata": {},
     "output_type": "execute_result"
    }
   ],
   "source": [
    "confusion_matrix(df_y_val['Class'].values,predictions)"
   ]
  },
  {
   "cell_type": "code",
   "execution_count": 14,
   "metadata": {},
   "outputs": [],
   "source": [
    "tn, fp, fn, tp = confusion_matrix(df_y_val['Class'].values,predictions).ravel()"
   ]
  },
  {
   "cell_type": "code",
   "execution_count": 15,
   "metadata": {},
   "outputs": [
    {
     "data": {
      "text/plain": [
       "0.5901960784313726"
      ]
     },
     "execution_count": 15,
     "metadata": {},
     "output_type": "execute_result"
    }
   ],
   "source": [
    "recall = tp/(tp+fn)\n",
    "recall"
   ]
  },
  {
   "cell_type": "code",
   "execution_count": null,
   "metadata": {},
   "outputs": [],
   "source": [
    "giorgio = pd.DataFrame(df_X_val)"
   ]
  },
  {
   "cell_type": "code",
   "execution_count": null,
   "metadata": {},
   "outputs": [],
   "source": [
    "giorgio.head()"
   ]
  },
  {
   "cell_type": "code",
   "execution_count": null,
   "metadata": {},
   "outputs": [],
   "source": [
    "giorgio['real_class'] = df_y_val\n",
    "giorgio['predicted_class'] = predictions"
   ]
  },
  {
   "cell_type": "code",
   "execution_count": null,
   "metadata": {},
   "outputs": [],
   "source": [
    "giorgio.head()"
   ]
  },
  {
   "cell_type": "code",
   "execution_count": null,
   "metadata": {
    "scrolled": true
   },
   "outputs": [],
   "source": [
    "giorgiONE = giorgio[(giorgio['real_class'] == 0) & ( giorgio['predicted_class']==1)]"
   ]
  },
  {
   "cell_type": "code",
   "execution_count": null,
   "metadata": {
    "scrolled": true
   },
   "outputs": [],
   "source": [
    "giorgiONE['Class'] = giorgio['real_class']\n",
    "giorgiONE = giorgiONE.drop(['real_class','predicted_class'],axis=1)\n",
    "giorgiONE.shape"
   ]
  },
  {
   "cell_type": "code",
   "execution_count": null,
   "metadata": {
    "scrolled": true
   },
   "outputs": [],
   "source": [
    "std_patients = pd.read_csv('../Data/standardized_patients.csv', index_col=0)\n",
    "std_patients.shape"
   ]
  },
  {
   "cell_type": "code",
   "execution_count": null,
   "metadata": {},
   "outputs": [],
   "source": [
    "for indice in giorgiONE.index.values:\n",
    "    a = std_patients.loc[indice].round(10) == giorgiONE.loc[indice].round(10)\n",
    "    for e in a:\n",
    "        if not e:\n",
    "            print(indice, a)"
   ]
  },
  {
   "cell_type": "code",
   "execution_count": null,
   "metadata": {},
   "outputs": [],
   "source": [
    "for index in giorgiONE.index.values:\n",
    "    equals = True\n",
    "    patient = std_patients.loc[index].round(10) == giorgiONE.loc[index].round(10)\n",
    "    for feature in patient:\n",
    "        if not feature:\n",
    "            equals = False\n",
    "            print(std_patients.loc[index].round(10) == giorgiONE.loc[index].round(10), index)\n",
    "    if equals:\n",
    "        std_patients.loc[index,'Class'] = 1        \n",
    "    "
   ]
  },
  {
   "cell_type": "code",
   "execution_count": null,
   "metadata": {
    "scrolled": true
   },
   "outputs": [],
   "source": [
    "std_patients.loc[giorgiONE.index.values,'Class'].shape"
   ]
  },
  {
   "cell_type": "code",
   "execution_count": null,
   "metadata": {},
   "outputs": [],
   "source": [
    "std_patients.to_csv('../Data/new_std_patients.csv')"
   ]
  },
  {
   "cell_type": "code",
   "execution_count": null,
   "metadata": {},
   "outputs": [],
   "source": []
  }
 ],
 "metadata": {
  "kernelspec": {
   "display_name": "Python 3",
   "language": "python",
   "name": "python3"
  },
  "language_info": {
   "codemirror_mode": {
    "name": "ipython",
    "version": 3
   },
   "file_extension": ".py",
   "mimetype": "text/x-python",
   "name": "python",
   "nbconvert_exporter": "python",
   "pygments_lexer": "ipython3",
   "version": "3.6.5"
  }
 },
 "nbformat": 4,
 "nbformat_minor": 2
}
