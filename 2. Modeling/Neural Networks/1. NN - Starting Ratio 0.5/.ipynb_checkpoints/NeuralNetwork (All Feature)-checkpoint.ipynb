{
 "cells": [
  {
   "cell_type": "markdown",
   "metadata": {},
   "source": [
    "# <center><b><h1>NeuralNetwork (All Features)</h1></b></center>"
   ]
  },
  {
   "cell_type": "code",
   "execution_count": null,
   "metadata": {},
   "outputs": [],
   "source": [
    "import matplotlib\n",
    "import matplotlib.pyplot as plt\n",
    "%matplotlib inline\n",
    "import numpy as np\n",
    "from sklearn import datasets\n",
    "from sklearn.feature_selection import SelectFromModel\n",
    "from sklearn.metrics import accuracy_score, r2_score, recall_score, auc, roc_auc_score, roc_curve\n",
    "import pandas as pd\n",
    "from sklearn.externals import joblib\n",
    "from scipy.stats import spearmanr, pearsonr\n",
    "from sklearn.metrics import classification_report,confusion_matrix, accuracy_score, precision_score\n",
    "import itertools\n",
    "\n",
    "from sklearn.neural_network import MLPClassifier"
   ]
  },
  {
   "cell_type": "markdown",
   "metadata": {},
   "source": [
    "## 1. Prepare the data"
   ]
  },
  {
   "cell_type": "code",
   "execution_count": null,
   "metadata": {},
   "outputs": [],
   "source": [
    "df_X_train = pd.read_csv(\"../Data/X_train.csv\", index_col=0)\n",
    "df_X_train.shape"
   ]
  },
  {
   "cell_type": "code",
   "execution_count": null,
   "metadata": {},
   "outputs": [],
   "source": [
    "df_y_train = pd.read_csv(\"../Data/y_train.csv\", index_col=0)\n",
    "df_y_train.shape"
   ]
  },
  {
   "cell_type": "code",
   "execution_count": null,
   "metadata": {},
   "outputs": [],
   "source": [
    "df_X_val = pd.read_csv(\"../Data/X_val.csv\", index_col=0)\n",
    "df_X_val.shape"
   ]
  },
  {
   "cell_type": "code",
   "execution_count": null,
   "metadata": {},
   "outputs": [],
   "source": [
    "df_y_val = pd.read_csv(\"../Data/y_val.csv\", index_col=0)\n",
    "df_y_val.shape"
   ]
  },
  {
   "cell_type": "markdown",
   "metadata": {},
   "source": [
    "## 2. Define a Neural Network"
   ]
  },
  {
   "cell_type": "markdown",
   "metadata": {},
   "source": [
    "(29,15) [34/6367]\n",
    "(29,20,8) [31/8358]"
   ]
  },
  {
   "cell_type": "markdown",
   "metadata": {},
   "source": [
    "2,14 random 56 = 17\n",
    "\n",
    "15,2,14 - random 5 = 13\n",
    "\n",
    "27,2 - random 48"
   ]
  },
  {
   "cell_type": "code",
   "execution_count": null,
   "metadata": {
    "scrolled": true
   },
   "outputs": [],
   "source": [
    "mlp = MLPClassifier(hidden_layer_sizes=(27,2),shuffle=True, max_iter=200000,verbose=False, random_state=48)"
   ]
  },
  {
   "cell_type": "markdown",
   "metadata": {},
   "source": [
    "## 3. Train the Neural Network"
   ]
  },
  {
   "cell_type": "code",
   "execution_count": null,
   "metadata": {},
   "outputs": [],
   "source": [
    "mlp.fit(df_X_train,df_y_train['Class'].values)"
   ]
  },
  {
   "cell_type": "markdown",
   "metadata": {},
   "source": [
    "## 4. Scoring"
   ]
  },
  {
   "cell_type": "code",
   "execution_count": null,
   "metadata": {},
   "outputs": [],
   "source": [
    "predictions = mlp.predict(df_X_val.values)"
   ]
  },
  {
   "cell_type": "code",
   "execution_count": null,
   "metadata": {},
   "outputs": [],
   "source": [
    "print(confusion_matrix(df_y_val['Class'].values,predictions))"
   ]
  },
  {
   "cell_type": "code",
   "execution_count": null,
   "metadata": {},
   "outputs": [],
   "source": [
    "print(recall_score(df_y_val['Class'].values, predictions))"
   ]
  },
  {
   "cell_type": "code",
   "execution_count": null,
   "metadata": {
    "scrolled": false
   },
   "outputs": [],
   "source": [
    "print(classification_report(df_y_val,predictions))"
   ]
  },
  {
   "cell_type": "code",
   "execution_count": null,
   "metadata": {},
   "outputs": [],
   "source": [
    "y_score = mlp.predict_proba(df_X_val.values)\n",
    "y_score.shape"
   ]
  },
  {
   "cell_type": "code",
   "execution_count": null,
   "metadata": {},
   "outputs": [],
   "source": []
  },
  {
   "cell_type": "markdown",
   "metadata": {},
   "source": [
    "proporzione degli attuali positivi quanto sono stati identificati in maniera corretta "
   ]
  },
  {
   "cell_type": "code",
   "execution_count": null,
   "metadata": {},
   "outputs": [],
   "source": []
  },
  {
   "cell_type": "code",
   "execution_count": null,
   "metadata": {},
   "outputs": [],
   "source": [
    "import datetime"
   ]
  },
  {
   "cell_type": "markdown",
   "metadata": {},
   "source": [
    "Ciclo  16  -  2\n",
    "\n",
    "[[25627  5091]\n",
    " [   43    16]]\n",
    " \n",
    "accuracy:  0.8331871202521364\n",
    "\n",
    "Actual Score:  5091  -  16 2"
   ]
  },
  {
   "cell_type": "code",
   "execution_count": null,
   "metadata": {},
   "outputs": [],
   "source": []
  },
  {
   "cell_type": "code",
   "execution_count": null,
   "metadata": {},
   "outputs": [],
   "source": [
    "mlp = MLPClassifier(hidden_layer_sizes=(29,21,),shuffle=True, max_iter=200000,verbose=False, random_state=86)\n",
    "mlp.fit(df_X_train,df_y_train['Class'].values)\n",
    "predictions = mlp.predict(df_X_val.values)\n",
    "fpr, tpr, thresholds = roc_curve(df_y_val['Class'].values, predictions, pos_label=1)\n",
    "actual_score = auc(fpr, tpr)\n",
    "recall_score(df_y_val['Class'].values,predictions), precision_score(df_y_val['Class'].values,predictions)\n",
    "\n"
   ]
  },
  {
   "cell_type": "code",
   "execution_count": null,
   "metadata": {},
   "outputs": [],
   "source": []
  },
  {
   "cell_type": "markdown",
   "metadata": {},
   "source": [
    "### Calcolo attraverso il recall"
   ]
  },
  {
   "cell_type": "code",
   "execution_count": null,
   "metadata": {
    "scrolled": true
   },
   "outputs": [],
   "source": [
    "(uno,due) = (0,0)\n",
    "best_score = 0\n",
    "actual_score = 0\n",
    "for i in range(30,0,-1):\n",
    "    print(datetime.datetime.now())\n",
    "    for j in range(30,0,-1):\n",
    "        print(\"Ciclo \",i, \" - \", j)\n",
    "        mlp = MLPClassifier(hidden_layer_sizes=(i,j,),shuffle=True, max_iter=200000,verbose=False)\n",
    "        mlp.fit(df_X_train,df_y_train['Class'].values)\n",
    "        predictions = mlp.predict(df_X_val.values)\n",
    "        actual_score = recall_score(df_y_val['Class'].values,predictions)\n",
    "        if actual_score > best_score : \n",
    "            best_score = actual_score\n",
    "            (uno,due) = (i,j)\n",
    "            cf = confusion_matrix(df_y_val['Class'].values,predictions)\n",
    "            print(cf)\n",
    "            print(\"Recall : \", recall_score(df_y_val['Class'].values,predictions))\n",
    "        print(\"Actual Score: \",actual_score,\" - \", uno,due)\n",
    "print(best_score,uno,due)\n",
    "print(cf)\n",
    "print(\"Recall: \", recall_score(df_y_val['Class'].values,predictions))"
   ]
  },
  {
   "cell_type": "code",
   "execution_count": null,
   "metadata": {
    "scrolled": true
   },
   "outputs": [],
   "source": [
    "(uno,due) = (0,0)\n",
    "best_score = 0\n",
    "actual_score = 0\n",
    "for i in range(30,0,-1):\n",
    "    print(datetime.datetime.now())\n",
    "    print(\"Node: \",i)\n",
    "    mlp = MLPClassifier(hidden_layer_sizes=(i), max_iter=200000,verbose=False)\n",
    "    mlp.fit(df_X_train,df_y_train['Class'].values)\n",
    "    predictions = mlp.predict(df_X_val.values)\n",
    "    actual_score = recall_score(df_y_val['Class'].values,predictions)\n",
    "    if actual_score > best_score : \n",
    "        best_score = actual_score\n",
    "        uno = i\n",
    "        cf = confusion_matrix(df_y_val['Class'].values,predictions)\n",
    "        print(cf)\n",
    "        print(\"Recall : \", recall_score(df_y_val['Class'].values,predictions))\n",
    "    print(\"Actual Score: \",actual_score,\" - \", uno)\n",
    "print(best_score,uno)\n",
    "print(cf)\n",
    "print(\"Recall: \", recall_score(df_y_val['Class'].values,predictions))"
   ]
  },
  {
   "cell_type": "code",
   "execution_count": null,
   "metadata": {},
   "outputs": [],
   "source": []
  },
  {
   "cell_type": "markdown",
   "metadata": {},
   "source": [
    "AUC score"
   ]
  },
  {
   "cell_type": "code",
   "execution_count": null,
   "metadata": {
    "scrolled": true
   },
   "outputs": [],
   "source": [
    "(uno,due) = (0,0)\n",
    "best_score = 0\n",
    "actual_score = 0\n",
    "for i in range(30,0,-1):\n",
    "    print(datetime.datetime.now())\n",
    "    for j in range(30,0,-1):\n",
    "        print(\"Ciclo \",i, \" - \", j)\n",
    "        mlp = MLPClassifier(hidden_layer_sizes=(i,j,),shuffle=True, max_iter=200000,verbose=False)\n",
    "        mlp.fit(df_X_train,df_y_train['Class'].values)\n",
    "        predictions = mlp.predict(df_X_val.values)\n",
    "        fpr, tpr, thresholds = roc_curve(df_y_val['Class'].values, predictions, pos_label=1)\n",
    "        actual_score = auc(fpr, tpr)\n",
    "        if actual_score > best_score : \n",
    "            best_score = actual_score\n",
    "            (uno,due) = (i,j)\n",
    "            cf = confusion_matrix(df_y_val['Class'].values,predictions)\n",
    "            print(cf)\n",
    "            print(\"AUC : \", best_score)\n",
    "        print(\"Actual Score: \",actual_score,\" - \", uno,due)\n",
    "print(best_score,uno,due)\n",
    "print(cf)"
   ]
  },
  {
   "cell_type": "code",
   "execution_count": null,
   "metadata": {},
   "outputs": [],
   "source": []
  },
  {
   "cell_type": "code",
   "execution_count": null,
   "metadata": {},
   "outputs": [],
   "source": [
    "mlp = MLPClassifier(hidden_layer_sizes=(30,9,),shuffle=True, max_iter=200000,verbose=False, random_state=96)\n",
    "mlp.fit(df_X_train,df_y_train['Class'].values)\n",
    "predictions = mlp.predict(df_X_val.values)\n",
    "recall_score(df_y_val['Class'].values,predictions), precision_score(df_y_val['Class'].values,predictions)\n"
   ]
  },
  {
   "cell_type": "code",
   "execution_count": null,
   "metadata": {
    "scrolled": true
   },
   "outputs": [],
   "source": [
    "(uno,due) = (0,0)\n",
    "best_score = 0\n",
    "actual_score = 0\n",
    "for i in range(0,100,1):\n",
    "    print(datetime.datetime.now())\n",
    "    print(\"Ciclo \",i, \" - \", j)\n",
    "    mlp = MLPClassifier(hidden_layer_sizes=(29,21,),shuffle=True, max_iter=200000,verbose=False)\n",
    "    mlp.fit(df_X_train,df_y_train['Class'].values)\n",
    "    predictions = mlp.predict(df_X_val.values)\n",
    "    fpr, tpr, thresholds = roc_curve(df_y_val['Class'].values, predictions, pos_label=1)\n",
    "    actual_score = auc(fpr, tpr)\n",
    "    if actual_score > best_score : \n",
    "        best_score = actual_score\n",
    "        uno = i\n",
    "        cf = confusion_matrix(df_y_val['Class'].values,predictions)\n",
    "        print(cf)\n",
    "        print(\"AUC : \", best_score)\n",
    "    print(\"Actual Score: \",actual_score,\" - \", uno)\n",
    "print(best_score,uno)\n",
    "print(cf)"
   ]
  },
  {
   "cell_type": "code",
   "execution_count": null,
   "metadata": {},
   "outputs": [],
   "source": []
  },
  {
   "cell_type": "code",
   "execution_count": null,
   "metadata": {
    "scrolled": true
   },
   "outputs": [],
   "source": [
    "(uno,due) = (0,0)\n",
    "best_score = 200\n",
    "actual_score = 0\n",
    "for i in range(30,0,-1):\n",
    "    print(datetime.datetime.now())\n",
    "    for j in range(30,0,-1):\n",
    "        print(\"Ciclo \",i, \" - \", j)\n",
    "        mlp = MLPClassifier(hidden_layer_sizes=(i,j,),shuffle=True, max_iter=200000,verbose=False)\n",
    "        mlp.fit(df_X_train,df_y_train['Class'].values)\n",
    "        predictions = mlp.predict(df_X_val.values)\n",
    "        actual_score = confusion_matrix(df_y_val['Class'].values,predictions)[1,0]\n",
    "        if actual_score < best_score : \n",
    "            best_score = actual_score\n",
    "            (uno,due) = (i,j)\n",
    "            cf = confusion_matrix(df_y_val['Class'].values,predictions)\n",
    "            print(cf)\n",
    "            print(\"accuracy: \", accuracy_score(df_y_val['Class'].values,predictions))\n",
    "        print(\"Actual Score: \",actual_score,\" - \", uno,due)\n",
    "print(best_score,uno,due)\n",
    "print(cf)\n",
    "print(\"accuracy: \", accuracy_score(df_y_val['Class'].values,predictions))"
   ]
  },
  {
   "cell_type": "code",
   "execution_count": null,
   "metadata": {},
   "outputs": [],
   "source": [
    "print(confusion_matrix(df_y_val,predictions))"
   ]
  },
  {
   "cell_type": "markdown",
   "metadata": {},
   "source": [
    "### Find the best accuracy"
   ]
  },
  {
   "cell_type": "code",
   "execution_count": null,
   "metadata": {},
   "outputs": [],
   "source": [
    "(uno,due) = (0,0)\n",
    "best_score = 0\n",
    "actual_score = 0\n",
    "for i in range(30,0,-1):\n",
    "    print(datetime.datetime.now())\n",
    "    for j in range(30,0,-1):\n",
    "        print(\"Ciclo \",i, \" - \", j)\n",
    "        mlp = MLPClassifier(hidden_layer_sizes=(i,j,),shuffle=True, max_iter=200000,verbose=False)\n",
    "        mlp.fit(df_X_train,df_y_train['Class'].values)\n",
    "        predictions = mlp.predict(df_X_val.values)\n",
    "        actual_score = accuracy_score(df_y_val['Class'].values,predictions)\n",
    "        if actual_score > best_score : \n",
    "            best_score = actual_score\n",
    "            (uno,due) = (i,j)\n",
    "            cf = confusion_matrix(df_y_val['Class'].values,predictions)\n",
    "            print(cf)\n",
    "            print(\"accuracy: \", accuracy_score(df_y_val['Class'].values,predictions))\n",
    "        print(\"Actual Score: \",actual_score,\" - \", uno,due)\n",
    "print(best_score,uno,due)\n",
    "print(cf)\n",
    "print(\"accuracy: \", accuracy_score(df_y_val['Class'].values,predictions))"
   ]
  },
  {
   "cell_type": "markdown",
   "metadata": {},
   "source": [
    "### Find the best random_state"
   ]
  },
  {
   "cell_type": "code",
   "execution_count": null,
   "metadata": {
    "scrolled": true
   },
   "outputs": [],
   "source": [
    "(uno,due) = (0,0)\n",
    "best_score = 0\n",
    "actual_score = 0\n",
    "for i in range(0,100,1):\n",
    "    print(\"Ciclo \",i)\n",
    "    mlp = MLPClassifier(hidden_layer_sizes=(30,9,),shuffle=True, max_iter=200000,verbose=False, random_state=i)\n",
    "    mlp.fit(df_X_train,df_y_train['Class'].values)\n",
    "    predictions = mlp.predict(df_X_val)\n",
    "    actual_score = confusion_matrix(df_y_val,predictions)[1,0]\n",
    "    if actual_score > best_score : \n",
    "        best_score = actual_score\n",
    "        uno = i\n",
    "    print(\"Actual Score: \",actual_score,\" - \", uno)\n",
    "print(best_score,uno)"
   ]
  },
  {
   "cell_type": "code",
   "execution_count": null,
   "metadata": {},
   "outputs": [],
   "source": []
  },
  {
   "cell_type": "markdown",
   "metadata": {},
   "source": [
    "### Find the best false positive"
   ]
  },
  {
   "cell_type": "code",
   "execution_count": null,
   "metadata": {
    "scrolled": true
   },
   "outputs": [],
   "source": [
    "(uno,due) = (0,0)\n",
    "best_score = 100\n",
    "actual_score = 0\n",
    "for i in range(30,1,-1):\n",
    "    for j in range(30,1,-1):\n",
    "        print(\"Ciclo \",i, \" - \", j)\n",
    "        mlp = MLPClassifier(hidden_layer_sizes=(i,j),shuffle=True, max_iter=200000,verbose=False)\n",
    "        mlp.fit(df_X_train,df_y_train['Class'].values)\n",
    "        predictions = mlp.predict(df_X_val)\n",
    "        actual_score = confusion_matrix(df_y_val,predictions)[1,0]\n",
    "        if actual_score < best_score : \n",
    "            best_score = actual_score\n",
    "            (uno,due) = (i,j)\n",
    "        print(\"Actual Score: \",actual_score,\" - \", uno,due)\n",
    "print(best_score,uno,due)"
   ]
  },
  {
   "cell_type": "markdown",
   "metadata": {},
   "source": [
    "## Save the model"
   ]
  },
  {
   "cell_type": "code",
   "execution_count": null,
   "metadata": {},
   "outputs": [],
   "source": [
    "joblib.dump(mlp, 'NeuralNetwork (AllFeatures).pkl') "
   ]
  },
  {
   "cell_type": "code",
   "execution_count": null,
   "metadata": {},
   "outputs": [],
   "source": []
  },
  {
   "cell_type": "code",
   "execution_count": null,
   "metadata": {},
   "outputs": [],
   "source": []
  },
  {
   "cell_type": "code",
   "execution_count": null,
   "metadata": {},
   "outputs": [],
   "source": []
  },
  {
   "cell_type": "code",
   "execution_count": null,
   "metadata": {},
   "outputs": [],
   "source": []
  },
  {
   "cell_type": "markdown",
   "metadata": {},
   "source": [
    "## Neural Network Visualization"
   ]
  },
  {
   "cell_type": "code",
   "execution_count": null,
   "metadata": {},
   "outputs": [],
   "source": [
    "from matplotlib import pyplot\n",
    "from math import cos, sin, atan\n",
    "\n",
    "\n",
    "class Neuron():\n",
    "    def __init__(self, x, y):\n",
    "        self.x = x\n",
    "        self.y = y\n",
    "\n",
    "    def draw(self, neuron_radius):\n",
    "        circle = pyplot.Circle((self.x, self.y), radius=neuron_radius, fill=False)\n",
    "        pyplot.gca().add_patch(circle)\n",
    "\n",
    "\n",
    "class Layer():\n",
    "    def __init__(self, network, number_of_neurons, number_of_neurons_in_widest_layer):\n",
    "        self.vertical_distance_between_layers = 6\n",
    "        self.horizontal_distance_between_neurons = 2\n",
    "        self.neuron_radius = 0.5\n",
    "        self.number_of_neurons_in_widest_layer = number_of_neurons_in_widest_layer\n",
    "        self.previous_layer = self.__get_previous_layer(network)\n",
    "        self.y = self.__calculate_layer_y_position()\n",
    "        self.neurons = self.__intialise_neurons(number_of_neurons)\n",
    "\n",
    "    def __intialise_neurons(self, number_of_neurons):\n",
    "        neurons = []\n",
    "        x = self.__calculate_left_margin_so_layer_is_centered(number_of_neurons)\n",
    "        for iteration in range(number_of_neurons):\n",
    "            neuron = Neuron(x, self.y)\n",
    "            neurons.append(neuron)\n",
    "            x += self.horizontal_distance_between_neurons\n",
    "        return neurons\n",
    "\n",
    "    def __calculate_left_margin_so_layer_is_centered(self, number_of_neurons):\n",
    "        return self.horizontal_distance_between_neurons * (self.number_of_neurons_in_widest_layer - number_of_neurons) / 2\n",
    "\n",
    "    def __calculate_layer_y_position(self):\n",
    "        if self.previous_layer:\n",
    "            return self.previous_layer.y + self.vertical_distance_between_layers\n",
    "        else:\n",
    "            return 0\n",
    "\n",
    "    def __get_previous_layer(self, network):\n",
    "        if len(network.layers) > 0:\n",
    "            return network.layers[-1]\n",
    "        else:\n",
    "            return None\n",
    "\n",
    "    def __line_between_two_neurons(self, neuron1, neuron2):\n",
    "        angle = atan((neuron2.x - neuron1.x) / float(neuron2.y - neuron1.y))\n",
    "        x_adjustment = self.neuron_radius * sin(angle)\n",
    "        y_adjustment = self.neuron_radius * cos(angle)\n",
    "        line = pyplot.Line2D((neuron1.x - x_adjustment, neuron2.x + x_adjustment), (neuron1.y - y_adjustment, neuron2.y + y_adjustment))\n",
    "        pyplot.gca().add_line(line)\n",
    "\n",
    "    def draw(self, layerType=0):\n",
    "        for neuron in self.neurons:\n",
    "            neuron.draw( self.neuron_radius )\n",
    "            if self.previous_layer:\n",
    "                for previous_layer_neuron in self.previous_layer.neurons:\n",
    "                    self.__line_between_two_neurons(neuron, previous_layer_neuron)\n",
    "        # write Text\n",
    "        x_text = self.number_of_neurons_in_widest_layer * self.horizontal_distance_between_neurons\n",
    "        if layerType == 0:\n",
    "            pyplot.text(x_text, self.y, 'Input Layer', fontsize = 12)\n",
    "        elif layerType == -1:\n",
    "            pyplot.text(x_text, self.y, 'Output Layer', fontsize = 12)\n",
    "        else:\n",
    "            pyplot.text(x_text, self.y, 'Hidden Layer '+str(layerType), fontsize = 12)\n",
    "\n",
    "class NeuralNetwork():\n",
    "    def __init__(self, number_of_neurons_in_widest_layer):\n",
    "        self.number_of_neurons_in_widest_layer = number_of_neurons_in_widest_layer\n",
    "        self.layers = []\n",
    "        self.layertype = 0\n",
    "\n",
    "    def add_layer(self, number_of_neurons ):\n",
    "        layer = Layer(self, number_of_neurons, self.number_of_neurons_in_widest_layer)\n",
    "        self.layers.append(layer)\n",
    "\n",
    "    def draw(self):\n",
    "        pyplot.figure(figsize=(38,8), dpi=300)\n",
    "        for i in range( len(self.layers) ):\n",
    "            layer = self.layers[i]\n",
    "            if i == len(self.layers)-1:\n",
    "                i = -1\n",
    "            layer.draw( i )\n",
    "        pyplot.axis('scaled')\n",
    "        pyplot.axis('off')\n",
    "        pyplot.title( 'Neural Network architecture', fontsize=15 )\n",
    "        pyplot.savefig('ciccio.png', bbox_inches=\"tight\")\n",
    "        pyplot.show()\n",
    "\n",
    "class DrawNN():\n",
    "    def __init__( self, neural_network ):\n",
    "        self.neural_network = neural_network\n",
    "\n",
    "    def draw( self ):\n",
    "        widest_layer = max( self.neural_network )\n",
    "        network = NeuralNetwork( widest_layer )\n",
    "        for l in self.neural_network:\n",
    "            network.add_layer(l)\n",
    "        network.draw()"
   ]
  },
  {
   "cell_type": "code",
   "execution_count": null,
   "metadata": {},
   "outputs": [],
   "source": [
    "network = DrawNN( [16,16,2,1] )\n",
    "network.draw()"
   ]
  },
  {
   "cell_type": "code",
   "execution_count": null,
   "metadata": {},
   "outputs": [],
   "source": []
  },
  {
   "cell_type": "code",
   "execution_count": null,
   "metadata": {},
   "outputs": [],
   "source": []
  },
  {
   "cell_type": "code",
   "execution_count": null,
   "metadata": {},
   "outputs": [],
   "source": []
  },
  {
   "cell_type": "code",
   "execution_count": null,
   "metadata": {},
   "outputs": [],
   "source": []
  },
  {
   "cell_type": "markdown",
   "metadata": {},
   "source": [
    "## Creation Dataset with predicted and real column to extract false fractures"
   ]
  },
  {
   "cell_type": "code",
   "execution_count": null,
   "metadata": {},
   "outputs": [],
   "source": [
    "mlp = MLPClassifier(hidden_layer_sizes=(29,21,), max_iter=200000,verbose=False, random_state=86)\n",
    "mlp.fit(df_X_train,df_y_train['Class'].values)\n",
    "predictions = mlp.predict(df_X_val.values)\n",
    "fpr, tpr, thresholds = roc_curve(df_y_val['Class'].values, predictions, pos_label=1)\n",
    "actual_score = auc(fpr, tpr)\n",
    "recall_score(df_y_val['Class'].values,predictions), precision_score(df_y_val['Class'].values,predictions)"
   ]
  },
  {
   "cell_type": "code",
   "execution_count": null,
   "metadata": {},
   "outputs": [],
   "source": [
    "giorgio = pd.DataFrame(df_X_val)"
   ]
  },
  {
   "cell_type": "code",
   "execution_count": null,
   "metadata": {},
   "outputs": [],
   "source": [
    "giorgio['real_class'] = df_y_val\n",
    "giorgio['predicted_class'] = predictions"
   ]
  },
  {
   "cell_type": "code",
   "execution_count": null,
   "metadata": {},
   "outputs": [],
   "source": [
    "giorgio.head()"
   ]
  },
  {
   "cell_type": "code",
   "execution_count": null,
   "metadata": {
    "scrolled": true
   },
   "outputs": [],
   "source": [
    "giorgiONE = giorgio[(giorgio['real_class'] == 0) & ( giorgio['predicted_class']==1)]"
   ]
  },
  {
   "cell_type": "code",
   "execution_count": null,
   "metadata": {},
   "outputs": [],
   "source": [
    "giorgiONE['Class'] = giorgio['real_class']\n",
    "giorgiONE = giorgiONE.drop(['real_class','predicted_class'],axis=1)\n",
    "giorgiONE"
   ]
  },
  {
   "cell_type": "code",
   "execution_count": null,
   "metadata": {
    "scrolled": true
   },
   "outputs": [],
   "source": [
    "std_patients = pd.read_csv('../Data/standardized_patients.csv', index_col=0)\n",
    "std_patients"
   ]
  },
  {
   "cell_type": "code",
   "execution_count": null,
   "metadata": {},
   "outputs": [],
   "source": [
    "for indice in giorgiONE.index.values:\n",
    "    a = std_patients.loc[indice].round(10) == giorgiONE.loc[indice].round(10)\n",
    "    for e in a:\n",
    "        if not e:\n",
    "            print(indice, a)"
   ]
  },
  {
   "cell_type": "code",
   "execution_count": null,
   "metadata": {},
   "outputs": [],
   "source": [
    "for index in giorgiONE.index.values:\n",
    "    equals = True\n",
    "    patient = std_patients.loc[index].round(10) == giorgiONE.loc[index].round(10)\n",
    "    for feature in patient:\n",
    "        if not feature:\n",
    "            equals = False\n",
    "            print(std_patients.loc[index].round(10) == giorgiONE.loc[index].round(10), index)\n",
    "    if equals:\n",
    "        std_patients.loc[index,'Class'] = 1        \n",
    "    "
   ]
  },
  {
   "cell_type": "code",
   "execution_count": null,
   "metadata": {},
   "outputs": [],
   "source": [
    "std_patients.loc[101895], giorgiONE.loc[101895]"
   ]
  },
  {
   "cell_type": "code",
   "execution_count": null,
   "metadata": {
    "scrolled": true
   },
   "outputs": [],
   "source": [
    "std_patients.loc[giorgiONE.index.values,'Class'].shape"
   ]
  },
  {
   "cell_type": "code",
   "execution_count": null,
   "metadata": {},
   "outputs": [],
   "source": [
    "std_patients.to_csv('../Data/new_std_patients.csv')"
   ]
  },
  {
   "cell_type": "code",
   "execution_count": null,
   "metadata": {},
   "outputs": [],
   "source": []
  }
 ],
 "metadata": {
  "kernelspec": {
   "display_name": "Python 3",
   "language": "python",
   "name": "python3"
  },
  "language_info": {
   "codemirror_mode": {
    "name": "ipython",
    "version": 3
   },
   "file_extension": ".py",
   "mimetype": "text/x-python",
   "name": "python",
   "nbconvert_exporter": "python",
   "pygments_lexer": "ipython3",
   "version": "3.6.5"
  }
 },
 "nbformat": 4,
 "nbformat_minor": 2
}
