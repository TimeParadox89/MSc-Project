{
 "cells": [
  {
   "cell_type": "markdown",
   "metadata": {},
   "source": [
    "# <center><b><h1>NeuralNetwork (All Features)</h1></b></center>"
   ]
  },
  {
   "cell_type": "code",
   "execution_count": 31,
   "metadata": {},
   "outputs": [],
   "source": [
    "import matplotlib\n",
    "import matplotlib.pyplot as plt\n",
    "%matplotlib inline\n",
    "import numpy as np\n",
    "from sklearn import datasets\n",
    "from sklearn.feature_selection import SelectFromModel\n",
    "from sklearn.metrics import accuracy_score, r2_score\n",
    "import pandas as pd\n",
    "from sklearn.externals import joblib\n",
    "from scipy.stats import spearmanr, pearsonr\n",
    "from sklearn.metrics import classification_report,confusion_matrix\n",
    "import itertools\n",
    "\n",
    "from sklearn.neural_network import MLPClassifier"
   ]
  },
  {
   "cell_type": "markdown",
   "metadata": {},
   "source": [
    "calcium\t0.268236\n",
    "dose_walk\t0.139115\n",
    "dose_moderate\t0.138635\n",
    "dose_vigorous\t0.0979883\n",
    "VitaminD\t"
   ]
  },
  {
   "cell_type": "markdown",
   "metadata": {},
   "source": [
    "## 1. Prepare the data"
   ]
  },
  {
   "cell_type": "code",
   "execution_count": 33,
   "metadata": {},
   "outputs": [
    {
     "data": {
      "text/plain": [
       "(4484, 5)"
      ]
     },
     "execution_count": 33,
     "metadata": {},
     "output_type": "execute_result"
    }
   ],
   "source": [
    "df_X_train = pd.read_csv(\"../Data/X_train.csv\", index_col=0)\n",
    "df_X_train = df_X_train[['calcium', 'dose_walk','dose_moderate', 'dose_vigorous', 'VitaminD']]\n",
    "df_X_train.shape"
   ]
  },
  {
   "cell_type": "code",
   "execution_count": 34,
   "metadata": {},
   "outputs": [
    {
     "data": {
      "text/plain": [
       "(4484, 1)"
      ]
     },
     "execution_count": 34,
     "metadata": {},
     "output_type": "execute_result"
    }
   ],
   "source": [
    "df_y_train = pd.read_csv(\"../Data/y_train.csv\", index_col=0)\n",
    "df_y_train.shape"
   ]
  },
  {
   "cell_type": "code",
   "execution_count": 36,
   "metadata": {},
   "outputs": [
    {
     "data": {
      "text/plain": [
       "(1196, 5)"
      ]
     },
     "execution_count": 36,
     "metadata": {},
     "output_type": "execute_result"
    }
   ],
   "source": [
    "df_X_val = pd.read_csv(\"../Data/X_val.csv\", index_col=0)\n",
    "df_X_val = df_X_val[['calcium', 'dose_walk','dose_moderate', 'dose_vigorous', 'VitaminD']]\n",
    "df_X_val.shape"
   ]
  },
  {
   "cell_type": "code",
   "execution_count": 37,
   "metadata": {},
   "outputs": [
    {
     "data": {
      "text/plain": [
       "(1196, 1)"
      ]
     },
     "execution_count": 37,
     "metadata": {},
     "output_type": "execute_result"
    }
   ],
   "source": [
    "df_y_val = pd.read_csv(\"../Data/y_val.csv\", index_col=0)\n",
    "df_y_val.shape"
   ]
  },
  {
   "cell_type": "markdown",
   "metadata": {},
   "source": [
    "## 2. Define a Neural Network"
   ]
  },
  {
   "cell_type": "code",
   "execution_count": 38,
   "metadata": {
    "scrolled": true
   },
   "outputs": [],
   "source": [
    "mlp = MLPClassifier(hidden_layer_sizes=(5,3),max_iter=200000, verbose=True)"
   ]
  },
  {
   "cell_type": "markdown",
   "metadata": {},
   "source": [
    "## 3. Train the Neural Network"
   ]
  },
  {
   "cell_type": "code",
   "execution_count": 39,
   "metadata": {},
   "outputs": [
    {
     "name": "stderr",
     "output_type": "stream",
     "text": [
      "/Users/erennio/anaconda2/envs/Python36/lib/python3.6/site-packages/sklearn/neural_network/multilayer_perceptron.py:916: DataConversionWarning: A column-vector y was passed when a 1d array was expected. Please change the shape of y to (n_samples, ), for example using ravel().\n",
      "  y = column_or_1d(y, warn=True)\n"
     ]
    },
    {
     "name": "stdout",
     "output_type": "stream",
     "text": [
      "Iteration 1, loss = 0.84251493\n",
      "Iteration 2, loss = 0.79416721\n",
      "Iteration 3, loss = 0.74874311\n",
      "Iteration 4, loss = 0.70319977\n",
      "Iteration 5, loss = 0.65865804\n",
      "Iteration 6, loss = 0.61477970\n",
      "Iteration 7, loss = 0.57221387\n",
      "Iteration 8, loss = 0.53270233\n",
      "Iteration 9, loss = 0.49645291\n",
      "Iteration 10, loss = 0.46328129\n",
      "Iteration 11, loss = 0.43253664\n",
      "Iteration 12, loss = 0.40364222\n",
      "Iteration 13, loss = 0.37693363\n",
      "Iteration 14, loss = 0.35257376\n",
      "Iteration 15, loss = 0.33076428\n",
      "Iteration 16, loss = 0.31165950\n",
      "Iteration 17, loss = 0.29467804\n",
      "Iteration 18, loss = 0.27986441\n",
      "Iteration 19, loss = 0.26741248\n",
      "Iteration 20, loss = 0.25686923\n",
      "Iteration 21, loss = 0.24802142\n",
      "Iteration 22, loss = 0.24072450\n",
      "Iteration 23, loss = 0.23458131\n",
      "Iteration 24, loss = 0.22951737\n",
      "Iteration 25, loss = 0.22551755\n",
      "Iteration 26, loss = 0.22216850\n",
      "Iteration 27, loss = 0.21933944\n",
      "Iteration 28, loss = 0.21673721\n",
      "Iteration 29, loss = 0.21443169\n",
      "Iteration 30, loss = 0.21231573\n",
      "Iteration 31, loss = 0.21045054\n",
      "Iteration 32, loss = 0.20844874\n",
      "Iteration 33, loss = 0.20633431\n",
      "Iteration 34, loss = 0.20412345\n",
      "Iteration 35, loss = 0.20204021\n",
      "Iteration 36, loss = 0.20025403\n",
      "Iteration 37, loss = 0.19848635\n",
      "Iteration 38, loss = 0.19702754\n",
      "Iteration 39, loss = 0.19560555\n",
      "Iteration 40, loss = 0.19434660\n",
      "Iteration 41, loss = 0.19312327\n",
      "Iteration 42, loss = 0.19207026\n",
      "Iteration 43, loss = 0.19090748\n",
      "Iteration 44, loss = 0.18986354\n",
      "Iteration 45, loss = 0.18893267\n",
      "Iteration 46, loss = 0.18796157\n",
      "Iteration 47, loss = 0.18703793\n",
      "Iteration 48, loss = 0.18615604\n",
      "Iteration 49, loss = 0.18530694\n",
      "Iteration 50, loss = 0.18446884\n",
      "Iteration 51, loss = 0.18362584\n",
      "Iteration 52, loss = 0.18285670\n",
      "Iteration 53, loss = 0.18208172\n",
      "Iteration 54, loss = 0.18128155\n",
      "Iteration 55, loss = 0.18048426\n",
      "Iteration 56, loss = 0.17975059\n",
      "Iteration 57, loss = 0.17894998\n",
      "Iteration 58, loss = 0.17815336\n",
      "Iteration 59, loss = 0.17740288\n",
      "Iteration 60, loss = 0.17670143\n",
      "Iteration 61, loss = 0.17603499\n",
      "Iteration 62, loss = 0.17541060\n",
      "Iteration 63, loss = 0.17477875\n",
      "Iteration 64, loss = 0.17408812\n",
      "Iteration 65, loss = 0.17356049\n",
      "Iteration 66, loss = 0.17291001\n",
      "Iteration 67, loss = 0.17239581\n",
      "Iteration 68, loss = 0.17181860\n",
      "Iteration 69, loss = 0.17127787\n",
      "Iteration 70, loss = 0.17071990\n",
      "Iteration 71, loss = 0.17017788\n",
      "Iteration 72, loss = 0.16967604\n",
      "Iteration 73, loss = 0.16907566\n",
      "Iteration 74, loss = 0.16857975\n",
      "Iteration 75, loss = 0.16815837\n",
      "Iteration 76, loss = 0.16761419\n",
      "Iteration 77, loss = 0.16713063\n",
      "Iteration 78, loss = 0.16662281\n",
      "Iteration 79, loss = 0.16621581\n",
      "Iteration 80, loss = 0.16573390\n",
      "Iteration 81, loss = 0.16532142\n",
      "Iteration 82, loss = 0.16487018\n",
      "Iteration 83, loss = 0.16454675\n",
      "Iteration 84, loss = 0.16405699\n",
      "Iteration 85, loss = 0.16344516\n",
      "Iteration 86, loss = 0.16298214\n",
      "Iteration 87, loss = 0.16248189\n",
      "Iteration 88, loss = 0.16204902\n",
      "Iteration 89, loss = 0.16152783\n",
      "Iteration 90, loss = 0.16102231\n",
      "Iteration 91, loss = 0.16041232\n",
      "Iteration 92, loss = 0.15983588\n",
      "Iteration 93, loss = 0.15942270\n",
      "Iteration 94, loss = 0.15879188\n",
      "Iteration 95, loss = 0.15815822\n",
      "Iteration 96, loss = 0.15768403\n",
      "Iteration 97, loss = 0.15712587\n",
      "Iteration 98, loss = 0.15660047\n",
      "Iteration 99, loss = 0.15599117\n",
      "Iteration 100, loss = 0.15552009\n",
      "Iteration 101, loss = 0.15489165\n",
      "Iteration 102, loss = 0.15437090\n",
      "Iteration 103, loss = 0.15381226\n",
      "Iteration 104, loss = 0.15334132\n",
      "Iteration 105, loss = 0.15284095\n",
      "Iteration 106, loss = 0.15237721\n",
      "Iteration 107, loss = 0.15201036\n",
      "Iteration 108, loss = 0.15159283\n",
      "Iteration 109, loss = 0.15109358\n",
      "Iteration 110, loss = 0.15062243\n",
      "Iteration 111, loss = 0.15017000\n",
      "Iteration 112, loss = 0.14973559\n",
      "Iteration 113, loss = 0.14930256\n",
      "Iteration 114, loss = 0.14880320\n",
      "Iteration 115, loss = 0.14825106\n",
      "Iteration 116, loss = 0.14767626\n",
      "Iteration 117, loss = 0.14720224\n",
      "Iteration 118, loss = 0.14664137\n",
      "Iteration 119, loss = 0.14614401\n",
      "Iteration 120, loss = 0.14569270\n",
      "Iteration 121, loss = 0.14523705\n",
      "Iteration 122, loss = 0.14456193\n",
      "Iteration 123, loss = 0.14397779\n",
      "Iteration 124, loss = 0.14343816\n",
      "Iteration 125, loss = 0.14280618\n",
      "Iteration 126, loss = 0.14220624\n",
      "Iteration 127, loss = 0.14138985\n",
      "Iteration 128, loss = 0.14075956\n",
      "Iteration 129, loss = 0.13999452\n",
      "Iteration 130, loss = 0.13932737\n",
      "Iteration 131, loss = 0.13863808\n",
      "Iteration 132, loss = 0.13799322\n",
      "Iteration 133, loss = 0.13729365\n",
      "Iteration 134, loss = 0.13670149\n",
      "Iteration 135, loss = 0.13617228\n",
      "Iteration 136, loss = 0.13554812\n",
      "Iteration 137, loss = 0.13505658\n",
      "Iteration 138, loss = 0.13454799\n",
      "Iteration 139, loss = 0.13398405\n",
      "Iteration 140, loss = 0.13357850\n",
      "Iteration 141, loss = 0.13307597\n",
      "Iteration 142, loss = 0.13273074\n",
      "Iteration 143, loss = 0.13231557\n",
      "Iteration 144, loss = 0.13189003\n",
      "Iteration 145, loss = 0.13151062\n",
      "Iteration 146, loss = 0.13111447\n",
      "Iteration 147, loss = 0.13070659\n",
      "Iteration 148, loss = 0.13031597\n",
      "Iteration 149, loss = 0.12995256\n",
      "Iteration 150, loss = 0.12958798\n",
      "Iteration 151, loss = 0.12902047\n",
      "Iteration 152, loss = 0.12862884\n",
      "Iteration 153, loss = 0.12825153\n",
      "Iteration 154, loss = 0.12782077\n",
      "Iteration 155, loss = 0.12734816\n",
      "Iteration 156, loss = 0.12689390\n",
      "Iteration 157, loss = 0.12628824\n",
      "Iteration 158, loss = 0.12553864\n",
      "Iteration 159, loss = 0.12476194\n",
      "Iteration 160, loss = 0.12371360\n",
      "Iteration 161, loss = 0.12219959\n",
      "Iteration 162, loss = 0.12084256\n",
      "Iteration 163, loss = 0.11900190\n",
      "Iteration 164, loss = 0.11723753\n",
      "Iteration 165, loss = 0.11589755\n",
      "Iteration 166, loss = 0.11484354\n",
      "Iteration 167, loss = 0.11389862\n",
      "Iteration 168, loss = 0.11323217\n",
      "Iteration 169, loss = 0.11243616\n",
      "Iteration 170, loss = 0.11190405\n",
      "Iteration 171, loss = 0.11111352\n",
      "Iteration 172, loss = 0.11047201\n",
      "Iteration 173, loss = 0.10995957\n",
      "Iteration 174, loss = 0.10930786\n",
      "Iteration 175, loss = 0.10862035\n",
      "Iteration 176, loss = 0.10804642\n",
      "Iteration 177, loss = 0.10757512\n",
      "Iteration 178, loss = 0.10703484\n",
      "Iteration 179, loss = 0.10650415\n",
      "Iteration 180, loss = 0.10603751\n",
      "Iteration 181, loss = 0.10551824\n",
      "Iteration 182, loss = 0.10505271\n",
      "Iteration 183, loss = 0.10460729\n",
      "Iteration 184, loss = 0.10414609\n",
      "Iteration 185, loss = 0.10363368\n",
      "Iteration 186, loss = 0.10325922\n",
      "Iteration 187, loss = 0.10274827\n",
      "Iteration 188, loss = 0.10242396\n",
      "Iteration 189, loss = 0.10210987\n",
      "Iteration 190, loss = 0.10156992\n",
      "Iteration 191, loss = 0.10123174\n",
      "Iteration 192, loss = 0.10085994\n",
      "Iteration 193, loss = 0.10051638\n",
      "Iteration 194, loss = 0.10003480\n",
      "Iteration 195, loss = 0.09964158\n",
      "Iteration 196, loss = 0.09927545\n",
      "Iteration 197, loss = 0.09906339\n",
      "Iteration 198, loss = 0.09864628\n",
      "Iteration 199, loss = 0.09829738\n",
      "Iteration 200, loss = 0.09786522\n",
      "Iteration 201, loss = 0.09757835\n",
      "Iteration 202, loss = 0.09722327\n",
      "Iteration 203, loss = 0.09685926\n",
      "Iteration 204, loss = 0.09657583\n",
      "Iteration 205, loss = 0.09629679\n",
      "Iteration 206, loss = 0.09595695\n",
      "Iteration 207, loss = 0.09561318\n",
      "Iteration 208, loss = 0.09536515\n",
      "Iteration 209, loss = 0.09508312\n",
      "Iteration 210, loss = 0.09488311\n",
      "Iteration 211, loss = 0.09456075\n",
      "Iteration 212, loss = 0.09429200\n",
      "Iteration 213, loss = 0.09402629\n",
      "Iteration 214, loss = 0.09379561\n",
      "Iteration 215, loss = 0.09360996\n",
      "Iteration 216, loss = 0.09327150\n",
      "Iteration 217, loss = 0.09303576\n",
      "Iteration 218, loss = 0.09276854\n",
      "Iteration 219, loss = 0.09258662\n",
      "Iteration 220, loss = 0.09245622\n",
      "Iteration 221, loss = 0.09207430\n",
      "Iteration 222, loss = 0.09195217\n",
      "Iteration 223, loss = 0.09165617\n",
      "Iteration 224, loss = 0.09147132\n",
      "Iteration 225, loss = 0.09123185\n",
      "Iteration 226, loss = 0.09100976\n",
      "Iteration 227, loss = 0.09083289\n",
      "Iteration 228, loss = 0.09065827\n",
      "Iteration 229, loss = 0.09042372\n",
      "Iteration 230, loss = 0.09022678\n",
      "Iteration 231, loss = 0.09001249\n",
      "Iteration 232, loss = 0.08977780\n",
      "Iteration 233, loss = 0.08969463\n",
      "Iteration 234, loss = 0.08947111\n",
      "Iteration 235, loss = 0.08926435\n",
      "Iteration 236, loss = 0.08906328\n",
      "Iteration 237, loss = 0.08889987\n",
      "Iteration 238, loss = 0.08879827\n",
      "Iteration 239, loss = 0.08867708\n",
      "Iteration 240, loss = 0.08851476\n",
      "Iteration 241, loss = 0.08823088\n",
      "Iteration 242, loss = 0.08816158\n",
      "Iteration 243, loss = 0.08786502\n",
      "Iteration 244, loss = 0.08780045\n",
      "Iteration 245, loss = 0.08761505\n",
      "Iteration 246, loss = 0.08741406\n",
      "Iteration 247, loss = 0.08731233\n",
      "Iteration 248, loss = 0.08712982\n",
      "Iteration 249, loss = 0.08699182\n",
      "Iteration 250, loss = 0.08685114\n",
      "Iteration 251, loss = 0.08664595\n",
      "Iteration 252, loss = 0.08649403\n",
      "Iteration 253, loss = 0.08645503\n",
      "Iteration 254, loss = 0.08622306\n"
     ]
    },
    {
     "name": "stdout",
     "output_type": "stream",
     "text": [
      "Iteration 255, loss = 0.08616228\n",
      "Iteration 256, loss = 0.08593688\n",
      "Iteration 257, loss = 0.08575426\n",
      "Iteration 258, loss = 0.08565461\n",
      "Iteration 259, loss = 0.08548815\n",
      "Iteration 260, loss = 0.08540730\n",
      "Iteration 261, loss = 0.08521301\n",
      "Iteration 262, loss = 0.08509830\n",
      "Iteration 263, loss = 0.08497207\n",
      "Iteration 264, loss = 0.08481016\n",
      "Iteration 265, loss = 0.08466397\n",
      "Iteration 266, loss = 0.08460007\n",
      "Iteration 267, loss = 0.08442789\n",
      "Iteration 268, loss = 0.08435227\n",
      "Iteration 269, loss = 0.08416342\n",
      "Iteration 270, loss = 0.08419434\n",
      "Iteration 271, loss = 0.08404824\n",
      "Iteration 272, loss = 0.08387242\n",
      "Iteration 273, loss = 0.08371950\n",
      "Iteration 274, loss = 0.08361504\n",
      "Iteration 275, loss = 0.08351438\n",
      "Iteration 276, loss = 0.08339516\n",
      "Iteration 277, loss = 0.08331924\n",
      "Iteration 278, loss = 0.08316445\n",
      "Iteration 279, loss = 0.08305026\n",
      "Iteration 280, loss = 0.08303639\n",
      "Iteration 281, loss = 0.08288662\n",
      "Iteration 282, loss = 0.08274147\n",
      "Iteration 283, loss = 0.08269568\n",
      "Iteration 284, loss = 0.08259012\n",
      "Iteration 285, loss = 0.08241620\n",
      "Iteration 286, loss = 0.08238393\n",
      "Iteration 287, loss = 0.08225636\n",
      "Iteration 288, loss = 0.08219045\n",
      "Iteration 289, loss = 0.08197712\n",
      "Iteration 290, loss = 0.08189966\n",
      "Iteration 291, loss = 0.08195305\n",
      "Iteration 292, loss = 0.08184450\n",
      "Iteration 293, loss = 0.08170581\n",
      "Iteration 294, loss = 0.08157175\n",
      "Iteration 295, loss = 0.08153040\n",
      "Iteration 296, loss = 0.08147241\n",
      "Iteration 297, loss = 0.08134933\n",
      "Iteration 298, loss = 0.08127222\n",
      "Iteration 299, loss = 0.08116051\n",
      "Iteration 300, loss = 0.08119543\n",
      "Iteration 301, loss = 0.08102214\n",
      "Iteration 302, loss = 0.08084630\n",
      "Iteration 303, loss = 0.08082794\n",
      "Iteration 304, loss = 0.08064752\n",
      "Iteration 305, loss = 0.08064962\n",
      "Iteration 306, loss = 0.08067770\n",
      "Iteration 307, loss = 0.08045921\n",
      "Iteration 308, loss = 0.08036269\n",
      "Iteration 309, loss = 0.08026983\n",
      "Iteration 310, loss = 0.08020867\n",
      "Iteration 311, loss = 0.08015835\n",
      "Iteration 312, loss = 0.08006037\n",
      "Iteration 313, loss = 0.08004594\n",
      "Iteration 314, loss = 0.07987488\n",
      "Iteration 315, loss = 0.07987543\n",
      "Iteration 316, loss = 0.07976001\n",
      "Iteration 317, loss = 0.07974302\n",
      "Iteration 318, loss = 0.07960537\n",
      "Iteration 319, loss = 0.07959694\n",
      "Iteration 320, loss = 0.07948456\n",
      "Iteration 321, loss = 0.07944583\n",
      "Iteration 322, loss = 0.07939142\n",
      "Iteration 323, loss = 0.07924810\n",
      "Iteration 324, loss = 0.07918094\n",
      "Iteration 325, loss = 0.07922071\n",
      "Iteration 326, loss = 0.07907157\n",
      "Iteration 327, loss = 0.07909234\n",
      "Iteration 328, loss = 0.07900460\n",
      "Iteration 329, loss = 0.07901313\n",
      "Iteration 330, loss = 0.07882538\n",
      "Iteration 331, loss = 0.07870069\n",
      "Iteration 332, loss = 0.07868972\n",
      "Iteration 333, loss = 0.07880559\n",
      "Iteration 334, loss = 0.07854529\n",
      "Iteration 335, loss = 0.07853885\n",
      "Iteration 336, loss = 0.07849506\n",
      "Iteration 337, loss = 0.07834142\n",
      "Iteration 338, loss = 0.07832700\n",
      "Iteration 339, loss = 0.07821709\n",
      "Iteration 340, loss = 0.07816009\n",
      "Iteration 341, loss = 0.07807628\n",
      "Iteration 342, loss = 0.07805536\n",
      "Iteration 343, loss = 0.07801901\n",
      "Iteration 344, loss = 0.07792650\n",
      "Iteration 345, loss = 0.07781519\n",
      "Iteration 346, loss = 0.07783513\n",
      "Iteration 347, loss = 0.07771381\n",
      "Iteration 348, loss = 0.07779442\n",
      "Iteration 349, loss = 0.07773687\n",
      "Iteration 350, loss = 0.07767254\n",
      "Iteration 351, loss = 0.07753959\n",
      "Iteration 352, loss = 0.07760395\n",
      "Iteration 353, loss = 0.07747290\n",
      "Iteration 354, loss = 0.07741175\n",
      "Iteration 355, loss = 0.07724971\n",
      "Iteration 356, loss = 0.07728690\n",
      "Iteration 357, loss = 0.07711367\n",
      "Iteration 358, loss = 0.07712672\n",
      "Iteration 359, loss = 0.07708318\n",
      "Iteration 360, loss = 0.07710837\n",
      "Iteration 361, loss = 0.07705469\n",
      "Iteration 362, loss = 0.07703028\n",
      "Iteration 363, loss = 0.07696024\n",
      "Iteration 364, loss = 0.07675935\n",
      "Iteration 365, loss = 0.07684995\n",
      "Iteration 366, loss = 0.07657461\n",
      "Iteration 367, loss = 0.07666292\n",
      "Iteration 368, loss = 0.07655335\n",
      "Iteration 369, loss = 0.07652216\n",
      "Iteration 370, loss = 0.07649024\n",
      "Iteration 371, loss = 0.07649188\n",
      "Iteration 372, loss = 0.07632876\n",
      "Iteration 373, loss = 0.07635840\n",
      "Iteration 374, loss = 0.07623436\n",
      "Iteration 375, loss = 0.07618868\n",
      "Iteration 376, loss = 0.07619366\n",
      "Iteration 377, loss = 0.07608524\n",
      "Iteration 378, loss = 0.07601776\n",
      "Iteration 379, loss = 0.07604310\n",
      "Iteration 380, loss = 0.07594498\n",
      "Iteration 381, loss = 0.07587929\n",
      "Iteration 382, loss = 0.07594669\n",
      "Iteration 383, loss = 0.07567649\n",
      "Iteration 384, loss = 0.07564439\n",
      "Iteration 385, loss = 0.07572050\n",
      "Iteration 386, loss = 0.07555388\n",
      "Iteration 387, loss = 0.07557426\n",
      "Iteration 388, loss = 0.07553468\n",
      "Iteration 389, loss = 0.07554681\n",
      "Iteration 390, loss = 0.07542771\n",
      "Iteration 391, loss = 0.07540468\n",
      "Iteration 392, loss = 0.07525746\n",
      "Iteration 393, loss = 0.07530750\n",
      "Iteration 394, loss = 0.07526944\n",
      "Iteration 395, loss = 0.07521764\n",
      "Iteration 396, loss = 0.07512632\n",
      "Iteration 397, loss = 0.07499562\n",
      "Iteration 398, loss = 0.07492621\n",
      "Iteration 399, loss = 0.07488240\n",
      "Iteration 400, loss = 0.07492860\n",
      "Iteration 401, loss = 0.07484016\n",
      "Iteration 402, loss = 0.07490731\n",
      "Iteration 403, loss = 0.07457964\n",
      "Iteration 404, loss = 0.07473671\n",
      "Iteration 405, loss = 0.07443535\n",
      "Iteration 406, loss = 0.07446437\n",
      "Iteration 407, loss = 0.07443705\n",
      "Iteration 408, loss = 0.07432772\n",
      "Iteration 409, loss = 0.07414538\n",
      "Iteration 410, loss = 0.07406361\n",
      "Iteration 411, loss = 0.07394248\n",
      "Iteration 412, loss = 0.07390539\n",
      "Iteration 413, loss = 0.07378244\n",
      "Iteration 414, loss = 0.07368776\n",
      "Iteration 415, loss = 0.07364897\n",
      "Iteration 416, loss = 0.07353322\n",
      "Iteration 417, loss = 0.07356852\n",
      "Iteration 418, loss = 0.07350703\n",
      "Iteration 419, loss = 0.07341588\n",
      "Iteration 420, loss = 0.07329274\n",
      "Iteration 421, loss = 0.07325644\n",
      "Iteration 422, loss = 0.07321547\n",
      "Iteration 423, loss = 0.07320071\n",
      "Iteration 424, loss = 0.07309312\n",
      "Iteration 425, loss = 0.07346316\n",
      "Iteration 426, loss = 0.07323357\n",
      "Iteration 427, loss = 0.07294685\n",
      "Iteration 428, loss = 0.07284986\n",
      "Iteration 429, loss = 0.07297961\n",
      "Iteration 430, loss = 0.07292579\n",
      "Iteration 431, loss = 0.07276765\n",
      "Iteration 432, loss = 0.07272435\n",
      "Iteration 433, loss = 0.07270728\n",
      "Iteration 434, loss = 0.07273231\n",
      "Iteration 435, loss = 0.07260375\n",
      "Iteration 436, loss = 0.07250392\n",
      "Iteration 437, loss = 0.07261639\n",
      "Iteration 438, loss = 0.07243574\n",
      "Iteration 439, loss = 0.07259454\n",
      "Iteration 440, loss = 0.07244341\n",
      "Iteration 441, loss = 0.07235417\n",
      "Iteration 442, loss = 0.07229653\n",
      "Iteration 443, loss = 0.07222854\n",
      "Iteration 444, loss = 0.07214224\n",
      "Iteration 445, loss = 0.07216591\n",
      "Iteration 446, loss = 0.07225868\n",
      "Training loss did not improve more than tol=0.000100 for 10 consecutive epochs. Stopping.\n"
     ]
    },
    {
     "data": {
      "text/plain": [
       "MLPClassifier(activation='relu', alpha=0.0001, batch_size='auto', beta_1=0.9,\n",
       "       beta_2=0.999, early_stopping=False, epsilon=1e-08,\n",
       "       hidden_layer_sizes=(5, 3), learning_rate='constant',\n",
       "       learning_rate_init=0.001, max_iter=200000, momentum=0.9,\n",
       "       n_iter_no_change=10, nesterovs_momentum=True, power_t=0.5,\n",
       "       random_state=None, shuffle=True, solver='adam', tol=0.0001,\n",
       "       validation_fraction=0.1, verbose=True, warm_start=False)"
      ]
     },
     "execution_count": 39,
     "metadata": {},
     "output_type": "execute_result"
    }
   ],
   "source": [
    "mlp.fit(df_X_train,df_y_train)"
   ]
  },
  {
   "cell_type": "markdown",
   "metadata": {},
   "source": [
    "## 4. Scoring"
   ]
  },
  {
   "cell_type": "code",
   "execution_count": 40,
   "metadata": {},
   "outputs": [],
   "source": [
    "predictions = mlp.predict(df_X_val)"
   ]
  },
  {
   "cell_type": "code",
   "execution_count": 41,
   "metadata": {},
   "outputs": [
    {
     "name": "stdout",
     "output_type": "stream",
     "text": [
      "[[1093    0]\n",
      " [  18   85]]\n"
     ]
    }
   ],
   "source": [
    "print(confusion_matrix(df_y_val,predictions))"
   ]
  },
  {
   "cell_type": "code",
   "execution_count": 42,
   "metadata": {},
   "outputs": [
    {
     "name": "stdout",
     "output_type": "stream",
     "text": [
      "              precision    recall  f1-score   support\n",
      "\n",
      "           0       0.98      1.00      0.99      1093\n",
      "           1       1.00      0.83      0.90       103\n",
      "\n",
      "   micro avg       0.98      0.98      0.98      1196\n",
      "   macro avg       0.99      0.91      0.95      1196\n",
      "weighted avg       0.99      0.98      0.98      1196\n",
      "\n"
     ]
    }
   ],
   "source": [
    "print(classification_report(df_y_val,predictions))"
   ]
  },
  {
   "cell_type": "code",
   "execution_count": 43,
   "metadata": {},
   "outputs": [
    {
     "data": {
      "text/plain": [
       "array([0.75209811, 1.41834282, 0.62511773, 4.46801461, 1.24283473])"
      ]
     },
     "execution_count": 43,
     "metadata": {},
     "output_type": "execute_result"
    }
   ],
   "source": [
    "df_X_val.iloc[1,:].values"
   ]
  },
  {
   "cell_type": "code",
   "execution_count": 44,
   "metadata": {},
   "outputs": [
    {
     "data": {
      "text/plain": [
       "array([1])"
      ]
     },
     "execution_count": 44,
     "metadata": {},
     "output_type": "execute_result"
    }
   ],
   "source": [
    "df_y_val.iloc[1,:].values"
   ]
  },
  {
   "cell_type": "code",
   "execution_count": 45,
   "metadata": {},
   "outputs": [
    {
     "data": {
      "text/plain": [
       "array([1])"
      ]
     },
     "execution_count": 45,
     "metadata": {},
     "output_type": "execute_result"
    }
   ],
   "source": [
    "mlp.predict([[-1.32729875, -0.76596975,  0.75209811,  1.24283473,  1.41834282]])"
   ]
  },
  {
   "cell_type": "markdown",
   "metadata": {},
   "source": [
    "## Save the model"
   ]
  },
  {
   "cell_type": "code",
   "execution_count": 46,
   "metadata": {},
   "outputs": [
    {
     "data": {
      "text/plain": [
       "['NeuralNetwork (OOB Feature).pkl']"
      ]
     },
     "execution_count": 46,
     "metadata": {},
     "output_type": "execute_result"
    }
   ],
   "source": [
    "joblib.dump(mlp, 'NeuralNetwork (OOB Feature).pkl') "
   ]
  },
  {
   "cell_type": "code",
   "execution_count": null,
   "metadata": {},
   "outputs": [],
   "source": []
  }
 ],
 "metadata": {
  "kernelspec": {
   "display_name": "Python 3",
   "language": "python",
   "name": "python3"
  },
  "language_info": {
   "codemirror_mode": {
    "name": "ipython",
    "version": 3
   },
   "file_extension": ".py",
   "mimetype": "text/x-python",
   "name": "python",
   "nbconvert_exporter": "python",
   "pygments_lexer": "ipython3",
   "version": "3.6.5"
  }
 },
 "nbformat": 4,
 "nbformat_minor": 2
}
